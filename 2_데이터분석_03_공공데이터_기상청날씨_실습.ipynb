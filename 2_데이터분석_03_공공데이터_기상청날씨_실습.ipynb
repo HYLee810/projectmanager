{
  "cells": [
    {
      "cell_type": "markdown",
      "metadata": {
        "id": "view-in-github",
        "colab_type": "text"
      },
      "source": [
        "<a href=\"https://colab.research.google.com/github/HYLee810/projectmanager/blob/main/2_%EB%8D%B0%EC%9D%B4%ED%84%B0%EB%B6%84%EC%84%9D_03_%EA%B3%B5%EA%B3%B5%EB%8D%B0%EC%9D%B4%ED%84%B0_%EA%B8%B0%EC%83%81%EC%B2%AD%EB%82%A0%EC%94%A8_%EC%8B%A4%EC%8A%B5.ipynb\" target=\"_parent\"><img src=\"https://colab.research.google.com/assets/colab-badge.svg\" alt=\"Open In Colab\"/></a>"
      ]
    },
    {
      "cell_type": "markdown",
      "metadata": {
        "id": "8f1a5DQV4-Iy"
      },
      "source": [
        "# Chapter4: 데이터 분석\n",
        "\n",
        "## 3. 공공데이터를 이용한 EDA 분석"
      ]
    },
    {
      "cell_type": "markdown",
      "metadata": {
        "id": "FbRB_sKf4-Iz"
      },
      "source": [
        "## 02- 기상청 데이터 분석"
      ]
    },
    {
      "cell_type": "markdown",
      "metadata": {
        "id": "ZFQMdqJB4-Iz"
      },
      "source": [
        "---"
      ]
    },
    {
      "cell_type": "markdown",
      "metadata": {
        "id": "rS-ppI114-I0"
      },
      "source": [
        "## 기상청 데이터 분석(종관데이터)"
      ]
    },
    {
      "cell_type": "markdown",
      "metadata": {
        "id": "MnfqRXSl4-I0"
      },
      "source": [
        "### #파이썬으로 데이터 분석하는 순서\n",
        " [사전준비] 필요한 파이썬 라이브러리 설치하기\n",
        " [사전준비] 데이터 준비하기 : 웹 사이트에서 공공데이터 다운로드하기\n",
        " 1. 데이터 불러오기 : 파이썬으로 데이터 읽어서 표로 나타내기\n",
        " 2. 데이터 전처리하기 : 필요한 데이터만 추출하기\n",
        " 3. 데이터 시각화하기 : 데이터 그래프로 나타내기\n",
        " 4. 데이터 저장하기 :  파일로 저장하기"
      ]
    },
    {
      "cell_type": "markdown",
      "metadata": {
        "id": "xQrLVb8e4-I0"
      },
      "source": [
        "---"
      ]
    },
    {
      "cell_type": "markdown",
      "metadata": {
        "id": "B52RUwC44-I0"
      },
      "source": [
        "### #라이브러리 설치 확인하기\n",
        "아래 코드를 실행한 후 오류 메시지가 없으면 성공적으로 설치된 것입니다."
      ]
    },
    {
      "cell_type": "code",
      "execution_count": 1,
      "metadata": {
        "scrolled": true,
        "colab": {
          "base_uri": "https://localhost:8080/",
          "height": 35
        },
        "id": "XEBH7-lm4-I0",
        "outputId": "f935346f-418d-42e6-9ff1-1aed8913d1c9"
      },
      "outputs": [
        {
          "output_type": "execute_result",
          "data": {
            "text/plain": [
              "'1.5.3'"
            ],
            "application/vnd.google.colaboratory.intrinsic+json": {
              "type": "string"
            }
          },
          "metadata": {},
          "execution_count": 1
        }
      ],
      "source": [
        "import pandas  as pd\n",
        "pd.__version__"
      ]
    },
    {
      "cell_type": "code",
      "execution_count": 2,
      "metadata": {
        "colab": {
          "base_uri": "https://localhost:8080/",
          "height": 35
        },
        "id": "wW4vq_7e4-I0",
        "outputId": "02adc868-356b-418a-81f5-eecba4b48eb4"
      },
      "outputs": [
        {
          "output_type": "execute_result",
          "data": {
            "text/plain": [
              "'1.23.5'"
            ],
            "application/vnd.google.colaboratory.intrinsic+json": {
              "type": "string"
            }
          },
          "metadata": {},
          "execution_count": 2
        }
      ],
      "source": [
        "import numpy as np\n",
        "np.__version__"
      ]
    },
    {
      "cell_type": "code",
      "execution_count": 3,
      "metadata": {
        "colab": {
          "base_uri": "https://localhost:8080/",
          "height": 35
        },
        "id": "T1FlODnq4-I0",
        "outputId": "6be9a156-93fe-4aef-fa69-ebbda86f3902"
      },
      "outputs": [
        {
          "output_type": "execute_result",
          "data": {
            "text/plain": [
              "'3.7.1'"
            ],
            "application/vnd.google.colaboratory.intrinsic+json": {
              "type": "string"
            }
          },
          "metadata": {},
          "execution_count": 3
        }
      ],
      "source": [
        "import matplotlib as plt\n",
        "plt.__version__"
      ]
    },
    {
      "cell_type": "code",
      "source": [],
      "metadata": {
        "id": "dO1zq0Wd5QUj"
      },
      "execution_count": null,
      "outputs": []
    },
    {
      "cell_type": "markdown",
      "metadata": {
        "id": "xVHvEz7a4-I1"
      },
      "source": [
        "---"
      ]
    },
    {
      "cell_type": "markdown",
      "metadata": {
        "id": "f2bDo5-J4-I1"
      },
      "source": [
        "### 1.데이터 다운로드하기"
      ]
    },
    {
      "cell_type": "markdown",
      "metadata": {
        "id": "ZdsF5UHC4-I1"
      },
      "source": [
        "- 기상청 사이트에서 날씨 데이터를 다운로드한다.\n",
        "- 사이트에 가입하고 로그인해야 다운로드할 수 있다.\n",
        "- https://data.kma.go.kr/data/grnd/selectAsosRltmList.do?pgmNo=36\n",
        "- csv파일 다운로드해서 사용\n",
        "- OBS_ASOS_MNH_~.csv 파일 이름을 'weather_data.csv'로 변경해서 사용하기\n"
      ]
    },
    {
      "cell_type": "markdown",
      "metadata": {
        "id": "1-bqTwos4-I1"
      },
      "source": [
        "---------"
      ]
    },
    {
      "cell_type": "code",
      "source": [
        "!sudo apt-get install -y fonts-nanum\n",
        "!sudo fc-cache -fv\n",
        "!rm ~/.cache/matplotlib -rf\n",
        "\n",
        "# 코랩에서 위 코드를 실행시킨 후  반드시 코랩(Colab)의 런타임을 재시작 합니다."
      ],
      "metadata": {
        "colab": {
          "base_uri": "https://localhost:8080/"
        },
        "id": "ItV0hV9M5cMK",
        "outputId": "79627661-7f40-43fb-cc91-79f81f9e5ae0"
      },
      "execution_count": 4,
      "outputs": [
        {
          "output_type": "stream",
          "name": "stdout",
          "text": [
            "Reading package lists... Done\n",
            "Building dependency tree... Done\n",
            "Reading state information... Done\n",
            "The following NEW packages will be installed:\n",
            "  fonts-nanum\n",
            "0 upgraded, 1 newly installed, 0 to remove and 16 not upgraded.\n",
            "Need to get 10.3 MB of archives.\n",
            "After this operation, 34.1 MB of additional disk space will be used.\n",
            "Get:1 http://archive.ubuntu.com/ubuntu jammy/universe amd64 fonts-nanum all 20200506-1 [10.3 MB]\n",
            "Fetched 10.3 MB in 1s (7,979 kB/s)\n",
            "debconf: unable to initialize frontend: Dialog\n",
            "debconf: (No usable dialog-like program is installed, so the dialog based frontend cannot be used. at /usr/share/perl5/Debconf/FrontEnd/Dialog.pm line 78, <> line 1.)\n",
            "debconf: falling back to frontend: Readline\n",
            "debconf: unable to initialize frontend: Readline\n",
            "debconf: (This frontend requires a controlling tty.)\n",
            "debconf: falling back to frontend: Teletype\n",
            "dpkg-preconfigure: unable to re-open stdin: \n",
            "Selecting previously unselected package fonts-nanum.\n",
            "(Reading database ... 120831 files and directories currently installed.)\n",
            "Preparing to unpack .../fonts-nanum_20200506-1_all.deb ...\n",
            "Unpacking fonts-nanum (20200506-1) ...\n",
            "Setting up fonts-nanum (20200506-1) ...\n",
            "Processing triggers for fontconfig (2.13.1-4.2ubuntu5) ...\n",
            "/usr/share/fonts: caching, new cache contents: 0 fonts, 1 dirs\n",
            "/usr/share/fonts/truetype: caching, new cache contents: 0 fonts, 3 dirs\n",
            "/usr/share/fonts/truetype/humor-sans: caching, new cache contents: 1 fonts, 0 dirs\n",
            "/usr/share/fonts/truetype/liberation: caching, new cache contents: 16 fonts, 0 dirs\n",
            "/usr/share/fonts/truetype/nanum: caching, new cache contents: 12 fonts, 0 dirs\n",
            "/usr/local/share/fonts: caching, new cache contents: 0 fonts, 0 dirs\n",
            "/root/.local/share/fonts: skipping, no such directory\n",
            "/root/.fonts: skipping, no such directory\n",
            "/usr/share/fonts/truetype: skipping, looped directory detected\n",
            "/usr/share/fonts/truetype/humor-sans: skipping, looped directory detected\n",
            "/usr/share/fonts/truetype/liberation: skipping, looped directory detected\n",
            "/usr/share/fonts/truetype/nanum: skipping, looped directory detected\n",
            "/var/cache/fontconfig: cleaning cache directory\n",
            "/root/.cache/fontconfig: not cleaning non-existent cache directory\n",
            "/root/.fontconfig: not cleaning non-existent cache directory\n",
            "fc-cache: succeeded\n"
          ]
        }
      ]
    },
    {
      "cell_type": "code",
      "source": [
        "#[코랩용 한글]\n",
        "import matplotlib.pyplot as plt\n",
        "plt.rc('font', family='NanumBarunGothic')        # 방법1\n",
        "plt.rcParams['font.family'] = 'NanumBarunGothic' # 방법2"
      ],
      "metadata": {
        "id": "SWtnQWS95gJ6"
      },
      "execution_count": 1,
      "outputs": []
    },
    {
      "cell_type": "markdown",
      "metadata": {
        "id": "m6P544ta4-I1"
      },
      "source": [
        "### 2. 데이터 불러오기 : 파이썬으로 데이터 읽어서 표로 나타내기"
      ]
    },
    {
      "cell_type": "code",
      "execution_count": 2,
      "metadata": {
        "colab": {
          "base_uri": "https://localhost:8080/",
          "height": 131
        },
        "id": "ZBrlKgyx4-I1",
        "outputId": "e7b179a1-ed27-48fc-cd21-eb2547f6321f"
      },
      "outputs": [
        {
          "output_type": "stream",
          "name": "stdout",
          "text": [
            "<class 'pandas.core.frame.DataFrame'>\n"
          ]
        },
        {
          "output_type": "execute_result",
          "data": {
            "text/plain": [
              "   지점 지점명       일시  평균기온(°C)  최고기온(°C)  최저기온(°C)  평균현지기압(hPa)  평균상대습도(%)  \\\n",
              "0  90  속초  1968-01      -0.7      11.4     -11.4       1018.2       47.0   \n",
              "1  90  속초  1968-02      -2.1       9.7      -9.9       1022.8       51.0   \n",
              "\n",
              "   월합강수량(00~24h만)(mm)  평균풍속(m/s)  합계 일조시간(hr)  최심적설(cm)  \n",
              "0                 0.0        2.1        218.6       NaN  \n",
              "1                 3.3        2.2        236.5       1.8  "
            ],
            "text/html": [
              "\n",
              "  <div id=\"df-52a71776-5de4-4d16-b83c-e2736f351990\" class=\"colab-df-container\">\n",
              "    <div>\n",
              "<style scoped>\n",
              "    .dataframe tbody tr th:only-of-type {\n",
              "        vertical-align: middle;\n",
              "    }\n",
              "\n",
              "    .dataframe tbody tr th {\n",
              "        vertical-align: top;\n",
              "    }\n",
              "\n",
              "    .dataframe thead th {\n",
              "        text-align: right;\n",
              "    }\n",
              "</style>\n",
              "<table border=\"1\" class=\"dataframe\">\n",
              "  <thead>\n",
              "    <tr style=\"text-align: right;\">\n",
              "      <th></th>\n",
              "      <th>지점</th>\n",
              "      <th>지점명</th>\n",
              "      <th>일시</th>\n",
              "      <th>평균기온(°C)</th>\n",
              "      <th>최고기온(°C)</th>\n",
              "      <th>최저기온(°C)</th>\n",
              "      <th>평균현지기압(hPa)</th>\n",
              "      <th>평균상대습도(%)</th>\n",
              "      <th>월합강수량(00~24h만)(mm)</th>\n",
              "      <th>평균풍속(m/s)</th>\n",
              "      <th>합계 일조시간(hr)</th>\n",
              "      <th>최심적설(cm)</th>\n",
              "    </tr>\n",
              "  </thead>\n",
              "  <tbody>\n",
              "    <tr>\n",
              "      <th>0</th>\n",
              "      <td>90</td>\n",
              "      <td>속초</td>\n",
              "      <td>1968-01</td>\n",
              "      <td>-0.7</td>\n",
              "      <td>11.4</td>\n",
              "      <td>-11.4</td>\n",
              "      <td>1018.2</td>\n",
              "      <td>47.0</td>\n",
              "      <td>0.0</td>\n",
              "      <td>2.1</td>\n",
              "      <td>218.6</td>\n",
              "      <td>NaN</td>\n",
              "    </tr>\n",
              "    <tr>\n",
              "      <th>1</th>\n",
              "      <td>90</td>\n",
              "      <td>속초</td>\n",
              "      <td>1968-02</td>\n",
              "      <td>-2.1</td>\n",
              "      <td>9.7</td>\n",
              "      <td>-9.9</td>\n",
              "      <td>1022.8</td>\n",
              "      <td>51.0</td>\n",
              "      <td>3.3</td>\n",
              "      <td>2.2</td>\n",
              "      <td>236.5</td>\n",
              "      <td>1.8</td>\n",
              "    </tr>\n",
              "  </tbody>\n",
              "</table>\n",
              "</div>\n",
              "    <div class=\"colab-df-buttons\">\n",
              "\n",
              "  <div class=\"colab-df-container\">\n",
              "    <button class=\"colab-df-convert\" onclick=\"convertToInteractive('df-52a71776-5de4-4d16-b83c-e2736f351990')\"\n",
              "            title=\"Convert this dataframe to an interactive table.\"\n",
              "            style=\"display:none;\">\n",
              "\n",
              "  <svg xmlns=\"http://www.w3.org/2000/svg\" height=\"24px\" viewBox=\"0 -960 960 960\">\n",
              "    <path d=\"M120-120v-720h720v720H120Zm60-500h600v-160H180v160Zm220 220h160v-160H400v160Zm0 220h160v-160H400v160ZM180-400h160v-160H180v160Zm440 0h160v-160H620v160ZM180-180h160v-160H180v160Zm440 0h160v-160H620v160Z\"/>\n",
              "  </svg>\n",
              "    </button>\n",
              "\n",
              "  <style>\n",
              "    .colab-df-container {\n",
              "      display:flex;\n",
              "      gap: 12px;\n",
              "    }\n",
              "\n",
              "    .colab-df-convert {\n",
              "      background-color: #E8F0FE;\n",
              "      border: none;\n",
              "      border-radius: 50%;\n",
              "      cursor: pointer;\n",
              "      display: none;\n",
              "      fill: #1967D2;\n",
              "      height: 32px;\n",
              "      padding: 0 0 0 0;\n",
              "      width: 32px;\n",
              "    }\n",
              "\n",
              "    .colab-df-convert:hover {\n",
              "      background-color: #E2EBFA;\n",
              "      box-shadow: 0px 1px 2px rgba(60, 64, 67, 0.3), 0px 1px 3px 1px rgba(60, 64, 67, 0.15);\n",
              "      fill: #174EA6;\n",
              "    }\n",
              "\n",
              "    .colab-df-buttons div {\n",
              "      margin-bottom: 4px;\n",
              "    }\n",
              "\n",
              "    [theme=dark] .colab-df-convert {\n",
              "      background-color: #3B4455;\n",
              "      fill: #D2E3FC;\n",
              "    }\n",
              "\n",
              "    [theme=dark] .colab-df-convert:hover {\n",
              "      background-color: #434B5C;\n",
              "      box-shadow: 0px 1px 3px 1px rgba(0, 0, 0, 0.15);\n",
              "      filter: drop-shadow(0px 1px 2px rgba(0, 0, 0, 0.3));\n",
              "      fill: #FFFFFF;\n",
              "    }\n",
              "  </style>\n",
              "\n",
              "    <script>\n",
              "      const buttonEl =\n",
              "        document.querySelector('#df-52a71776-5de4-4d16-b83c-e2736f351990 button.colab-df-convert');\n",
              "      buttonEl.style.display =\n",
              "        google.colab.kernel.accessAllowed ? 'block' : 'none';\n",
              "\n",
              "      async function convertToInteractive(key) {\n",
              "        const element = document.querySelector('#df-52a71776-5de4-4d16-b83c-e2736f351990');\n",
              "        const dataTable =\n",
              "          await google.colab.kernel.invokeFunction('convertToInteractive',\n",
              "                                                    [key], {});\n",
              "        if (!dataTable) return;\n",
              "\n",
              "        const docLinkHtml = 'Like what you see? Visit the ' +\n",
              "          '<a target=\"_blank\" href=https://colab.research.google.com/notebooks/data_table.ipynb>data table notebook</a>'\n",
              "          + ' to learn more about interactive tables.';\n",
              "        element.innerHTML = '';\n",
              "        dataTable['output_type'] = 'display_data';\n",
              "        await google.colab.output.renderOutput(dataTable, element);\n",
              "        const docLink = document.createElement('div');\n",
              "        docLink.innerHTML = docLinkHtml;\n",
              "        element.appendChild(docLink);\n",
              "      }\n",
              "    </script>\n",
              "  </div>\n",
              "\n",
              "    </div>\n",
              "  </div>\n"
            ]
          },
          "metadata": {},
          "execution_count": 2
        }
      ],
      "source": [
        "import pandas as pd\n",
        "\n",
        "# OBS_ASOS_MNH_~.csv 파일명 데이터를 'weather_data.csv'로 변경하기\n",
        "file = './sample_data/weather_data.csv'\n",
        "df = pd.read_csv(file, encoding='CP949')\n",
        "\n",
        "print(type(df))\n",
        "df.head(2)"
      ]
    },
    {
      "cell_type": "markdown",
      "metadata": {
        "id": "sKardUuW4-I1"
      },
      "source": [
        "---"
      ]
    },
    {
      "cell_type": "markdown",
      "metadata": {
        "id": "JbKArjLA4-I1"
      },
      "source": [
        "### 2.데이터 전처리(가공하기)\n",
        "- 함수 참고:  https://pandas.pydata.org/docs/reference/index.html"
      ]
    },
    {
      "cell_type": "markdown",
      "metadata": {
        "id": "NGG8f4Ll4-I1"
      },
      "source": [
        "#### # 데이터 요약"
      ]
    },
    {
      "cell_type": "code",
      "execution_count": 3,
      "metadata": {
        "scrolled": false,
        "colab": {
          "base_uri": "https://localhost:8080/"
        },
        "id": "vnIKG7Y-4-I1",
        "outputId": "33fd7ec2-91a6-43be-9f11-042a504f5227"
      },
      "outputs": [
        {
          "output_type": "stream",
          "name": "stdout",
          "text": [
            "<class 'pandas.core.frame.DataFrame'>\n",
            "RangeIndex: 55955 entries, 0 to 55954\n",
            "Data columns (total 12 columns):\n",
            " #   Column              Non-Null Count  Dtype  \n",
            "---  ------              --------------  -----  \n",
            " 0   지점                  55955 non-null  int64  \n",
            " 1   지점명                 55955 non-null  object \n",
            " 2   일시                  55955 non-null  object \n",
            " 3   평균기온(°C)            55327 non-null  float64\n",
            " 4   최고기온(°C)            55757 non-null  float64\n",
            " 5   최저기온(°C)            55732 non-null  float64\n",
            " 6   평균현지기압(hPa)         53517 non-null  float64\n",
            " 7   평균상대습도(%)           54760 non-null  float64\n",
            " 8   월합강수량(00~24h만)(mm)  55662 non-null  float64\n",
            " 9   평균풍속(m/s)           54799 non-null  float64\n",
            " 10  합계 일조시간(hr)         54575 non-null  float64\n",
            " 11  최심적설(cm)            11976 non-null  float64\n",
            "dtypes: float64(9), int64(1), object(2)\n",
            "memory usage: 5.1+ MB\n"
          ]
        }
      ],
      "source": [
        "# 데이터 요약 정보\n",
        "df.info() #12개의 column으로 된 것을 확인"
      ]
    },
    {
      "cell_type": "markdown",
      "metadata": {
        "id": "gB2C7PUf4-I1"
      },
      "source": [
        "#### # 기술통계 정보"
      ]
    },
    {
      "cell_type": "code",
      "execution_count": 4,
      "metadata": {
        "scrolled": false,
        "colab": {
          "base_uri": "https://localhost:8080/",
          "height": 300
        },
        "id": "JqmYMvao4-I1",
        "outputId": "3e4b7b92-1971-47cb-84bd-d6390f99d86d"
      },
      "outputs": [
        {
          "output_type": "execute_result",
          "data": {
            "text/plain": [
              "                 지점      평균기온(°C)      최고기온(°C)      최저기온(°C)   평균현지기압(hPa)  \\\n",
              "count  55955.000000  55327.000000  55757.000000  55732.000000  53517.000000   \n",
              "mean     186.960379     12.597059     24.301889      1.974078   1005.823032   \n",
              "std       62.167835      9.157956      8.028580     10.761579     16.170267   \n",
              "min       90.000000    -13.500000     -4.800000    -32.600000    911.800000   \n",
              "25%      134.000000      4.600000     17.800000     -6.600000   1001.200000   \n",
              "50%      174.000000     13.100000     25.800000      1.200000   1008.600000   \n",
              "75%      245.000000     20.900000     31.100000     11.300000   1015.900000   \n",
              "max      295.000000     30.200000     41.000000     24.800000   1029.700000   \n",
              "\n",
              "          평균상대습도(%)  월합강수량(00~24h만)(mm)     평균풍속(m/s)   합계 일조시간(hr)  \\\n",
              "count  54760.000000        55662.000000  54799.000000  54575.000000   \n",
              "mean      69.783346          109.548936      2.321270    188.886023   \n",
              "std        9.897487          120.382089      1.289188     46.186371   \n",
              "min        8.000000            0.000000     -0.400000      0.000000   \n",
              "25%       63.000000           30.300000      1.400000    159.000000   \n",
              "50%       70.000000           67.600000      2.000000    189.300000   \n",
              "75%       77.000000          144.775000      2.900000    219.300000   \n",
              "max       99.000000         1364.200000     22.700000   1300.300000   \n",
              "\n",
              "           최심적설(cm)  \n",
              "count  11976.000000  \n",
              "mean       8.185429  \n",
              "std       14.841091  \n",
              "min        0.000000  \n",
              "25%        1.500000  \n",
              "50%        4.300000  \n",
              "75%        9.000000  \n",
              "max      293.600000  "
            ],
            "text/html": [
              "\n",
              "  <div id=\"df-2554bad0-7291-4186-a851-5963b36f2f2a\" class=\"colab-df-container\">\n",
              "    <div>\n",
              "<style scoped>\n",
              "    .dataframe tbody tr th:only-of-type {\n",
              "        vertical-align: middle;\n",
              "    }\n",
              "\n",
              "    .dataframe tbody tr th {\n",
              "        vertical-align: top;\n",
              "    }\n",
              "\n",
              "    .dataframe thead th {\n",
              "        text-align: right;\n",
              "    }\n",
              "</style>\n",
              "<table border=\"1\" class=\"dataframe\">\n",
              "  <thead>\n",
              "    <tr style=\"text-align: right;\">\n",
              "      <th></th>\n",
              "      <th>지점</th>\n",
              "      <th>평균기온(°C)</th>\n",
              "      <th>최고기온(°C)</th>\n",
              "      <th>최저기온(°C)</th>\n",
              "      <th>평균현지기압(hPa)</th>\n",
              "      <th>평균상대습도(%)</th>\n",
              "      <th>월합강수량(00~24h만)(mm)</th>\n",
              "      <th>평균풍속(m/s)</th>\n",
              "      <th>합계 일조시간(hr)</th>\n",
              "      <th>최심적설(cm)</th>\n",
              "    </tr>\n",
              "  </thead>\n",
              "  <tbody>\n",
              "    <tr>\n",
              "      <th>count</th>\n",
              "      <td>55955.000000</td>\n",
              "      <td>55327.000000</td>\n",
              "      <td>55757.000000</td>\n",
              "      <td>55732.000000</td>\n",
              "      <td>53517.000000</td>\n",
              "      <td>54760.000000</td>\n",
              "      <td>55662.000000</td>\n",
              "      <td>54799.000000</td>\n",
              "      <td>54575.000000</td>\n",
              "      <td>11976.000000</td>\n",
              "    </tr>\n",
              "    <tr>\n",
              "      <th>mean</th>\n",
              "      <td>186.960379</td>\n",
              "      <td>12.597059</td>\n",
              "      <td>24.301889</td>\n",
              "      <td>1.974078</td>\n",
              "      <td>1005.823032</td>\n",
              "      <td>69.783346</td>\n",
              "      <td>109.548936</td>\n",
              "      <td>2.321270</td>\n",
              "      <td>188.886023</td>\n",
              "      <td>8.185429</td>\n",
              "    </tr>\n",
              "    <tr>\n",
              "      <th>std</th>\n",
              "      <td>62.167835</td>\n",
              "      <td>9.157956</td>\n",
              "      <td>8.028580</td>\n",
              "      <td>10.761579</td>\n",
              "      <td>16.170267</td>\n",
              "      <td>9.897487</td>\n",
              "      <td>120.382089</td>\n",
              "      <td>1.289188</td>\n",
              "      <td>46.186371</td>\n",
              "      <td>14.841091</td>\n",
              "    </tr>\n",
              "    <tr>\n",
              "      <th>min</th>\n",
              "      <td>90.000000</td>\n",
              "      <td>-13.500000</td>\n",
              "      <td>-4.800000</td>\n",
              "      <td>-32.600000</td>\n",
              "      <td>911.800000</td>\n",
              "      <td>8.000000</td>\n",
              "      <td>0.000000</td>\n",
              "      <td>-0.400000</td>\n",
              "      <td>0.000000</td>\n",
              "      <td>0.000000</td>\n",
              "    </tr>\n",
              "    <tr>\n",
              "      <th>25%</th>\n",
              "      <td>134.000000</td>\n",
              "      <td>4.600000</td>\n",
              "      <td>17.800000</td>\n",
              "      <td>-6.600000</td>\n",
              "      <td>1001.200000</td>\n",
              "      <td>63.000000</td>\n",
              "      <td>30.300000</td>\n",
              "      <td>1.400000</td>\n",
              "      <td>159.000000</td>\n",
              "      <td>1.500000</td>\n",
              "    </tr>\n",
              "    <tr>\n",
              "      <th>50%</th>\n",
              "      <td>174.000000</td>\n",
              "      <td>13.100000</td>\n",
              "      <td>25.800000</td>\n",
              "      <td>1.200000</td>\n",
              "      <td>1008.600000</td>\n",
              "      <td>70.000000</td>\n",
              "      <td>67.600000</td>\n",
              "      <td>2.000000</td>\n",
              "      <td>189.300000</td>\n",
              "      <td>4.300000</td>\n",
              "    </tr>\n",
              "    <tr>\n",
              "      <th>75%</th>\n",
              "      <td>245.000000</td>\n",
              "      <td>20.900000</td>\n",
              "      <td>31.100000</td>\n",
              "      <td>11.300000</td>\n",
              "      <td>1015.900000</td>\n",
              "      <td>77.000000</td>\n",
              "      <td>144.775000</td>\n",
              "      <td>2.900000</td>\n",
              "      <td>219.300000</td>\n",
              "      <td>9.000000</td>\n",
              "    </tr>\n",
              "    <tr>\n",
              "      <th>max</th>\n",
              "      <td>295.000000</td>\n",
              "      <td>30.200000</td>\n",
              "      <td>41.000000</td>\n",
              "      <td>24.800000</td>\n",
              "      <td>1029.700000</td>\n",
              "      <td>99.000000</td>\n",
              "      <td>1364.200000</td>\n",
              "      <td>22.700000</td>\n",
              "      <td>1300.300000</td>\n",
              "      <td>293.600000</td>\n",
              "    </tr>\n",
              "  </tbody>\n",
              "</table>\n",
              "</div>\n",
              "    <div class=\"colab-df-buttons\">\n",
              "\n",
              "  <div class=\"colab-df-container\">\n",
              "    <button class=\"colab-df-convert\" onclick=\"convertToInteractive('df-2554bad0-7291-4186-a851-5963b36f2f2a')\"\n",
              "            title=\"Convert this dataframe to an interactive table.\"\n",
              "            style=\"display:none;\">\n",
              "\n",
              "  <svg xmlns=\"http://www.w3.org/2000/svg\" height=\"24px\" viewBox=\"0 -960 960 960\">\n",
              "    <path d=\"M120-120v-720h720v720H120Zm60-500h600v-160H180v160Zm220 220h160v-160H400v160Zm0 220h160v-160H400v160ZM180-400h160v-160H180v160Zm440 0h160v-160H620v160ZM180-180h160v-160H180v160Zm440 0h160v-160H620v160Z\"/>\n",
              "  </svg>\n",
              "    </button>\n",
              "\n",
              "  <style>\n",
              "    .colab-df-container {\n",
              "      display:flex;\n",
              "      gap: 12px;\n",
              "    }\n",
              "\n",
              "    .colab-df-convert {\n",
              "      background-color: #E8F0FE;\n",
              "      border: none;\n",
              "      border-radius: 50%;\n",
              "      cursor: pointer;\n",
              "      display: none;\n",
              "      fill: #1967D2;\n",
              "      height: 32px;\n",
              "      padding: 0 0 0 0;\n",
              "      width: 32px;\n",
              "    }\n",
              "\n",
              "    .colab-df-convert:hover {\n",
              "      background-color: #E2EBFA;\n",
              "      box-shadow: 0px 1px 2px rgba(60, 64, 67, 0.3), 0px 1px 3px 1px rgba(60, 64, 67, 0.15);\n",
              "      fill: #174EA6;\n",
              "    }\n",
              "\n",
              "    .colab-df-buttons div {\n",
              "      margin-bottom: 4px;\n",
              "    }\n",
              "\n",
              "    [theme=dark] .colab-df-convert {\n",
              "      background-color: #3B4455;\n",
              "      fill: #D2E3FC;\n",
              "    }\n",
              "\n",
              "    [theme=dark] .colab-df-convert:hover {\n",
              "      background-color: #434B5C;\n",
              "      box-shadow: 0px 1px 3px 1px rgba(0, 0, 0, 0.15);\n",
              "      filter: drop-shadow(0px 1px 2px rgba(0, 0, 0, 0.3));\n",
              "      fill: #FFFFFF;\n",
              "    }\n",
              "  </style>\n",
              "\n",
              "    <script>\n",
              "      const buttonEl =\n",
              "        document.querySelector('#df-2554bad0-7291-4186-a851-5963b36f2f2a button.colab-df-convert');\n",
              "      buttonEl.style.display =\n",
              "        google.colab.kernel.accessAllowed ? 'block' : 'none';\n",
              "\n",
              "      async function convertToInteractive(key) {\n",
              "        const element = document.querySelector('#df-2554bad0-7291-4186-a851-5963b36f2f2a');\n",
              "        const dataTable =\n",
              "          await google.colab.kernel.invokeFunction('convertToInteractive',\n",
              "                                                    [key], {});\n",
              "        if (!dataTable) return;\n",
              "\n",
              "        const docLinkHtml = 'Like what you see? Visit the ' +\n",
              "          '<a target=\"_blank\" href=https://colab.research.google.com/notebooks/data_table.ipynb>data table notebook</a>'\n",
              "          + ' to learn more about interactive tables.';\n",
              "        element.innerHTML = '';\n",
              "        dataTable['output_type'] = 'display_data';\n",
              "        await google.colab.output.renderOutput(dataTable, element);\n",
              "        const docLink = document.createElement('div');\n",
              "        docLink.innerHTML = docLinkHtml;\n",
              "        element.appendChild(docLink);\n",
              "      }\n",
              "    </script>\n",
              "  </div>\n",
              "\n",
              "\n",
              "<div id=\"df-fa8904d6-ec27-4e2c-aad4-e5f35d84d5e7\">\n",
              "  <button class=\"colab-df-quickchart\" onclick=\"quickchart('df-fa8904d6-ec27-4e2c-aad4-e5f35d84d5e7')\"\n",
              "            title=\"Suggest charts.\"\n",
              "            style=\"display:none;\">\n",
              "\n",
              "<svg xmlns=\"http://www.w3.org/2000/svg\" height=\"24px\"viewBox=\"0 0 24 24\"\n",
              "     width=\"24px\">\n",
              "    <g>\n",
              "        <path d=\"M19 3H5c-1.1 0-2 .9-2 2v14c0 1.1.9 2 2 2h14c1.1 0 2-.9 2-2V5c0-1.1-.9-2-2-2zM9 17H7v-7h2v7zm4 0h-2V7h2v10zm4 0h-2v-4h2v4z\"/>\n",
              "    </g>\n",
              "</svg>\n",
              "  </button>\n",
              "\n",
              "<style>\n",
              "  .colab-df-quickchart {\n",
              "    background-color: #E8F0FE;\n",
              "    border: none;\n",
              "    border-radius: 50%;\n",
              "    cursor: pointer;\n",
              "    display: none;\n",
              "    fill: #1967D2;\n",
              "    height: 32px;\n",
              "    padding: 0 0 0 0;\n",
              "    width: 32px;\n",
              "  }\n",
              "\n",
              "  .colab-df-quickchart:hover {\n",
              "    background-color: #E2EBFA;\n",
              "    box-shadow: 0px 1px 2px rgba(60, 64, 67, 0.3), 0px 1px 3px 1px rgba(60, 64, 67, 0.15);\n",
              "    fill: #174EA6;\n",
              "  }\n",
              "\n",
              "  [theme=dark] .colab-df-quickchart {\n",
              "    background-color: #3B4455;\n",
              "    fill: #D2E3FC;\n",
              "  }\n",
              "\n",
              "  [theme=dark] .colab-df-quickchart:hover {\n",
              "    background-color: #434B5C;\n",
              "    box-shadow: 0px 1px 3px 1px rgba(0, 0, 0, 0.15);\n",
              "    filter: drop-shadow(0px 1px 2px rgba(0, 0, 0, 0.3));\n",
              "    fill: #FFFFFF;\n",
              "  }\n",
              "</style>\n",
              "\n",
              "  <script>\n",
              "    async function quickchart(key) {\n",
              "      const charts = await google.colab.kernel.invokeFunction(\n",
              "          'suggestCharts', [key], {});\n",
              "    }\n",
              "    (() => {\n",
              "      let quickchartButtonEl =\n",
              "        document.querySelector('#df-fa8904d6-ec27-4e2c-aad4-e5f35d84d5e7 button');\n",
              "      quickchartButtonEl.style.display =\n",
              "        google.colab.kernel.accessAllowed ? 'block' : 'none';\n",
              "    })();\n",
              "  </script>\n",
              "</div>\n",
              "    </div>\n",
              "  </div>\n"
            ]
          },
          "metadata": {},
          "execution_count": 4
        }
      ],
      "source": [
        "df.describe()"
      ]
    },
    {
      "cell_type": "markdown",
      "metadata": {
        "id": "yM3JcFS64-I1"
      },
      "source": [
        "#### # 결측데이터 시각화\n",
        "missingno패키지는 pandas 데이터프레임 데이터에서 누락된 데이터를 찾고 시각화하는 기능 제공"
      ]
    },
    {
      "cell_type": "code",
      "execution_count": null,
      "metadata": {
        "id": "_iek7Co44-I1"
      },
      "outputs": [],
      "source": [
        "!pip install missingno"
      ]
    },
    {
      "cell_type": "markdown",
      "metadata": {
        "id": "yLb0ckQX4-I1"
      },
      "source": [
        "- **행에 결측 데이터 시각화**"
      ]
    },
    {
      "cell_type": "code",
      "execution_count": 5,
      "metadata": {
        "colab": {
          "base_uri": "https://localhost:8080/",
          "height": 870
        },
        "id": "q2rQf_mx4-I1",
        "outputId": "985bbbf8-2598-447b-f0a9-083efe62e6f0"
      },
      "outputs": [
        {
          "output_type": "display_data",
          "data": {
            "text/plain": [
              "<Figure size 2500x1000 with 2 Axes>"
            ],
            "image/png": "[encoded data removed]"
          },
          "metadata": {}
        }
      ],
      "source": [
        "import missingno as msno\n",
        "import matplotlib.pyplot as plt\n",
        "# plt.rc('font', family='NanumBarunGothic') # 윈도우용 폰트-코랩용은 해당폰트 지정\n",
        "\n",
        "msno.matrix(df)\n",
        "plt.show() #결측데이터를 흰 부분으로 시각화 해준다"
      ]
    },
    {
      "cell_type": "markdown",
      "metadata": {
        "id": "WMuo0gxm4-I1"
      },
      "source": [
        "- **열에 결측 데이터 시각화**"
      ]
    },
    {
      "cell_type": "code",
      "execution_count": null,
      "metadata": {
        "id": "OqV-8nsw4-I1"
      },
      "outputs": [],
      "source": [
        "msno.bar(df)\n",
        "plt.show()"
      ]
    },
    {
      "cell_type": "markdown",
      "metadata": {
        "id": "znKFSIIf4-I1"
      },
      "source": [
        "---"
      ]
    },
    {
      "cell_type": "markdown",
      "metadata": {
        "id": "2Um9U3I54-I2"
      },
      "source": [
        "#### 2. 컬럼명 변경하기"
      ]
    },
    {
      "cell_type": "code",
      "execution_count": null,
      "metadata": {
        "scrolled": true,
        "id": "Uy9KBnqg4-I2"
      },
      "outputs": [],
      "source": [
        "df.columns\n",
        "df.columns = ['지점', '지점명', '일시', '평균기온', '최고기온', '최저기온', '평균현지기압',\n",
        "       '평균상대습도', '월합강수량', '평균풍속','일조시간', '최심적설']\n",
        "df.head(3)"
      ]
    },
    {
      "cell_type": "markdown",
      "metadata": {
        "id": "xlpENzIx4-I2"
      },
      "source": [
        "#### 3. 컬럼 추가하기\n",
        "DataFrame.insert(추가하고싶은위치,컬럼명,값, allow_duplicate=False)"
      ]
    },
    {
      "cell_type": "code",
      "execution_count": null,
      "metadata": {
        "scrolled": true,
        "id": "yPSqeJ3G4-I2"
      },
      "outputs": [],
      "source": [
        "df.insert(3,'신규2',df['지점'])\n",
        "df"
      ]
    },
    {
      "cell_type": "code",
      "execution_count": null,
      "metadata": {
        "id": "U_3vSeSA4-I2"
      },
      "outputs": [],
      "source": [
        "df.insert(3,'검색일자',df['일시'])\n",
        "df"
      ]
    },
    {
      "cell_type": "code",
      "execution_count": null,
      "metadata": {
        "id": "TvASR1AI4-I2"
      },
      "outputs": [],
      "source": [
        "df"
      ]
    },
    {
      "cell_type": "code",
      "execution_count": null,
      "metadata": {
        "id": "pTZHg-eb4-I2"
      },
      "outputs": [],
      "source": [
        "df.head(3)"
      ]
    },
    {
      "cell_type": "markdown",
      "metadata": {
        "id": "J_F334B04-I2"
      },
      "source": [
        "- **문자열에서 특정 문자 제거**: '검색일자' 값중에 '년도-월-일' 형태로 되어 있는 구조에서  '-'기호를 제거"
      ]
    },
    {
      "cell_type": "code",
      "execution_count": null,
      "metadata": {
        "scrolled": true,
        "id": "CkW2HI8j4-I2"
      },
      "outputs": [],
      "source": [
        "df['검색일자']= df['검색일자'].str.replace(pat=r'-',repl=r'',regex=True)\n",
        "df.head(2)"
      ]
    },
    {
      "cell_type": "code",
      "execution_count": null,
      "metadata": {
        "id": "4uM44hqk4-I2"
      },
      "outputs": [],
      "source": [
        "df.info()"
      ]
    },
    {
      "cell_type": "markdown",
      "metadata": {
        "id": "XHM34qr14-I9"
      },
      "source": [
        "- **데이터형 변환하기**: str(object)-->int64 형으로 변환하기"
      ]
    },
    {
      "cell_type": "code",
      "execution_count": null,
      "metadata": {
        "id": "mzDVkc864-I9"
      },
      "outputs": [],
      "source": [
        "df['검색일자'] = df['검색일자'].apply('int64')\n",
        "df.dtypes"
      ]
    },
    {
      "cell_type": "markdown",
      "metadata": {
        "id": "ni1u6UH04-I-"
      },
      "source": [
        "- **데이터형 변환하기**: int64 --> str(object)형으로 변환하기"
      ]
    },
    {
      "cell_type": "code",
      "execution_count": null,
      "metadata": {
        "id": "vxROpuv14-I-"
      },
      "outputs": [],
      "source": [
        "df['검색일자'] = df['검색일자'].apply(str)\n",
        "df.dtypes"
      ]
    },
    {
      "cell_type": "code",
      "execution_count": null,
      "metadata": {
        "scrolled": true,
        "id": "Lwle64fx4-I-"
      },
      "outputs": [],
      "source": [
        "# 년월 추가\n",
        "df.insert(3,'년도',df['일시'].str[0:4])\n",
        "df"
      ]
    },
    {
      "cell_type": "markdown",
      "metadata": {
        "id": "enrz-4JQ4-I-"
      },
      "source": [
        "#### 4. 컬럼 삭제"
      ]
    },
    {
      "cell_type": "code",
      "execution_count": null,
      "metadata": {
        "id": "a16Wx4qq4-I-"
      },
      "outputs": [],
      "source": [
        "# df.drop(['신규','신규2'], axis=1, inplace=True)\n",
        "df.drop('신규2', axis=1, inplace=True)\n",
        "df.drop('검색일자', axis=1, inplace=True)\n",
        "df.head(3)"
      ]
    },
    {
      "cell_type": "markdown",
      "metadata": {
        "id": "Ol34klty4-I-"
      },
      "source": [
        "#### 5. 특정 조건 검색"
      ]
    },
    {
      "cell_type": "code",
      "execution_count": null,
      "metadata": {
        "id": "wwqXltwT4-I-"
      },
      "outputs": [],
      "source": [
        "print( '#지점명 개수: ', len( set(df['지점명']) ) )\n",
        "print( '#지점명: ', set( df['지점명'] ) )"
      ]
    },
    {
      "cell_type": "code",
      "execution_count": null,
      "metadata": {
        "id": "cyjw_dgy4-I-"
      },
      "outputs": [],
      "source": [
        "# 특정년도 데이터\n",
        "df_2023 = df.query(\" 년도 == '2023' \")\n",
        "# df_2023 = df[ df['년도']=='2023' ]"
      ]
    },
    {
      "cell_type": "code",
      "execution_count": null,
      "metadata": {
        "id": "id3RDrKA4-I-"
      },
      "outputs": [],
      "source": [
        "print( '#지점명 개수: ', len( set(df_2023['지점명']) ) )\n",
        "print( '#지점명: ', set( df_2023['지점명'] ) )"
      ]
    },
    {
      "cell_type": "code",
      "execution_count": null,
      "metadata": {
        "scrolled": true,
        "id": "mcxqdwX84-I-"
      },
      "outputs": [],
      "source": [
        "# 년도=='2023'이면서 전라북도 관측소 데이터만 추출하기\n",
        "df.query(\"년도 == '2023' and 지점명 in ('고창','고창군','전주','정읍','장수') \")\n",
        "df_2023.query(\" 지점명 in ('고창','고창군','전주','정읍','장수')\")"
      ]
    },
    {
      "cell_type": "markdown",
      "metadata": {
        "id": "tluOAf564-I-"
      },
      "source": [
        "- **특정 컬럼명 검색** : 지점명=='제주' 데이터"
      ]
    },
    {
      "cell_type": "code",
      "execution_count": null,
      "metadata": {
        "id": "eheMP2H24-I-"
      },
      "outputs": [],
      "source": [
        "df[df.지점명 == '제주' ]\n",
        "\n",
        "# df.query(\" 지점명 == '제주' \")\n",
        "\n",
        "# df.iloc[ df.index[ df['지점명'] == '제주' ] ]"
      ]
    },
    {
      "cell_type": "markdown",
      "metadata": {
        "id": "M1hh9nq94-I-"
      },
      "source": [
        "- **또는(|) , 포함(in)** 조건 사용: 강릉 또는 속초 데이터 추출"
      ]
    },
    {
      "cell_type": "code",
      "execution_count": null,
      "metadata": {
        "scrolled": false,
        "id": "BFzuQinB4-I-"
      },
      "outputs": [],
      "source": [
        "# 또는(|) 사용\n",
        "df.query(\" 지점명=='제주' | 지점명=='서귀포' \")\n",
        "df.head()\n",
        "\n",
        "# df.query(\" 지점명=='제주' | 지점명=='서귀포' \").head()\n",
        "\n",
        "# df.query(\" 지점명 in ('제주','서귀포') \").head(2)"
      ]
    },
    {
      "cell_type": "markdown",
      "metadata": {
        "id": "d-IF84RW4-I-"
      },
      "source": [
        "- **그리고(&)** 조건 사용"
      ]
    },
    {
      "cell_type": "code",
      "execution_count": null,
      "metadata": {
        "id": "cNJINz974-I_"
      },
      "outputs": [],
      "source": [
        "df[ (df.지점명 == '제주' ) & (df.최고기온 >10) ]\n",
        "\n",
        "# df.query(\" 지점명=='제주' & 최저기온 <= 0 \")"
      ]
    },
    {
      "cell_type": "markdown",
      "metadata": {
        "id": "k_nM3pzu4-I_"
      },
      "source": [
        "### [실습문제] 관측 지점이 제주도인 데이터 검색"
      ]
    },
    {
      "cell_type": "code",
      "execution_count": null,
      "metadata": {
        "id": "AO4RNcRE4-I_"
      },
      "outputs": [],
      "source": [
        "# 포함(in) 사용\n",
        "df.query(\" 지점명 in ('고산','서귀포','성산','성산포','제주') \")"
      ]
    },
    {
      "cell_type": "markdown",
      "metadata": {
        "id": "NN_1eNHV4-I_"
      },
      "source": [
        "- **min()** : 최초 측정월, 마지막 측정월"
      ]
    },
    {
      "cell_type": "code",
      "execution_count": null,
      "metadata": {
        "scrolled": true,
        "id": "RKTVIVQr4-I_"
      },
      "outputs": [],
      "source": [
        "# 측정월 최소, 최대\n",
        "print ( '최초 측정일시: ', min(df['일시']) )\n",
        "print ( '최초 측정일시: ', df['일시'].min() )\n",
        "print ( '최근 측정일시: ', max(df['일시']) )\n",
        "print ( '최근 측정일시: ', df['일시'].max() )\n",
        "\n",
        "# 측정 최초월('1904-04')의 데이터\n",
        "# df['일시'].min()\n",
        "# df.query(\" 일시 == '1904-04-01'\")\n",
        "\n",
        "df.query(f\" 일시 == '{ df['일시'].min() }' \")\n",
        "df[ df['일시'] == df['일시'].min() ]"
      ]
    },
    {
      "cell_type": "code",
      "execution_count": null,
      "metadata": {
        "id": "O7Z1nE0y4-I_"
      },
      "outputs": [],
      "source": [
        "# 전주 최초 측정일\n",
        "df_junjoo = df.query(f\" 지점명 == '전주' \")\n",
        "df_junjoo['일시'].min()"
      ]
    },
    {
      "cell_type": "markdown",
      "metadata": {
        "id": "9w7IrU4H4-I_"
      },
      "source": [
        "- **max()** : 최근 측정 월 검색"
      ]
    },
    {
      "cell_type": "code",
      "execution_count": null,
      "metadata": {
        "id": "9ydCFIfF4-I_"
      },
      "outputs": [],
      "source": [
        "df.query(f\" 일시 == '{ df['일시'].max() }' \")"
      ]
    },
    {
      "cell_type": "code",
      "execution_count": null,
      "metadata": {
        "id": "uSCbsWyD4-I_"
      },
      "outputs": [],
      "source": [
        "df.query(f\" 지점명 == '전주' & 일시 == '{ df['일시'].min() }' \")"
      ]
    },
    {
      "cell_type": "code",
      "execution_count": null,
      "metadata": {
        "id": "vdP0Ia7K4-I_"
      },
      "outputs": [],
      "source": [
        "df.query(f\" 지점명 in ('제주','성산','고산','성산포','서귀포') & 일시 == '{ df['일시'].max() }' \")"
      ]
    },
    {
      "cell_type": "markdown",
      "metadata": {
        "id": "g0SiFaWz4-I_"
      },
      "source": [
        "### [실습]: 가장 더웠던 날짜와 온도는?\n",
        "- 기상관측 데이터에서 가장 더웠던(추웠던) 해와 기온은?"
      ]
    },
    {
      "cell_type": "code",
      "execution_count": null,
      "metadata": {
        "id": "GkPpWdYQ4-I_"
      },
      "outputs": [],
      "source": [
        "# 컬럼 추출\n",
        "df['최고기온'].max()\n",
        "df.최고기온.max()\n",
        "\n",
        "\n",
        "# 행 추출\n",
        "df.query(f\" 최고기온 == {  df.최고기온.max()  } \")\n",
        "df[ df.최고기온 == df.최고기온.max() ]"
      ]
    },
    {
      "cell_type": "code",
      "execution_count": null,
      "metadata": {
        "scrolled": true,
        "id": "Kil2gVoo4-I_"
      },
      "outputs": [],
      "source": [
        "# 행 추출 특정 컬럼값(year) 추출\n",
        "print(f'기상관측 데이터를 통해 가장 더웠던 년도는?')\n",
        "print(df.query(f\" 최고기온 == {  df.최고기온.max()  } \").일시.str[0:4] )\n",
        "\n",
        "\n",
        "yymm = df.query(f\" 최고기온 == {  df.최고기온.max()  } \").일시.str[0:7]\n",
        "yymm = df[ df.최고기온 == df.최고기온.max() ].일시.str[0:7]\n",
        "print(f'기상관측 데이터를 통해 가장 더웠던 년-월: {yymm}')\n",
        "\n",
        "\n",
        "# 행 추출 특정 컬럼값(최고기온) 추출\n",
        "df.query(f\" 최고기온 == {  df.최고기온.max()  } \").최고기온\n",
        "df[ df.최고기온 == df.최고기온.max() ].최고기온"
      ]
    },
    {
      "cell_type": "code",
      "execution_count": null,
      "metadata": {
        "id": "4PjAAwmN4-I_"
      },
      "outputs": [],
      "source": [
        "# 전체 최고기온\n",
        "df.query(f\" 최고기온 == {df['최고기온'].max()} \")\n",
        "\n",
        "# 전체 최고기온 일시\n",
        "df.query(f\" 최고기온 == {df['최고기온'].max()} \")['일시'].str[0:4]\n",
        "\n",
        "# 전체 최고기온 지점명\n",
        "df.query(f\" 최고기온 == {df['최고기온'].max()} \")['지점명']\n",
        "\n",
        "# # 측정 지점이 제주인  최고기온\n",
        "df.query(f\" 지점명=='제주' \")['최고기온'].max()\n",
        "\n",
        "\n",
        "# 측정 지점이 제주 전역의   최고기온\n",
        "df.query(f\" 지점명 in ('고산','서귀포','성산','성산포','제주') \")['최고기온'].max()"
      ]
    },
    {
      "cell_type": "markdown",
      "metadata": {
        "id": "ZcA-YSOJ4-I_"
      },
      "source": [
        "### [실습]: 가장 추웠던 날짜와 온도는?"
      ]
    },
    {
      "cell_type": "code",
      "execution_count": null,
      "metadata": {
        "scrolled": false,
        "id": "c0cRKmGd4-I_"
      },
      "outputs": [],
      "source": [
        "field = '최저기온'\n",
        "\n",
        "# 전체 최저기온\n",
        "df.query(f\" {field} <= { df[field].min() } \")\n",
        "\n",
        "# 전체 최저기온 일시\n",
        "df.query(f\" {field} <= { df[field].min() } \")['일시'].str[0:4]\n",
        "\n",
        "# 전체 최저기온 지점명\n",
        "df.query(f\" {field} <= { df[field].min() } \")['지점명']\n",
        "\n",
        "# 측정 지점이 제주인 최저기온\n",
        "df.query(f\" 지점명=='제주' \")[field].min()\n",
        "\n",
        "# 측정 지점이 제주 전역의  최고기온\n",
        "df.query(f\" 지점명 in ('고산','서귀포','성산','성산포','제주') \")['최저기온'].min()"
      ]
    },
    {
      "cell_type": "markdown",
      "metadata": {
        "id": "uyAzqZCU4-I_"
      },
      "source": [
        "###  [실습] : 'OO'에서 가장 더웠던 날짜와 기온?"
      ]
    },
    {
      "cell_type": "code",
      "execution_count": null,
      "metadata": {
        "id": "nooH_X_N4-I_"
      },
      "outputs": [],
      "source": [
        "\n"
      ]
    },
    {
      "cell_type": "markdown",
      "metadata": {
        "id": "Tk46SNeZ4-JA"
      },
      "source": [
        "###  [실습] : 'OO'에서 가장 추웠던 날짜와 기온은?"
      ]
    },
    {
      "cell_type": "code",
      "execution_count": null,
      "metadata": {
        "scrolled": true,
        "id": "e4AJmO-L4-JA"
      },
      "outputs": [],
      "source": [
        "\n"
      ]
    },
    {
      "cell_type": "markdown",
      "metadata": {
        "id": "je87Gvhl4-JA"
      },
      "source": [
        "--------"
      ]
    },
    {
      "cell_type": "markdown",
      "metadata": {
        "id": "DpYSPLlH4-JA"
      },
      "source": [
        "### 그룹핑(Grouping)"
      ]
    },
    {
      "cell_type": "markdown",
      "metadata": {
        "id": "6ddnrf6D4-JA"
      },
      "source": [
        "#### #그룹핑: 지점별  "
      ]
    },
    {
      "cell_type": "code",
      "execution_count": null,
      "metadata": {
        "id": "nX2_AQqw4-JA"
      },
      "outputs": [],
      "source": [
        "df.groupby(['지점명'], as_index=False).mean()\n",
        "df.groupby('지점명').mean()"
      ]
    },
    {
      "cell_type": "code",
      "execution_count": null,
      "metadata": {
        "scrolled": false,
        "id": "0VoWJtQB4-JA"
      },
      "outputs": [],
      "source": [
        "df.groupby(['지점명'], as_index=False).count()"
      ]
    },
    {
      "cell_type": "markdown",
      "metadata": {
        "id": "PX3WZ3xX4-JA"
      },
      "source": [
        "#### #그룹핑(컬럼1개): 지점별  평균기온"
      ]
    },
    {
      "cell_type": "code",
      "execution_count": null,
      "metadata": {
        "id": "o7s2lbAm4-JA"
      },
      "outputs": [],
      "source": [
        "# 방법1\n",
        "df['평균기온'].groupby(df['지점명']).mean()"
      ]
    },
    {
      "cell_type": "code",
      "execution_count": null,
      "metadata": {
        "id": "gIB8fBpi4-JA"
      },
      "outputs": [],
      "source": [
        "# 방법2\n",
        "df.groupby('지점명')['평균기온'].agg('mean')"
      ]
    },
    {
      "cell_type": "code",
      "execution_count": null,
      "metadata": {
        "id": "IdKye5TZ4-JA"
      },
      "outputs": [],
      "source": [
        "# 방법3\n",
        "df.groupby('지점명')['평균기온'].agg(**{'평균기온':'mean'})"
      ]
    },
    {
      "cell_type": "code",
      "execution_count": null,
      "metadata": {
        "id": "jv30RIHn4-JA"
      },
      "outputs": [],
      "source": [
        "# 방법4\n",
        "df.groupby('지점명').aggregate({'평균기온':'mean'})"
      ]
    },
    {
      "cell_type": "code",
      "execution_count": null,
      "metadata": {
        "id": "ABzX79nL4-JB"
      },
      "outputs": [],
      "source": [
        "df_temp = df.groupby('지점명').aggregate({'평균기온':'mean'})\n",
        "df_temp.plot()"
      ]
    },
    {
      "cell_type": "markdown",
      "metadata": {
        "id": "N0BgzWoi4-JB"
      },
      "source": [
        "#### #그룹핑(컬럼 2개): 지점명+년도별,  평균기온"
      ]
    },
    {
      "cell_type": "code",
      "execution_count": null,
      "metadata": {
        "id": "zaJdsPGK4-JB"
      },
      "outputs": [],
      "source": [
        "df.groupby(['지점명','년도'])['평균기온'].agg('mean')\n",
        "df.groupby(['지점명','년도'])['평균기온'].agg(**{'평균':'mean'})\n",
        "df.groupby(['지점명','년도']).aggregate({'평균기온':'mean'})\n",
        "#df.groupby(['지점명','년도'])['평균기온'].agg(**{'평균기온':'mean'}).reset_index()"
      ]
    },
    {
      "cell_type": "code",
      "execution_count": null,
      "metadata": {
        "id": "H9NVh1DC4-JB"
      },
      "outputs": [],
      "source": [
        "df_temp = df.groupby(['지점명','년도'])['평균기온'].agg('mean')\n",
        "df_temp.plot()"
      ]
    },
    {
      "cell_type": "markdown",
      "metadata": {
        "id": "cNf8_bcl4-JB"
      },
      "source": [
        "### [실습문제] : 지점별 최고기온?"
      ]
    },
    {
      "cell_type": "code",
      "execution_count": null,
      "metadata": {
        "id": "VeayPoAA4-JB"
      },
      "outputs": [],
      "source": [
        "\n"
      ]
    },
    {
      "cell_type": "markdown",
      "metadata": {
        "id": "iDrFhSlC4-JB"
      },
      "source": [
        "- 인텍스를 초기화 하는 방법"
      ]
    },
    {
      "cell_type": "code",
      "execution_count": null,
      "metadata": {
        "id": "Es66z3214-JB"
      },
      "outputs": [],
      "source": [
        "# 인텍스를 초기화 하는 방법\n",
        "df.groupby('지점명')['최고기온'].agg(**{'최고기온':'max'}).reset_index()\n",
        "df.groupby('지점명').aggregate({'최고기온':'max'}).reset_index()"
      ]
    },
    {
      "cell_type": "markdown",
      "metadata": {
        "id": "GVuXd5Jk4-JB"
      },
      "source": [
        "### [실습문제] : 지점별 년도별 최다 월합강수량?"
      ]
    },
    {
      "cell_type": "code",
      "execution_count": null,
      "metadata": {
        "scrolled": false,
        "id": "wbFbXvvM4-JB"
      },
      "outputs": [],
      "source": [
        "\n"
      ]
    },
    {
      "cell_type": "markdown",
      "metadata": {
        "id": "POVdwfnl4-JB"
      },
      "source": [
        "### [실습문제]  OO 지역의 지점별+년도별 최고 최고기온, 최저 최저기온 ,최다 월합강수량, 최다 최심적실은?"
      ]
    },
    {
      "cell_type": "code",
      "execution_count": null,
      "metadata": {
        "id": "Kmf2GQT54-JB"
      },
      "outputs": [],
      "source": [
        "\n",
        "\n"
      ]
    },
    {
      "cell_type": "markdown",
      "metadata": {
        "id": "OkOczQMI4-JB"
      },
      "source": [
        "#### # DataFrame에서 한 행씩 불러오기\n",
        "!!![주의]!!! 데이터가 많을 경우 실행하지 않도록"
      ]
    },
    {
      "cell_type": "code",
      "execution_count": null,
      "metadata": {
        "id": "09B4lBC74-JB"
      },
      "outputs": [],
      "source": [
        "# 한 행씩 불러오기  ---->\n",
        "# for i, row in df_t.iterrows():\n",
        "#     print(i, row)\n",
        "#     print(i, row['지점명'], row['최고기온'])"
      ]
    },
    {
      "cell_type": "markdown",
      "metadata": {
        "id": "YxsMrYvE4-JB"
      },
      "source": [
        "#### 6.가공된 파일 신규 저장하기"
      ]
    },
    {
      "cell_type": "code",
      "execution_count": null,
      "metadata": {
        "scrolled": true,
        "id": "qzp0hoDd4-JB"
      },
      "outputs": [],
      "source": [
        "# 가공된 데이터 신규 파일로 저장하기\n",
        "file = 'data/weather_data2.csv'\n",
        "df.to_csv(file, encoding='cp949', mode='w', index=True)"
      ]
    },
    {
      "cell_type": "markdown",
      "metadata": {
        "id": "TgE9uZfL4-JB"
      },
      "source": [
        "--------------------------"
      ]
    },
    {
      "cell_type": "markdown",
      "metadata": {
        "id": "0MgJjFc-4-JB"
      },
      "source": [
        "## 3. 데이터 시각화하기"
      ]
    },
    {
      "cell_type": "markdown",
      "metadata": {
        "id": "12QU0c114-JB"
      },
      "source": [
        "### [실습] : 지점별 평균기온 그래프"
      ]
    },
    {
      "cell_type": "code",
      "execution_count": null,
      "metadata": {
        "scrolled": true,
        "id": "x9cXQjDf4-JB"
      },
      "outputs": [],
      "source": [
        "import pandas as pd\n",
        "import matplotlib.pyplot as plt\n",
        "\n",
        "# 한글,그래프크기\n",
        "plt.rcParams['font.family'] = 'Malgun Gothic'\n",
        "plt.rcParams['figure.figsize'] = (10, 4)\n",
        "plt.rcParams['axes.unicode_minus']\n",
        "\n",
        "# 1.데이터 불러오기\n",
        "\n",
        "\n",
        "\n",
        "\n",
        "# 2.컬럼명 지정\n",
        "df.columns = ['지점', '지점명', '일시', '평균기온', '최고기온', '최저기온',\n",
        "              '평균현지기압','평균상대습도', '월합강수량', '평균풍',\n",
        "              '일조시간','최심적설']\n",
        "df['년도'] = df.일시.str[0:4]\n",
        "df.head(2)\n",
        "\n",
        "\n",
        "# 3.지점별 평균 구하기(지점 30개만 추출)\n",
        "df_mean =\n",
        "\n",
        "plt.plot(df_mean, '^', linestyle='solid', c='red', label='평균기온')\n",
        "plt.xticks(rotation=90)\n",
        "plt.title('종관관측 지점별 평균기온', fontsize=20)\n",
        "plt.xlabel('지점명'); plt.ylabel('평균기온');\n",
        "plt.legend(); plt.grid();\n",
        "plt.show()"
      ]
    },
    {
      "cell_type": "code",
      "execution_count": null,
      "metadata": {
        "id": "kDEwZxtA4-JC"
      },
      "outputs": [],
      "source": [
        "import pandas as pd\n",
        "import matplotlib.pyplot as plt\n",
        "\n",
        "# 한글,그래프크기\n",
        "plt.rcParams['font.family'] = 'Malgun Gothic'\n",
        "plt.rcParams['figure.figsize'] = (10, 4)\n",
        "plt.rcParams['axes.unicode_minus'] = False\n",
        "\n",
        "# 1.데이터 불러오기\n",
        "file = 'data/weather_data.csv'\n",
        "df = pd.read_csv(file, encoding='CP949')\n",
        "\n",
        "# 2.컬럼명 지정\n",
        "df.columns = ['지점', '지점명', '일시', '평균기온', '최고기온', '최저기온',\n",
        "              '평균현지기압','평균상대습도', '월합강수량', '평균풍',\n",
        "              '일조시간','최심적설']\n",
        "df['년도'] = df.일시.str[0:4]\n",
        "df.head(2)\n",
        "\n",
        "# 3.전주지역 데이터만 추출\n",
        "df_junju =  df.query(\" 지점명 == '전주'\")\n",
        "df_junju = df_junju.groupby('년도').aggregate({'평균기온':'mean', '최고기온':'max', '최저기온':'min' })\n",
        "df_junju\n",
        "\n",
        "plt.plot(df_junju)\n",
        "plt.xticks(rotation=45)\n",
        "plt.show()"
      ]
    },
    {
      "cell_type": "markdown",
      "metadata": {
        "id": "haIRwBv54-JC"
      },
      "source": [
        "### [실습문제] : '제주' 지점의 년도별 평균기온을  선 그래프로 나타내기"
      ]
    },
    {
      "cell_type": "code",
      "execution_count": null,
      "metadata": {
        "id": "rwsbrHdV4-JC"
      },
      "outputs": [],
      "source": [
        "import pandas as pd\n",
        "import matplotlib.pyplot as plt\n",
        "\n",
        "# 한글,그래프크기\n",
        "plt.rcParams['font.family'] = 'Malgun Gothic'\n",
        "plt.rcParams['figure.figsize'] = (10, 4)\n",
        "plt.rcParams['axes.unicode_minus']\n",
        "\n",
        "# 1.데이터 불러오기\n",
        "file = 'data/weather_data2.csv'\n",
        "df = pd.read_csv(file, encoding='CP949')\n",
        "df.drop(['Unnamed: 0'], axis=1, inplace=True)\n",
        "df\n",
        "\n",
        "\n",
        "# 2,지점별 연도별 그룹핑하기\n",
        "df2 = df.query(\" 지점명 == '제주' \")\n",
        "# df2 = df.query(\" 지점명 in ('고산','서귀포','성산','성산포','제주') \")\n",
        "df2 = df2.groupby(['지점명','년도']).aggregate({'평균기온':'mean'}).reset_index()\n",
        "\n",
        "X = df2.년도\n",
        "Y = df2.평균기온\n",
        "\n",
        "# 3.지점별 평균 구하기(지점 30개만 추출)\n",
        "plt.plot(X, Y, '^', linestyle='solid', c='r', label='평균기온')\n",
        "plt.title('제주 지점별 평균기온', fontsize=20)\n",
        "plt.xlabel('년도')\n",
        "plt.ylabel('평균기온')\n",
        "plt.xticks(rotation=90)\n",
        "plt.legend()\n",
        "plt.grid()\n",
        "plt.show()"
      ]
    },
    {
      "cell_type": "markdown",
      "metadata": {
        "id": "l1Wg9chw4-JC"
      },
      "source": [
        "### [실습]: 제주의 평균기온, 최고기온, 최저기온 통계를 그래프로 나타내기"
      ]
    },
    {
      "cell_type": "code",
      "execution_count": null,
      "metadata": {
        "scrolled": true,
        "id": "ap-VL7WX4-JC"
      },
      "outputs": [],
      "source": [
        "# 2. '제주'지점 년도별 기온 데이터 추출하기(년도 30개만)\n",
        "plt.rcParams['figure.figsize'] = (12, 6)\n",
        "plt.rcParams['axes.unicode_minus'] = False\n",
        "\n",
        "data = df.query(\" 지점명 == '제주' \")\n",
        "data1 = data.groupby('년도').평균기온.agg(**{'평균기온':'mean'})\n",
        "data2 = data.groupby('년도').최고기온.agg(**{'최고기온':'max'})\n",
        "data3 = data.groupby('년도').최저기온.agg(**{'최저기온':'min'})\n",
        "\n",
        "# 3. 그래프로 시각화하기\n",
        "plt.plot(data1, 'o', linestyle='solid', c='r', label='평균기온')\n",
        "plt.plot(data2, '^', linestyle='solid', c='g', label='최고기온')\n",
        "plt.plot(data3, 'v', linestyle='solid', c='b', label='최저기온')\n",
        "plt.title(\"'제주'지점 년도별 기온 통계\", fontsize=15) #제목\n",
        "plt.xlabel('년도')     # x축 레이블\n",
        "plt.ylabel('기온')     # y축 레이블\n",
        "plt.legend()           #범례,기본 위치 : loc='upper left'\n",
        "plt.xticks(rotation=45)  # x축 레이블 기울이기\n",
        "plt.grid()               # 격자 표시\n",
        "\n",
        "plt.show()\n"
      ]
    },
    {
      "cell_type": "code",
      "execution_count": null,
      "metadata": {
        "id": "ifYwTcoe4-JC"
      },
      "outputs": [],
      "source": [
        "# 2. '제주'지점 년도별 기온 데이터 추출하기(년도 30개만)\n",
        "plt.rcParams['axes.unicode_minus'] = False\n",
        "\n",
        "data = df.query(\" 지점명 == '제주' \")\n",
        "data1 = data.groupby('년도')['평균기온'].agg(**{'평균기온':'mean'}).reset_index()\n",
        "data2 = data.groupby('년도')['최고기온'].agg(**{'최고기온':'max'}).reset_index()\n",
        "\n",
        "# 3. 그래프로 시각화하기\n",
        "X = data1['년도']\n",
        "Y1 = data1['평균기온']\n",
        "Y2 = data2['최고기온']\n",
        "plt.bar(X, Y1, label='평균기온')\n",
        "plt.plot(X, Y2, 'o', linestyle='solid', c='r', label='최고기온')\n",
        "plt.title(\"'제주'지점 년도별 기온 통계\", fontsize=15) #제목\n",
        "plt.xlabel('년도')        # x축 레이블\n",
        "plt.ylabel('기온')        # y축 레이블\n",
        "plt.legend()             #범례,기본 위치 : loc='upper left'\n",
        "plt.xticks(rotation=45)  # x축 레이블 기울이기\n",
        "\n",
        "plt.grid()               # 격자 표시\n",
        "\n",
        "plt.show()"
      ]
    },
    {
      "cell_type": "markdown",
      "metadata": {
        "id": "HT4AvfeO4-JC"
      },
      "source": [
        "### [실습]: 제주의 최고기온(선그래프),평균기온(막대그래프)을 혼합 그래프로 나타내기"
      ]
    },
    {
      "cell_type": "code",
      "execution_count": null,
      "metadata": {
        "scrolled": true,
        "id": "JrPS2XY74-JC"
      },
      "outputs": [],
      "source": [
        "# 3. 그래프로 시각화하기\n",
        "plt.figure(figsize=(20,5))\n",
        "plt.title('제주 기온 통계', fontsize=15)         #제목\n",
        "plt.legend(['최고기온','평균기온']) #범례,기본 위치 : loc='upper left'\n",
        "plt.xlabel('년도')                 # x축 레이블\n",
        "plt.ylabel('기온')                 # y축 레이블\n",
        "plt.xticks(rotation=45)           # x축 레이블 기울이기\n",
        "plt.grid()                        # 격자 표시\n",
        "\n",
        "plt.bar(X, Y1)  # 막대 그래프\n",
        "plt.plot(X, Y2, 'o', linestyle='solid', c='r')  # 선그래프\n",
        "plt.show()\n"
      ]
    },
    {
      "cell_type": "markdown",
      "metadata": {
        "id": "NnZJV1NX4-JC"
      },
      "source": [
        "### [실습] : 2중 축 그래프 그리기 :  평균상대습도 & 월합강수량"
      ]
    },
    {
      "cell_type": "code",
      "execution_count": null,
      "metadata": {
        "scrolled": true,
        "id": "bbBantJv4-JC"
      },
      "outputs": [],
      "source": [
        "# 2.'제주'지점의 평균상대습도 & 일최다강수량 센터수\n",
        "data = df.groupby(['지점명','년도'])['평균상대습도'].agg(**{'평균상대습도':'mean'}).reset_index()\n",
        "data = data.query(\" 지점명 == '제주' \")\n",
        "X  = data['년도']\n",
        "Y1 = data['평균상대습도']\n",
        "\n",
        "data = df.groupby(['지점명','년도'])['월합강수량'].agg(**{'월합강수량':'mean'}).reset_index()\n",
        "data = data.query(\" 지점명 == '제주' \")\n",
        "Y2 = data['월합강수량']\n",
        "# print(Y2)\n",
        "\n",
        "\n",
        "# 3. 그래프로 시각화하기\n",
        "plt.rcParams['figure.figsize'] = (10, 5)   # 그래프 크기\n",
        "\n",
        "fig, ax1 = plt.subplots()\n",
        "plt.suptitle('평균상대습도 & 월합강수량',fontsize=15)\n",
        "ax1.plot(X, Y1, color='green')     # 평균상대습도 (왼쪽)\n",
        "ax1.set_ylabel('평균상대습도', color = 'green', rotation = 90)\n",
        "ax2 = ax1.twinx()\n",
        "ax2.plot(X, Y2, color='deeppink')  # 월합강수량 (오른쪽)\n",
        "ax2.set_ylabel('월합강수량', color = 'deeppink', rotation = 270)\n",
        "\n",
        "fig.autofmt_xdate(rotation=45)  #X축 레이블 기울이기\n",
        "\n",
        "plt.savefig('image/graph.png')\n",
        "\n",
        "plt.show()"
      ]
    },
    {
      "cell_type": "markdown",
      "metadata": {
        "id": "NpUoW9xJ4-JC"
      },
      "source": [
        "-------"
      ]
    },
    {
      "cell_type": "markdown",
      "metadata": {
        "id": "NJvo0qgV4-JC"
      },
      "source": [
        "---------"
      ]
    },
    {
      "cell_type": "markdown",
      "metadata": {
        "id": "FajGXAd_4-JC"
      },
      "source": [
        "끝!"
      ]
    }
  ],
  "metadata": {
    "kernelspec": {
      "display_name": "Python 3 (ipykernel)",
      "language": "python",
      "name": "python3"
    },
    "language_info": {
      "codemirror_mode": {
        "name": "ipython",
        "version": 3
      },
      "file_extension": ".py",
      "mimetype": "text/x-python",
      "name": "python",
      "nbconvert_exporter": "python",
      "pygments_lexer": "ipython3",
      "version": "3.10.9"
    },
    "colab": {
      "provenance": [],
      "include_colab_link": true
    }
  },
  "nbformat": 4,
  "nbformat_minor": 0
}