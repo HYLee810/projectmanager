{
  "cells": [
    {
      "cell_type": "markdown",
      "metadata": {
        "id": "view-in-github",
        "colab_type": "text"
      },
      "source": [
        "<a href=\"https://colab.research.google.com/github/HYLee810/projectmanager/blob/main/2_%EB%8D%B0%EC%9D%B4%ED%84%B0%EB%B6%84%EC%84%9D_04_%EB%8D%B0%EC%9D%B4%ED%84%B0%EC%88%98%EC%A7%91%ED%95%98%EA%B8%B0_%EC%9B%B9%ED%81%AC%EB%A1%A4%EB%A7%81_%EC%BD%94%EB%9E%A9%EC%8B%A4%EC%8A%B5.ipynb\" target=\"_parent\"><img src=\"https://colab.research.google.com/assets/colab-badge.svg\" alt=\"Open In Colab\"/></a>"
      ]
    },
    {
      "cell_type": "markdown",
      "id": "d2d8f562",
      "metadata": {
        "id": "d2d8f562"
      },
      "source": [
        "# 데이터 분석"
      ]
    },
    {
      "cell_type": "markdown",
      "id": "d90d2c2a",
      "metadata": {
        "id": "d90d2c2a"
      },
      "source": [
        "## 4. 웹 크롤링으로 데이터 수집"
      ]
    },
    {
      "cell_type": "markdown",
      "id": "29efc198",
      "metadata": {
        "id": "29efc198"
      },
      "source": [
        "---------------------"
      ]
    },
    {
      "cell_type": "markdown",
      "id": "22449e9b",
      "metadata": {
        "id": "22449e9b"
      },
      "source": [
        "### 01.웹 크롤링의 이해\n",
        "- **웹 크롤링(Web Crawling)**: 웹 페이지로부터 원하는 정보를 추출하는 기법, 보통 여러 페이지 탐색하는 방법,\n",
        "- **웹 스크래핑(Web Scraping)**: 특정한 하나의 웹 페이지를 탐색하는 방법\n",
        "- **웹 크롤링과 웹 스크래핑의  방법이 동일하여 보통 웹 크롤링이라고 통칭해서 부른다.**"
      ]
    },
    {
      "cell_type": "markdown",
      "id": "45d36f92",
      "metadata": {
        "id": "45d36f92"
      },
      "source": [
        "### 라이브러리 설치하기"
      ]
    },
    {
      "cell_type": "code",
      "execution_count": 1,
      "id": "d254f56b",
      "metadata": {
        "colab": {
          "base_uri": "https://localhost:8080/"
        },
        "id": "d254f56b",
        "outputId": "8e87a274-6a51-46a3-9e18-6fcb0c5a3a03"
      },
      "outputs": [
        {
          "output_type": "stream",
          "name": "stdout",
          "text": [
            "Requirement already satisfied: requests in /usr/local/lib/python3.10/dist-packages (2.31.0)\n",
            "Requirement already satisfied: charset-normalizer<4,>=2 in /usr/local/lib/python3.10/dist-packages (from requests) (3.2.0)\n",
            "Requirement already satisfied: idna<4,>=2.5 in /usr/local/lib/python3.10/dist-packages (from requests) (3.4)\n",
            "Requirement already satisfied: urllib3<3,>=1.21.1 in /usr/local/lib/python3.10/dist-packages (from requests) (2.0.4)\n",
            "Requirement already satisfied: certifi>=2017.4.17 in /usr/local/lib/python3.10/dist-packages (from requests) (2023.7.22)\n"
          ]
        }
      ],
      "source": [
        "# 정적 크롤링을 위한 requests 설치\n",
        "!pip install requests"
      ]
    },
    {
      "cell_type": "code",
      "execution_count": 2,
      "id": "83fff2f7",
      "metadata": {
        "colab": {
          "base_uri": "https://localhost:8080/"
        },
        "id": "83fff2f7",
        "outputId": "2ad60d53-4bbc-46b0-d2f0-559d05655336"
      },
      "outputs": [
        {
          "output_type": "stream",
          "name": "stdout",
          "text": [
            "Requirement already satisfied: beautifulsoup4 in /usr/local/lib/python3.10/dist-packages (4.11.2)\n",
            "Requirement already satisfied: soupsieve>1.2 in /usr/local/lib/python3.10/dist-packages (from beautifulsoup4) (2.4.1)\n"
          ]
        }
      ],
      "source": [
        "# HTML과 XML 문서를 파싱하기 위한 파이썬 패키지\n",
        "!pip install beautifulsoup4"
      ]
    },
    {
      "cell_type": "code",
      "execution_count": 3,
      "id": "bb5d63be",
      "metadata": {
        "colab": {
          "base_uri": "https://localhost:8080/"
        },
        "id": "bb5d63be",
        "outputId": "a81076c7-bd78-488d-c4a4-3f395427fe74"
      },
      "outputs": [
        {
          "output_type": "stream",
          "name": "stdout",
          "text": [
            "Collecting selenium\n",
            "  Downloading selenium-4.11.2-py3-none-any.whl (7.2 MB)\n",
            "\u001b[2K     \u001b[90m━━━━━━━━━━━━━━━━━━━━━━━━━━━━━━━━━━━━━━━━\u001b[0m \u001b[32m7.2/7.2 MB\u001b[0m \u001b[31m15.9 MB/s\u001b[0m eta \u001b[36m0:00:00\u001b[0m\n",
            "\u001b[?25hRequirement already satisfied: urllib3[socks]<3,>=1.26 in /usr/local/lib/python3.10/dist-packages (from selenium) (2.0.4)\n",
            "Collecting trio~=0.17 (from selenium)\n",
            "  Downloading trio-0.22.2-py3-none-any.whl (400 kB)\n",
            "\u001b[2K     \u001b[90m━━━━━━━━━━━━━━━━━━━━━━━━━━━━━━━━━━━━━━\u001b[0m \u001b[32m400.2/400.2 kB\u001b[0m \u001b[31m20.9 MB/s\u001b[0m eta \u001b[36m0:00:00\u001b[0m\n",
            "\u001b[?25hCollecting trio-websocket~=0.9 (from selenium)\n",
            "  Downloading trio_websocket-0.10.3-py3-none-any.whl (17 kB)\n",
            "Requirement already satisfied: certifi>=2021.10.8 in /usr/local/lib/python3.10/dist-packages (from selenium) (2023.7.22)\n",
            "Requirement already satisfied: attrs>=20.1.0 in /usr/local/lib/python3.10/dist-packages (from trio~=0.17->selenium) (23.1.0)\n",
            "Requirement already satisfied: sortedcontainers in /usr/local/lib/python3.10/dist-packages (from trio~=0.17->selenium) (2.4.0)\n",
            "Requirement already satisfied: idna in /usr/local/lib/python3.10/dist-packages (from trio~=0.17->selenium) (3.4)\n",
            "Collecting outcome (from trio~=0.17->selenium)\n",
            "  Downloading outcome-1.2.0-py2.py3-none-any.whl (9.7 kB)\n",
            "Requirement already satisfied: sniffio in /usr/local/lib/python3.10/dist-packages (from trio~=0.17->selenium) (1.3.0)\n",
            "Requirement already satisfied: exceptiongroup>=1.0.0rc9 in /usr/local/lib/python3.10/dist-packages (from trio~=0.17->selenium) (1.1.3)\n",
            "Collecting wsproto>=0.14 (from trio-websocket~=0.9->selenium)\n",
            "  Downloading wsproto-1.2.0-py3-none-any.whl (24 kB)\n",
            "Requirement already satisfied: pysocks!=1.5.7,<2.0,>=1.5.6 in /usr/local/lib/python3.10/dist-packages (from urllib3[socks]<3,>=1.26->selenium) (1.7.1)\n",
            "Collecting h11<1,>=0.9.0 (from wsproto>=0.14->trio-websocket~=0.9->selenium)\n",
            "  Downloading h11-0.14.0-py3-none-any.whl (58 kB)\n",
            "\u001b[2K     \u001b[90m━━━━━━━━━━━━━━━━━━━━━━━━━━━━━━━━━━━━━━━━\u001b[0m \u001b[32m58.3/58.3 kB\u001b[0m \u001b[31m5.6 MB/s\u001b[0m eta \u001b[36m0:00:00\u001b[0m\n",
            "\u001b[?25hInstalling collected packages: outcome, h11, wsproto, trio, trio-websocket, selenium\n",
            "Successfully installed h11-0.14.0 outcome-1.2.0 selenium-4.11.2 trio-0.22.2 trio-websocket-0.10.3 wsproto-1.2.0\n"
          ]
        }
      ],
      "source": [
        "# 동적 크롤링을 위한 셀레니움 설치\n",
        "!pip install selenium"
      ]
    },
    {
      "cell_type": "markdown",
      "id": "8e298def",
      "metadata": {
        "id": "8e298def"
      },
      "source": [
        "### 라이브러리 확인하기"
      ]
    },
    {
      "cell_type": "code",
      "execution_count": 4,
      "id": "8d82eb73",
      "metadata": {
        "colab": {
          "base_uri": "https://localhost:8080/"
        },
        "id": "8d82eb73",
        "outputId": "96b1c779-2337-42ab-95cd-a7f6e0c4201d"
      },
      "outputs": [
        {
          "output_type": "execute_result",
          "data": {
            "text/plain": [
              "<Response [200]>"
            ]
          },
          "metadata": {},
          "execution_count": 4
        }
      ],
      "source": [
        "import requests\n",
        "\n",
        "requests.get(\"https://www.naver.com\") #IDC(internet data center)(네이버와 같은)"
      ]
    },
    {
      "cell_type": "code",
      "execution_count": 9,
      "id": "d77bdc03",
      "metadata": {
        "colab": {
          "base_uri": "https://localhost:8080/"
        },
        "id": "d77bdc03",
        "outputId": "72a0d756-f5c3-4dd0-bdf6-106f59bad7ef"
      },
      "outputs": [
        {
          "output_type": "stream",
          "name": "stdout",
          "text": [
            "#응답 상태:  200\n",
            "#응답 바이너리 원문:  b'<!doctype html><html itemscope=\"\" itemtype=\"http://schema.org/WebPage\" lang=\"en\"><head><meta content=\"Search the world\\'s information, including webpages, images, videos and more. Google has many special features to help you find exactly what you\\'re looking for.\" name=\"description\"><meta content=\"noodp\" name=\"robots\"><meta content=\"text/html; charset=UTF-8\" http-equiv=\"Content-Type\"><meta content=\"/images/branding/googleg/1x/googleg_standard_color_128dp.png\" itemprop=\"image\"><title>Google</title><script nonce=\"jTbgXwJJsE87ZnAJJXbvxA\">(function(){var _g={kEI:\\'_bDuZPmCHrTf0PEPzbqc8As\\',kEXPI:\\'0,1359408,6060,206,4804,2316,383,246,5,1129120,1197704,187,510,380090,16114,28684,22431,1361,12313,4751,12835,4998,17075,38444,2872,2891,3926,4423,3405,606,30668,30022,2614,12710,2025,1,16916,2652,4,3832,29062,13065,11443,2215,2980,24070,6624,7596,1,42154,2,16395,342,3534,19490,5679,1021,31121,4569,6258,23418,1252,25135,5017,2912,2,2,1,26632,8155,7381,2,3,15965,872,7830,1796,10008,9,1920,9779,42459,3141,17058,20136,14,82,16514,3692,109,2412,5856,3785,15175,2306,1584,1513,3030,6111,5040,4665,1804,7734,5623,991,1,11483,7265,7424,6561,1633,7950,891,4654,1493,11712,1992,586,2081,3256,12742,3,9,4129,1271,993,1420,1179,5209140,999,2,196,30,16,196,5994623,2803118,3311,141,795,19735,1,1,348,8261,103,36,4,41,23942038,4060779,39283,1621,640,719,402,1735787,23420757,887,2969,4307,1047,3589,5849,481,1197,882,2879,1594,32,1056,2466,872,832,1024,147,9,3788,1966,2950,3363,1034,669,286,164,2231,731,1600,1,472,271,634,1091,69,383,1,682,858,287,267,278,1,1,2,3,3226,482,237,1017,1089,213,71,1264,2098,1520,882,707,890,354,9,191,200,38,244,778,65,362,40,2,19,3,428,995,393,493,1,499,101,194,50,23,1074,394,2,1007,1510,150,503,622,2,2852,470,3,425,885,881,223,6,511,2,680,517,1133,380,875,718,45,433,263,445,1,469,38,1,334,162,4,49,186,2,213,75,51,723,243,925,1236,41,509,7,1,8,697,507,84,192,460,537,565,545,940,247,496,4,9,101,532,628,24,1,198,1,257,742,97,173,335,277,624,322,1030,226,218,1,1184,187,876,1115,105,97,715,2\\',kBL:\\'SMuT\\',kOPI:89978449};(function(){var a;(null==(a=window.google)?0:a.stvsc)?google.kEI=_g.kEI:window.google=_g;}).call(this);})();(function(){google.sn=\\'webhp\\';google.kHL=\\'en\\';})();(function(){\\nvar h=this||self;function l(){return void 0!==window.google&&void 0!==window.google.kOPI&&0!==window.google.kOPI?window.google.kOPI:null};var m,n=[];function p(a){for(var b;a&&(!a.getAttribute||!(b=a.getAttribute(\"eid\")));)a=a.parentNode;return b||m}function q(a){for(var b=null;a&&(!a.getAttribute||!(b=a.getAttribute(\"leid\")));)a=a.parentNode;return b}function r(a){/^http:/i.test(a)&&\"https:\"===window.location.protocol&&(google.ml&&google.ml(Error(\"a\"),!1,{src:a,glmm:1}),a=\"\");return a}\\nfunction t(a,b,c,d,k){var e=\"\";-1===b.search(\"&ei=\")&&(e=\"&ei=\"+p(d),-1===b.search(\"&lei=\")&&(d=q(d))&&(e+=\"&lei=\"+d));d=\"\";var g=-1===b.search(\"&cshid=\")&&\"slh\"!==a,f=[];f.push([\"zx\",Date.now().toString()]);h._cshid&&g&&f.push([\"cshid\",h._cshid]);c=c();null!=c&&f.push([\"opi\",c.toString()]);for(c=0;c<f.length;c++){if(0===c||0<c)d+=\"&\";d+=f[c][0]+\"=\"+f[c][1]}return\"/\"+(k||\"gen_204\")+\"?atyp=i&ct=\"+String(a)+\"&cad=\"+(b+e+d)};m=google.kEI;google.getEI=p;google.getLEI=q;google.ml=function(){return null};google.log=function(a,b,c,d,k,e){e=void 0===e?l:e;c||(c=t(a,b,e,d,k));if(c=r(c)){a=new Image;var g=n.length;n[g]=a;a.onerror=a.onload=a.onabort=function(){delete n[g]};a.src=c}};google.logUrl=function(a,b){b=void 0===b?l:b;return t(\"\",a,b)};}).call(this);(function(){google.y={};google.sy=[];google.x=function(a,b){if(a)var c=a.id;else{do c=Math.random();while(google.y[c])}google.y[c]=[a,b];return!1};google.sx=function(a){google.sy.push(a)};google.lm=[];google.plm=function(a){google.lm.push.apply(google.lm,a)};google.lq=[];google.load=function(a,b,c){google.lq.push([[a],b,c])};google.loadAll=function(a,b){google.lq.push([a,b])};google.bx=!1;google.lx=function(){};var d=[];google.fce=function(a,b,c,e){d.push([a,b,c,e])};google.qce=d;}).call(this);google.f={};(function(){\\ndocument.documentElement.addEventListener(\"submit\",function(b){var a;if(a=b.target){var c=a.getAttribute(\"data-submitfalse\");a=\"1\"===c||\"q\"===c&&!a.elements.q.value?!0:!1}else a=!1;a&&(b.preventDefault(),b.stopPropagation())},!0);document.documentElement.addEventListener(\"click\",function(b){var a;a:{for(a=b.target;a&&a!==document.documentElement;a=a.parentElement)if(\"A\"===a.tagName){a=\"1\"===a.getAttribute(\"data-nohref\");break a}a=!1}a&&b.preventDefault()},!0);}).call(this);</script><style>#gbar,#guser{font-size:13px;padding-top:1px !important;}#gbar{height:22px}#guser{padding-bottom:7px !important;text-align:right}.gbh,.gbd{border-top:1px solid #c9d7f1;font-size:1px}.gbh{height:0;position:absolute;top:24px;width:100%}@media all{.gb1{height:22px;margin-right:.5em;vertical-align:top}#gbar{float:left}}a.gb1,a.gb4{text-decoration:underline !important}a.gb1,a.gb4{color:#00c !important}.gbi .gb4{color:#dd8e27 !important}.gbf .gb4{color:#900 !important}\\n</style><style>body,td,a,p,.h{font-family:arial,sans-serif}body{margin:0;overflow-y:scroll}#gog{padding:3px 8px 0}td{line-height:.8em}.gac_m td{line-height:17px}form{margin-bottom:20px}.h{color:#1967d2}em{font-weight:bold;font-style:normal}.lst{height:25px;width:496px}.gsfi,.lst{font:18px arial,sans-serif}.gsfs{font:17px arial,sans-serif}.ds{display:inline-box;display:inline-block;margin:3px 0 4px;margin-left:4px}input{font-family:inherit}body{background:#fff;color:#000}a{color:#681da8;text-decoration:none}a:hover,a:active{text-decoration:underline}.fl a{color:#1967d2}a:visited{color:#681da8}.sblc{padding-top:5px}.sblc a{display:block;margin:2px 0;margin-left:13px;font-size:11px}.lsbb{background:#f8f9fa;border:solid 1px;border-color:#dadce0 #70757a #70757a #dadce0;height:30px}.lsbb{display:block}#WqQANb a{display:inline-block;margin:0 12px}.lsb{background:url(/images/nav_logo229.png) 0 -261px repeat-x;color:#000;border:none;cursor:pointer;height:30px;margin:0;outline:0;font:15px arial,sans-serif;vertical-align:top}.lsb:active{background:#dadce0}.lst:focus{outline:none}</style><script nonce=\"jTbgXwJJsE87ZnAJJXbvxA\">(function(){window.google.erd={jsr:1,bv:1857,de:true};\\nvar l=this||self;var m,n=null!=(m=l.mei)?m:1,p,q=null!=(p=l.sdo)?p:!0,r=0,t,u=google.erd,v=u.jsr;google.ml=function(a,b,d,h,e){e=void 0===e?2:e;b&&(t=a&&a.message);if(google.dl)return google.dl(a,e,d),null;if(0>v){window.console&&console.error(a,d);if(-2===v)throw a;b=!1}else b=!a||!a.message||\"Error loading script\"===a.message||r>=n&&!h?!1:!0;if(!b)return null;r++;d=d||{};b=encodeURIComponent;var c=\"/gen_204?atyp=i&ei=\"+b(google.kEI);google.kEXPI&&(c+=\"&jexpid=\"+b(google.kEXPI));c+=\"&srcpg=\"+b(google.sn)+\"&jsr=\"+b(u.jsr)+\"&bver=\"+b(u.bv);var f=a.lineNumber;void 0!==f&&(c+=\"&line=\"+f);var g=\\na.fileName;g&&(0<g.indexOf(\"-extension:/\")&&(e=3),c+=\"&script=\"+b(g),f&&g===window.location.href&&(f=document.documentElement.outerHTML.split(\"\\\\n\")[f],c+=\"&cad=\"+b(f?f.substring(0,300):\"No script found.\")));c+=\"&cad=ple_\"+google.ple+\".aple_\"+google.aple;google.ple&&1===google.ple&&(e=2);c+=\"&jsel=\"+e;for(var k in d)c+=\"&\",c+=b(k),c+=\"=\",c+=b(d[k]);c=c+\"&emsg=\"+b(a.name+\": \"+a.message);c=c+\"&jsst=\"+b(a.stack||\"N/A\");12288<=c.length&&(c=c.substr(0,12288));a=c;h||google.log(0,\"\",a);return a};window.onerror=function(a,b,d,h,e){if(t!==a){a=e instanceof Error?e:Error(a);void 0===d||\"lineNumber\"in a||(a.lineNumber=d);void 0===b||\"fileName\"in a||(a.fileName=b);b=void 0;if(a.stack&&(-1!==a.stack.indexOf(\"?xjs=s0\")||-1!==a.stack.indexOf(\"&xjs=s0\"))){b=document.querySelectorAll(\"script[src*=\\\\\\\\/xjs\\\\\\\\/_\\\\\\\\/js\\\\\\\\/]\");for(h=d=0;h<b.length;h++)d+=b[h].async?1:0;var c=e=h=-1,f=-1,g=-1;if(performance&&google.xjsu){h=0;e=google.timers.load.t.xjsee?1:0;f=c=0;g=performance.getEntriesByType(\"resource\");for(var k=\\n0;k<g.length;k++)-1!==g[k].name.indexOf(google.xjsu)&&(h=1),-1!==g[k].name.indexOf(\"/xjs/_/js/\")&&(c+=1,f+=\"script\"===g[k].initiatorType?1:0);g=c-f}b={cad:\"pl_\"+h+\".pe_\"+e+\".asc_\"+d+\".tsc_\"+b.length+\".fasc_\"+(b.length-d)+\".lxc_\"+c+\".lsx_\"+f+\".lnsx_\"+g}}google.ml(a,!1,b,!1,\"SyntaxError\"===a.name||\"SyntaxError\"===a.message.substring(0,11)||-1!==a.message.indexOf(\"Script error\")?3:0)}t=null;q&&r>=n&&(window.onerror=null)};})();</script></head><body bgcolor=\"#fff\"><script nonce=\"jTbgXwJJsE87ZnAJJXbvxA\">(function(){var src=\\'/images/nav_logo229.png\\';var iesg=false;document.body.onload = function(){window.n && window.n();if (document.images){new Image().src=src;}\\nif (!iesg){document.f&&document.f.q.focus();document.gbqf&&document.gbqf.q.focus();}\\n}\\n})();</script><div id=\"mngb\"><div id=gbar><nobr><b class=gb1>Search</b> <a class=gb1 href=\"https://www.google.com/imghp?hl=en&tab=wi\">Images</a> <a class=gb1 href=\"https://maps.google.com/maps?hl=en&tab=wl\">Maps</a> <a class=gb1 href=\"https://play.google.com/?hl=en&tab=w8\">Play</a> <a class=gb1 href=\"https://www.youtube.com/?tab=w1\">YouTube</a> <a class=gb1 href=\"https://news.google.com/?tab=wn\">News</a> <a class=gb1 href=\"https://mail.google.com/mail/?tab=wm\">Gmail</a> <a class=gb1 href=\"https://drive.google.com/?tab=wo\">Drive</a> <a class=gb1 style=\"text-decoration:none\" href=\"https://www.google.com/intl/en/about/products?tab=wh\"><u>More</u> &raquo;</a></nobr></div><div id=guser width=100%><nobr><span id=gbn class=gbi></span><span id=gbf class=gbf></span><span id=gbe></span><a href=\"http://www.google.com/history/optout?hl=en\" class=gb4>Web History</a> | <a  href=\"/preferences?hl=en\" class=gb4>Settings</a> | <a target=_top id=gb_70 href=\"https://accounts.google.com/ServiceLogin?hl=en&passive=true&continue=https://www.google.com/&ec=GAZAAQ\" class=gb4>Sign in</a></nobr></div><div class=gbh style=left:0></div><div class=gbh style=right:0></div></div><center><br clear=\"all\" id=\"lgpd\"><div id=\"lga\"><img alt=\"Google\" height=\"92\" src=\"/images/branding/googlelogo/1x/googlelogo_white_background_color_272x92dp.png\" style=\"padding:28px 0 14px\" width=\"272\" id=\"hplogo\"><br><br></div><form action=\"/search\" name=\"f\"><table cellpadding=\"0\" cellspacing=\"0\"><tr valign=\"top\"><td width=\"25%\">&nbsp;</td><td align=\"center\" nowrap=\"\"><input name=\"ie\" value=\"ISO-8859-1\" type=\"hidden\"><input value=\"en\" name=\"hl\" type=\"hidden\"><input name=\"source\" type=\"hidden\" value=\"hp\"><input name=\"biw\" type=\"hidden\"><input name=\"bih\" type=\"hidden\"><div class=\"ds\" style=\"height:32px;margin:4px 0\"><input class=\"lst\" style=\"margin:0;padding:5px 8px 0 6px;vertical-align:top;color:#000\" autocomplete=\"off\" value=\"\" title=\"Google Search\" maxlength=\"2048\" name=\"q\" size=\"57\"></div><br style=\"line-height:0\"><span class=\"ds\"><span class=\"lsbb\"><input class=\"lsb\" value=\"Google Search\" name=\"btnG\" type=\"submit\"></span></span><span class=\"ds\"><span class=\"lsbb\"><input class=\"lsb\" id=\"tsuid_1\" value=\"I\\'m Feeling Lucky\" name=\"btnI\" type=\"submit\"><script nonce=\"jTbgXwJJsE87ZnAJJXbvxA\">(function(){var id=\\'tsuid_1\\';document.getElementById(id).onclick = function(){if (this.form.q.value){this.checked = 1;if (this.form.iflsig)this.form.iflsig.disabled = false;}\\nelse top.location=\\'/doodles/\\';};})();</script><input value=\"AD69kcEAAAAAZO6_DXvRhS5WddeOxslkRWuwjdmLnQys\" name=\"iflsig\" type=\"hidden\"></span></span></td><td class=\"fl sblc\" align=\"left\" nowrap=\"\" width=\"25%\"><a href=\"/advanced_search?hl=en&amp;authuser=0\">Advanced search</a></td></tr></table><input id=\"gbv\" name=\"gbv\" type=\"hidden\" value=\"1\"><script nonce=\"jTbgXwJJsE87ZnAJJXbvxA\">(function(){var a,b=\"1\";if(document&&document.getElementById)if(\"undefined\"!=typeof XMLHttpRequest)b=\"2\";else if(\"undefined\"!=typeof ActiveXObject){var c,d,e=[\"MSXML2.XMLHTTP.6.0\",\"MSXML2.XMLHTTP.3.0\",\"MSXML2.XMLHTTP\",\"Microsoft.XMLHTTP\"];for(c=0;d=e[c++];)try{new ActiveXObject(d),b=\"2\"}catch(h){}}a=b;if(\"2\"==a&&-1==location.search.indexOf(\"&gbv=2\")){var f=google.gbvu,g=document.getElementById(\"gbv\");g&&(g.value=a);f&&window.setTimeout(function(){location.href=f},0)};}).call(this);</script></form><div id=\"gac_scont\"></div><div style=\"font-size:83%;min-height:3.5em\"><br></div><span id=\"footer\"><div style=\"font-size:10pt\"><div style=\"margin:19px auto;text-align:center\" id=\"WqQANb\"><a href=\"/intl/en/ads/\">Advertising</a><a href=\"/services/\">Business Solutions</a><a href=\"/intl/en/about.html\">About Google</a></div></div><p style=\"font-size:8pt;color:#70757a\">&copy; 2023 - <a href=\"/intl/en/policies/privacy/\">Privacy</a> - <a href=\"/intl/en/policies/terms/\">Terms</a></p></span></center><script nonce=\"jTbgXwJJsE87ZnAJJXbvxA\">(function(){window.google.cdo={height:757,width:1440};(function(){var a=window.innerWidth,b=window.innerHeight;if(!a||!b){var c=window.document,d=\"CSS1Compat\"==c.compatMode?c.documentElement:c.body;a=d.clientWidth;b=d.clientHeight}\\nif(a&&b&&(a!=google.cdo.width||b!=google.cdo.height)){var e=google,f=e.log,g=\"/client_204?&atyp=i&biw=\"+a+\"&bih=\"+b+\"&ei=\"+google.kEI,h=\"\",k=[],l=void 0!==window.google&&void 0!==window.google.kOPI&&0!==window.google.kOPI?window.google.kOPI:null;null!=l&&k.push([\"opi\",l.toString()]);for(var m=0;m<k.length;m++){if(0===m||0<m)h+=\"&\";h+=k[m][0]+\"=\"+k[m][1]}f.call(e,\"\",\"\",g+h)};}).call(this);})();</script> <script nonce=\"jTbgXwJJsE87ZnAJJXbvxA\">(function(){google.xjs={ck:\\'xjs.hp.JUucOCb0tO0.L.X.O\\',cs:\\'ACT90oF9yjNL4YL3RRLAX_tdtPGBb3PwAg\\',cssopt:false,csss:\\'ACT90oGKp1zhVjboEwlGKQtndbnn_h0JzA\\',excm:[],sepcss:false};})();</script>     <script nonce=\"jTbgXwJJsE87ZnAJJXbvxA\">(function(){var u=\\'/xjs/_/js/k\\\\x3dxjs.hp.en.hJTHLrOJ8pE.O/am\\\\x3dAAAAAAAAAAAAAAgAAAAAgAoABAQAAAAAAAAQAICOAACwAAAX/d\\\\x3d1/ed\\\\x3d1/rs\\\\x3dACT90oEqI2QNpcXKxwQWiie4zZMAllvxYQ/m\\\\x3dsb_he,d,cEt90b,SNUn3,qddgKe,sTsDMc,dtl0hd,eHDfl\\';var amd=0;\\nvar e=this||self,f=function(a){return a};var g;var h=function(a){this.g=a};h.prototype.toString=function(){return this.g+\"\"};var k={};var l=function(){var a=document;var b=\"SCRIPT\";\"application/xhtml+xml\"===a.contentType&&(b=b.toLowerCase());return a.createElement(b)};\\nfunction m(a,b){a.src=b instanceof h&&b.constructor===h?b.g:\"type_error:TrustedResourceUrl\";var c,d;(c=(b=null==(d=(c=(a.ownerDocument&&a.ownerDocument.defaultView||window).document).querySelector)?void 0:d.call(c,\"script[nonce]\"))?b.nonce||b.getAttribute(\"nonce\")||\"\":\"\")&&a.setAttribute(\"nonce\",c)};function n(a){a=null===a?\"null\":void 0===a?\"undefined\":a;if(void 0===g){var b=null;var c=e.trustedTypes;if(c&&c.createPolicy){try{b=c.createPolicy(\"goog#html\",{createHTML:f,createScript:f,createScriptURL:f})}catch(d){e.console&&e.console.error(d.message)}g=b}else g=b}a=(b=g)?b.createScriptURL(a):a;return new h(a,k)};void 0===google.ps&&(google.ps=[]);function p(){var a=u,b=function(){};google.lx=google.stvsc?b:function(){q(a);google.lx=b};google.bx||google.lx()}function r(a,b){b&&m(a,n(b));var c=a.onload;a.onload=function(d){c&&c(d);google.ps=google.ps.filter(function(t){return a!==t})};google.ps.push(a);document.body.appendChild(a)}google.as=r;function q(a){google.timers&&google.timers.load&&google.tick&&google.tick(\"load\",\"xjsls\");var b=l();b.onerror=function(){google.ple=1};b.onload=function(){google.ple=0};google.xjsus=void 0;r(b,a);google.aple=-1;google.psa=!0};google.xjsu=u;e._F_jsUrl=u;setTimeout(function(){0<amd?google.caft(function(){return p()},amd):p()},0);})();window._ = window._ || {};window._DumpException = _._DumpException = function(e){throw e;};window._s = window._s || {};_s._DumpException = _._DumpException;window._qs = window._qs || {};_qs._DumpException = _._DumpException;(function(){window._F_toggles=[1,0,8388608,1048576,67111552,16,0,597688324,11534336,23552];})();function _F_installCss(c){}\\n(function(){google.jl={blt:\\'none\\',chnk:0,dw:false,dwu:true,emtn:0,end:0,ico:false,ikb:0,ine:false,injs:\\'none\\',injt:0,injth:0,injv2:false,lls:\\'default\\',pdt:0,rep:0,snet:true,strt:0,ubm:false,uwp:true};})();(function(){var pmc=\\'{\\\\x22d\\\\x22:{},\\\\x22sb_he\\\\x22:{\\\\x22agen\\\\x22:true,\\\\x22cgen\\\\x22:true,\\\\x22client\\\\x22:\\\\x22heirloom-hp\\\\x22,\\\\x22dh\\\\x22:true,\\\\x22ds\\\\x22:\\\\x22\\\\x22,\\\\x22fl\\\\x22:true,\\\\x22host\\\\x22:\\\\x22google.com\\\\x22,\\\\x22jsonp\\\\x22:true,\\\\x22msgs\\\\x22:{\\\\x22cibl\\\\x22:\\\\x22Clear Search\\\\x22,\\\\x22dym\\\\x22:\\\\x22Did you mean:\\\\x22,\\\\x22lcky\\\\x22:\\\\x22I\\\\\\\\u0026#39;m Feeling Lucky\\\\x22,\\\\x22lml\\\\x22:\\\\x22Learn more\\\\x22,\\\\x22psrc\\\\x22:\\\\x22This search was removed from your \\\\\\\\u003Ca href\\\\x3d\\\\\\\\\\\\x22/history\\\\\\\\\\\\x22\\\\\\\\u003EWeb History\\\\\\\\u003C/a\\\\\\\\u003E\\\\x22,\\\\x22psrl\\\\x22:\\\\x22Remove\\\\x22,\\\\x22sbit\\\\x22:\\\\x22Search by image\\\\x22,\\\\x22srch\\\\x22:\\\\x22Google Search\\\\x22},\\\\x22ovr\\\\x22:{},\\\\x22pq\\\\x22:\\\\x22\\\\x22,\\\\x22rfs\\\\x22:[],\\\\x22sbas\\\\x22:\\\\x220 3px 8px 0 rgba(0,0,0,0.2),0 0 0 1px rgba(0,0,0,0.08)\\\\x22,\\\\x22stok\\\\x22:\\\\x22YxgxsGdHXDNZ6JA9m7kPKbadXdk\\\\x22}}\\';google.pmc=JSON.parse(pmc);})();(function(){\\nvar b=function(a){var c=0;return function(){return c<a.length?{done:!1,value:a[c++]}:{done:!0}}},e=this||self;var g,h;a:{for(var k=[\"CLOSURE_FLAGS\"],l=e,n=0;n<k.length;n++)if(l=l[k[n]],null==l){h=null;break a}h=l}var p=h&&h[610401301];g=null!=p?p:!1;var q,r=e.navigator;q=r?r.userAgentData||null:null;function t(a){return g?q?q.brands.some(function(c){return(c=c.brand)&&-1!=c.indexOf(a)}):!1:!1}function u(a){var c;a:{if(c=e.navigator)if(c=c.userAgent)break a;c=\"\"}return-1!=c.indexOf(a)};function v(){return g?!!q&&0<q.brands.length:!1}function w(){return u(\"Safari\")&&!(x()||(v()?0:u(\"Coast\"))||(v()?0:u(\"Opera\"))||(v()?0:u(\"Edge\"))||(v()?t(\"Microsoft Edge\"):u(\"Edg/\"))||(v()?t(\"Opera\"):u(\"OPR\"))||u(\"Firefox\")||u(\"FxiOS\")||u(\"Silk\")||u(\"Android\"))}function x(){return v()?t(\"Chromium\"):(u(\"Chrome\")||u(\"CriOS\"))&&!(v()?0:u(\"Edge\"))||u(\"Silk\")}function y(){return u(\"Android\")&&!(x()||u(\"Firefox\")||u(\"FxiOS\")||(v()?0:u(\"Opera\"))||u(\"Silk\"))};var z=v()?!1:u(\"Trident\")||u(\"MSIE\");y();x();w();var A=!z&&!w(),D=function(a){if(/-[a-z]/.test(\"ved\"))return null;if(A&&a.dataset){if(y()&&!(\"ved\"in a.dataset))return null;a=a.dataset.ved;return void 0===a?null:a}return a.getAttribute(\"data-\"+\"ved\".replace(/([A-Z])/g,\"-$1\").toLowerCase())};var E=[],F=null;function G(a){a=a.target;var c=performance.now(),f=[],H=f.concat,d=E;if(!(d instanceof Array)){var m=\"undefined\"!=typeof Symbol&&Symbol.iterator&&d[Symbol.iterator];if(m)d=m.call(d);else if(\"number\"==typeof d.length)d={next:b(d)};else throw Error(\"a`\"+String(d));for(var B=[];!(m=d.next()).done;)B.push(m.value);d=B}E=H.call(f,d,[c]);if(a&&a instanceof HTMLElement)if(a===F){if(c=4<=E.length)c=5>(E[E.length-1]-E[E.length-4])/1E3;if(c){c=google.getEI(a);a.hasAttribute(\"data-ved\")?f=a?D(a)||\"\":\"\":f=(f=\\na.closest(\"[data-ved]\"))?D(f)||\"\":\"\";f=f||\"\";if(a.hasAttribute(\"jsname\"))a=a.getAttribute(\"jsname\");else{var C;a=null==(C=a.closest(\"[jsname]\"))?void 0:C.getAttribute(\"jsname\")}google.log(\"rcm\",\"&ei=\"+c+\"&ved=\"+f+\"&jsname=\"+(a||\"\"))}}else F=a,E=[c]}window.document.addEventListener(\"DOMContentLoaded\",function(){document.body.addEventListener(\"click\",G)});}).call(this);</script></body></html>'\n",
            "#응답 헤더:  {'Date': 'Wed, 30 Aug 2023 03:01:17 GMT', 'Expires': '-1', 'Cache-Control': 'private, max-age=0', 'Content-Type': 'text/html; charset=ISO-8859-1', 'Content-Security-Policy-Report-Only': \"object-src 'none';base-uri 'self';script-src 'nonce-jTbgXwJJsE87ZnAJJXbvxA' 'strict-dynamic' 'report-sample' 'unsafe-eval' 'unsafe-inline' https: http:;report-uri https://csp.withgoogle.com/csp/gws/other-hp\", 'P3P': 'CP=\"This is not a P3P policy! See g.co/p3phelp for more info.\"', 'Content-Encoding': 'gzip', 'Server': 'gws', 'X-XSS-Protection': '0', 'X-Frame-Options': 'SAMEORIGIN', 'Set-Cookie': '1P_JAR=2023-08-30-03; expires=Fri, 29-Sep-2023 03:01:17 GMT; path=/; domain=.google.com; Secure, AEC=Ad49MVFN7Oou00TYzcfy-KxuMhnM-K9x-lGUv5ruAuiu3rfMlm3kn6d5Gg; expires=Mon, 26-Feb-2024 03:01:17 GMT; path=/; domain=.google.com; Secure; HttpOnly; SameSite=lax, NID=511=KtmQa8lXDJsKncHzpoKPqMroUEIxtUgvrsLl_cjiTJ4R07o3wYAQqrJpahupQs8Jjw9mr_NK93hrve_gj9rPFvvVdqnwHZLx5EnZy3FqLYotEfODdFh2HJ_M7CrTVFOx8BxmndYpRhEjqu_fRsscMrEdOca7aaE3G5nJq__QzCo; expires=Thu, 29-Feb-2024 03:01:17 GMT; path=/; domain=.google.com; HttpOnly', 'Transfer-Encoding': 'chunked'}\n",
            "#응답 헤더유형:  text/html; charset=ISO-8859-1\n"
          ]
        }
      ],
      "source": [
        "import requests\n",
        "\n",
        "response = requests.get(\"https://google.com\") #response는 변수\n",
        "\n",
        "# 응답 상태\n",
        "print('#응답 상태: ', response.status_code) # 200은 국제코드로 동일\n",
        "\n",
        "# 응답 바이너리 원문\n",
        "print('#응답 바이너리 원문: ', response.content)\n",
        "\n",
        "# 응답 UTF-8로 인코딩된 문자열\n",
        "# print('#응답 UTF-8로 인코딩된 문자열: ', response.text) # 웹페이지 코드 구글에서 F12를 누르면 웹코드 확인과 동일\n",
        "\n",
        "# 응답 헤더\n",
        "print('#응답 헤더: ', response.headers)\n",
        "\n",
        "# # 응답 헤더: 콘텐트 유형\n",
        "print('#응답 헤더유형: ', response.headers['Content-Type'])"
      ]
    },
    {
      "cell_type": "markdown",
      "id": "414c226e",
      "metadata": {
        "id": "414c226e"
      },
      "source": [
        "-------------------------------"
      ]
    },
    {
      "cell_type": "markdown",
      "id": "5629cbbb",
      "metadata": {
        "id": "5629cbbb"
      },
      "source": [
        "## 02.정적 크롤링(스크래핑)"
      ]
    },
    {
      "cell_type": "markdown",
      "id": "7a29d08f",
      "metadata": {
        "id": "7a29d08f"
      },
      "source": [
        "### [실습] 네이버 뉴스 검색 데이터 수집하기\n",
        "단, 네이버에서는 한번에 90개까지만 수집 가능한 상태임 <br>\n",
        "- **1.데이터 가져올 웹페이지**: 네이버 뉴스검색(검색어:우영우) https://search.naver.com/search.naver?where=news&sm=tab_jum&query=%EC%9A%B0%EC%98%81%EC%9A%B0\n",
        "- **2.가져올 정보**: 기사제목, URL\n",
        "- **3.DataFrame으로 만들기**\n",
        "- **4.DataFrame --> csv파일로 만들기**"
      ]
    },
    {
      "cell_type": "code",
      "execution_count": 11,
      "id": "beaa6805",
      "metadata": {
        "scrolled": true,
        "colab": {
          "base_uri": "https://localhost:8080/",
          "height": 219
        },
        "id": "beaa6805",
        "outputId": "f97746df-7f45-4fcd-cd20-853968f25c26"
      },
      "outputs": [
        {
          "output_type": "stream",
          "name": "stdout",
          "text": [
            "--------------------------------------------------\n",
            "#네이버 뉴스 데이터 크롤링하기...\n",
            "--------------------------------------------------\n",
            "검색 키워드를 입력하세요 : 손흥민\n",
            "query: 손흥민\n",
            "요청 query:https://search.naver.com/search.naver?where=news&query=손흥민&start=1 \n",
            "\n",
            "검색어[손흥민] 로 검색된 뉴스 [0]건 가져오기 완료!\n",
            "--------------------------------------------------\n"
          ]
        },
        {
          "output_type": "execute_result",
          "data": {
            "text/plain": [
              "Empty DataFrame\n",
              "Columns: [title, url]\n",
              "Index: []"
            ],
            "text/html": [
              "\n",
              "  <div id=\"df-469ef895-a295-4c51-8a17-e360c24f6314\" class=\"colab-df-container\">\n",
              "    <div>\n",
              "<style scoped>\n",
              "    .dataframe tbody tr th:only-of-type {\n",
              "        vertical-align: middle;\n",
              "    }\n",
              "\n",
              "    .dataframe tbody tr th {\n",
              "        vertical-align: top;\n",
              "    }\n",
              "\n",
              "    .dataframe thead th {\n",
              "        text-align: right;\n",
              "    }\n",
              "</style>\n",
              "<table border=\"1\" class=\"dataframe\">\n",
              "  <thead>\n",
              "    <tr style=\"text-align: right;\">\n",
              "      <th></th>\n",
              "      <th>title</th>\n",
              "      <th>url</th>\n",
              "    </tr>\n",
              "  </thead>\n",
              "  <tbody>\n",
              "  </tbody>\n",
              "</table>\n",
              "</div>\n",
              "    <div class=\"colab-df-buttons\">\n",
              "\n",
              "  <div class=\"colab-df-container\">\n",
              "    <button class=\"colab-df-convert\" onclick=\"convertToInteractive('df-469ef895-a295-4c51-8a17-e360c24f6314')\"\n",
              "            title=\"Convert this dataframe to an interactive table.\"\n",
              "            style=\"display:none;\">\n",
              "\n",
              "  <svg xmlns=\"http://www.w3.org/2000/svg\" height=\"24px\" viewBox=\"0 -960 960 960\">\n",
              "    <path d=\"M120-120v-720h720v720H120Zm60-500h600v-160H180v160Zm220 220h160v-160H400v160Zm0 220h160v-160H400v160ZM180-400h160v-160H180v160Zm440 0h160v-160H620v160ZM180-180h160v-160H180v160Zm440 0h160v-160H620v160Z\"/>\n",
              "  </svg>\n",
              "    </button>\n",
              "\n",
              "  <style>\n",
              "    .colab-df-container {\n",
              "      display:flex;\n",
              "      gap: 12px;\n",
              "    }\n",
              "\n",
              "    .colab-df-convert {\n",
              "      background-color: #E8F0FE;\n",
              "      border: none;\n",
              "      border-radius: 50%;\n",
              "      cursor: pointer;\n",
              "      display: none;\n",
              "      fill: #1967D2;\n",
              "      height: 32px;\n",
              "      padding: 0 0 0 0;\n",
              "      width: 32px;\n",
              "    }\n",
              "\n",
              "    .colab-df-convert:hover {\n",
              "      background-color: #E2EBFA;\n",
              "      box-shadow: 0px 1px 2px rgba(60, 64, 67, 0.3), 0px 1px 3px 1px rgba(60, 64, 67, 0.15);\n",
              "      fill: #174EA6;\n",
              "    }\n",
              "\n",
              "    .colab-df-buttons div {\n",
              "      margin-bottom: 4px;\n",
              "    }\n",
              "\n",
              "    [theme=dark] .colab-df-convert {\n",
              "      background-color: #3B4455;\n",
              "      fill: #D2E3FC;\n",
              "    }\n",
              "\n",
              "    [theme=dark] .colab-df-convert:hover {\n",
              "      background-color: #434B5C;\n",
              "      box-shadow: 0px 1px 3px 1px rgba(0, 0, 0, 0.15);\n",
              "      filter: drop-shadow(0px 1px 2px rgba(0, 0, 0, 0.3));\n",
              "      fill: #FFFFFF;\n",
              "    }\n",
              "  </style>\n",
              "\n",
              "    <script>\n",
              "      const buttonEl =\n",
              "        document.querySelector('#df-469ef895-a295-4c51-8a17-e360c24f6314 button.colab-df-convert');\n",
              "      buttonEl.style.display =\n",
              "        google.colab.kernel.accessAllowed ? 'block' : 'none';\n",
              "\n",
              "      async function convertToInteractive(key) {\n",
              "        const element = document.querySelector('#df-469ef895-a295-4c51-8a17-e360c24f6314');\n",
              "        const dataTable =\n",
              "          await google.colab.kernel.invokeFunction('convertToInteractive',\n",
              "                                                    [key], {});\n",
              "        if (!dataTable) return;\n",
              "\n",
              "        const docLinkHtml = 'Like what you see? Visit the ' +\n",
              "          '<a target=\"_blank\" href=https://colab.research.google.com/notebooks/data_table.ipynb>data table notebook</a>'\n",
              "          + ' to learn more about interactive tables.';\n",
              "        element.innerHTML = '';\n",
              "        dataTable['output_type'] = 'display_data';\n",
              "        await google.colab.output.renderOutput(dataTable, element);\n",
              "        const docLink = document.createElement('div');\n",
              "        docLink.innerHTML = docLinkHtml;\n",
              "        element.appendChild(docLink);\n",
              "      }\n",
              "    </script>\n",
              "  </div>\n",
              "\n",
              "    </div>\n",
              "  </div>\n"
            ]
          },
          "metadata": {},
          "execution_count": 11
        }
      ],
      "source": [
        "#VSC에서 실행\n",
        "import requests\n",
        "from bs4 import BeautifulSoup\n",
        "import pandas as pd\n",
        "\n",
        "print('-'*50)\n",
        "print(\"#네이버 뉴스 데이터 크롤링하기...\")\n",
        "print('-'*50)\n",
        "\n",
        "# 검색 URL 지정하기\n",
        "# query=검색어, start=페이지 (10건씩 추출)\n",
        "news_url = 'https://search.naver.com/search.naver?where=news&query={}&start=' # {}안에 키워드\n",
        "\n",
        "# 검색어 직접 입력 받기\n",
        "keyword = input('검색 키워드를 입력하세요 : ')\n",
        "query = keyword.replace(' ', '+') # 검색에서 공백문자를 +로 대체해 사용하도록 적용\n",
        "print(f'query: {query}')\n",
        "\n",
        "def get_naverNewsTitle(total=100, start_cnt=1):\n",
        "\n",
        "    # 1.웹 데이터 수집하기\n",
        "    titles, urls= [],[]     # 제목=[], url=[] 데이터담기\n",
        "    while True:\n",
        "\n",
        "        # 웹 페이지 요청하기\n",
        "        print(f'요청 query:{news_url.format(query) + str(start_cnt)} ')\n",
        "        rep = requests.get(news_url.format(query) + str(start_cnt)) # 결과값\n",
        "\n",
        "\n",
        "        # 2.응답 결과 파싱하기(제목, url 추출하기)\n",
        "        soup = BeautifulSoup(rep.text, 'html.parser')\n",
        "#         page_tags   = soup.select('ul.list_news > li > div > div > a')\n",
        "        page_tags   = soup.select('div.news_area > a') # 여기에서 정보 파싱\n",
        "        page_titles = list(map(lambda tag: tag.get('title'), page_tags))\n",
        "        page_urls   = list(map(lambda tag: tag.get('href'), page_tags))\n",
        "\n",
        "        # 목적 개수만큼 추출하기\n",
        "        if len(page_titles) <= 0:\n",
        "            break\n",
        "        elif start_cnt >= total:\n",
        "            break\n",
        "        else:\n",
        "            titles += page_titles\n",
        "            urls += page_urls\n",
        "            start_cnt += len(page_titles)\n",
        "\n",
        "        # 데이터 수집 진행률 표시\n",
        "        print(f\"{int( start_cnt-1/total*100 ) }% \", end=\"\")\n",
        "\n",
        "    print()\n",
        "    print(f\"검색어[{keyword}] 로 검색된 뉴스 [{len(titles)}]건 가져오기 완료!\")\n",
        "    print('-'*50)\n",
        "\n",
        "    # 3.titles, urls 2차원 리스트로 만들어 DataFrame으로 만든다.\n",
        "    datas = [[t, u] for t, u in zip(titles, urls)]\n",
        "    df = pd.DataFrame(datas, columns=['title','url'])\n",
        "    return df\n",
        "\n",
        "df = get_naverNewsTitle(10, 1)  # df=dataframe\n",
        "df\n",
        "\n",
        "# 4.파일로 저장하기\n",
        "file = f\"./sample_data/naver_news_{keyword}_title.csv\"\n",
        "news_df = df['title'] #제목만\n",
        "news_df.to_csv(file, index=False, encoding=\"utf-8-sig\")\n",
        "df"
      ]
    },
    {
      "cell_type": "markdown",
      "id": "01a2f4c0",
      "metadata": {
        "id": "01a2f4c0"
      },
      "source": [
        "### [실습] (수집된 데이터)기사 제목의 단어(토큰) 빈도수 분석하기\n",
        "- ** CountVectorizer 클래스 사용 : 단어 빈도수 추출**\n",
        "- **단, 한글에서 불용어 처리 및 가중치 처리 등 자연어 텍스트 전처리에 필요한 여러 가지 방법은 여기서 다루지 않는다.**"
      ]
    },
    {
      "cell_type": "code",
      "source": [
        "!sudo apt-get install -y fonts-nanum\n",
        "!sudo fc-cache -fv\n",
        "!rm ~/.cache/matplotlib -rf\n",
        "\n",
        "# 코랩에서 위 코드를 실행시킨 후  반드시 코랩(Colab)의 런타임을 재시작 합니다."
      ],
      "metadata": {
        "colab": {
          "base_uri": "https://localhost:8080/"
        },
        "id": "Zl6nTPpognUL",
        "outputId": "1ee848e8-622c-492e-d98f-25bcbc6dd641"
      },
      "id": "Zl6nTPpognUL",
      "execution_count": 13,
      "outputs": [
        {
          "output_type": "stream",
          "name": "stdout",
          "text": [
            "Reading package lists... Done\n",
            "Building dependency tree... Done\n",
            "Reading state information... Done\n",
            "The following NEW packages will be installed:\n",
            "  fonts-nanum\n",
            "0 upgraded, 1 newly installed, 0 to remove and 16 not upgraded.\n",
            "Need to get 10.3 MB of archives.\n",
            "After this operation, 34.1 MB of additional disk space will be used.\n",
            "Get:1 http://archive.ubuntu.com/ubuntu jammy/universe amd64 fonts-nanum all 20200506-1 [10.3 MB]\n",
            "Fetched 10.3 MB in 1s (9,494 kB/s)\n",
            "debconf: unable to initialize frontend: Dialog\n",
            "debconf: (No usable dialog-like program is installed, so the dialog based frontend cannot be used. at /usr/share/perl5/Debconf/FrontEnd/Dialog.pm line 78, <> line 1.)\n",
            "debconf: falling back to frontend: Readline\n",
            "debconf: unable to initialize frontend: Readline\n",
            "debconf: (This frontend requires a controlling tty.)\n",
            "debconf: falling back to frontend: Teletype\n",
            "dpkg-preconfigure: unable to re-open stdin: \n",
            "Selecting previously unselected package fonts-nanum.\n",
            "(Reading database ... 120831 files and directories currently installed.)\n",
            "Preparing to unpack .../fonts-nanum_20200506-1_all.deb ...\n",
            "Unpacking fonts-nanum (20200506-1) ...\n",
            "Setting up fonts-nanum (20200506-1) ...\n",
            "Processing triggers for fontconfig (2.13.1-4.2ubuntu5) ...\n",
            "/usr/share/fonts: caching, new cache contents: 0 fonts, 1 dirs\n",
            "/usr/share/fonts/truetype: caching, new cache contents: 0 fonts, 3 dirs\n",
            "/usr/share/fonts/truetype/humor-sans: caching, new cache contents: 1 fonts, 0 dirs\n",
            "/usr/share/fonts/truetype/liberation: caching, new cache contents: 16 fonts, 0 dirs\n",
            "/usr/share/fonts/truetype/nanum: caching, new cache contents: 12 fonts, 0 dirs\n",
            "/usr/local/share/fonts: caching, new cache contents: 0 fonts, 0 dirs\n",
            "/root/.local/share/fonts: skipping, no such directory\n",
            "/root/.fonts: skipping, no such directory\n",
            "/usr/share/fonts/truetype: skipping, looped directory detected\n",
            "/usr/share/fonts/truetype/humor-sans: skipping, looped directory detected\n",
            "/usr/share/fonts/truetype/liberation: skipping, looped directory detected\n",
            "/usr/share/fonts/truetype/nanum: skipping, looped directory detected\n",
            "/var/cache/fontconfig: cleaning cache directory\n",
            "/root/.cache/fontconfig: not cleaning non-existent cache directory\n",
            "/root/.fontconfig: not cleaning non-existent cache directory\n",
            "fc-cache: succeeded\n"
          ]
        }
      ]
    },
    {
      "cell_type": "code",
      "source": [
        "#[코랩용 한글]\n",
        "import matplotlib.pyplot as plt\n",
        "plt.rc('font', family='NanumBarunGothic')        # 방법1\n",
        "plt.rcParams['font.family'] = 'NanumBarunGothic' # 방법2"
      ],
      "metadata": {
        "id": "Gg3a2cUHgptB"
      },
      "id": "Gg3a2cUHgptB",
      "execution_count": 1,
      "outputs": []
    },
    {
      "cell_type": "code",
      "execution_count": 2,
      "id": "b1d8c130",
      "metadata": {
        "colab": {
          "base_uri": "https://localhost:8080/"
        },
        "id": "b1d8c130",
        "outputId": "58d1c3a1-20c8-4c58-8086-bb5c1dc06603"
      },
      "outputs": [
        {
          "output_type": "stream",
          "name": "stdout",
          "text": [
            "Requirement already satisfied: scikit-learn in /usr/local/lib/python3.10/dist-packages (1.2.2)\n",
            "Requirement already satisfied: numpy>=1.17.3 in /usr/local/lib/python3.10/dist-packages (from scikit-learn) (1.23.5)\n",
            "Requirement already satisfied: scipy>=1.3.2 in /usr/local/lib/python3.10/dist-packages (from scikit-learn) (1.10.1)\n",
            "Requirement already satisfied: joblib>=1.1.1 in /usr/local/lib/python3.10/dist-packages (from scikit-learn) (1.3.2)\n",
            "Requirement already satisfied: threadpoolctl>=2.0.0 in /usr/local/lib/python3.10/dist-packages (from scikit-learn) (3.2.0)\n"
          ]
        }
      ],
      "source": [
        "!pip install scikit-learn"
      ]
    },
    {
      "cell_type": "code",
      "execution_count": 3,
      "id": "f0d82316",
      "metadata": {
        "colab": {
          "base_uri": "https://localhost:8080/",
          "height": 35
        },
        "id": "f0d82316",
        "outputId": "fe9548a4-fe20-47f4-97e1-28a9bddfc7f7"
      },
      "outputs": [
        {
          "output_type": "execute_result",
          "data": {
            "text/plain": [
              "'1.2.2'"
            ],
            "application/vnd.google.colaboratory.intrinsic+json": {
              "type": "string"
            }
          },
          "metadata": {},
          "execution_count": 3
        }
      ],
      "source": [
        "import sklearn\n",
        "sklearn.__version__"
      ]
    },
    {
      "cell_type": "code",
      "execution_count": 4,
      "id": "b1cca190",
      "metadata": {
        "scrolled": true,
        "colab": {
          "base_uri": "https://localhost:8080/",
          "height": 258
        },
        "id": "b1cca190",
        "outputId": "74774b70-538b-4e6c-94c1-da80f11cdab2"
      },
      "outputs": [
        {
          "output_type": "error",
          "ename": "NameError",
          "evalue": "ignored",
          "traceback": [
            "\u001b[0;31m---------------------------------------------------------------------------\u001b[0m",
            "\u001b[0;31mNameError\u001b[0m                                 Traceback (most recent call last)",
            "\u001b[0;32m<ipython-input-4-a8cf13729c36>\u001b[0m in \u001b[0;36m<cell line: 34>\u001b[0;34m()\u001b[0m\n\u001b[1;32m     32\u001b[0m \u001b[0;34m\u001b[0m\u001b[0m\n\u001b[1;32m     33\u001b[0m \u001b[0;31m# 기사제목을 <<말뭉치>>로 사용\u001b[0m\u001b[0;34m\u001b[0m\u001b[0;34m\u001b[0m\u001b[0m\n\u001b[0;32m---> 34\u001b[0;31m \u001b[0mcorpus\u001b[0m \u001b[0;34m=\u001b[0m \u001b[0mdf\u001b[0m\u001b[0;34m[\u001b[0m\u001b[0;34m'title'\u001b[0m\u001b[0;34m]\u001b[0m\u001b[0;34m.\u001b[0m\u001b[0mto_list\u001b[0m\u001b[0;34m(\u001b[0m\u001b[0;34m)\u001b[0m\u001b[0;34m\u001b[0m\u001b[0;34m\u001b[0m\u001b[0m\n\u001b[0m\u001b[1;32m     35\u001b[0m \u001b[0;31m# print(corpus)\u001b[0m\u001b[0;34m\u001b[0m\u001b[0;34m\u001b[0m\u001b[0m\n\u001b[1;32m     36\u001b[0m \u001b[0;34m\u001b[0m\u001b[0m\n",
            "\u001b[0;31mNameError\u001b[0m: name 'df' is not defined"
          ]
        }
      ],
      "source": [
        "import numpy as np\n",
        "import matplotlib.pyplot as plt\n",
        "plt.rcParams['font.family'] = 'NanumBarunGothic'\n",
        "\n",
        "\n",
        "def get_wordTokenCount(corpus):\n",
        "    from sklearn.feature_extraction.text import CountVectorizer\n",
        "\n",
        "    # 기사제목을 토큰화\n",
        "    vect = CountVectorizer().fit(corpus)\n",
        "    count = vect.transform(corpus).toarray().sum(axis=0)\n",
        "\n",
        "    # 토큰 빈도수로 정렬하고 토큰명 추출\n",
        "    idx = np.argsort(-count)  # 내림 정렬하여 인덱스 반환: 토큰의 인덱스\n",
        "    count = count[idx]        # 토큰의 빈도수\n",
        "    feature_name = np.array(vect.get_feature_names_out())[idx]  # 토큰값\n",
        "\n",
        "    # 빈도수 많은 순서대로 토큰명 10개만 출력\n",
        "    print(list(zip(feature_name, count))[:10])\n",
        "\n",
        "    return feature_name, count\n",
        "\n",
        "\n",
        "def draw_wordTokenCountGraph(data, freq):\n",
        "    plt.bar(data, freq)\n",
        "    plt.grid()\n",
        "    plt.show()\n",
        "\n",
        "    # 그래프 그림 저장히기\n",
        "    plt.savefig(f'image/{keyword}_bar_graph.png')\n",
        "\n",
        "\n",
        "# 기사제목을 <<말뭉치>>로 사용\n",
        "corpus = df['title'].to_list()\n",
        "# print(corpus)\n",
        "\n",
        "# 기사제목을 토큰화하여 빈도수 가져오기\n",
        "feature_name, count = get_wordTokenCount(corpus)\n",
        "\n",
        "# 단어(토큰) 빈도 수_Bar그래프 그리기 : 상위 10개\n",
        "draw_wordTokenCountGraph(feature_name[:10], count[:10])\n"
      ]
    },
    {
      "cell_type": "markdown",
      "id": "9efc23f7",
      "metadata": {
        "id": "9efc23f7"
      },
      "source": [
        "### [실습] (수집된 데이터)기사 제목의 토큰 빈도수 워드클라우드로 시각화\n",
        "- 워드클라우드 입력데이터 : 딕셔너리 타입"
      ]
    },
    {
      "cell_type": "code",
      "execution_count": null,
      "id": "0bd2bb37",
      "metadata": {
        "scrolled": true,
        "id": "0bd2bb37"
      },
      "outputs": [],
      "source": [
        "from wordcloud import WordCloud\n",
        "import matplotlib.pyplot as plt\n",
        "plt.rcParams['figure.figsize'] = (10,6)\n",
        "\n",
        "# 자신의 컴퓨터 환경에 맞는 한글 폰트 경로를 설정(window에서)\n",
        "# font_path = 'malgun'  # C:/Windows/Fonts/\n",
        "font_path = 'HMKMMAG' # C:/Windows/Fonts/HMKMMAG.TTF\n",
        "\n",
        "# (토큰명, 빈도수) 딕셔너리 타입으로 변환\n",
        "data = dict(zip(feature_name, count))\n",
        "\n",
        "# 워드클라우드로 그래프로 시각화\n",
        "wc = WordCloud(width = 1000, height = 600, background_color=\"white\", font_path=font_path)\n",
        "plt.imshow(wc.generate_from_frequencies(data)) #딕셔너리\n",
        "plt.axis(\"off\")\n",
        "plt.show()\n",
        "\n",
        "# 파일로 저장하기\n",
        "wc.to_file(f'image/{keyword}_워드클라우드.png')"
      ]
    },
    {
      "cell_type": "markdown",
      "id": "4ed157a1",
      "metadata": {
        "id": "4ed157a1"
      },
      "source": [
        "### [실습] (수집된 데이터)기사 제목의 토큰 빈도수 출력하기"
      ]
    },
    {
      "cell_type": "code",
      "execution_count": null,
      "id": "06bd2351",
      "metadata": {
        "scrolled": true,
        "id": "06bd2351"
      },
      "outputs": [],
      "source": [
        "data = dict(zip(feature_name, count))\n",
        "token_df = pd.DataFrame(data, index=[1])\n",
        "token_df\n",
        "\n",
        "# token_df.to_csv('data/token.csv', index=False, encoding=\"utf-8-sig\")"
      ]
    },
    {
      "cell_type": "markdown",
      "id": "66062103",
      "metadata": {
        "id": "66062103"
      },
      "source": [
        "-----"
      ]
    },
    {
      "cell_type": "markdown",
      "id": "9056f1dd",
      "metadata": {
        "id": "9056f1dd"
      },
      "source": [
        "## 03.동적 크롤링(PC에서 실행)"
      ]
    },
    {
      "cell_type": "markdown",
      "id": "89787e7c",
      "metadata": {
        "id": "89787e7c"
      },
      "source": [
        "- https://chromedriver.chromium.org/\n",
        "- 최신 chrome webdriver 다운로드\n",
        "- 해당 위치에 WebDriver폴더 만들고 exe파일 옮겨놓는다.\n",
        "-  (C:/python/projectmanager/WebDriver/chromedriver.exe)\n",
        "- 자신의 크롬 웹 브라우저의 버전을 확인하고 버전에 맞는 것을 다운로드해야한다."
      ]
    },
    {
      "cell_type": "markdown",
      "id": "ebe44ce3",
      "metadata": {
        "id": "ebe44ce3"
      },
      "source": [
        "#### # webdriver 동작 테스트하기\n",
        "- 자신의 크롬 웹 브라우저의 버전을 확인하고 버전에 맞는 것을 다운로드해야한다. 그렇지 않으면 오류가 발생한다.\n",
        "- 아래 코드를 실행시키면 크롬 브라우져가 잠깐 실행되었다 닫힌다."
      ]
    },
    {
      "cell_type": "code",
      "execution_count": null,
      "id": "4ec97e54",
      "metadata": {
        "id": "4ec97e54"
      },
      "outputs": [],
      "source": [
        "from selenium import webdriver\n",
        "\n",
        "# chromedriver.exe 파일이 있는 경로\n",
        "driver = './WebDriver/chromedriver.exe'\n",
        "wd = webdriver.Chrome(driver)\n",
        "\n",
        "wd.get('https://www.naver.com/')\n",
        "\n",
        "wd.close()  # 브라우저가 실행되었다가 자동으로 닫힌다."
      ]
    },
    {
      "cell_type": "markdown",
      "id": "8e47078f",
      "metadata": {
        "id": "8e47078f"
      },
      "source": [
        "### [실습]  커피빈매장 정보 크롤링하여 파일로 저장하기"
      ]
    },
    {
      "cell_type": "markdown",
      "id": "fabdfa25",
      "metadata": {
        "id": "fabdfa25"
      },
      "source": [
        "- 아래 사이트를 이용해 호출해야할 자바스크립트 함수를 확인하다.\n",
        "- https://www.coffeebeankorea.com\n",
        "- https://www.coffeebeankorea.com/store/store.asp\n",
        "- (매장 번호로) 자세히보기: javascript:storePop2('374');"
      ]
    },
    {
      "cell_type": "code",
      "execution_count": null,
      "id": "3426db71",
      "metadata": {
        "scrolled": true,
        "id": "3426db71"
      },
      "outputs": [],
      "source": [
        "from bs4 import BeautifulSoup\n",
        "import urllib.request\n",
        "import pandas as pd\n",
        "import datetime\n",
        "\n",
        "from selenium import webdriver\n",
        "import time\n",
        "\n",
        "MAX = 10     # 추출 데이터 건수\n",
        "\n",
        "#[매장 추출 함수]\n",
        "def getStoreInfo():\n",
        "    CoffeeBean_URL = \"https://www.coffeebeankorea.com/store/store.asp\"\n",
        "    wd = webdriver.Chrome('./WebDriver/chromedriver.exe')\n",
        "\n",
        "    result = []  # 데이터 저장 변수\n",
        "    total, cnt = 370, 0\n",
        "    for i in range(1, total+1):  #매장 수 만큼(370) 반복\n",
        "        wd.get(CoffeeBean_URL)\n",
        "        time.sleep(1)  #웹페이지 연결할 동안 1초 대기\n",
        "        try:\n",
        "            wd.execute_script(\"storePop2(%d)\" %i)\n",
        "            time.sleep(1) #스크립트 실행 할 동안 1초 대기\n",
        "\n",
        "            html = wd.page_source\n",
        "            soupCB = BeautifulSoup(html, 'html.parser')\n",
        "            store_name_h2 = soupCB.select(\"div.store_txt > h2\")\n",
        "            store_name = store_name_h2[0].string  #매장 이름\n",
        "\n",
        "            store_info = soupCB.select(\"div.store_txt > table.store_table > tbody > tr > td\")\n",
        "            store_address_list = list(store_info[2])\n",
        "            store_address = store_address_list[0]  #매장 주소\n",
        "\n",
        "            store_phone = store_info[3].string     #매장 전화번호\n",
        "            result.append([store_name]+[store_address]+[store_phone])\n",
        "            cnt += 1\n",
        "            # 매장정보 가져온 데이터 출력하기\n",
        "            print(\"[%3d] %3d - %s\" % (cnt, i, store_name))\n",
        "\n",
        "\n",
        "             # MAX값에 해당하는 건수 만큼만 실행하기\n",
        "            if cnt >= MAX:\n",
        "                break\n",
        "\n",
        "        except:\n",
        "            continue\n",
        "\n",
        "    return result\n",
        "\n",
        "#---------------\n",
        "# main\n",
        "#---------------\n",
        "print('CoffeeBean store crawling >>>>>>>>>>>>>>>>>>>>>>>>>>')\n",
        "result = getStoreInfo()  #[매장 추출 함수]호출하기\n",
        "\n",
        "df_cb = pd.DataFrame(result, columns=('store', 'address','phone'))\n",
        "df_cb.head()"
      ]
    },
    {
      "cell_type": "code",
      "execution_count": null,
      "id": "c4813953",
      "metadata": {
        "scrolled": true,
        "id": "c4813953"
      },
      "outputs": [],
      "source": [
        "# 파일로 저장하기\n",
        "file = './data/CoffeeBean_매장정보.csv'\n",
        "df_cb.to_csv(file, encoding='cp949', mode='w', index=False)\n",
        "\n",
        "df = pd.read_csv(file, encoding='cp949')\n",
        "df.head()"
      ]
    },
    {
      "cell_type": "markdown",
      "id": "02b76444",
      "metadata": {
        "id": "02b76444"
      },
      "source": [
        "--------------"
      ]
    },
    {
      "cell_type": "markdown",
      "id": "7bdcd155",
      "metadata": {
        "id": "7bdcd155"
      },
      "source": [
        "끝"
      ]
    }
  ],
  "metadata": {
    "kernelspec": {
      "display_name": "Python 3 (ipykernel)",
      "language": "python",
      "name": "python3"
    },
    "language_info": {
      "codemirror_mode": {
        "name": "ipython",
        "version": 3
      },
      "file_extension": ".py",
      "mimetype": "text/x-python",
      "name": "python",
      "nbconvert_exporter": "python",
      "pygments_lexer": "ipython3",
      "version": "3.10.9"
    },
    "colab": {
      "provenance": [],
      "include_colab_link": true
    }
  },
  "nbformat": 4,
  "nbformat_minor": 5
}