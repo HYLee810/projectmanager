{
  "cells": [
    {
      "cell_type": "markdown",
      "metadata": {
        "id": "view-in-github",
        "colab_type": "text"
      },
      "source": [
        "<a href=\"https://colab.research.google.com/github/HYLee810/projectmanager/blob/main/1_%ED%8C%8C%EC%9D%B4%EC%8D%AC%EA%B8%B0%EC%B4%88_02_%EC%9E%90%EB%A3%8C%ED%98%95%EA%B3%BC%EB%8D%B0%EC%9D%B4%ED%84%B0%ED%91%9C%ED%98%84_%EB%B0%B0%ED%8F%AC.ipynb\" target=\"_parent\"><img src=\"https://colab.research.google.com/assets/colab-badge.svg\" alt=\"Open In Colab\"/></a>"
      ]
    },
    {
      "cell_type": "markdown",
      "id": "8daf7079",
      "metadata": {
        "id": "8daf7079"
      },
      "source": [
        "# 파이썬 기초 다지기"
      ]
    },
    {
      "cell_type": "markdown",
      "id": "3f3da3bd",
      "metadata": {
        "id": "3f3da3bd"
      },
      "source": [
        "## 2 - 파이썬 자료형과 데이터 표현\n",
        "파이썬의 다양한 데이터 타입과 다양한 연산자, 문자열"
      ]
    },
    {
      "cell_type": "markdown",
      "id": "0c52a67e",
      "metadata": {
        "id": "0c52a67e"
      },
      "source": [
        "----------------------------------"
      ]
    },
    {
      "cell_type": "markdown",
      "id": "1ff36611",
      "metadata": {
        "id": "1ff36611"
      },
      "source": [
        "## 2-1.파이썬 자료형(Data Type)"
      ]
    },
    {
      "cell_type": "markdown",
      "id": "278fb39c",
      "metadata": {
        "id": "278fb39c"
      },
      "source": [
        "### 수학 연산하기"
      ]
    },
    {
      "cell_type": "code",
      "execution_count": null,
      "id": "7ea3146f",
      "metadata": {
        "colab": {
          "base_uri": "https://localhost:8080/"
        },
        "id": "7ea3146f",
        "outputId": "cde25d46-3575-411f-99f0-ca1c05cfa494"
      },
      "outputs": [
        {
          "output_type": "stream",
          "name": "stdout",
          "text": [
            "30\n",
            "10\n"
          ]
        }
      ],
      "source": [
        "print(20+10)\n",
        "print(20-10)"
      ]
    },
    {
      "cell_type": "markdown",
      "id": "105f773c",
      "metadata": {
        "id": "105f773c"
      },
      "source": [
        "### [실습문제]\n",
        "- 문제1: 10 + 3 x 4 결과 출력\n",
        "- 문제2: 아이폰 15대를 가지고 있다. 아이폰의 가격이 130만원 일 때 총 금액은?\n",
        "- 문제3: 주어진 자연수가 홀수인지 짝수인지 판별하는 방법은?\n",
        "- 문제4: 2x2x2x5x5x5x5x3x3x3x3을 제곱형태로 나타낸 후 그 결과 출력하기"
      ]
    },
    {
      "cell_type": "code",
      "execution_count": null,
      "id": "7a853d89",
      "metadata": {
        "colab": {
          "base_uri": "https://localhost:8080/"
        },
        "id": "7a853d89",
        "outputId": "f0c795ed-e879-4889-e8da-dc487b2338ee"
      },
      "outputs": [
        {
          "output_type": "stream",
          "name": "stdout",
          "text": [
            "22\n",
            "1950\n"
          ]
        }
      ],
      "source": [
        "\n",
        "print(10+3*4)\n",
        "a=15 #아이폰 수량\n",
        "b=130 #아이폰 가격\n",
        "print(a*b)\n",
        "\n"
      ]
    },
    {
      "cell_type": "code",
      "source": [
        "a=int(input('짝/홀 판별: '))\n",
        "if a%2 == 0:\n",
        "   print('짝')\n",
        "else :\n",
        "   print('홀')"
      ],
      "metadata": {
        "colab": {
          "base_uri": "https://localhost:8080/"
        },
        "id": "TBLbsRdwHYcr",
        "outputId": "43053ffb-fbd4-47e8-96b6-3d0a731dcb8c"
      },
      "id": "TBLbsRdwHYcr",
      "execution_count": null,
      "outputs": [
        {
          "output_type": "stream",
          "name": "stdout",
          "text": [
            "짝/홀 판별: 4\n",
            "짝\n"
          ]
        }
      ]
    },
    {
      "cell_type": "code",
      "source": [
        "print((2**3)*(5**4)*(3**4))"
      ],
      "metadata": {
        "colab": {
          "base_uri": "https://localhost:8080/"
        },
        "id": "pGn6xKSGJTND",
        "outputId": "671e27ee-8ef5-4881-b07f-afc38aca6e1a"
      },
      "id": "pGn6xKSGJTND",
      "execution_count": null,
      "outputs": [
        {
          "output_type": "stream",
          "name": "stdout",
          "text": [
            "405000\n"
          ]
        }
      ]
    },
    {
      "cell_type": "code",
      "source": [
        "# 문제1: 10 + 3 x 4 결과 출력\n",
        "print('10 + 3 x 4 =', 10 + 3 * 4)\n",
        "\n",
        "# 문제2: 아이폰 15대를 가지고 있다. 아이폰의 가격이 130만원 일 때 총 금액은?\n",
        "iphone = 15\n",
        "price = 1300000\n",
        "print('%d x %d= %d' % (iphone, price, iphone * price))\n",
        "print(f'{iphone:>10}*{price}={iphone*price}')\n",
        "\n",
        "# 문제3: 주어진 자연수가 홀수인지 짝수인지 판별하는 방법은?\n",
        "import random\n",
        "number = random.randint(1, 100)  # 1~100까지의 임의의 정수\n",
        "if number%2==0 :   # number를 2로 나눠서 나머지가 0인 것: 짝수\n",
        "    print(number, '짝수')\n",
        "else:\n",
        "    print(number, '홀수')\n",
        "\n",
        "# 문제4: 2x2x2x5x5x5x5x3x3x3x3을 제곱형태로 나타낸 후 그 결과 출력하기\n",
        "print('2x2x2x5x5x5x5x3x3x3x3=', 2*2*2*5*5*5*5*3*3*3*3)\n",
        "print('2x2x2x5x5x5x5x3x3x3x3=', 2**3 * 5**4 * 3**4)"
      ],
      "metadata": {
        "colab": {
          "base_uri": "https://localhost:8080/"
        },
        "id": "4g9YybzvK5GR",
        "outputId": "507a55f2-3643-498d-bc5f-8fbdbb868ce2"
      },
      "id": "4g9YybzvK5GR",
      "execution_count": null,
      "outputs": [
        {
          "output_type": "stream",
          "name": "stdout",
          "text": [
            "10 + 3 x 4 = 22\n",
            "15 x 1300000= 19500000\n",
            "        15*1300000=19500000\n",
            "21 홀수\n",
            "2x2x2x5x5x5x5x3x3x3x3= 405000\n",
            "2x2x2x5x5x5x5x3x3x3x3= 405000\n"
          ]
        }
      ]
    },
    {
      "cell_type": "markdown",
      "id": "65487a5c",
      "metadata": {
        "id": "65487a5c"
      },
      "source": [
        "### 변수\n",
        "데이터를 저장할 수 있는 공간\n",
        "\n",
        "**변수 사용 시 주의사항**\n",
        "- 첫 글자는 영문, 혹은 _(언더바)로 시작할 것 (한글도 가능)\n",
        "- 영문자, 숫자, _(언더바)만으로 구성할 것 (공백문자 불가)\n",
        "- 대문자, 소문자 구분해서 사용할 것\n",
        "- 예약어는 피할 것"
      ]
    },
    {
      "cell_type": "code",
      "execution_count": null,
      "id": "c86ab944",
      "metadata": {
        "id": "c86ab944"
      },
      "outputs": [],
      "source": []
    },
    {
      "cell_type": "markdown",
      "id": "6b43e39d",
      "metadata": {
        "id": "6b43e39d"
      },
      "source": [
        "### 파이썬 자료형"
      ]
    },
    {
      "cell_type": "code",
      "execution_count": null,
      "id": "bdcd0ef1",
      "metadata": {
        "id": "bdcd0ef1"
      },
      "outputs": [],
      "source": [
        "d1 = 123\n",
        "d2 = '123'\n",
        "d3 = [123]\n",
        "d4 = (123,)\n",
        "d5 = {'key':123}\n",
        "d6 = {123}\n",
        "d7 = True\n",
        "\n",
        "print(f'데이터 {d1}의 자료형: {type(d1)}')\n",
        "print(f'데이터 {d2}의 자료형: {type(d2)}')\n",
        "print(f'데이터 {d3}의 자료형: {type(d3)}')\n",
        "print(f'데이터 {d4}의 자료형: {type(d4)}')\n",
        "print(f'데이터 {d5}의 자료형: {type(d5)}')\n",
        "print(f'데이터 {d6}의 자료형: {type(d6)}')\n",
        "print(f'데이터 {d7}의 자료형: {type(d7)}')"
      ]
    },
    {
      "cell_type": "markdown",
      "id": "7cda86df",
      "metadata": {
        "id": "7cda86df"
      },
      "source": [
        "### 표준 입력과 출력\n",
        "- 키보드로부터 입력을 받는 함수( input() )을 표준 입력함수라 한다.\n",
        "- 화면에 출력하는 함수( print() )를 표준 출력함수라 한다."
      ]
    },
    {
      "cell_type": "code",
      "execution_count": null,
      "id": "00ff5c37",
      "metadata": {
        "colab": {
          "base_uri": "https://localhost:8080/"
        },
        "id": "00ff5c37",
        "outputId": "57081a88-c3ee-48d1-a467-e7240037e43b"
      },
      "outputs": [
        {
          "output_type": "stream",
          "name": "stdout",
          "text": [
            "숫자를 입력하세요: 4\n",
            "변수 a의 값:4, <class 'int'>\n"
          ]
        }
      ],
      "source": [
        "# 표준 입력(키보드로부터 데이터를 입력 받는 것)\n",
        "# a=flot(a) 실수로 지정\n",
        "a=int(input('숫자를 입력하세요: '))\n",
        "\n",
        "# 표준 출력\n",
        "\n",
        "print(f'변수 a의 값:{a}, {type(a)}')"
      ]
    },
    {
      "cell_type": "markdown",
      "id": "18bc822a",
      "metadata": {
        "id": "18bc822a"
      },
      "source": [
        "#### 문자열 데이터를 숫자(정수)로 변환하기"
      ]
    },
    {
      "cell_type": "code",
      "execution_count": null,
      "id": "aaf9890f",
      "metadata": {
        "id": "aaf9890f"
      },
      "outputs": [],
      "source": [
        "# 문자열 데이터를 숫자(정수)로 변환하기\n",
        "\n"
      ]
    },
    {
      "cell_type": "markdown",
      "id": "c0436ecb",
      "metadata": {
        "id": "c0436ecb"
      },
      "source": [
        "#### 다양한 변수 출력 방법"
      ]
    },
    {
      "cell_type": "code",
      "execution_count": null,
      "id": "7d2e160d",
      "metadata": {
        "scrolled": true,
        "id": "7d2e160d"
      },
      "outputs": [],
      "source": [
        "a = input('키보드로 숫자를 입력해 주세요 ')\n",
        "\n",
        "print()"
      ]
    },
    {
      "cell_type": "markdown",
      "id": "7ea5c22e",
      "metadata": {
        "id": "7ea5c22e"
      },
      "source": [
        "### [실습문제] : 계산기 프로그램 만들기\n",
        "정수 2개를 키보드로 각각 입력 받아 아래와 같이 덧셈, 뺄셈, 곱셈, 몫, 나머지를\n",
        "\n",
        "\n",
        "출력하는 프로그램을 만들어 보세요.\n"
      ]
    },
    {
      "cell_type": "code",
      "execution_count": null,
      "id": "fa128ef7",
      "metadata": {
        "colab": {
          "base_uri": "https://localhost:8080/"
        },
        "id": "fa128ef7",
        "outputId": "1c0e2e59-e1e6-4264-fc79-9b804726d626"
      },
      "outputs": [
        {
          "output_type": "stream",
          "name": "stdout",
          "text": [
            "첫번째 숫자:10\n",
            "두번째 숫자:2\n",
            "--------------------------------------------------\n",
            "덧셈:10+2=12\n",
            "뺄셈:10+2=8\n",
            "곱셈:10+2=20\n",
            "나눗셈 몫:10/2:5\n",
            "나눗셈 나머지:10/2:0\n",
            "나눗셈:10/2=5.000000\n",
            "덧셈:10+2=12\n",
            "뺄셈:10+2=8\n",
            "곱셈:10+2=20\n",
            "나눗셈 몫:10/2:5\n",
            "나눗셈 나머지:10/2:0\n",
            "나눗셈:10/2=5.0\n"
          ]
        }
      ],
      "source": [
        "\n",
        "a=int(input('첫번째 숫자:'))\n",
        "b=int(input('두번째 숫자:'))\n",
        "print('-'*50) # *는 문자여 반복\n",
        "print('덧셈:%d+%d=%d'%(a,b,a+b))\n",
        "print('뺄셈:%d+%d=%d'%(a,b,a-b))\n",
        "print('곱셈:%d+%d=%d'%(a,b,a*b))\n",
        "print('나눗셈 몫:%d/%d:%d'%(a,b,a//b))\n",
        "print('나눗셈 나머지:%d/%d:%d'%(a,b,a%b))\n",
        "print('나눗셈:%d/%d=%f'%(a,b,a/b))\n",
        "\n",
        "print(f'덧셈:{a}+{b}={a+b}')\n",
        "print(f'뺄셈:{a}+{b}={a-b}')\n",
        "print(f'곱셈:{a}+{b}={a*b}')\n",
        "print(f'나눗셈 몫:{a}/{b}:{a//b}')\n",
        "print(f'나눗셈 나머지:{a}/{b}:{a%b}')\n",
        "print(f'나눗셈:{a}/{b}={a/b}')"
      ]
    },
    {
      "cell_type": "markdown",
      "id": "ca1816b6",
      "metadata": {
        "id": "ca1816b6"
      },
      "source": [
        "- f'string' 함수를 이용해 출력하기"
      ]
    },
    {
      "cell_type": "code",
      "execution_count": null,
      "id": "8b486e15",
      "metadata": {
        "id": "8b486e15"
      },
      "outputs": [],
      "source": [
        "\n",
        "\n"
      ]
    },
    {
      "cell_type": "markdown",
      "id": "157b41ef",
      "metadata": {
        "id": "157b41ef"
      },
      "source": [
        "### [실습문제] : 시간 계산 프로그램\n",
        "속력과 거리를 입력 받아 시간을 계산하여 출력하는 프로그램을 만드세요!\n",
        "- 시간 = 거리 / 속력"
      ]
    },
    {
      "cell_type": "code",
      "execution_count": null,
      "id": "93102e01",
      "metadata": {
        "colab": {
          "base_uri": "https://localhost:8080/"
        },
        "id": "93102e01",
        "outputId": "86643b16-9e59-4d3c-85fe-7d659422ae2b"
      },
      "outputs": [
        {
          "output_type": "stream",
          "name": "stdout",
          "text": [
            "속력를 입력해 주세요(km/h) : 100\n",
            "거리를 입력해 주세요(km) : 340\n",
            "--------------------------------------------------\n",
            "속력:100 km/h\n",
            "거리:340 km\n",
            "시간:3.400000 h\n"
          ]
        }
      ],
      "source": [
        "v = float(input('속력를 입력해 주세요(km/h) : '))\n",
        "d = float(input('거리를 입력해 주세요(km) : '))\n",
        "\n",
        "print('-'*50)\n",
        "print('속력:%d km/h'%v)\n",
        "print('거리:%d km'%d)\n",
        "print('시간:%f h'%(d/v))\n",
        "\n"
      ]
    },
    {
      "cell_type": "code",
      "source": [
        "velocity = int( input('속력를 입력해 주세요(km/h) : '))\n",
        "distance = int( input('거리를 입력해 주세요(km) : '))\n",
        "print(f'속력: {velocity}km/h')\n",
        "print(f'거리: {distance}km')\n",
        "print(f'시간: {distance/velocity}h')"
      ],
      "metadata": {
        "colab": {
          "base_uri": "https://localhost:8080/"
        },
        "id": "8rMuR9tcbz3T",
        "outputId": "4358b4d4-f0f3-43ae-f9c7-2ca3bd71a776"
      },
      "id": "8rMuR9tcbz3T",
      "execution_count": null,
      "outputs": [
        {
          "output_type": "stream",
          "name": "stdout",
          "text": [
            "속력를 입력해 주세요(km/h) : 100\n",
            "거리를 입력해 주세요(km) : 340\n",
            "속력: 100km/h\n",
            "거리: 340km\n",
            "시간: 3.4h\n"
          ]
        }
      ]
    },
    {
      "cell_type": "markdown",
      "id": "89f48168",
      "metadata": {
        "id": "89f48168"
      },
      "source": [
        "- eval()함수 사용하여 문자열을 계산할 수 있다"
      ]
    },
    {
      "cell_type": "code",
      "execution_count": null,
      "id": "39dab77c",
      "metadata": {
        "colab": {
          "base_uri": "https://localhost:8080/"
        },
        "id": "39dab77c",
        "outputId": "e9e310f1-5c7f-4521-fd88-057a6f8a033e"
      },
      "outputs": [
        {
          "output_type": "stream",
          "name": "stdout",
          "text": [
            "속력를 입력해 주세요(km/h) : 100\n",
            "거리를 입력해 주세요(km) : 340\n",
            "걸린 시간은3.4h=340km/100km/h\n"
          ]
        }
      ],
      "source": [
        "# eval()함수 사용\n",
        "\n",
        "velocity = int( input('속력를 입력해 주세요(km/h) : '))\n",
        "distance = int( input('거리를 입력해 주세요(km) : '))\n",
        "time=eval(f'{distance}/{velocity}')\n",
        "print(f'걸린 시간은{time}h={distance}km/{velocity}km/h')"
      ]
    },
    {
      "cell_type": "markdown",
      "id": "85b8c542",
      "metadata": {
        "id": "85b8c542"
      },
      "source": [
        "### 내장 수학 함수\n",
        "- 파이썬 내장 함수 https://docs.python.org/ko/3.10/library/functions.html"
      ]
    },
    {
      "cell_type": "code",
      "execution_count": null,
      "id": "2bfba8be",
      "metadata": {
        "scrolled": true,
        "colab": {
          "base_uri": "https://localhost:8080/"
        },
        "id": "2bfba8be",
        "outputId": "b9fa24b0-e57d-400a-cd7c-77133e16c1d8"
      },
      "outputs": [
        {
          "output_type": "stream",
          "name": "stdout",
          "text": [
            "원주율: 3.141592653589793\n",
            "절대값: 3.14\n",
            "반올림: -3\n",
            "올림  : -3\n",
            "내림  : -4\n",
            "제곱  : 256.0\n",
            "제곱근: 2.0\n",
            "로그  : 2.302585092994046\n"
          ]
        }
      ],
      "source": [
        "import math\n",
        "a=-3.14\n",
        "\n",
        "print(f'원주율: {math.pi}')\n",
        "print(f'절대값: {abs(a)}')\n",
        "print(f'반올림: {round(a)}')\n",
        "print(f'올림  : {math.ceil(a)}')\n",
        "print(f'내림  : {math.floor(a)}')\n",
        "print(f'제곱  : {math.pow(2,8)}')\n",
        "print(f'제곱근: {math.sqrt(4) }')\n",
        "print(f'로그  : {math.log(10)}')"
      ]
    },
    {
      "cell_type": "markdown",
      "id": "c8147e87",
      "metadata": {
        "id": "c8147e87"
      },
      "source": [
        "### [실습문제]: 수학 함수 사용하여 계산하기\n",
        "- 문제1: 반지름이 4인 원의 넓이 출력\n",
        "- 문제2: 3.14 곱하가 2 나누기 7의 값을 반올림하여 계산 결과 출력\n",
        "- 문제3: 원주율을 3.14로 만들어서 반지름이 4인 원의 둘레의 길이 출력"
      ]
    },
    {
      "cell_type": "code",
      "execution_count": null,
      "id": "45ed86c9",
      "metadata": {
        "colab": {
          "base_uri": "https://localhost:8080/"
        },
        "id": "45ed86c9",
        "outputId": "7bc8df1f-f936-4575-dccc-53d4db79d14c"
      },
      "outputs": [
        {
          "output_type": "stream",
          "name": "stdout",
          "text": [
            "원의 넓이는:50.24m2\n",
            "1\n",
            "원의 둘레는:25.12m\n"
          ]
        }
      ],
      "source": [
        "r=4\n",
        "#문제1\n",
        "print(f'원의 넓이는:{3.14*r*r}m2')\n",
        "#문제2\n",
        "print(f'{round(3.14*2/7)}')\n",
        "#문제3\n",
        "print(f'원의 둘레는:{3.14*r*2}m')"
      ]
    },
    {
      "cell_type": "markdown",
      "id": "32f4b4ce",
      "metadata": {
        "id": "32f4b4ce"
      },
      "source": [
        "---------------------------"
      ]
    },
    {
      "cell_type": "code",
      "source": [
        "print(\"%d %5d %05d\"%(123,123,123))\n",
        "print(\"{0:d} {1:5d} {2:05d}\".format(123,123,123))\n",
        "print(f'{123} {123:>5} {123:0>5}')\n"
      ],
      "metadata": {
        "colab": {
          "base_uri": "https://localhost:8080/"
        },
        "id": "nUbsrgB_iirT",
        "outputId": "2a6a1c24-fe94-4c93-eb7a-0d54529335a5"
      },
      "id": "nUbsrgB_iirT",
      "execution_count": null,
      "outputs": [
        {
          "output_type": "stream",
          "name": "stdout",
          "text": [
            "123   123 00123\n",
            "123   123 00123\n",
            "123   123 00123\n"
          ]
        }
      ]
    },
    {
      "cell_type": "code",
      "source": [
        "a=int(input())\n",
        "print(f'정수를 입력하세요:{a}')\n",
        "print(f'{a}+{11*a}+{111+a}={123*a}')"
      ],
      "metadata": {
        "colab": {
          "base_uri": "https://localhost:8080/"
        },
        "id": "tWsybDg_kGQg",
        "outputId": "e9d9b383-0671-496f-9713-808a1a201bab"
      },
      "id": "tWsybDg_kGQg",
      "execution_count": null,
      "outputs": [
        {
          "output_type": "stream",
          "name": "stdout",
          "text": [
            "7\n",
            "정수를 입력하세요:7\n",
            "7+77+118=861\n"
          ]
        }
      ]
    },
    {
      "cell_type": "code",
      "source": [
        "a = input('정수를 입력하세요: ')\n",
        "result = f\"{a}+{a*2}+{a*3}\"\n",
        "print(f'{result} = {eval(result)}')\n"
      ],
      "metadata": {
        "colab": {
          "base_uri": "https://localhost:8080/"
        },
        "id": "BiyLYWvkohv-",
        "outputId": "5b71b88c-a8b9-4f45-f0d7-b73c60c150ce"
      },
      "id": "BiyLYWvkohv-",
      "execution_count": null,
      "outputs": [
        {
          "output_type": "stream",
          "name": "stdout",
          "text": [
            "정수를 입력하세요: 7\n",
            "7+77+777 = 861\n"
          ]
        }
      ]
    },
    {
      "cell_type": "markdown",
      "id": "12be6789",
      "metadata": {
        "id": "12be6789"
      },
      "source": [
        "## 2-2.문자와 문자열"
      ]
    },
    {
      "cell_type": "markdown",
      "id": "90255097",
      "metadata": {
        "id": "90255097"
      },
      "source": [
        "#### 문자와 문자열 변환"
      ]
    },
    {
      "cell_type": "code",
      "execution_count": null,
      "id": "a52f17d8",
      "metadata": {
        "id": "a52f17d8",
        "colab": {
          "base_uri": "https://localhost:8080/"
        },
        "outputId": "44d787aa-fe8c-43a2-cfb8-047533059dd7"
      },
      "outputs": [
        {
          "output_type": "stream",
          "name": "stdout",
          "text": [
            "65\n",
            "97\n",
            "33\n",
            "44032\n"
          ]
        }
      ],
      "source": [
        "# 문자 --> 숫자(정수) 로 변환 : ord() 함수 사용\n",
        "print( ord('A') )\n",
        "print( ord('a') )\n",
        "print( ord('!') )\n",
        "print( ord('가') )"
      ]
    },
    {
      "cell_type": "code",
      "execution_count": null,
      "id": "88bbb733",
      "metadata": {
        "id": "88bbb733",
        "colab": {
          "base_uri": "https://localhost:8080/"
        },
        "outputId": "326f6a5e-ced9-4d78-bd48-cadd969442c8"
      },
      "outputs": [
        {
          "output_type": "stream",
          "name": "stdout",
          "text": [
            "A\n",
            "B\n",
            "a\n",
            "b\n",
            "가\n",
            "각\n"
          ]
        }
      ],
      "source": [
        "# 숫자(정수) --> 문자 로 변환 : chr() 함수 사용\n",
        "print( chr(65) )\n",
        "print( chr(66) )\n",
        "print( chr(97) )\n",
        "print( chr(98) )\n",
        "print( chr(44032) )\n",
        "print( chr(44033) )"
      ]
    },
    {
      "cell_type": "code",
      "execution_count": null,
      "id": "1cbfb609",
      "metadata": {
        "id": "1cbfb609",
        "colab": {
          "base_uri": "https://localhost:8080/"
        },
        "outputId": "ebbbe092-abf4-4e35-ef65-aa1410116090"
      },
      "outputs": [
        {
          "output_type": "stream",
          "name": "stdout",
          "text": [
            "0b1101001100001100 0b1100011101110100 0b1100001101101100 "
          ]
        }
      ],
      "source": [
        "# 문자 --> 숫자 --> 이진수 로 변환\n",
        "for c in '파이썬':\n",
        "    숫자변환 = ord(c)              # unicode\n",
        "    이진수변환 = bin(숫자변환)     # 16진수 binarycode\n",
        "    print( 이진수변환, end = ' ')  # 한 줄로 표현하기\n"
      ]
    },
    {
      "cell_type": "code",
      "execution_count": null,
      "id": "d9577a3f",
      "metadata": {
        "id": "d9577a3f",
        "colab": {
          "base_uri": "https://localhost:8080/"
        },
        "outputId": "27ab1a78-4d09-4d41-96e8-3be4f42ba08f"
      },
      "outputs": [
        {
          "output_type": "stream",
          "name": "stdout",
          "text": [
            "1101001100001100 1100011101110100 1100001101101100 "
          ]
        }
      ],
      "source": [
        "for c in '파이썬':\n",
        "    # 이진수에서 앞'0b'를 없애기 위해 format() 함수 사용할 수 있다.\n",
        "    print( format(ord(c), 'b'), end = ' ')  # 한 줄로 표현하기"
      ]
    },
    {
      "cell_type": "markdown",
      "id": "c87a0c03",
      "metadata": {
        "id": "c87a0c03"
      },
      "source": [
        "### 문자열 따옴표로 지정"
      ]
    },
    {
      "cell_type": "markdown",
      "id": "e343167b",
      "metadata": {
        "id": "e343167b"
      },
      "source": [
        "#### 큰 따옴표  or 작은 따옴표로 지정한다"
      ]
    },
    {
      "cell_type": "code",
      "execution_count": null,
      "id": "fae54804",
      "metadata": {
        "id": "fae54804",
        "colab": {
          "base_uri": "https://localhost:8080/"
        },
        "outputId": "18b8f86b-bda9-4a36-a322-a3ff3122cfae"
      },
      "outputs": [
        {
          "output_type": "stream",
          "name": "stdout",
          "text": [
            "Hello\n",
            "Hello\n",
            "Hello 'world\n",
            "Hello \"world\n",
            " \"Yes, I can!\" \n",
            " 'Yes, I can!' \n"
          ]
        }
      ],
      "source": [
        "print('Hello')\n",
        "print(\"Hello\")\n",
        "print(\"Hello 'world\")\n",
        "print('Hello \"world')\n",
        "print(' \"Yes, I can!\" ')\n",
        "print(' \\'Yes, I can!\\' ') #\\로 같은 따옴표 쓸 수 있음"
      ]
    },
    {
      "cell_type": "markdown",
      "id": "66f9d31e",
      "metadata": {
        "id": "66f9d31e"
      },
      "source": [
        "#### 따옴표 세 개 사용 : 여러 줄로 표현할 때"
      ]
    },
    {
      "cell_type": "code",
      "execution_count": null,
      "id": "48fe4ca0",
      "metadata": {
        "id": "48fe4ca0",
        "colab": {
          "base_uri": "https://localhost:8080/"
        },
        "outputId": "ceea0226-9202-4c74-84ea-71453aa0ffe7"
      },
      "outputs": [
        {
          "output_type": "stream",
          "name": "stdout",
          "text": [
            "박씨가 소리질렀다.\n",
            "도둑이야!\n"
          ]
        }
      ],
      "source": [
        "a = '''박씨가 소리질렀다.\n",
        "도둑이야!'''\n",
        "print(a)"
      ]
    },
    {
      "cell_type": "code",
      "execution_count": null,
      "id": "b32c2a51",
      "metadata": {
        "scrolled": true,
        "id": "b32c2a51",
        "colab": {
          "base_uri": "https://localhost:8080/"
        },
        "outputId": "ed8438ac-7692-4b34-ad71-47277af6de19"
      },
      "outputs": [
        {
          "output_type": "stream",
          "name": "stdout",
          "text": [
            "OOO카페 메뉴판\n",
            "- 아메리카노:  3000원\n",
            "- 카페라테:     4000원\n",
            "- 카페모카:     5000원\n"
          ]
        }
      ],
      "source": [
        "menu = '''OOO카페 메뉴판\n",
        "- 아메리카노:  3000원\n",
        "- 카페라테:     4000원\n",
        "- 카페모카:     5000원'''\n",
        "print(a)"
      ]
    },
    {
      "cell_type": "markdown",
      "id": "fb8a7c56",
      "metadata": {
        "id": "fb8a7c56"
      },
      "source": [
        "### [실습] 주문받아 출력하기"
      ]
    },
    {
      "cell_type": "code",
      "execution_count": null,
      "id": "3a4d57f5",
      "metadata": {
        "id": "3a4d57f5",
        "colab": {
          "base_uri": "https://localhost:8080/"
        },
        "outputId": "7300ca20-2cdf-4496-d616-7dc9887d3315"
      },
      "outputs": [
        {
          "output_type": "stream",
          "name": "stdout",
          "text": [
            "주문하실 음료를 입력하세요:\n",
            "아아\n",
            "--------------------------------------------------\n",
            "OOO카페 메뉴판\n",
            "- 아메리카노:  3000원\n",
            "- 카페라테:     4000원\n",
            "- 카페모카:     5000원\n",
            "--------------------------------------------------\n",
            "주문하신 음료는 아아입니다.\n"
          ]
        }
      ],
      "source": [
        "# 주문받아 출력하기\n",
        "print('주문하실 음료를 입력하세요:')\n",
        "coffee=input()\n",
        "print('-'*50)\n",
        "print(menu)\n",
        "print('-'*50)\n",
        "print(f'주문하신 음료는 {coffee}입니다.')\n",
        "\n"
      ]
    },
    {
      "cell_type": "markdown",
      "id": "38c40628",
      "metadata": {
        "id": "38c40628"
      },
      "source": [
        "### 문자열 연산\n",
        "- (+): 문자열 연결하기"
      ]
    },
    {
      "cell_type": "code",
      "execution_count": null,
      "id": "6af90aaf",
      "metadata": {
        "id": "6af90aaf",
        "colab": {
          "base_uri": "https://localhost:8080/"
        },
        "outputId": "ca6b9573-7718-41b4-a5c2-37475aee5c45"
      },
      "outputs": [
        {
          "output_type": "stream",
          "name": "stdout",
          "text": [
            "안녕하세요선생님\n",
            "안녕하세요 선생님\n"
          ]
        }
      ],
      "source": [
        "print('안녕하세요'+'선생님')\n",
        "print('안녕하세요','선생님')\n"
      ]
    },
    {
      "cell_type": "code",
      "source": [
        "print('7'+'7') #숫자가 아니라 문자로 반복\n",
        "print('안녕'*3)"
      ],
      "metadata": {
        "colab": {
          "base_uri": "https://localhost:8080/"
        },
        "id": "n3qz07MXEPyo",
        "outputId": "5fcd10cd-8a93-4043-88b4-5440ed1be839"
      },
      "id": "n3qz07MXEPyo",
      "execution_count": null,
      "outputs": [
        {
          "output_type": "stream",
          "name": "stdout",
          "text": [
            "77\n",
            "안녕안녕안녕\n"
          ]
        }
      ]
    },
    {
      "cell_type": "markdown",
      "id": "a27ee4d1",
      "metadata": {
        "id": "a27ee4d1"
      },
      "source": [
        "- (*) : 반복의 의미"
      ]
    },
    {
      "cell_type": "code",
      "execution_count": null,
      "id": "229965c2",
      "metadata": {
        "id": "229965c2"
      },
      "outputs": [],
      "source": [
        "\n"
      ]
    },
    {
      "cell_type": "markdown",
      "id": "2d2a3e0e",
      "metadata": {
        "id": "2d2a3e0e"
      },
      "source": [
        "### [실습문제] 문자열 출력하기\n",
        "- 문제1: 화면에   Mary’s cosmetics   출력\n",
        "- 문제2: 화면에  박씨가 소리질렀다. “도둑이야!”.  출력\n",
        "- 문제3: 다음 코드 실행시켜서 \\t와 \\n의 역할 확인하기 <br>\n",
        "print(\"안녕하세요.\\n오늘\\t날씨가\\t\\t좋습니다.\")    "
      ]
    },
    {
      "cell_type": "code",
      "execution_count": null,
      "id": "36f87e66",
      "metadata": {
        "id": "36f87e66",
        "colab": {
          "base_uri": "https://localhost:8080/"
        },
        "outputId": "5489ae71-f4e9-4e9f-d2f2-1e4d4554cbc5"
      },
      "outputs": [
        {
          "output_type": "stream",
          "name": "stdout",
          "text": [
            "안녕하세요.\n",
            "오늘\t날씨가\t\t좋습니다.\n",
            "Mary’s cosmetics\n",
            "박씨가 소리질렀다. “도둑이야!”\n"
          ]
        }
      ],
      "source": [
        "print(\"안녕하세요.\\n오늘\\t날씨가\\t\\t좋습니다.\") #\\n : 엔터 \\t : 탭키\n",
        "\n",
        "print('Mary’s cosmetics')\n",
        "print('박씨가 소리질렀다. “도둑이야!”')\n"
      ]
    },
    {
      "cell_type": "markdown",
      "id": "13245f26",
      "metadata": {
        "id": "13245f26"
      },
      "source": [
        "-------------------"
      ]
    },
    {
      "cell_type": "code",
      "source": [
        "기사='''윤석열 대통령은 어제 부친 장례를 마친 뒤 대통령 전용기를 타고 1박 4일 일정의 미국 순방길에 올랐습니다.\n",
        "\n",
        "윤 대통령은 우리 시각으로 오늘 오전 워싱턴에 도착했는데요, 참모들과 정상회의 준비 상황을 최종 점검할 계획입니다.\n",
        "\n",
        "그리고 우리 시각으로 오늘 밤, 100km쯤 떨어진 캠프 데이비드로 이동해 조 바이든 미국 대통령, 기시다 후미오 일본 총리와 만납니다.\n",
        "\n",
        "바이든 대통령이 전용 별장인 캠프 데이비드에 외국 정상을 초청한 건 이번이 처음입니다. 우리 대통령으로는 역대 두 번째 방문입니다.'''\n",
        "print(기사.count('대통령'))\n",
        "print(기사.find('대통령'))\n",
        "result=기사.split(' ')\n",
        "print(f'리스트의 요소 개수(길이):{len(result)}')\n",
        "print(result)\n",
        "기사=기사.replace('대통령', '님')\n",
        "print(기사)\n"
      ],
      "metadata": {
        "colab": {
          "base_uri": "https://localhost:8080/"
        },
        "id": "t3BkLQIXLAWq",
        "outputId": "9ab37927-abe0-4cf5-c000-e2281f039b73"
      },
      "id": "t3BkLQIXLAWq",
      "execution_count": null,
      "outputs": [
        {
          "output_type": "stream",
          "name": "stdout",
          "text": [
            "6\n",
            "4\n",
            "리스트의 요소 개수(길이):65\n",
            "['윤석열', '대통령은', '어제', '부친', '장례를', '마친', '뒤', '대통령', '전용기를', '타고', '1박', '4일', '일정의', '미국', '순방길에', '올랐습니다.\\n\\n윤', '대통령은', '우리', '시각으로', '오늘', '오전', '워싱턴에', '도착했는데요,', '참모들과', '정상회의', '준비', '상황을', '최종', '점검할', '계획입니다.\\n\\n그리고', '우리', '시각으로', '오늘', '밤,', '100km쯤', '떨어진', '캠프', '데이비드로', '이동해', '조', '바이든', '미국', '대통령,', '기시다', '후미오', '일본', '총리와', '만납니다.\\n\\n바이든', '대통령이', '전용', '별장인', '캠프', '데이비드에', '외국', '정상을', '초청한', '건', '이번이', '처음입니다.', '우리', '대통령으로는', '역대', '두', '번째', '방문입니다.']\n",
            "윤석열 님은 어제 부친 장례를 마친 뒤 님 전용기를 타고 1박 4일 일정의 미국 순방길에 올랐습니다.\n",
            "\n",
            "윤 님은 우리 시각으로 오늘 오전 워싱턴에 도착했는데요, 참모들과 정상회의 준비 상황을 최종 점검할 계획입니다.\n",
            "\n",
            "그리고 우리 시각으로 오늘 밤, 100km쯤 떨어진 캠프 데이비드로 이동해 조 바이든 미국 님, 기시다 후미오 일본 총리와 만납니다.\n",
            "\n",
            "바이든 님이 전용 별장인 캠프 데이비드에 외국 정상을 초청한 건 이번이 처음입니다. 우리 님으로는 역대 두 번째 방문입니다.\n"
          ]
        }
      ]
    },
    {
      "cell_type": "code",
      "source": [
        "s=input('문자열을 입력하세요:')\n",
        "print(s[::-1]) # 문자순서를 거꾸로하기"
      ],
      "metadata": {
        "colab": {
          "base_uri": "https://localhost:8080/"
        },
        "id": "-O8Huy3hMJv8",
        "outputId": "68d280a8-1a2b-4631-e305-23b10e316292"
      },
      "id": "-O8Huy3hMJv8",
      "execution_count": null,
      "outputs": [
        {
          "output_type": "stream",
          "name": "stdout",
          "text": [
            "문자열을 입력하세요:안녕하세요\n",
            "요세하녕안\n"
          ]
        }
      ]
    },
    {
      "cell_type": "markdown",
      "id": "020d1cc5",
      "metadata": {
        "id": "020d1cc5"
      },
      "source": [
        "## 2-3.문자열 인덱싱과 슬라이싱"
      ]
    },
    {
      "cell_type": "code",
      "execution_count": null,
      "id": "9c875a9b",
      "metadata": {
        "id": "9c875a9b"
      },
      "outputs": [],
      "source": [
        "a = '우리는 민족중흥의 역사적 사명을 띠고 이 땅에 태어났다.'\n",
        "print( )"
      ]
    },
    {
      "cell_type": "code",
      "execution_count": null,
      "id": "e50df3b3",
      "metadata": {
        "id": "e50df3b3"
      },
      "outputs": [],
      "source": [
        "fruits = 'orange'\n",
        "print( )\n"
      ]
    },
    {
      "cell_type": "markdown",
      "source": [
        "**파일명과 확장자 분리하기"
      ],
      "metadata": {
        "id": "ZTHXKlbbPzUa"
      },
      "id": "ZTHXKlbbPzUa"
    },
    {
      "cell_type": "code",
      "source": [
        "a=input('파일을 입력하세요:')\n",
        "print(f'입력한 파일:{a}')\n",
        "file=a.split('.')\n",
        "print(file)\n",
        "print(f'파일명:{file[0]}, 확장자:{file[1]}')\n",
        "# print(f'파일명: {a[0]}, 확장자: {a[1]}')\n"
      ],
      "metadata": {
        "colab": {
          "base_uri": "https://localhost:8080/"
        },
        "id": "6M4u-7DfO7Qy",
        "outputId": "55edd008-b94d-4864-a888-b521d0e58bee"
      },
      "id": "6M4u-7DfO7Qy",
      "execution_count": null,
      "outputs": [
        {
          "output_type": "stream",
          "name": "stdout",
          "text": [
            "파일을 입력하세요:test.py\n",
            "입력한 파일:test.py\n",
            "['test', 'py']\n",
            "파일명:test, 확장자:py\n"
          ]
        }
      ]
    },
    {
      "cell_type": "markdown",
      "id": "1aecf2d0",
      "metadata": {
        "id": "1aecf2d0"
      },
      "source": [
        "---------------------------"
      ]
    },
    {
      "cell_type": "markdown",
      "id": "0f48d7cf",
      "metadata": {
        "id": "0f48d7cf"
      },
      "source": [
        "## 2-4.변수 활용"
      ]
    },
    {
      "cell_type": "markdown",
      "id": "d26c5d6e",
      "metadata": {
        "id": "d26c5d6e"
      },
      "source": [
        "### [실습문제]: 지불할 음식 총 가격 계산하기\n",
        "- 음식가격:  4,450 원\n",
        "- 세금: 6.75%\n",
        "- 팁: 15%\n",
        "1. meal 변수를 선언하고 값을 4450으로 지정하세요.\n",
        "2. tax 변수를 생성하고 값으로 6.75%를 소수점 형태로 지정하세요.\n",
        "3. tip 변수를 생성하고 값으로 15%를 소수점 형태로 지정하세요.\n",
        "4. meal의 변수값에 세금을 곱해 meal 변수에 지정하세요.\n",
        "5. 음식값에 tip을 더해 total 변수에 지정하세요.\n",
        "6. total 변수 값을 출력하세요."
      ]
    },
    {
      "cell_type": "code",
      "execution_count": null,
      "id": "933828b3",
      "metadata": {
        "id": "933828b3",
        "colab": {
          "base_uri": "https://localhost:8080/"
        },
        "outputId": "0b6c0bbb-a7a4-4b4d-8250-af8f5b70c496"
      },
      "outputs": [
        {
          "output_type": "stream",
          "name": "stdout",
          "text": [
            "총 가격은 5417.874999999999입니다.\n",
            "5462.93\n"
          ]
        }
      ],
      "source": [
        "meal = 4450    # 1.음식가격\n",
        "tax = 0.0675   # 2.세금\n",
        "tip = 0.15     # 3.팁\n",
        "\n",
        "meal_price = meal+(meal*tax)\n",
        "total = meal_price + (meal_price*tip)\n",
        "print(round(total,2))\n"
      ]
    },
    {
      "cell_type": "code",
      "source": [
        "meal = 4450    # 1.음식가격\n",
        "tax = 0.0675   # 2.세금\n",
        "tip = 0.15     # 3.팁\n",
        "print(f'순수 세금: {meal*tax}')\n",
        "meal = meal + (meal * tax)   # 4. 음식가격\n",
        "total = meal + (meal * tip)  # 5. 팁 적용한 총 금액\n",
        "print(f'팀 금액: {meal * tip}')\n",
        "print(f'내가 지불해야 할 총 금액: {round(total,2)}')"
      ],
      "metadata": {
        "colab": {
          "base_uri": "https://localhost:8080/"
        },
        "id": "rJasth01T2Sw",
        "outputId": "f1b1e9a5-18c8-49ce-bc69-b23fb6cf2619"
      },
      "id": "rJasth01T2Sw",
      "execution_count": null,
      "outputs": [
        {
          "output_type": "stream",
          "name": "stdout",
          "text": [
            "순수 세금: 300.375\n",
            "팀 금액: 712.55625\n",
            "내가 지불해야 할 총 금액: 5462.93\n"
          ]
        }
      ]
    },
    {
      "cell_type": "markdown",
      "id": "a4fa74c9",
      "metadata": {
        "id": "a4fa74c9"
      },
      "source": [
        "### [실습문제]: 섭씨온도를 화씨온도로 변환하기\n",
        "- 섭씨 온도 (Celsius): 1 atm에서의 물의 어는점을 0도, 끓는점을 100도로 정한 온도 체계. (°C)\n",
        "\n",
        "\n",
        "- 화씨 온도 (Fahrenheit): 물이 어는 온도는 32도, 물이 끓는 온도는 212도. 180등분. (°F)\n",
        "- 섭씨온도(℃) = (5 / 9) × (℉ - 32)  # Celsius\n",
        "- 화씨온도(℉) = (9 / 5) × ℃ + 32    # Fahrenheit"
      ]
    },
    {
      "cell_type": "code",
      "execution_count": null,
      "id": "d65f3301",
      "metadata": {
        "scrolled": true,
        "id": "d65f3301",
        "colab": {
          "base_uri": "https://localhost:8080/"
        },
        "outputId": "7faf8cbd-7b5c-4eaf-8f4e-e17b13e3741e"
      },
      "outputs": [
        {
          "output_type": "stream",
          "name": "stdout",
          "text": [
            "40\n",
            "40 <class 'int'>\n",
            "화씨온도(℃) = (5 / 9) × (40 + 32)\n",
            "104.0\n"
          ]
        }
      ],
      "source": [
        "# c_temp = input()   #키보드로부터 입력을 받는 함수: input()\n",
        "# c_temp = int(c_temp)  # 정수로 변환: int()\n",
        "# print(c_temp, type(c_temp) )\n",
        "c_temp = input()   #키보드로부터 입력을 받는 함수: input()\n",
        "c_temp = int(c_temp)  # 정수로 변환: int()\n",
        "print(c_temp, type(c_temp) )\n",
        "f_temp=(9 / 5) * c_temp + 32\n",
        "print(f'화씨온도(℃) = (5 / 9) × ({c_temp} + 32)')\n",
        "print(f_temp)\n",
        "\n"
      ]
    },
    {
      "cell_type": "markdown",
      "id": "a57cbf87",
      "metadata": {
        "id": "a57cbf87"
      },
      "source": [
        "-------"
      ]
    },
    {
      "cell_type": "markdown",
      "id": "f0265f78",
      "metadata": {
        "id": "f0265f78"
      },
      "source": [
        "## 2-5.연산자"
      ]
    },
    {
      "cell_type": "markdown",
      "id": "bff8051d",
      "metadata": {
        "id": "bff8051d"
      },
      "source": [
        "### [실습문제]: 동전 교환 프로그램 만들기"
      ]
    },
    {
      "cell_type": "code",
      "execution_count": null,
      "id": "105db988",
      "metadata": {
        "id": "105db988",
        "colab": {
          "base_uri": "https://localhost:8080/"
        },
        "outputId": "c6587314-0091-4ab9-ed6d-c7226fc81170"
      },
      "outputs": [
        {
          "output_type": "stream",
          "name": "stdout",
          "text": [
            "---동전교환기 프로그램을 작동합니다.---\n",
            "금액을 입력하세요: 4321\n",
            "동전으로 교환하겠습니다.---------\n",
            "동전으로 교환할 금액을 입력하세요: 4321\n",
            "------------------------------\n",
            "500원짜리 ==> 8개\n",
            "100원짜리 ==> 3개\n",
            "50원짜리 ==> 0개\n",
            "10원짜리 ==> 2개\n",
            "잔돈 ==> 1원\n",
            "동전으로 교환할 금액을 입력하세요: 4321\n",
            "------------------------------\n",
            "500원짜리 ==> 8개\n",
            "100원짜리 ==> 3개\n",
            "50원짜리 ==> 0개\n",
            "10원짜리 ==> 2개\n",
            "잔돈 ==> 1원\n"
          ]
        }
      ],
      "source": [
        "# 키보드로부터 금액 입력 받기\n",
        "print('---동전교환기 프로그램을 작동합니다.---')\n",
        "money = int( input('금액을 입력하세요: '))\n",
        "print('동전으로 교환하겠습니다.---------')\n",
        "\n",
        "# 1.키보드로 동전 교환 금액 입력 받기\n",
        "money = int(input(\"동전으로 교환할 금액을 입력하세요: \"))\n",
        "print('-'*30) # 2.구분선 출력하기\n",
        "print(f\"500원짜리 ==> { money // 500 }개\") # 3.500원 짜리 동전 개수 출력\n",
        "money = money % 500\n",
        "print(f\"100원짜리 ==> { money // 100 }개\") # 4.100원 짜리 동전 개수 출력\n",
        "money %= 100\n",
        "print(f\"50원짜리 ==> { money // 50 }개\") # 5.50원 짜리 동전 개수 출력\n",
        "money %= 50\n",
        "print(f\"10원짜리 ==> { money // 10 }개\") # 6.10원 짜리 동전 개수 출력\n",
        "money %= 10\n",
        "print(f\"잔돈 ==> {money}원\") # 7.잔돈 출력\n",
        "\n",
        "money = int(input(\"동전으로 교환할 금액을 입력하세요: \"))\n",
        "print('-'*30)\n",
        "print(f\"500원짜리 ==> { money // 500 }개\")\n",
        "money %= 500\n",
        "print(f\"100원짜리 ==> { money // 100 }개\")\n",
        "money %= 100\n",
        "print(f\"50원짜리 ==> { money // 50 }개\")\n",
        "money %= 50\n",
        "print(f\"10원짜리 ==> { money // 10 }개\")\n",
        "print(f\"잔돈 ==> {money%10}원\")"
      ]
    },
    {
      "cell_type": "markdown",
      "id": "f359d4a1",
      "metadata": {
        "id": "f359d4a1"
      },
      "source": [
        "-----------------------------------------"
      ]
    },
    {
      "cell_type": "markdown",
      "id": "d8c018ca",
      "metadata": {
        "id": "d8c018ca"
      },
      "source": [
        "## 2-6.리스트(List)\n",
        "- 리스트는 여러 개의 데이터 값을 하나의 변수에 담을 수 있는 데이터 구조\n",
        "- 리스트는 순서(인덱스)가 있고 데이터를 수정, 삭제, 추가 가능하다.\n",
        "- 대괄호로 표현되고 내부 원소는 ,(쉼표)로 구분됨"
      ]
    },
    {
      "cell_type": "markdown",
      "id": "693f2484",
      "metadata": {
        "id": "693f2484"
      },
      "source": [
        "### 리스트 생성"
      ]
    },
    {
      "cell_type": "code",
      "execution_count": null,
      "id": "a1b79606",
      "metadata": {
        "id": "a1b79606"
      },
      "outputs": [],
      "source": [
        "a = list()\n",
        "a = []\n",
        "a = [1,2,3]\n",
        "a = ['I', 'Love', 'Python']\n",
        "b = [1,2, '사랑해요', 'Python']\n",
        "b = ['a', '1', 1, [2,3], -4]\n",
        "a = [1,2,['a','b',['사랑해', '파이썬']], 3]"
      ]
    },
    {
      "cell_type": "code",
      "execution_count": null,
      "id": "df23f6cf",
      "metadata": {
        "id": "df23f6cf"
      },
      "outputs": [],
      "source": [
        "print(a)\n",
        "print(b)"
      ]
    },
    {
      "cell_type": "code",
      "source": [
        "print(list(range(10)))"
      ],
      "metadata": {
        "colab": {
          "base_uri": "https://localhost:8080/"
        },
        "id": "VN7wHpecgGu_",
        "outputId": "083c9415-8bae-4c28-c155-3e7b137b3ad8"
      },
      "id": "VN7wHpecgGu_",
      "execution_count": null,
      "outputs": [
        {
          "output_type": "stream",
          "name": "stdout",
          "text": [
            "[0, 1, 2, 3, 4, 5, 6, 7, 8, 9]\n"
          ]
        }
      ]
    },
    {
      "cell_type": "code",
      "source": [
        "a='python'\n",
        "print(list(a))"
      ],
      "metadata": {
        "colab": {
          "base_uri": "https://localhost:8080/"
        },
        "id": "q9yxQAc-hEqe",
        "outputId": "13761e37-910e-4b2b-9c79-91b26f1641fc"
      },
      "id": "q9yxQAc-hEqe",
      "execution_count": null,
      "outputs": [
        {
          "output_type": "stream",
          "name": "stdout",
          "text": [
            "['p', 'y', 't', 'h', 'o', 'n']\n"
          ]
        }
      ]
    },
    {
      "cell_type": "markdown",
      "id": "7eef7d7c",
      "metadata": {
        "id": "7eef7d7c"
      },
      "source": [
        "### 리스트 삭제"
      ]
    },
    {
      "cell_type": "code",
      "execution_count": null,
      "id": "52a5a894",
      "metadata": {
        "id": "52a5a894"
      },
      "outputs": [],
      "source": [
        "del(b) #b 리스트 전체 삭제\n",
        "\n",
        "print(a)\n",
        "print(b)"
      ]
    },
    {
      "cell_type": "markdown",
      "id": "b3ab38e4",
      "metadata": {
        "id": "b3ab38e4"
      },
      "source": [
        "### 리스트 요소에 접근"
      ]
    },
    {
      "cell_type": "code",
      "execution_count": null,
      "id": "d36d5b62",
      "metadata": {
        "scrolled": true,
        "id": "d36d5b62",
        "colab": {
          "base_uri": "https://localhost:8080/"
        },
        "outputId": "d82bb888-4cff-4752-ff95-a373f76d3f03"
      },
      "outputs": [
        {
          "output_type": "stream",
          "name": "stdout",
          "text": [
            "주\n",
            "['노', '초']\n",
            "초\n"
          ]
        }
      ],
      "source": [
        "colors=['빨','주',['노','초'],'파','남','보']\n",
        "print( colors[1] )\n",
        "print( colors[2] )\n",
        "print( colors[2][1]) #리스트 안 리스트 2차원 리스트\n"
      ]
    },
    {
      "cell_type": "code",
      "source": [
        "colors = ['red', 'green', ['blue', 'deepblue'], 'black', 'white']\n",
        "print(colors)\n",
        "colors.append('핑크')     # 리스트 맨 끝에 추가\n",
        "print(colors)\n",
        "colors.insert(1, '연두')  # 리스트명.insert(인덱스위치, 값)\n",
        "print(colors)\n",
        "colors[3].insert(1,'darkblue') # 2차원 리스트에 'darkblue' 넣기\n",
        "print(colors)\n",
        "colors.append(['r','g','b'])\n",
        "print(colors)# 리스트 하나 더 추가로 3차원 리스트가 됌"
      ],
      "metadata": {
        "colab": {
          "base_uri": "https://localhost:8080/"
        },
        "id": "MDYpPu4ckrXy",
        "outputId": "6940d5b8-364b-4a82-9edd-8913c849dec7"
      },
      "id": "MDYpPu4ckrXy",
      "execution_count": null,
      "outputs": [
        {
          "output_type": "stream",
          "name": "stdout",
          "text": [
            "['red', 'green', ['blue', 'deepblue'], 'black', 'white']\n",
            "['red', 'green', ['blue', 'deepblue'], 'black', 'white', '핑크']\n",
            "['red', '연두', 'green', ['blue', 'deepblue'], 'black', 'white', '핑크']\n",
            "['red', '연두', 'green', ['blue', 'darkblue', 'deepblue'], 'black', 'white', '핑크']\n",
            "['red', '연두', 'green', ['blue', 'darkblue', 'deepblue'], 'black', 'white', '핑크', ['r', 'g', 'b']]\n"
          ]
        }
      ]
    },
    {
      "cell_type": "markdown",
      "id": "b7811d5d",
      "metadata": {
        "id": "b7811d5d"
      },
      "source": [
        "### 리스트 요소 추가 / 변경"
      ]
    },
    {
      "cell_type": "code",
      "execution_count": null,
      "id": "010220d8",
      "metadata": {
        "id": "010220d8"
      },
      "outputs": [],
      "source": [
        "print(a)\n",
        "a.append('봄')     # 리스트 맨 끝에 추가\n",
        "print(a)\n",
        "a.insert(1, '봄')  # 리스트명.insert(인덱스위치, 값)\n",
        "print(a)"
      ]
    },
    {
      "cell_type": "code",
      "source": [
        "colors[1]='light green' # 요소 변경하기\n",
        "print(colors)\n",
        "colors[3][1]='light blue'\n",
        "print(colors)\n",
        "colors[3:]='yellow'\n",
        "print(colors)\n",
        "colors.pop() # 제일 끝 요소 삭제\n",
        "print(colors)\n",
        "colors.remove('l')  # 특정 값 제\n",
        "print(colors)\n",
        "del colors[3:] # 3부터 마지막까지 삭제\n",
        "print(colors)\n"
      ],
      "metadata": {
        "colab": {
          "base_uri": "https://localhost:8080/"
        },
        "id": "RZdmaBfvl9Ct",
        "outputId": "73f391ee-0a3c-41e7-9f61-0ae2e12fabdc"
      },
      "id": "RZdmaBfvl9Ct",
      "execution_count": null,
      "outputs": [
        {
          "output_type": "stream",
          "name": "stdout",
          "text": [
            "['red', 'light green', 'green', ['blue', 'darkblue', 'deepblue'], 'black', 'white', '핑크', ['r', 'g', 'b']]\n",
            "['red', 'light green', 'green', ['blue', 'light blue', 'deepblue'], 'black', 'white', '핑크', ['r', 'g', 'b']]\n",
            "['red', 'light green', 'green', 'y', 'e', 'l', 'l', 'o', 'w']\n",
            "['red', 'light green', 'green', 'y', 'e', 'l', 'l', 'o']\n",
            "['red', 'light green', 'green', 'y', 'e', 'l', 'o']\n",
            "['red', 'light green', 'green']\n"
          ]
        }
      ]
    },
    {
      "cell_type": "code",
      "source": [],
      "metadata": {
        "id": "zr3roryZnfPc"
      },
      "id": "zr3roryZnfPc",
      "execution_count": null,
      "outputs": []
    },
    {
      "cell_type": "markdown",
      "source": [],
      "metadata": {
        "id": "WMR3_T2hnfyu"
      },
      "id": "WMR3_T2hnfyu"
    },
    {
      "cell_type": "markdown",
      "id": "5a5820d1",
      "metadata": {
        "id": "5a5820d1"
      },
      "source": [
        "### 리스트 요소 삭제"
      ]
    },
    {
      "cell_type": "code",
      "execution_count": null,
      "id": "e4c76b68",
      "metadata": {
        "id": "e4c76b68"
      },
      "outputs": [],
      "source": [
        "print(a)\n",
        "a.pop()     # 리스트 맨 끝 요소 삭제\n",
        "print(a)\n",
        "a.remove('봄')  # 리스트명.remove(값), 단 여러 개 일 경우 첫 번째만 삭제됨\n",
        "print(a)"
      ]
    },
    {
      "cell_type": "code",
      "source": [
        "import random\n",
        "numbers=list()\n",
        "numbers=[]\n",
        "numbers.append(random.randint(1,100))\n",
        "numbers.append(random.randint(1,100))\n",
        "numbers.append(random.randint(1,100))\n",
        "print(numbers)\n",
        "\n",
        "numbers.sort()\n",
        "print(numbers)\n",
        "numbers.reverse()\n",
        "print(f'정렬 후:{numbers}')"
      ],
      "metadata": {
        "colab": {
          "base_uri": "https://localhost:8080/"
        },
        "id": "JyaWbDlnsbfz",
        "outputId": "61748d9b-ebd4-479d-dcc3-b5fc9755d8e1"
      },
      "id": "JyaWbDlnsbfz",
      "execution_count": 25,
      "outputs": [
        {
          "output_type": "stream",
          "name": "stdout",
          "text": [
            "[83, 73, 93]\n",
            "[73, 83, 93]\n",
            "정렬 후:[93, 83, 73]\n"
          ]
        }
      ]
    },
    {
      "cell_type": "code",
      "source": [
        "import random\n",
        "\n",
        "numbers = list()   # 빈 리스트\n",
        "numbers = []       # 빈 리스트\n",
        "\n",
        "# 1~100까지 정수 중에 임의로 하나 뽑아서 리스트에 추가하기\n",
        "numbers.append(random.randint(1, 100))\n",
        "numbers.append(random.randint(1, 100))\n",
        "numbers.append(random.randint(1, 100))\n",
        "numbers.append(random.randint(1, 100))\n",
        "numbers.append(random.randint(1, 100))\n",
        "print(f'정렬 전: {numbers}')\n",
        "\n",
        "# 정렬하기\n",
        "numbers.sort()\n",
        "numbers.reverse()\n",
        "print(f'졍렬 후: {numbers}')"
      ],
      "metadata": {
        "colab": {
          "base_uri": "https://localhost:8080/"
        },
        "id": "yRY-4iQCxptc",
        "outputId": "84d6a381-a436-406f-c349-99d0cbef0ce6"
      },
      "id": "yRY-4iQCxptc",
      "execution_count": 22,
      "outputs": [
        {
          "output_type": "stream",
          "name": "stdout",
          "text": [
            "정렬 전: [71, 100, 58, 29, 43]\n",
            "졍렬 후: [100, 71, 58, 43, 29]\n"
          ]
        }
      ]
    },
    {
      "cell_type": "markdown",
      "id": "df6f6d08",
      "metadata": {
        "id": "df6f6d08"
      },
      "source": [
        "## 2-7.딕셔너리(Dictionary)\n",
        "- 딕셔너리는 쌍이 하나로 묶인 자료구조\n",
        "- 인덱스를 의미하는 ‘키(key)'와 자료의 내용인 ‘ 값(value)'을 이용하여  데이터를 관리\n",
        "- 중괄호 { }로 묶어 구성, 키(Key)와 값(Value)의 쌍으로 구성\n",
        "- 순서(sequence)가 없다"
      ]
    },
    {
      "cell_type": "markdown",
      "id": "4393e9e4",
      "metadata": {
        "id": "4393e9e4"
      },
      "source": [
        "### 딕셔너리 생성"
      ]
    },
    {
      "cell_type": "code",
      "execution_count": 31,
      "id": "da6bca38",
      "metadata": {
        "id": "da6bca38",
        "colab": {
          "base_uri": "https://localhost:8080/"
        },
        "outputId": "1ec611f0-1eae-4e46-8527-ea4f9ef87840"
      },
      "outputs": [
        {
          "output_type": "stream",
          "name": "stdout",
          "text": [
            "<class 'dict'> {}\n",
            "<class 'dict'> {'name': '진', 'age': 29, 'email': 'jin@gggmail.com'}\n",
            "29\n",
            "29\n",
            "{'name': '진', 'age': 29, 'email': 'jin@gggmail.com', 7: ['1', '2', '3']}\n"
          ]
        }
      ],
      "source": [
        "members={} # 빈 딕셔너리\n",
        "members=dict() # 빈 딕셔너리\n",
        "print(type(members), members)\n",
        "\n",
        "members = {'name':'진', 'age':29, 'email':'jin@gggmail.com'}\n",
        "print(type(members), members)\n",
        "print(members['age']) # 키 값에 해당하는 값이 나온다\n",
        "print(members.get('age'))\n",
        "\n",
        "members[7]=['1','2','3'] # 7이라는 키와 1,2,3 값 추가(순서는 무작위)\n",
        "print(members) # 딕셔너리는 순서가 없음"
      ]
    },
    {
      "cell_type": "markdown",
      "id": "b5f4d763",
      "metadata": {
        "id": "b5f4d763"
      },
      "source": [
        "### 딕셔너리 키(key)와 값(value)에 접근하기"
      ]
    },
    {
      "cell_type": "code",
      "execution_count": 34,
      "id": "0697a654",
      "metadata": {
        "id": "0697a654",
        "colab": {
          "base_uri": "https://localhost:8080/"
        },
        "outputId": "eca24fa7-4e22-47bd-e001-1c71dadddc32"
      },
      "outputs": [
        {
          "output_type": "stream",
          "name": "stdout",
          "text": [
            "100\n",
            "---방법1---\n",
            "국어 => 100\n",
            "국어=>100\n",
            "수학 => 90\n",
            "수학=>90\n",
            "영어 => 80\n",
            "영어=>80\n",
            "dict_items([('국어', 100), ('수학', 90), ('영어', 80)])\n",
            "---방법2---\n",
            "국어 => 100\n",
            "국어=>100\n",
            "수학 => 90\n",
            "수학=>90\n",
            "영어 => 80\n",
            "영어=>80\n"
          ]
        }
      ],
      "source": [
        "scores = {'국어': 100, '수학': 90, '영어': 80}\n",
        "\n",
        "print(scores['국어'])  # 딕셔너리는 키로 접근한다.\n",
        "\n",
        "# 방법1\n",
        "print('---방법1---')\n",
        "for key in scores:\n",
        "    print('%s => %s' % (key, scores[key]))\n",
        "    print(f'{key}=>{scores[key]}')\n",
        "print(scores.items()) # dict_items([('국어', 100), ('수학', 90), ('영어', 80)]) : (키,값)의 리스트 형태로 반환\n",
        "\n",
        "# 방법2\n",
        "print('---방법2---')\n",
        "for key, value in scores.items():\n",
        "    print('%s => %s' % (key, value))\n",
        "    print(f'{key}=>{value}')"
      ]
    },
    {
      "cell_type": "code",
      "execution_count": 35,
      "id": "011745db",
      "metadata": {
        "id": "011745db",
        "colab": {
          "base_uri": "https://localhost:8080/"
        },
        "outputId": "b6b73592-1fe1-4f26-b1f4-daa87cc379a9"
      },
      "outputs": [
        {
          "output_type": "stream",
          "name": "stdout",
          "text": [
            "dict_keys(['국어', '수학', '영어'])\n",
            "dict_values([100, 90, 80])\n",
            "dict_items([('국어', 100), ('수학', 90), ('영어', 80)])\n"
          ]
        }
      ],
      "source": [
        "print(scores.keys())   # 키만 추출 리스트 형태로 반환\n",
        "print(scores.values()) # 키만 추출 리스트 형태로 반환\n",
        "print(scores.items())  # (키,값)쌍 형태로 추출 리스트 형태로 반환"
      ]
    },
    {
      "cell_type": "markdown",
      "id": "7d76f114",
      "metadata": {
        "id": "7d76f114"
      },
      "source": [
        "### 딕셔너리에 요소 추가/수정/삭제"
      ]
    },
    {
      "cell_type": "code",
      "execution_count": 40,
      "id": "f15a3506",
      "metadata": {
        "id": "f15a3506",
        "colab": {
          "base_uri": "https://localhost:8080/"
        },
        "outputId": "c0d6042e-e864-4fb9-aa29-0a8ef6bb5a79"
      },
      "outputs": [
        {
          "output_type": "stream",
          "name": "stdout",
          "text": [
            "{'국어': 100, '수학': 90, '영어': 80}\n",
            "{'국어': 100, '수학': 90, '영어': 80, 'music': 100}\n",
            "{'국어': 100, '수학': 99, '영어': 80, 'music': 100}\n",
            "{'국어': 100, '수학': 99}\n"
          ]
        }
      ],
      "source": [
        "scores = {'국어': 100, '수학': 90, '영어': 80}\n",
        "print(scores)\n",
        "\n",
        "# 키로 요소 추가하기\n",
        "scores['music'] = 100\n",
        "print(scores)\n",
        "\n",
        "# 요소 값 수정하기\n",
        "scores['수학'] = 99\n",
        "print(scores)\n",
        "\n",
        "# 요소 삭제하기\n",
        "del (scores['영어'], scores['music']) # 괄호 안에서 여러가지 키 한꺼번에 삭제 가능\n",
        "print(scores)"
      ]
    },
    {
      "cell_type": "code",
      "source": [
        "# 튜플\n",
        "a=tuple()\n",
        "a=()\n",
        "print(type(a))\n",
        "\n",
        "a=(1,) # a=('사과',)\n",
        "print(type(a),a) # 튜플에 요소 1개를 정의할 때는 반드시 ',' 사용\n",
        "\n",
        "a=(1,2,3,4,5,6)\n",
        "print(a[3])\n",
        "\n",
        "## a[3]=10 # 튜플의 요소를 변경하거나 추가를 할 수 없다.\n",
        "\n",
        "\n",
        "# 집합 생성\n",
        "a=set() # 빈집합\n",
        "print(type(a))\n",
        "a={1,2,3,4,5} # 딕셔너리처럼 ':' 없음\n",
        "print(type(a))\n",
        "\n",
        "a=set([1,2,3,4,5])\n",
        "b=set(\"hello\")\n",
        "print(type(b),b)\n",
        "\n",
        "fruits=['a','b','c','c','c'] # 집합에서는 중복된 데이터를 배제시킬 수 있다.\n",
        "h=list(set(fruits))\n",
        "h.sort() # 튜플에는 sort가 없어 사용못함\n",
        "print(h)"
      ],
      "metadata": {
        "colab": {
          "base_uri": "https://localhost:8080/"
        },
        "id": "AnwpKBOa63ei",
        "outputId": "35b993a8-2bc7-4dea-f63a-430aa88103a7"
      },
      "id": "AnwpKBOa63ei",
      "execution_count": 51,
      "outputs": [
        {
          "output_type": "stream",
          "name": "stdout",
          "text": [
            "<class 'tuple'>\n",
            "<class 'tuple'> (1,)\n",
            "4\n",
            "<class 'set'>\n",
            "<class 'set'>\n",
            "<class 'set'> {'h', 'e', 'o', 'l'}\n",
            "['a', 'b', 'c']\n"
          ]
        }
      ]
    },
    {
      "cell_type": "code",
      "source": [
        "fruits=['a','b','c','c','c'] # 집합에서는 중복된 데이터를 배제시킬 수 있다.\n",
        "h=tuple(set(fruits)) # 튜플에는 sort가 없어 사용못함\n",
        "print(h)"
      ],
      "metadata": {
        "colab": {
          "base_uri": "https://localhost:8080/"
        },
        "id": "zlOmanLZ-at7",
        "outputId": "f9c7317f-8e4b-4776-908c-403e797b2f4c"
      },
      "id": "zlOmanLZ-at7",
      "execution_count": 53,
      "outputs": [
        {
          "output_type": "stream",
          "name": "stdout",
          "text": [
            "('b', 'a', 'c')\n"
          ]
        }
      ]
    },
    {
      "cell_type": "code",
      "source": [
        "help(list) # help(궁금한 함수)"
      ],
      "metadata": {
        "colab": {
          "base_uri": "https://localhost:8080/"
        },
        "id": "O4KP4v_r-vnR",
        "outputId": "85888257-9ec9-4ebc-d545-b27d6ce29c59"
      },
      "id": "O4KP4v_r-vnR",
      "execution_count": 55,
      "outputs": [
        {
          "output_type": "stream",
          "name": "stdout",
          "text": [
            "Help on class list in module builtins:\n",
            "\n",
            "class list(object)\n",
            " |  list(iterable=(), /)\n",
            " |  \n",
            " |  Built-in mutable sequence.\n",
            " |  \n",
            " |  If no argument is given, the constructor creates a new empty list.\n",
            " |  The argument must be an iterable if specified.\n",
            " |  \n",
            " |  Methods defined here:\n",
            " |  \n",
            " |  __add__(self, value, /)\n",
            " |      Return self+value.\n",
            " |  \n",
            " |  __contains__(self, key, /)\n",
            " |      Return key in self.\n",
            " |  \n",
            " |  __delitem__(self, key, /)\n",
            " |      Delete self[key].\n",
            " |  \n",
            " |  __eq__(self, value, /)\n",
            " |      Return self==value.\n",
            " |  \n",
            " |  __ge__(self, value, /)\n",
            " |      Return self>=value.\n",
            " |  \n",
            " |  __getattribute__(self, name, /)\n",
            " |      Return getattr(self, name).\n",
            " |  \n",
            " |  __getitem__(...)\n",
            " |      x.__getitem__(y) <==> x[y]\n",
            " |  \n",
            " |  __gt__(self, value, /)\n",
            " |      Return self>value.\n",
            " |  \n",
            " |  __iadd__(self, value, /)\n",
            " |      Implement self+=value.\n",
            " |  \n",
            " |  __imul__(self, value, /)\n",
            " |      Implement self*=value.\n",
            " |  \n",
            " |  __init__(self, /, *args, **kwargs)\n",
            " |      Initialize self.  See help(type(self)) for accurate signature.\n",
            " |  \n",
            " |  __iter__(self, /)\n",
            " |      Implement iter(self).\n",
            " |  \n",
            " |  __le__(self, value, /)\n",
            " |      Return self<=value.\n",
            " |  \n",
            " |  __len__(self, /)\n",
            " |      Return len(self).\n",
            " |  \n",
            " |  __lt__(self, value, /)\n",
            " |      Return self<value.\n",
            " |  \n",
            " |  __mul__(self, value, /)\n",
            " |      Return self*value.\n",
            " |  \n",
            " |  __ne__(self, value, /)\n",
            " |      Return self!=value.\n",
            " |  \n",
            " |  __repr__(self, /)\n",
            " |      Return repr(self).\n",
            " |  \n",
            " |  __reversed__(self, /)\n",
            " |      Return a reverse iterator over the list.\n",
            " |  \n",
            " |  __rmul__(self, value, /)\n",
            " |      Return value*self.\n",
            " |  \n",
            " |  __setitem__(self, key, value, /)\n",
            " |      Set self[key] to value.\n",
            " |  \n",
            " |  __sizeof__(self, /)\n",
            " |      Return the size of the list in memory, in bytes.\n",
            " |  \n",
            " |  append(self, object, /)\n",
            " |      Append object to the end of the list.\n",
            " |  \n",
            " |  clear(self, /)\n",
            " |      Remove all items from list.\n",
            " |  \n",
            " |  copy(self, /)\n",
            " |      Return a shallow copy of the list.\n",
            " |  \n",
            " |  count(self, value, /)\n",
            " |      Return number of occurrences of value.\n",
            " |  \n",
            " |  extend(self, iterable, /)\n",
            " |      Extend list by appending elements from the iterable.\n",
            " |  \n",
            " |  index(self, value, start=0, stop=9223372036854775807, /)\n",
            " |      Return first index of value.\n",
            " |      \n",
            " |      Raises ValueError if the value is not present.\n",
            " |  \n",
            " |  insert(self, index, object, /)\n",
            " |      Insert object before index.\n",
            " |  \n",
            " |  pop(self, index=-1, /)\n",
            " |      Remove and return item at index (default last).\n",
            " |      \n",
            " |      Raises IndexError if list is empty or index is out of range.\n",
            " |  \n",
            " |  remove(self, value, /)\n",
            " |      Remove first occurrence of value.\n",
            " |      \n",
            " |      Raises ValueError if the value is not present.\n",
            " |  \n",
            " |  reverse(self, /)\n",
            " |      Reverse *IN PLACE*.\n",
            " |  \n",
            " |  sort(self, /, *, key=None, reverse=False)\n",
            " |      Sort the list in ascending order and return None.\n",
            " |      \n",
            " |      The sort is in-place (i.e. the list itself is modified) and stable (i.e. the\n",
            " |      order of two equal elements is maintained).\n",
            " |      \n",
            " |      If a key function is given, apply it once to each list item and sort them,\n",
            " |      ascending or descending, according to their function values.\n",
            " |      \n",
            " |      The reverse flag can be set to sort in descending order.\n",
            " |  \n",
            " |  ----------------------------------------------------------------------\n",
            " |  Class methods defined here:\n",
            " |  \n",
            " |  __class_getitem__(...) from builtins.type\n",
            " |      See PEP 585\n",
            " |  \n",
            " |  ----------------------------------------------------------------------\n",
            " |  Static methods defined here:\n",
            " |  \n",
            " |  __new__(*args, **kwargs) from builtins.type\n",
            " |      Create and return a new object.  See help(type) for accurate signature.\n",
            " |  \n",
            " |  ----------------------------------------------------------------------\n",
            " |  Data and other attributes defined here:\n",
            " |  \n",
            " |  __hash__ = None\n",
            "\n"
          ]
        }
      ]
    },
    {
      "cell_type": "markdown",
      "id": "45e329e4",
      "metadata": {
        "id": "45e329e4"
      },
      "source": [
        "------------------------"
      ]
    },
    {
      "cell_type": "markdown",
      "id": "66025633",
      "metadata": {
        "id": "66025633"
      },
      "source": [
        "끝"
      ]
    }
  ],
  "metadata": {
    "kernelspec": {
      "display_name": "Python 3 (ipykernel)",
      "language": "python",
      "name": "python3"
    },
    "language_info": {
      "codemirror_mode": {
        "name": "ipython",
        "version": 3
      },
      "file_extension": ".py",
      "mimetype": "text/x-python",
      "name": "python",
      "nbconvert_exporter": "python",
      "pygments_lexer": "ipython3",
      "version": "3.10.9"
    },
    "vscode": {
      "interpreter": {
        "hash": "b41e41bff03a930185ac2cbea60ce521f7c8c2f5401ceb5c30214081f77ab4f5"
      }
    },
    "colab": {
      "provenance": [],
      "include_colab_link": true
    }
  },
  "nbformat": 4,
  "nbformat_minor": 5
}