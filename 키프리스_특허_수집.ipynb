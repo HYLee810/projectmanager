{
  "cells": [
    {
      "cell_type": "markdown",
      "metadata": {
        "id": "view-in-github",
        "colab_type": "text"
      },
      "source": [
        "<a href=\"https://colab.research.google.com/github/HYLee810/projectmanager/blob/main/%ED%82%A4%ED%94%84%EB%A6%AC%EC%8A%A4_%ED%8A%B9%ED%97%88_%EC%88%98%EC%A7%91.ipynb\" target=\"_parent\"><img src=\"https://colab.research.google.com/assets/colab-badge.svg\" alt=\"Open In Colab\"/></a>"
      ]
    },
    {
      "cell_type": "code",
      "execution_count": null,
      "id": "b253cde5",
      "metadata": {
        "id": "b253cde5"
      },
      "outputs": [],
      "source": [
        "from selenium.webdriver import Chrome\n",
        "from selenium.webdriver.chrome.service import Service\n",
        "\n",
        "service = Service(executable_path='chromedriver.exe')\n",
        "browser = Chrome(service=service)"
      ]
    },
    {
      "cell_type": "markdown",
      "id": "786a13a2",
      "metadata": {
        "id": "786a13a2"
      },
      "source": [
        "http://kportal.kipris.or.kr/kportal/search/search_patent.do\n",
        "에 가서 원하는 검색어로 검색\n",
        "\n",
        "요약 함께 보기 버튼 클릭\n",
        "\n",
        "90개씩 보기"
      ]
    },
    {
      "cell_type": "code",
      "execution_count": null,
      "id": "67a3afdf",
      "metadata": {
        "id": "67a3afdf"
      },
      "outputs": [],
      "source": [
        "from selenium.webdriver.common.by import By\n",
        "\n"
      ]
    },
    {
      "cell_type": "code",
      "execution_count": null,
      "id": "fd4c324f",
      "metadata": {
        "id": "fd4c324f"
      },
      "outputs": [],
      "source": [
        "import time\n",
        "수집된페이지 = set(['이전페이지', '1'])\n",
        "titles = []\n",
        "abstracts = []\n",
        "\n",
        "while len(수집된페이지) < 5:\n",
        "    for e in browser.find_elements(By.CSS_SELECTOR, 'h1.stitle a'):\n",
        "        titles.append(e.text)\n",
        "    for e in browser.find_elements(By.CSS_SELECTOR, 'div.search_txt'):\n",
        "        abstracts.append(e.text)\n",
        "    pagers = browser.find_elements(By.CSS_SELECTOR, 'div.board_pager a')\n",
        "    for pager in pagers:\n",
        "        if pager.text not in 수집된페이지:\n",
        "            수집된페이지.add(pager.text)\n",
        "            pager.click()\n",
        "            time.sleep(3)\n",
        "            break\n",
        "    else:\n",
        "        break"
      ]
    },
    {
      "cell_type": "code",
      "execution_count": null,
      "id": "ac7cef30",
      "metadata": {
        "id": "ac7cef30"
      },
      "outputs": [],
      "source": [
        "import pandas as pd\n",
        "df = pd.DataFrame({'title': titles, 'abstract': abstracts})\n",
        "df.to_excel('patent.xlsx')"
      ]
    },
    {
      "cell_type": "code",
      "execution_count": null,
      "id": "1aa449a6",
      "metadata": {
        "id": "1aa449a6"
      },
      "outputs": [],
      "source": []
    },
    {
      "cell_type": "code",
      "execution_count": null,
      "id": "e64c4025",
      "metadata": {
        "scrolled": false,
        "id": "e64c4025",
        "outputId": "3a65ab9c-355a-4ddb-a4f8-26893c223237"
      },
      "outputs": [
        {
          "name": "stdout",
          "output_type": "stream",
          "text": [
            "이전페이지\n",
            "11\n",
            "12\n",
            "13\n",
            "14\n",
            "16\n",
            "17\n",
            "18\n",
            "19\n",
            "20\n",
            "다음페이지\n"
          ]
        }
      ],
      "source": [
        "\n",
        ""
      ]
    },
    {
      "cell_type": "code",
      "execution_count": null,
      "id": "94c24d37",
      "metadata": {
        "id": "94c24d37"
      },
      "outputs": [],
      "source": [
        "pagers[0].click()"
      ]
    },
    {
      "cell_type": "code",
      "execution_count": null,
      "id": "3ea91ade",
      "metadata": {
        "id": "3ea91ade"
      },
      "outputs": [],
      "source": []
    }
  ],
  "metadata": {
    "kernelspec": {
      "display_name": "Python 3 (ipykernel)",
      "language": "python",
      "name": "python3"
    },
    "language_info": {
      "codemirror_mode": {
        "name": "ipython",
        "version": 3
      },
      "file_extension": ".py",
      "mimetype": "text/x-python",
      "name": "python",
      "nbconvert_exporter": "python",
      "pygments_lexer": "ipython3",
      "version": "3.10.11"
    },
    "colab": {
      "provenance": [],
      "include_colab_link": true
    }
  },
  "nbformat": 4,
  "nbformat_minor": 5
}