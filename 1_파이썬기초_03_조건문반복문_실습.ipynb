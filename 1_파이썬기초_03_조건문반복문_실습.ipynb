{
  "cells": [
    {
      "cell_type": "markdown",
      "metadata": {
        "id": "view-in-github",
        "colab_type": "text"
      },
      "source": [
        "<a href=\"https://colab.research.google.com/github/HYLee810/projectmanager/blob/main/1_%ED%8C%8C%EC%9D%B4%EC%8D%AC%EA%B8%B0%EC%B4%88_03_%EC%A1%B0%EA%B1%B4%EB%AC%B8%EB%B0%98%EB%B3%B5%EB%AC%B8_%EC%8B%A4%EC%8A%B5.ipynb\" target=\"_parent\"><img src=\"https://colab.research.google.com/assets/colab-badge.svg\" alt=\"Open In Colab\"/></a>"
      ]
    },
    {
      "cell_type": "markdown",
      "id": "25f81d8c",
      "metadata": {
        "id": "25f81d8c"
      },
      "source": [
        "# 파이썬 기초 다지기"
      ]
    },
    {
      "cell_type": "markdown",
      "id": "3f3da3bd",
      "metadata": {
        "id": "3f3da3bd"
      },
      "source": [
        "## 3- 조건문과 반복문\n",
        "데이터와 처리의 흐름을 제어하는 조건문과 반목문"
      ]
    },
    {
      "cell_type": "markdown",
      "id": "0c52a67e",
      "metadata": {
        "id": "0c52a67e"
      },
      "source": [
        "----------------------------------"
      ]
    },
    {
      "cell_type": "markdown",
      "id": "aee8f2e8",
      "metadata": {
        "id": "aee8f2e8"
      },
      "source": [
        "## 3-1.if 조건문"
      ]
    },
    {
      "cell_type": "markdown",
      "id": "e89f3546",
      "metadata": {
        "id": "e89f3546"
      },
      "source": [
        "### 조건문: if"
      ]
    },
    {
      "cell_type": "code",
      "execution_count": null,
      "id": "4f161d86",
      "metadata": {
        "colab": {
          "base_uri": "https://localhost:8080/"
        },
        "id": "4f161d86",
        "outputId": "44122f6f-1133-4960-9dc4-1d1152bb5da4"
      },
      "outputs": [
        {
          "name": "stdout",
          "output_type": "stream",
          "text": [
            "숫자를 입력하세요:80\n"
          ]
        }
      ],
      "source": [
        "a=int(input('숫자를 입력하세요:'))\n",
        "if a>100:\n",
        "    print(f'{a}는 100보다 크군요.')"
      ]
    },
    {
      "cell_type": "markdown",
      "id": "cb89ea65",
      "metadata": {
        "id": "cb89ea65"
      },
      "source": [
        "### 조건문: if ~ else"
      ]
    },
    {
      "cell_type": "code",
      "execution_count": null,
      "id": "6eca2413",
      "metadata": {
        "colab": {
          "base_uri": "https://localhost:8080/"
        },
        "id": "6eca2413",
        "outputId": "4cfc3b69-cd8f-48e6-bfe2-ae16ca5e6642"
      },
      "outputs": [
        {
          "output_type": "stream",
          "name": "stdout",
          "text": [
            "숫자를 입력하세요:100\n",
            "100는 100보다 크지 않거나 같군요.\n"
          ]
        }
      ],
      "source": [
        "a=int(input('숫자를 입력하세요:'))\n",
        "if a>100:\n",
        "    print(f'{a}는 100보다 크군요.')\n",
        "else:\n",
        "    print(f'{a}는 100보다 크지 않거나 같군요.')\n",
        "\n"
      ]
    },
    {
      "cell_type": "markdown",
      "id": "13b404bd",
      "metadata": {
        "id": "13b404bd"
      },
      "source": [
        "### 조건문 : 중첩if"
      ]
    },
    {
      "cell_type": "code",
      "execution_count": null,
      "id": "9575f530",
      "metadata": {
        "colab": {
          "base_uri": "https://localhost:8080/"
        },
        "id": "9575f530",
        "outputId": "7cc1762b-9606-482d-f0e4-b161f78d17bd"
      },
      "outputs": [
        {
          "output_type": "stream",
          "name": "stdout",
          "text": [
            "숫자를 입력하세요:100\n",
            "100는 100과 같군요.\n"
          ]
        }
      ],
      "source": [
        "a=int(input('숫자를 입력하세요:'))\n",
        "if a>100:\n",
        "    print(f'{a}는 100보다 크군요.')\n",
        "    if a>200:\n",
        "        print(f'{a}는 200보다 크군요.')\n",
        "    else:\n",
        "        print(f'{a}는 200보다 크지 않거나 같군요.')\n",
        "else:\n",
        "    if a==100:\n",
        "        print(f'{a}는 100과 같군요.')\n",
        "    else:\n",
        "        print(f'{a}는 100보다 작군요.')"
      ]
    },
    {
      "cell_type": "code",
      "source": [
        "a=int(input('숫자를 입력하세요:'))\n",
        "if a>200:\n",
        "    print(f'{a}는 100보다 크군요.')\n",
        "elif a>100:\n",
        "    print(f'{a}는 100보다 크고 200보다 작군요.')\n",
        "elif a==100:\n",
        "    print(f'{a}는 100과 같군요.')\n",
        "else:\n",
        "    print(f'{a}는 100보다 작군요.')"
      ],
      "metadata": {
        "colab": {
          "base_uri": "https://localhost:8080/"
        },
        "id": "mT1vnzfkj1pF",
        "outputId": "9c58b7ed-dbd8-4f21-d071-6a4522d04177"
      },
      "id": "mT1vnzfkj1pF",
      "execution_count": null,
      "outputs": [
        {
          "output_type": "stream",
          "name": "stdout",
          "text": [
            "숫자를 입력하세요:150\n",
            "150는 100보다 크고 200보다 작군요.\n"
          ]
        }
      ]
    },
    {
      "cell_type": "markdown",
      "id": "349dec8b",
      "metadata": {
        "id": "349dec8b"
      },
      "source": [
        "### [실습문제] 짝수/홀수 판별하기"
      ]
    },
    {
      "cell_type": "code",
      "execution_count": null,
      "id": "de48c13d",
      "metadata": {
        "colab": {
          "base_uri": "https://localhost:8080/"
        },
        "id": "de48c13d",
        "outputId": "5f2c50b4-dc0b-4810-b58c-e985c5c1a644"
      },
      "outputs": [
        {
          "output_type": "stream",
          "name": "stdout",
          "text": [
            "숫자를 입력해 주세요:5\n",
            "입력된 수: 5==> 홀수.\n"
          ]
        }
      ],
      "source": [
        "x=int(input('숫자를 입력해 주세요:'))\n",
        "if x%2==0:\n",
        "    print(f'입력된 수: {x}==> 짝수.')\n",
        "else:\n",
        "    print(f'입력된 수: {x}==> 홀수.')\n",
        "\n",
        "\n"
      ]
    },
    {
      "cell_type": "code",
      "source": [
        "#"
      ],
      "metadata": {
        "id": "YSgmMgSRmZDw"
      },
      "id": "YSgmMgSRmZDw",
      "execution_count": null,
      "outputs": []
    },
    {
      "cell_type": "markdown",
      "id": "30919e6b",
      "metadata": {
        "id": "30919e6b"
      },
      "source": [
        "### [실습문제]\n",
        "피타고라스 정리에 의해 직각삼각형의 세 변의 길이에 대한 관계는 아래와 같습니다. 이 정리를 이용하여 세 변의 길이를 입력 받은 삼각형이 직각삼각형인지 아닌지 판별하는 프로그램을 만들어 보세요.\n"
      ]
    },
    {
      "cell_type": "code",
      "execution_count": null,
      "id": "f6e6ca29",
      "metadata": {
        "scrolled": false,
        "colab": {
          "base_uri": "https://localhost:8080/",
          "height": 410
        },
        "id": "f6e6ca29",
        "outputId": "9a88c8be-97fb-4bf4-b0c8-fe681394a57f"
      },
      "outputs": [
        {
          "output_type": "error",
          "ename": "KeyboardInterrupt",
          "evalue": "ignored",
          "traceback": [
            "\u001b[0;31m---------------------------------------------------------------------------\u001b[0m",
            "\u001b[0;31mKeyboardInterrupt\u001b[0m                         Traceback (most recent call last)",
            "\u001b[0;32m<ipython-input-13-dca688ca3948>\u001b[0m in \u001b[0;36m<cell line: 2>\u001b[0;34m()\u001b[0m\n\u001b[1;32m      1\u001b[0m \u001b[0;31m# 1. 세 변의 길이 입력 받기\u001b[0m\u001b[0;34m\u001b[0m\u001b[0;34m\u001b[0m\u001b[0m\n\u001b[0;32m----> 2\u001b[0;31m \u001b[0ma\u001b[0m \u001b[0;34m=\u001b[0m \u001b[0mint\u001b[0m\u001b[0;34m(\u001b[0m\u001b[0minput\u001b[0m\u001b[0;34m(\u001b[0m\u001b[0;34m'변 a의 길이: '\u001b[0m\u001b[0;34m)\u001b[0m\u001b[0;34m)\u001b[0m\u001b[0;34m\u001b[0m\u001b[0;34m\u001b[0m\u001b[0m\n\u001b[0m\u001b[1;32m      3\u001b[0m \u001b[0mb\u001b[0m \u001b[0;34m=\u001b[0m \u001b[0mint\u001b[0m\u001b[0;34m(\u001b[0m\u001b[0minput\u001b[0m\u001b[0;34m(\u001b[0m\u001b[0;34m'변 b의 길이: '\u001b[0m\u001b[0;34m)\u001b[0m\u001b[0;34m)\u001b[0m\u001b[0;34m\u001b[0m\u001b[0;34m\u001b[0m\u001b[0m\n\u001b[1;32m      4\u001b[0m \u001b[0mc\u001b[0m \u001b[0;34m=\u001b[0m \u001b[0mint\u001b[0m\u001b[0;34m(\u001b[0m\u001b[0minput\u001b[0m\u001b[0;34m(\u001b[0m\u001b[0;34m'변 c의 길이: '\u001b[0m\u001b[0;34m)\u001b[0m\u001b[0;34m)\u001b[0m \u001b[0;31m# 빗변이라 가정한다\u001b[0m\u001b[0;34m\u001b[0m\u001b[0;34m\u001b[0m\u001b[0m\n\u001b[1;32m      5\u001b[0m \u001b[0;34m\u001b[0m\u001b[0m\n",
            "\u001b[0;32m/usr/local/lib/python3.10/dist-packages/ipykernel/kernelbase.py\u001b[0m in \u001b[0;36mraw_input\u001b[0;34m(self, prompt)\u001b[0m\n\u001b[1;32m    849\u001b[0m                 \u001b[0;34m\"raw_input was called, but this frontend does not support input requests.\"\u001b[0m\u001b[0;34m\u001b[0m\u001b[0;34m\u001b[0m\u001b[0m\n\u001b[1;32m    850\u001b[0m             )\n\u001b[0;32m--> 851\u001b[0;31m         return self._input_request(str(prompt),\n\u001b[0m\u001b[1;32m    852\u001b[0m             \u001b[0mself\u001b[0m\u001b[0;34m.\u001b[0m\u001b[0m_parent_ident\u001b[0m\u001b[0;34m,\u001b[0m\u001b[0;34m\u001b[0m\u001b[0;34m\u001b[0m\u001b[0m\n\u001b[1;32m    853\u001b[0m             \u001b[0mself\u001b[0m\u001b[0;34m.\u001b[0m\u001b[0m_parent_header\u001b[0m\u001b[0;34m,\u001b[0m\u001b[0;34m\u001b[0m\u001b[0;34m\u001b[0m\u001b[0m\n",
            "\u001b[0;32m/usr/local/lib/python3.10/dist-packages/ipykernel/kernelbase.py\u001b[0m in \u001b[0;36m_input_request\u001b[0;34m(self, prompt, ident, parent, password)\u001b[0m\n\u001b[1;32m    893\u001b[0m             \u001b[0;32mexcept\u001b[0m \u001b[0mKeyboardInterrupt\u001b[0m\u001b[0;34m:\u001b[0m\u001b[0;34m\u001b[0m\u001b[0;34m\u001b[0m\u001b[0m\n\u001b[1;32m    894\u001b[0m                 \u001b[0;31m# re-raise KeyboardInterrupt, to truncate traceback\u001b[0m\u001b[0;34m\u001b[0m\u001b[0;34m\u001b[0m\u001b[0m\n\u001b[0;32m--> 895\u001b[0;31m                 \u001b[0;32mraise\u001b[0m \u001b[0mKeyboardInterrupt\u001b[0m\u001b[0;34m(\u001b[0m\u001b[0;34m\"Interrupted by user\"\u001b[0m\u001b[0;34m)\u001b[0m \u001b[0;32mfrom\u001b[0m \u001b[0;32mNone\u001b[0m\u001b[0;34m\u001b[0m\u001b[0;34m\u001b[0m\u001b[0m\n\u001b[0m\u001b[1;32m    896\u001b[0m             \u001b[0;32mexcept\u001b[0m \u001b[0mException\u001b[0m \u001b[0;32mas\u001b[0m \u001b[0me\u001b[0m\u001b[0;34m:\u001b[0m\u001b[0;34m\u001b[0m\u001b[0;34m\u001b[0m\u001b[0m\n\u001b[1;32m    897\u001b[0m                 \u001b[0mself\u001b[0m\u001b[0;34m.\u001b[0m\u001b[0mlog\u001b[0m\u001b[0;34m.\u001b[0m\u001b[0mwarning\u001b[0m\u001b[0;34m(\u001b[0m\u001b[0;34m\"Invalid Message:\"\u001b[0m\u001b[0;34m,\u001b[0m \u001b[0mexc_info\u001b[0m\u001b[0;34m=\u001b[0m\u001b[0;32mTrue\u001b[0m\u001b[0;34m)\u001b[0m\u001b[0;34m\u001b[0m\u001b[0;34m\u001b[0m\u001b[0m\n",
            "\u001b[0;31mKeyboardInterrupt\u001b[0m: Interrupted by user"
          ]
        }
      ],
      "source": [
        "# 1. 세 변의 길이 입력 받기\n",
        "a = int(input('변 a의 길이: '))\n",
        "b = int(input('변 b의 길이: '))\n",
        "c = int(input('변 c의 길이: ')) # 빗변이라 가정한다\n",
        "\n",
        "print('-' * 30)  # 분리 선\n",
        "\n",
        "# 2. 직각삼각형 판별하기\n",
        "if (a*a)+(b*b)==c*c: # a**2 + b**2 == c**2\n",
        "    print(f'직각삼각형입니다.')\n",
        "else:\n",
        "    print(f'직각삼각형이 아닙니다.')\n"
      ]
    },
    {
      "cell_type": "markdown",
      "source": [
        "## [참고] 기술통계 함수"
      ],
      "metadata": {
        "id": "jDo3Ij4MsFhd"
      },
      "id": "jDo3Ij4MsFhd"
    },
    {
      "cell_type": "code",
      "source": [
        "a = [1,2,3,4,5]\n",
        "print(f'{a}의 개수(길이): {len(a)}' )\n",
        "print(f'{a}의 합계  : {sum(a)}' )\n",
        "print(f'{a}의 최소값: {min(a)}' )\n",
        "print(f'{a}의 최대값: {max(a)}' )\n",
        "print(f'{a}의 평균  : {sum(a)/len(a)}' )"
      ],
      "metadata": {
        "colab": {
          "base_uri": "https://localhost:8080/"
        },
        "id": "KjNJl0TdqgaY",
        "outputId": "db19fe89-ad32-4188-ae64-4e1cf5d10a7a"
      },
      "id": "KjNJl0TdqgaY",
      "execution_count": null,
      "outputs": [
        {
          "output_type": "stream",
          "name": "stdout",
          "text": [
            "[1, 2, 3, 4, 5]의 개수(길이): 5\n",
            "[1, 2, 3, 4, 5]의 합계  : 15\n",
            "[1, 2, 3, 4, 5]의 최소값: 1\n",
            "[1, 2, 3, 4, 5]의 최대값: 5\n",
            "[1, 2, 3, 4, 5]의 평균  : 3.0\n"
          ]
        }
      ]
    },
    {
      "cell_type": "code",
      "source": [
        "score=int(input('성적을 입력해 주세요:'))\n",
        "grade='' # 처음엔 빈 변수 or else 삭제하고 처음부터 grade='D'라고 해도 됨\n",
        "if score>=90:   grade='A' # score>89라고 해도 됨(정수라는 조건이 있다면)\n",
        "elif score>=80: grade='B'\n",
        "elif score>=70: grade='C'\n",
        "else:           grade='D'\n",
        "\n",
        "print(f'성적: {score} 는 {grade} 등급 입니다.')"
      ],
      "metadata": {
        "colab": {
          "base_uri": "https://localhost:8080/"
        },
        "id": "B3I8H2jMtuW6",
        "outputId": "8b3acd49-08af-47da-9061-58c6d56462fc"
      },
      "id": "B3I8H2jMtuW6",
      "execution_count": null,
      "outputs": [
        {
          "output_type": "stream",
          "name": "stdout",
          "text": [
            "성적을 입력해 주세요:60\n",
            "성적: 60 는 D 등급 입니다.\n"
          ]
        }
      ]
    },
    {
      "cell_type": "code",
      "source": [
        "temp=int(input('온도를 입력해 주세요:'))\n",
        "if temp>=30: print(f'온도가 {temp} 에요. 에어컨을 켜세요.')\n",
        "elif 10<temp<15: print(f'온도가 {temp} 에요. 내복을 입으세요.')\n",
        "elif temp<=10: print(f'온도가 {temp} 에요. 난방기를 켜세요')\n",
        "else: print(f'온도가: {temp} 에요. 쾌적한 온도!')"
      ],
      "metadata": {
        "colab": {
          "base_uri": "https://localhost:8080/"
        },
        "id": "Zb1ExZVixfGT",
        "outputId": "5a7a819f-87ee-4cf5-dfce-90789cf0aa81"
      },
      "id": "Zb1ExZVixfGT",
      "execution_count": null,
      "outputs": [
        {
          "output_type": "stream",
          "name": "stdout",
          "text": [
            "온도를 입력해 주세요:25\n",
            "온도가: 25 에요. 쾌적한 온도!\n"
          ]
        }
      ]
    },
    {
      "cell_type": "code",
      "source": [
        "temp = int(input(\"현재 온도를 넣으세요: \"))\n",
        "speaker = \"온도가 쾌적해요\" # VSC에서 TTS 기능 terminal에서 pip install pywin32 입력 후, 설치\n",
        "\n",
        "if temp >= 30:\n",
        "    speaker = \"에어컨을 켜세요\"\n",
        "elif temp < 15:\n",
        "    speaker = \"내복을 입으세요\"\n",
        "    if temp <= 10:\n",
        "        speaker = \"난방기를 켜세요\"\n",
        "\n",
        "print(f'온도 {temp}도 일때는 {speaker}')"
      ],
      "metadata": {
        "id": "rwuz9uXf1h5V"
      },
      "id": "rwuz9uXf1h5V",
      "execution_count": null,
      "outputs": []
    },
    {
      "cell_type": "code",
      "source": [
        "import win32com.client\n",
        "\n",
        "tts = win32com.client.Dispatch(\"SAPI.SpVoice\")\n",
        "tts.Speak('조건문 만들기 프로그램입니다.')\n",
        "\n",
        "tts.Speak('현재 온도를 넣으세요')\n",
        "temp = int(input(\"현재 온도를 넣으세요: \"))\n",
        "speaker = \"온도가 쾌적해요\" # VSC에서 TTS 기능 terminal에서 pip install pywin32 입력 후, 설치\n",
        "\n",
        "if temp >= 30:\n",
        "    speaker = \"에어컨을 켜세요\"\n",
        "elif temp < 15:\n",
        "    speaker = \"내복을 입으세요\"\n",
        "    if temp <= 10:\n",
        "        speaker += \" 그리고 난방기를 켜세요\"\n",
        "\n",
        "print(f'{temp}도 일때는 {speaker}')\n",
        "tts.Speak(f'{temp}도 일때는 {speaker}')"
      ],
      "metadata": {
        "id": "95uYJ7g73OH_"
      },
      "id": "95uYJ7g73OH_",
      "execution_count": null,
      "outputs": []
    },
    {
      "cell_type": "markdown",
      "source": [
        "## 코랩(윈도우)에서 gTTS 기능 사용하기"
      ],
      "metadata": {
        "id": "W6g8gXwU-OYD"
      },
      "id": "W6g8gXwU-OYD"
    },
    {
      "cell_type": "code",
      "source": [
        "!pip install gtts"
      ],
      "metadata": {
        "colab": {
          "base_uri": "https://localhost:8080/"
        },
        "id": "cfG7w57-951U",
        "outputId": "4f9d9243-f964-4cd0-8266-eb0c6b1037a9"
      },
      "id": "cfG7w57-951U",
      "execution_count": null,
      "outputs": [
        {
          "output_type": "stream",
          "name": "stdout",
          "text": [
            "Collecting gtts\n",
            "  Downloading gTTS-2.3.2-py3-none-any.whl (28 kB)\n",
            "Requirement already satisfied: requests<3,>=2.27 in /usr/local/lib/python3.10/dist-packages (from gtts) (2.31.0)\n",
            "Requirement already satisfied: click<8.2,>=7.1 in /usr/local/lib/python3.10/dist-packages (from gtts) (8.1.6)\n",
            "Requirement already satisfied: charset-normalizer<4,>=2 in /usr/local/lib/python3.10/dist-packages (from requests<3,>=2.27->gtts) (3.2.0)\n",
            "Requirement already satisfied: idna<4,>=2.5 in /usr/local/lib/python3.10/dist-packages (from requests<3,>=2.27->gtts) (3.4)\n",
            "Requirement already satisfied: urllib3<3,>=1.21.1 in /usr/local/lib/python3.10/dist-packages (from requests<3,>=2.27->gtts) (2.0.4)\n",
            "Requirement already satisfied: certifi>=2017.4.17 in /usr/local/lib/python3.10/dist-packages (from requests<3,>=2.27->gtts) (2023.7.22)\n",
            "Installing collected packages: gtts\n",
            "Successfully installed gtts-2.3.2\n"
          ]
        }
      ]
    },
    {
      "cell_type": "code",
      "source": [
        "from gtts import gTTS\n",
        "from IPython.display import Audio\n",
        "\n",
        "kor_wav = gTTS('안녕 여러분!', lang = 'ko')\n",
        "kor_wav.save('kor.wav')\n",
        "display(Audio('kor.wav', autoplay=True))\n",
        "\n",
        "kor_wav = gTTS('Hello! Everyone', lang = 'en')\n",
        "kor_wav.save('eng.wav')\n",
        "display(Audio('eng.wav', autoplay=True))"
      ],
      "metadata": {
        "colab": {
          "base_uri": "https://localhost:8080/",
          "height": 132
        },
        "id": "n5dWNiIE-MhM",
        "outputId": "c1753867-d7c9-4cc7-bb3e-e932a3fcc24c"
      },
      "id": "n5dWNiIE-MhM",
      "execution_count": null,
      "outputs": [
        {
          "output_type": "display_data",
          "data": {
            "text/plain": [
              "<IPython.lib.display.Audio object>"
            ],
            "text/html": [
              "\n",
              "                <audio  controls=\"controls\" autoplay=\"autoplay\">\n",
              "                    <source src=\"data:audio/x-wav;base64,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\" type=\"audio/x-wav\" />\n",
              "                    Your browser does not support the audio element.\n",
              "                </audio>\n",
              "              "
            ]
          },
          "metadata": {}
        },
        {
          "output_type": "display_data",
          "data": {
            "text/plain": [
              "<IPython.lib.display.Audio object>"
            ],
            "text/html": [
              "\n",
              "                <audio  controls=\"controls\" autoplay=\"autoplay\">\n",
              "                    <source src=\"data:audio/x-wav;base64,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\" type=\"audio/x-wav\" />\n",
              "                    Your browser does not support the audio element.\n",
              "                </audio>\n",
              "              "
            ]
          },
          "metadata": {}
        }
      ]
    },
    {
      "cell_type": "markdown",
      "id": "862598a5",
      "metadata": {
        "id": "862598a5"
      },
      "source": [
        "### [실습문제]\n",
        "아래 조건을 만족하는 커피 자동주문 머신을 만들어보세요.<br><br>\n",
        "[커피 자동주문 머신]<br>\n",
        "친구들과 현금 커피 자동주문 머신 앞에서\n",
        " - 아메리카노 2잔과 카페라테 2잔 카푸치노 1잔을 주문하였다.\n",
        " - 아메리카노 한잔에 2500원이고\n",
        " - 카페라테는 한잔에 3000원\n",
        " - 카푸치노는 한잔에 3000원이다.\n",
        "커피 종류와 잔 수를 결정한 후 현금 15000원을 투입하고 잔돈을 1000원 받았다."
      ]
    },
    {
      "cell_type": "code",
      "execution_count": null,
      "id": "0d6035c2",
      "metadata": {
        "colab": {
          "base_uri": "https://localhost:8080/"
        },
        "id": "0d6035c2",
        "outputId": "ac7c5e34-deb4-4d1e-e101-b7b8a6b067fd"
      },
      "outputs": [
        {
          "output_type": "stream",
          "name": "stdout",
          "text": [
            "[커피 자동주문 머신 메뉴]\n",
            "------------------------------\n",
            "-아메리카노는 2500원\n",
            "-카레라떼는 3000원\n",
            "-카푸치노는 3000원\n",
            "입니다. 원하시는 커피종류와 잔수를 입력하세요.\n",
            "------------------------------\n",
            "아메리카노 몇잔?:1\n",
            "카페라떼 몇잔?:1\n",
            "카푸치노 몇잔?:1\n",
            "지불할 총 금액은 8500원 입니다. \n",
            "돈을 넣어주세요:5000\n",
            "입력한 금액이 부족합니다. 3500원을 더 넣어주세요.\n"
          ]
        }
      ],
      "source": [
        "menu = '''[커피 자동주문 머신 메뉴]\n",
        "------------------------------\n",
        "-아메리카노는 2500원\n",
        "-카레라떼는 3000원\n",
        "-카푸치노는 3000원\n",
        "입니다. 원하시는 커피종류와 잔수를 입력하세요.\n",
        "------------------------------'''\n",
        "print(menu)\n",
        "coffee1 = int(input(\"아메리카노 몇잔?:\"))\n",
        "coffee2 = int(input(\"카페라떼 몇잔?:\"))\n",
        "coffee3 = int(input(\"카푸치노 몇잔?:\"))\n",
        "Total=coffee1*2500 + coffee2*3000 + coffee3*3000\n",
        "print(f'지불할 총 금액은 {Total}원 입니다. ')\n",
        "money=int(input('돈을 넣어주세요:')) # money=int(input(f'{Total}원을 넣어주세요.'))\n",
        "\n",
        "if money>=Total:\n",
        "    print(f'거스름돈은 {money-Total}원입니다.')\n",
        "else:\n",
        "    print(f'입력한 금액이 부족합니다. {abs(Total-money)}원을 더 넣어주세요.')\n",
        "\n",
        "\n",
        "\n"
      ]
    },
    {
      "cell_type": "markdown",
      "source": [
        "## 간소화된 조건문 표현식"
      ],
      "metadata": {
        "id": "0qIabKmjGU9b"
      },
      "id": "0qIabKmjGU9b"
    },
    {
      "cell_type": "code",
      "source": [
        "score=int(input('점수를 입력하세요:'))\n",
        "if score>=80:\n",
        "    message='성공'\n",
        "else :\n",
        "    message='실패'\n",
        "print(f'{score}점일 때 {message}')"
      ],
      "metadata": {
        "colab": {
          "base_uri": "https://localhost:8080/"
        },
        "id": "fbTyiv0jGTWk",
        "outputId": "8ed1016d-86f2-4dc0-d2bc-cb3e6f894303"
      },
      "id": "fbTyiv0jGTWk",
      "execution_count": null,
      "outputs": [
        {
          "output_type": "stream",
          "name": "stdout",
          "text": [
            "점수를 입력하세요:70\n",
            "70점일 때 실패\n"
          ]
        }
      ]
    },
    {
      "cell_type": "code",
      "source": [
        "score=int(input('점수를 입력하세요:'))\n",
        "# message='성공' if score>=80 else '실패' # : 이 없음\n",
        "print(f'{score}점일 때 {\"성공\" if score>=80  else \"실패\"}')"
      ],
      "metadata": {
        "colab": {
          "base_uri": "https://localhost:8080/"
        },
        "id": "tb5CHEwSG4T1",
        "outputId": "c5b66fd9-3a01-4a23-ba48-990b88f7f405"
      },
      "id": "tb5CHEwSG4T1",
      "execution_count": null,
      "outputs": [
        {
          "output_type": "stream",
          "name": "stdout",
          "text": [
            "점수를 입력하세요:50\n",
            "50점일 때 실패\n"
          ]
        }
      ]
    },
    {
      "cell_type": "markdown",
      "id": "67412428",
      "metadata": {
        "id": "67412428"
      },
      "source": [
        "## 3-2.반복문"
      ]
    },
    {
      "cell_type": "markdown",
      "id": "44197774",
      "metadata": {
        "id": "44197774"
      },
      "source": [
        "### 반복문: for 반복문"
      ]
    },
    {
      "cell_type": "markdown",
      "source": [
        "## 1. range() 함수 사용하여 반복하기"
      ],
      "metadata": {
        "id": "JzbNtPofJotO"
      },
      "id": "JzbNtPofJotO"
    },
    {
      "cell_type": "code",
      "execution_count": null,
      "id": "9f69ecc4",
      "metadata": {
        "scrolled": true,
        "colab": {
          "base_uri": "https://localhost:8080/"
        },
        "id": "9f69ecc4",
        "outputId": "885ab432-379e-482f-e141-b940dceca393"
      },
      "outputs": [
        {
          "output_type": "stream",
          "name": "stdout",
          "text": [
            "0\n",
            "1\n",
            "2\n"
          ]
        }
      ],
      "source": [
        "# for i in range(0,3,1):\n",
        "# for i in range(3,1): # 0부터\n",
        "# for i in range(0,3): # 1씩 증가\n",
        "for i in range(0,3,1):\n",
        "    print(i)\n"
      ]
    },
    {
      "cell_type": "markdown",
      "source": [
        "##2. 문자열 길이를 이용하여 반복하기"
      ],
      "metadata": {
        "id": "FyyJSzDXKQpU"
      },
      "id": "FyyJSzDXKQpU"
    },
    {
      "cell_type": "code",
      "source": [
        "사과='apple'\n",
        "for i in 사과:\n",
        "    print(i)\n",
        "    print('사과') # 사과 5번 출력(사과 문자열 만큼 반복한다)\n"
      ],
      "metadata": {
        "colab": {
          "base_uri": "https://localhost:8080/"
        },
        "id": "PHUFkTQ3KHsU",
        "outputId": "a6fb94bd-05f3-47f3-b335-68717fcd9733"
      },
      "id": "PHUFkTQ3KHsU",
      "execution_count": null,
      "outputs": [
        {
          "output_type": "stream",
          "name": "stdout",
          "text": [
            "a\n",
            "p\n",
            "p\n",
            "l\n",
            "e\n"
          ]
        }
      ]
    },
    {
      "cell_type": "code",
      "source": [
        "fruits=['a', 'b', 'c']\n",
        "for fruit in fruits:\n",
        "    print(f'내가 좋아하는 과일 {fruit}!')"
      ],
      "metadata": {
        "colab": {
          "base_uri": "https://localhost:8080/"
        },
        "id": "5rSIT7RRLkls",
        "outputId": "51c9ad77-a9b8-4b2b-e87d-cf1b3b9d939f"
      },
      "id": "5rSIT7RRLkls",
      "execution_count": null,
      "outputs": [
        {
          "output_type": "stream",
          "name": "stdout",
          "text": [
            "내가 좋아하는 과일 a!\n",
            "내가 좋아하는 과일 b!\n",
            "내가 좋아하는 과일 c!\n"
          ]
        }
      ]
    },
    {
      "cell_type": "markdown",
      "id": "8288e636",
      "metadata": {
        "id": "8288e636"
      },
      "source": [
        "### [실습문제]\n",
        "키보드로 양의 정수(n)을 입력 받아 1~n까지의 합을 구하는 프로그램을 만들어 보세요."
      ]
    },
    {
      "cell_type": "code",
      "execution_count": null,
      "id": "d6774150",
      "metadata": {
        "colab": {
          "base_uri": "https://localhost:8080/"
        },
        "id": "d6774150",
        "outputId": "21e78876-e376-4eb2-b6b3-5036785b9d1f"
      },
      "outputs": [
        {
          "output_type": "stream",
          "name": "stdout",
          "text": [
            "합계를 구할 숫자 입력:10\n",
            "0 + 0\n",
            "0 + 1\n",
            "1 + 2\n",
            "3 + 3\n",
            "6 + 4\n",
            "10 + 5\n",
            "15 + 6\n",
            "21 + 7\n",
            "28 + 8\n",
            "36 + 9\n",
            "45 + 10\n",
            "1~10까지의 합은 55입니다.\n"
          ]
        }
      ],
      "source": [
        "# 1. 1~N까지 합계를 구하세요.\n",
        "n=int(input('합계를 구할 숫자 입력:'))\n",
        "hap=0\n",
        "for i in range(0,n+1,1):\n",
        "    print(f'{hap} + {i}')\n",
        "    hap+=i #hap=hap=1\n",
        "\n",
        "print(f'1~{n}까지의 합은 {hap}입니다.')"
      ]
    },
    {
      "cell_type": "code",
      "source": [
        "# 2. 1~N까지 홀수의 합계를 구하세요.\n",
        "n=int(input('홀수 합계를 구할 숫자 입력:'))\n",
        "hap=0\n",
        "for i in range(1,n+1,2):\n",
        "    print(f'{hap} + {i}')\n",
        "    hap+=i\n",
        "\n",
        "print(f'1~{n}까지의 홀수의 합은 {hap}입니다.')"
      ],
      "metadata": {
        "colab": {
          "base_uri": "https://localhost:8080/"
        },
        "id": "Wz17qegAOmLO",
        "outputId": "0f65ff16-b94f-4818-8dec-0aeadb5d8575"
      },
      "id": "Wz17qegAOmLO",
      "execution_count": null,
      "outputs": [
        {
          "output_type": "stream",
          "name": "stdout",
          "text": [
            "홀수 합계를 구할 숫자 입력:10\n",
            "0 + 1\n",
            "1 + 3\n",
            "4 + 5\n",
            "9 + 7\n",
            "16 + 9\n",
            "1~10까지의 홀수의 합은 25입니다.\n"
          ]
        }
      ]
    },
    {
      "cell_type": "code",
      "source": [
        "# 2. 1~N까지 홀수의 합계를 구하세요.\n",
        "n=int(input('합계를 구할 숫자 입력:'))\n",
        "hap=0\n",
        "for i in range(0,n+1,1):\n",
        "    if i%2==0: # 짝수\n",
        "      continue # Skip을 의미\n",
        "    else:\n",
        "      hap+=i\n",
        "\n",
        "print(f'1~{n}까지의 합은 {hap}입니다.')"
      ],
      "metadata": {
        "colab": {
          "base_uri": "https://localhost:8080/"
        },
        "id": "ucnGyqdHQd1x",
        "outputId": "f6a36b18-9842-4486-e35a-1b8e67719b6b"
      },
      "id": "ucnGyqdHQd1x",
      "execution_count": null,
      "outputs": [
        {
          "output_type": "stream",
          "name": "stdout",
          "text": [
            "합계를 구할 숫자 입력:10\n",
            "1~10까지의 합은 25입니다.\n"
          ]
        }
      ]
    },
    {
      "cell_type": "markdown",
      "id": "aae06acb",
      "metadata": {
        "id": "aae06acb"
      },
      "source": [
        "### [실습문제]\n",
        "키보드로 양의 정수(n)을 입력 받아 1~n까지의 합을 구할 때 짝수를 제외하고 합을 구하는 프로그램을 만들어 보세요."
      ]
    },
    {
      "cell_type": "code",
      "execution_count": null,
      "id": "c87285cf",
      "metadata": {
        "id": "c87285cf"
      },
      "outputs": [],
      "source": [
        "\n"
      ]
    },
    {
      "cell_type": "markdown",
      "source": [
        "## [참고] 터틀 모듈 사용 예제 ------------------------"
      ],
      "metadata": {
        "id": "1qyMlOExSYux"
      },
      "id": "1qyMlOExSYux"
    },
    {
      "cell_type": "code",
      "source": [
        "# VSD에서 사용해야 함(코랩에서는 안됌)\n",
        "import turtle\n",
        "\n",
        "t=turtle.Pen()    # 펜블럭\n",
        "# t.shape('turtle') # 커서 모양\n",
        "# t.color('red')    # 선 색생\n",
        "# t.pensize(5)      # 선 굵기\n",
        "\n",
        "t.forward(100)\n",
        "t.right(72)\n",
        "t.forward(100)\n",
        "t.right(72)\n",
        "t.forward(100)\n",
        "t.right(72)\n",
        "t.forward(100)\n",
        "t.right(72)\n",
        "t.forward(100)\n",
        "t.right(72)\n",
        "\n",
        "turtle.exitonclick()"
      ],
      "metadata": {
        "id": "jzSZIJvKSa8X"
      },
      "id": "jzSZIJvKSa8X",
      "execution_count": null,
      "outputs": []
    },
    {
      "cell_type": "markdown",
      "id": "ac62e6f7",
      "metadata": {
        "id": "ac62e6f7"
      },
      "source": [
        "### 반복문: while 반복문"
      ]
    },
    {
      "cell_type": "code",
      "execution_count": null,
      "id": "f2fb3ce9",
      "metadata": {
        "colab": {
          "base_uri": "https://localhost:8080/"
        },
        "id": "f2fb3ce9",
        "outputId": "dd957d6f-41b1-47c7-caff-0d7d06b5097c"
      },
      "outputs": [
        {
          "output_type": "stream",
          "name": "stdout",
          "text": [
            "더할 첫 번째 숫자: 20\n",
            "더할 두 번째 숫자: 50\n",
            "20 + 50 = 70\n",
            "더할 첫 번째 숫자: 0\n",
            "더할 두 번째 숫자: 0\n",
            "0 + 0 = 0\n",
            "0을 입력해서 반복문을 탈출했습니다.\n"
          ]
        }
      ],
      "source": [
        "num1, num2 = 1, 1\n",
        "\n",
        "while num1 != 0:\n",
        "    num1 = int(input(\"더할 첫 번째 숫자: \"))\n",
        "    num2 = int(input(\"더할 두 번째 숫자: \"))\n",
        "    print(f'{num1} + {num2} = {num1 + num2}')\n",
        "\n",
        "print(\"0을 입력해서 반복문을 탈출했습니다.\")"
      ]
    },
    {
      "cell_type": "markdown",
      "id": "02a797a4",
      "metadata": {
        "id": "02a797a4"
      },
      "source": [
        "### [실습문제] 도둑잡기 게임 만들기\n",
        "경찰에 쫓기던 범인이 3개의 방 중에 한 곳에 숨어버렸습니다. 범인은 방문을 열 때마다 무작위로 3개의 방 중 하나의 방으로 이동합니다. 3개의 방 중 하나의 방을 선택했을 때 범인이 있다면 100점, 없을 때 -10점을 부여하고 범인을 잡으면 게임을 종료하는 프로그램을 만들어 보세요."
      ]
    },
    {
      "cell_type": "code",
      "execution_count": null,
      "id": "e08b9dc4",
      "metadata": {
        "colab": {
          "base_uri": "https://localhost:8080/"
        },
        "id": "e08b9dc4",
        "outputId": "839971a7-487f-4a07-f037-f899c3c89b28"
      },
      "outputs": [
        {
          "output_type": "stream",
          "name": "stdout",
          "text": [
            "방 번호를 입력하세요(1,2,3): 2\n",
            "범인이 없습니다.\n",
            "방 번호를 입력하세요(1,2,3): 3\n",
            "범인이 없습니다.\n",
            "방 번호를 입력하세요(1,2,3): 1\n",
            "범인이 없습니다.\n",
            "방 번호를 입력하세요(1,2,3): 2\n",
            "범인이 없습니다.\n",
            "방 번호를 입력하세요(1,2,3): 3\n",
            "범인 체포!\n",
            "게임 종료!\n",
            "점수: 60 점\n"
          ]
        }
      ],
      "source": [
        "import random\n",
        "score = 0\n",
        "\n",
        "while True: # 무한반복\n",
        "  room = random.randint(1, 3)  # 1.무작위로 범인 방 배치\n",
        "  n = int(input('방 번호를 입력하세요(1,2,3): ')) # 2.사용자로부터 방 번호 입력 받기\n",
        "# 3.사용자가 입력한 방 번호와 범인이 있는 방 비교\n",
        "  if n == room: # 4.범인을 찾으면\n",
        "    print(\"범인 체포!\") # 범인 체포1라는 메시지 출력\n",
        "    score += 100      # 점수 증가\n",
        "    break          # 무한반복 빠져 나가기\n",
        "\n",
        "  else: # 5.범인을 찾지 못하면\n",
        "    print(\"범인이 없습니다.\")  # 범인을 찾지 못했다라는 메시지 출겨\n",
        "    score -= 10        # 점수 감소\n",
        "\n",
        "print('게임 종료!') # 게임 종료 메시지 출력\n",
        "print(f'점수: {score} 점') # 최종 점수 출력\n"
      ]
    },
    {
      "cell_type": "markdown",
      "id": "0d03701c",
      "metadata": {
        "id": "0d03701c"
      },
      "source": [
        "### [실습문제] 공이 튕긴 횟수 구하기\n",
        "공을 일정 높이에서 떨어뜨리면, 원래 높이의 1/2만큼 튀어 오릅니다. 이를 반복하다가 높이가 0.00001m보다 낮으면 튀어 오르지 않습니다. while문을 이용하여 공이 튀어 오르는 총 횟수를 구하는 프로그램을 만들어 보세요."
      ]
    },
    {
      "cell_type": "code",
      "execution_count": null,
      "id": "1ac5675e",
      "metadata": {
        "scrolled": true,
        "id": "1ac5675e"
      },
      "outputs": [],
      "source": [
        "\n"
      ]
    },
    {
      "cell_type": "markdown",
      "id": "ecdb476f",
      "metadata": {
        "id": "ecdb476f"
      },
      "source": [
        "### [실습문제] 커피 자동주문 프로그램 업그레이드\n",
        "앞에서 만들어 본 커피 자동주문 머신 프로그램을 while문을 이용하여 돈을 모두 지불할 때까지 돈을 입력 받도록 프로그램 기능 수정하기"
      ]
    },
    {
      "cell_type": "code",
      "execution_count": null,
      "id": "2ce8fbfc",
      "metadata": {
        "scrolled": true,
        "colab": {
          "base_uri": "https://localhost:8080/"
        },
        "id": "2ce8fbfc",
        "outputId": "bd60ebbf-294e-4175-a389-9d1ef7703538"
      },
      "outputs": [
        {
          "output_type": "stream",
          "name": "stdout",
          "text": [
            "[커피 자동주문 머신 메뉴]\n",
            "------------------------------\n",
            "-아메리카노는 2500원\n",
            "-카레라떼는 3000원\n",
            "-카푸치노는 3000원\n",
            "입니다. 원하시는 커피종류와 잔수를 입력하세요.\n",
            "------------------------------\n",
            "아메리카노 몇잔?1\n",
            "카페라떼 몇잔?1\n",
            "카푸치노 몇잔?1\n",
            "지불할 총 금액은  8500 원 입니다\n",
            "--------------------------------------------------\n",
            "돈을 넣어주세요:5000\n",
            "입력한 금액이 부족합니다. 3500원을 더 넣어주세요.\n",
            "--------------------------------------------------\n",
            "돈을 넣어주세요:3500\n",
            "거스름돈은 0원입니다. 커피 맛있게 드세요!\n",
            "--------------------------------------------------\n"
          ]
        }
      ],
      "source": [
        "menu = '''[커피 자동주문 머신 메뉴]\n",
        "------------------------------\n",
        "-아메리카노는 2500원\n",
        "-카레라떼는 3000원\n",
        "-카푸치노는 3000원\n",
        "입니다. 원하시는 커피종류와 잔수를 입력하세요.\n",
        "------------------------------'''\n",
        "print(menu)\n",
        "coffee1 = int(input(\"아메리카노 몇잔?\"))\n",
        "coffee2 = int(input(\"카페라떼 몇잔?\"))\n",
        "coffee3 = int(input(\"카푸치노 몇잔?\"))\n",
        "\n",
        "total = coffee1*2500 + coffee2*3000 + coffee3*3000\n",
        "print(\"지불할 총 금액은 \", total, \"원 입니다\")\n",
        "\n",
        "while True:\n",
        "  print(\"-\"*50)\n",
        "\n",
        "  money=int(input(\"돈을 넣어주세요:\")) # money=int(input(f'{Total}원을 넣어주세요.'))\n",
        "  change= total-money\n",
        "  if total > money:\n",
        "    print(f'입력한 금액이 부족합니다. {change}원을 더 넣어주세요.')\n",
        "    total=total-money\n",
        "  else:\n",
        "    print(f'거스름돈은 {money-total}원입니다. 커피 맛있게 드세요!')\n",
        "    break # 문장 빠져나가기\n",
        "\n",
        "print(\"-\"*50)\n",
        "\n",
        "\n",
        "\n",
        "\n"
      ]
    },
    {
      "cell_type": "code",
      "source": [
        "# 공이 튕긴 횟수 구하기\n",
        "\n",
        "length=int(input('공의 높이를 입력하세요(meter):'))\n",
        "meter, cnt=length, 0\n",
        "while length > 0.00001:\n",
        "      length=length*0.5\n",
        "      cnt+=1\n",
        "\n",
        "print(f'{meter} 위치에서 공의 튕긴 횟수는 총 {cnt}번 입니다.')\n",
        "\n"
      ],
      "metadata": {
        "colab": {
          "base_uri": "https://localhost:8080/"
        },
        "id": "Np6Pos_7udq6",
        "outputId": "cb8db4bd-0862-4473-9b33-69fc66cd6ead"
      },
      "id": "Np6Pos_7udq6",
      "execution_count": 21,
      "outputs": [
        {
          "output_type": "stream",
          "name": "stdout",
          "text": [
            "공의 높이를 입력하세요(meter):30\n",
            "30 위치에서 공의 튕긴 횟수는 총 22번 입니다.\n"
          ]
        }
      ]
    },
    {
      "cell_type": "code",
      "source": [
        "length=int(input('공의 높이를 입력하세요(meter):'))\n",
        "cnt=0\n",
        "meter=length\n",
        "while True:\n",
        "  cnt+=1\n",
        "  meter=meter/2\n",
        "  if meter < 0.00001:\n",
        "        break\n",
        "print(f'{length} 위치에서 공의 튕긴 횟수는 총 {cnt}번 입니다.')"
      ],
      "metadata": {
        "colab": {
          "base_uri": "https://localhost:8080/"
        },
        "id": "CUvyq5w8yiBb",
        "outputId": "3a9268dc-1349-457c-f809-0995dbe2582c"
      },
      "id": "CUvyq5w8yiBb",
      "execution_count": 25,
      "outputs": [
        {
          "output_type": "stream",
          "name": "stdout",
          "text": [
            "공의 높이를 입력하세요(meter):30\n",
            "30 위치에서 공의 튕긴 횟수는 총 22번 입니다.\n"
          ]
        }
      ]
    },
    {
      "cell_type": "markdown",
      "id": "af0e48ab",
      "metadata": {
        "id": "af0e48ab"
      },
      "source": [
        "## 3-3.난수(Random Variable)"
      ]
    },
    {
      "cell_type": "code",
      "source": [
        "import numpy as np\n",
        "np.random.randint(10,20,size=10) # size는 갯수를 이야기 함"
      ],
      "metadata": {
        "colab": {
          "base_uri": "https://localhost:8080/"
        },
        "id": "8NNTNpKy1Y4Y",
        "outputId": "150f3bc3-dd9f-411f-836d-d53d8cfa964a"
      },
      "id": "8NNTNpKy1Y4Y",
      "execution_count": 26,
      "outputs": [
        {
          "output_type": "execute_result",
          "data": {
            "text/plain": [
              "array([18, 19, 14, 14, 11, 15, 14, 19, 16, 17])"
            ]
          },
          "metadata": {},
          "execution_count": 26
        }
      ]
    },
    {
      "cell_type": "code",
      "source": [
        "import random\n",
        "random.sample(range(1,46), 6) # 로또번호 출력"
      ],
      "metadata": {
        "colab": {
          "base_uri": "https://localhost:8080/"
        },
        "id": "Z_LWbysv2ljZ",
        "outputId": "b21a449f-ae75-49b7-b3c4-b6c5708fa5fa"
      },
      "id": "Z_LWbysv2ljZ",
      "execution_count": 28,
      "outputs": [
        {
          "output_type": "execute_result",
          "data": {
            "text/plain": [
              "[21, 9, 22, 38, 3, 19]"
            ]
          },
          "metadata": {},
          "execution_count": 28
        }
      ]
    },
    {
      "cell_type": "markdown",
      "id": "e34c55ca",
      "metadata": {
        "id": "e34c55ca"
      },
      "source": [
        "### [실습문제] 임의의 두 수 합 구하기\n",
        "1부터 10까지의 범위를 갖는 임의의 두 정수 a, b를 더하여 결과 출력하기"
      ]
    },
    {
      "cell_type": "code",
      "execution_count": 31,
      "id": "3c007936",
      "metadata": {
        "id": "3c007936",
        "colab": {
          "base_uri": "https://localhost:8080/"
        },
        "outputId": "3430ce53-ad7d-44e7-efeb-88fcac2f5d15"
      },
      "outputs": [
        {
          "output_type": "stream",
          "name": "stdout",
          "text": [
            "10 + 3 = 13\n"
          ]
        }
      ],
      "source": [
        "import random\n",
        "a=random.randint(1,10)\n",
        "b=random.randint(1,10)\n",
        "print(f'{a} + {b} = {a + b}')\n"
      ]
    },
    {
      "cell_type": "markdown",
      "id": "357e1bdd",
      "metadata": {
        "id": "357e1bdd"
      },
      "source": [
        "### [실습문제]\n",
        "주사위를 100번 던져서 나오는 숫자를 각 숫자별로 카운트하고 가장 많이 나온 숫자와 그 숫자의 횟수를 출력하시오."
      ]
    },
    {
      "cell_type": "code",
      "execution_count": 63,
      "id": "782da2b4",
      "metadata": {
        "id": "782da2b4",
        "colab": {
          "base_uri": "https://localhost:8080/"
        },
        "outputId": "896d4a44-a7bb-4d28-913a-d39e38ea20c4"
      },
      "outputs": [
        {
          "output_type": "stream",
          "name": "stdout",
          "text": [
            "[13, 16, 17, 17, 15, 22]\n",
            "가장 많이 나온 숫자:6 그 숫자의 횟수22 \n"
          ]
        }
      ],
      "source": [
        "# 주사위 100번 던지기\n",
        "import random\n",
        "cnt=0\n",
        "dice=[0,0,0,0,0,0]\n",
        "while True:\n",
        "      x = random.randint(1,6)\n",
        "      cnt+=1\n",
        "      dice[x-1]=dice[x-1]+1\n",
        "      if cnt==100:\n",
        "          break\n",
        "print(dice)\n",
        "print(f'가장 많이 나온 숫자:{dice.index(max(dice))+1} 그 숫자의 횟수{max(dice)} ')\n"
      ]
    },
    {
      "cell_type": "markdown",
      "id": "45e329e4",
      "metadata": {
        "id": "45e329e4"
      },
      "source": [
        "------------------------"
      ]
    },
    {
      "cell_type": "code",
      "source": [
        "import random\n",
        "dice=[0,0,0,0,0,0]\n",
        "for i in range(100):\n",
        "    x = random.randint(1,6)\n",
        "    dice[x-1]=dice[x-1]+1 # index가 0부터 시작하기 때문\n",
        "print(dice)\n",
        "print(f'가장 많이 나온 숫자:{dice.index(max(dice))+1} 그 숫자의 횟수{max(dice)} ')  # index가 0부터 시작하기 때문"
      ],
      "metadata": {
        "colab": {
          "base_uri": "https://localhost:8080/"
        },
        "id": "twAKDY9Q8--Q",
        "outputId": "6b0cd37c-6224-4e42-be59-f8d157deb072"
      },
      "id": "twAKDY9Q8--Q",
      "execution_count": 61,
      "outputs": [
        {
          "output_type": "stream",
          "name": "stdout",
          "text": [
            "[10, 17, 20, 18, 13, 22]\n",
            "가장 많이 나온 숫자:6 그 숫자의 횟수22 \n"
          ]
        }
      ]
    },
    {
      "cell_type": "code",
      "source": [
        "numlist=[]\n",
        "numlist=[num for num in range(1,6)]\n",
        "print(numlist)"
      ],
      "metadata": {
        "colab": {
          "base_uri": "https://localhost:8080/"
        },
        "id": "OAIkNSZKCXbw",
        "outputId": "fbdd16d2-c0fa-4521-9a5b-181998fa606b"
      },
      "id": "OAIkNSZKCXbw",
      "execution_count": 66,
      "outputs": [
        {
          "output_type": "stream",
          "name": "stdout",
          "text": [
            "[1, 2, 3, 4, 5]\n"
          ]
        }
      ]
    },
    {
      "cell_type": "markdown",
      "id": "66025633",
      "metadata": {
        "id": "66025633"
      },
      "source": [
        "끝"
      ]
    }
  ],
  "metadata": {
    "kernelspec": {
      "display_name": "Python 3 (ipykernel)",
      "language": "python",
      "name": "python3"
    },
    "language_info": {
      "codemirror_mode": {
        "name": "ipython",
        "version": 3
      },
      "file_extension": ".py",
      "mimetype": "text/x-python",
      "name": "python",
      "nbconvert_exporter": "python",
      "pygments_lexer": "ipython3",
      "version": "3.10.9"
    },
    "vscode": {
      "interpreter": {
        "hash": "b41e41bff03a930185ac2cbea60ce521f7c8c2f5401ceb5c30214081f77ab4f5"
      }
    },
    "colab": {
      "provenance": [],
      "include_colab_link": true
    }
  },
  "nbformat": 4,
  "nbformat_minor": 5
}