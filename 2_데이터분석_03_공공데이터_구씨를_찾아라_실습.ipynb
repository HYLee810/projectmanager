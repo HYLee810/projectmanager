{
  "cells": [
    {
      "cell_type": "markdown",
      "metadata": {
        "id": "view-in-github",
        "colab_type": "text"
      },
      "source": [
        "<a href=\"https://colab.research.google.com/github/HYLee810/projectmanager/blob/main/2_%EB%8D%B0%EC%9D%B4%ED%84%B0%EB%B6%84%EC%84%9D_03_%EA%B3%B5%EA%B3%B5%EB%8D%B0%EC%9D%B4%ED%84%B0_%EA%B5%AC%EC%94%A8%EB%A5%BC_%EC%B0%BE%EC%95%84%EB%9D%BC_%EC%8B%A4%EC%8A%B5.ipynb\" target=\"_parent\"><img src=\"https://colab.research.google.com/assets/colab-badge.svg\" alt=\"Open In Colab\"/></a>"
      ]
    },
    {
      "cell_type": "markdown",
      "id": "d019c073",
      "metadata": {
        "id": "d019c073"
      },
      "source": [
        "# 데이터 분석\n",
        "\n",
        "## 3. 공공데이터를 이용한 EDA 분석"
      ]
    },
    {
      "cell_type": "markdown",
      "id": "F16Xrgaki5CU",
      "metadata": {
        "id": "F16Xrgaki5CU"
      },
      "source": [
        "\n",
        "\n",
        "---\n",
        "\n"
      ]
    },
    {
      "cell_type": "markdown",
      "id": "7d944895",
      "metadata": {
        "id": "7d944895"
      },
      "source": [
        "## 3.구씨를 찾아라! EDA 분석하기"
      ]
    },
    {
      "cell_type": "markdown",
      "id": "90d314fc",
      "metadata": {
        "id": "90d314fc"
      },
      "source": [
        "### 3-1.파이썬으로 데이터 분석하는 순서\n",
        " [사전준비] 필요한 파이썬 라이브러리 설치하기\n",
        " 1. 데이터 준비하기 : 웹 사이트에서 공공데이터 다운로드하기\n",
        " 2. 데이터 불러오기 : 파이썬으로 데이터 읽어서 표로 나타내기\n",
        " 3. 데이터 전처리하기 : 필요한 데이터만 추출하기\n",
        " 4. 데이터 시각화하기 : 데이터 그래프로 나타내기\n",
        " 5. 데이터 저장하기 :  파일로 저장하기"
      ]
    },
    {
      "cell_type": "markdown",
      "id": "540ec9ab",
      "metadata": {
        "id": "540ec9ab"
      },
      "source": [
        "---"
      ]
    },
    {
      "cell_type": "markdown",
      "id": "1ab82cff",
      "metadata": {
        "id": "1ab82cff"
      },
      "source": [
        "### 0.[사전준비] 라이브러리 설치 확인하기\n",
        "아래 코드를 실행한 후 오류 메시지가 없으면 성공적으로 설치된 것입니다."
      ]
    },
    {
      "cell_type": "code",
      "execution_count": 3,
      "id": "59557988",
      "metadata": {
        "id": "59557988"
      },
      "outputs": [],
      "source": [
        "import pandas as pd\n",
        "import numpy as np\n",
        "import matplotlib.pyplot as plt"
      ]
    },
    {
      "cell_type": "markdown",
      "id": "24eb11e8",
      "metadata": {
        "id": "24eb11e8"
      },
      "source": [
        "### 1.데이터 다운로드하기"
      ]
    },
    {
      "cell_type": "markdown",
      "id": "afc2f362",
      "metadata": {
        "id": "afc2f362"
      },
      "source": [
        "- 국가통계포털 사이트  https://kosis.kr/index/index.do\n",
        "- 성씨ㆍ본관별_인구__시군구_~.csv 다운로드하기\n",
        " - ./sample_data/성씨ㆍ본관별_인구__시군구_20230510101129.csv"
      ]
    },
    {
      "cell_type": "markdown",
      "id": "e40e7c16",
      "metadata": {
        "id": "e40e7c16"
      },
      "source": [
        "---"
      ]
    },
    {
      "cell_type": "markdown",
      "id": "456d3b0d",
      "metadata": {
        "id": "456d3b0d"
      },
      "source": [
        "### 2.데이터 불러오기 : 파이썬으로 데이터 읽어서 표로 나타내기\n",
        "파일명(성씨ㆍ본관별_인구__시군구_~.csv)에서 뒷부분 숫자는 다운로드된 날짜의 시간정보로 선생님과 다를 수 있으니 자신이 다운로드 받은 파일명을 사용하면 됩니다."
      ]
    },
    {
      "cell_type": "code",
      "execution_count": 4,
      "id": "19431913",
      "metadata": {
        "id": "19431913",
        "colab": {
          "base_uri": "https://localhost:8080/",
          "height": 424
        },
        "outputId": "1ee7d650-644f-48f7-a0e8-9d670a5eea08"
      },
      "outputs": [
        {
          "output_type": "execute_result",
          "data": {
            "text/plain": [
              "     성씨, 본관별 행정구역별(시군구)      2015\n",
              "0          계         전국  49705663\n",
              "1          계      서울특별시   9567196\n",
              "2          계      부산광역시   3404667\n",
              "3          계      대구광역시   2436770\n",
              "4          계      인천광역시   2822601\n",
              "...      ...        ...       ...\n",
              "2764      기타       전라북도      3482\n",
              "2765      기타       전라남도      4172\n",
              "2766      기타       경상북도      4248\n",
              "2767      기타       경상남도      5711\n",
              "2768      기타    제주특별자치도      1935\n",
              "\n",
              "[2769 rows x 3 columns]"
            ],
            "text/html": [
              "\n",
              "  <div id=\"df-83bdf3b6-b6e4-4352-a373-ee65deb99a0f\" class=\"colab-df-container\">\n",
              "    <div>\n",
              "<style scoped>\n",
              "    .dataframe tbody tr th:only-of-type {\n",
              "        vertical-align: middle;\n",
              "    }\n",
              "\n",
              "    .dataframe tbody tr th {\n",
              "        vertical-align: top;\n",
              "    }\n",
              "\n",
              "    .dataframe thead th {\n",
              "        text-align: right;\n",
              "    }\n",
              "</style>\n",
              "<table border=\"1\" class=\"dataframe\">\n",
              "  <thead>\n",
              "    <tr style=\"text-align: right;\">\n",
              "      <th></th>\n",
              "      <th>성씨, 본관별</th>\n",
              "      <th>행정구역별(시군구)</th>\n",
              "      <th>2015</th>\n",
              "    </tr>\n",
              "  </thead>\n",
              "  <tbody>\n",
              "    <tr>\n",
              "      <th>0</th>\n",
              "      <td>계</td>\n",
              "      <td>전국</td>\n",
              "      <td>49705663</td>\n",
              "    </tr>\n",
              "    <tr>\n",
              "      <th>1</th>\n",
              "      <td>계</td>\n",
              "      <td>서울특별시</td>\n",
              "      <td>9567196</td>\n",
              "    </tr>\n",
              "    <tr>\n",
              "      <th>2</th>\n",
              "      <td>계</td>\n",
              "      <td>부산광역시</td>\n",
              "      <td>3404667</td>\n",
              "    </tr>\n",
              "    <tr>\n",
              "      <th>3</th>\n",
              "      <td>계</td>\n",
              "      <td>대구광역시</td>\n",
              "      <td>2436770</td>\n",
              "    </tr>\n",
              "    <tr>\n",
              "      <th>4</th>\n",
              "      <td>계</td>\n",
              "      <td>인천광역시</td>\n",
              "      <td>2822601</td>\n",
              "    </tr>\n",
              "    <tr>\n",
              "      <th>...</th>\n",
              "      <td>...</td>\n",
              "      <td>...</td>\n",
              "      <td>...</td>\n",
              "    </tr>\n",
              "    <tr>\n",
              "      <th>2764</th>\n",
              "      <td>기타</td>\n",
              "      <td>전라북도</td>\n",
              "      <td>3482</td>\n",
              "    </tr>\n",
              "    <tr>\n",
              "      <th>2765</th>\n",
              "      <td>기타</td>\n",
              "      <td>전라남도</td>\n",
              "      <td>4172</td>\n",
              "    </tr>\n",
              "    <tr>\n",
              "      <th>2766</th>\n",
              "      <td>기타</td>\n",
              "      <td>경상북도</td>\n",
              "      <td>4248</td>\n",
              "    </tr>\n",
              "    <tr>\n",
              "      <th>2767</th>\n",
              "      <td>기타</td>\n",
              "      <td>경상남도</td>\n",
              "      <td>5711</td>\n",
              "    </tr>\n",
              "    <tr>\n",
              "      <th>2768</th>\n",
              "      <td>기타</td>\n",
              "      <td>제주특별자치도</td>\n",
              "      <td>1935</td>\n",
              "    </tr>\n",
              "  </tbody>\n",
              "</table>\n",
              "<p>2769 rows × 3 columns</p>\n",
              "</div>\n",
              "    <div class=\"colab-df-buttons\">\n",
              "\n",
              "  <div class=\"colab-df-container\">\n",
              "    <button class=\"colab-df-convert\" onclick=\"convertToInteractive('df-83bdf3b6-b6e4-4352-a373-ee65deb99a0f')\"\n",
              "            title=\"Convert this dataframe to an interactive table.\"\n",
              "            style=\"display:none;\">\n",
              "\n",
              "  <svg xmlns=\"http://www.w3.org/2000/svg\" height=\"24px\" viewBox=\"0 -960 960 960\">\n",
              "    <path d=\"M120-120v-720h720v720H120Zm60-500h600v-160H180v160Zm220 220h160v-160H400v160Zm0 220h160v-160H400v160ZM180-400h160v-160H180v160Zm440 0h160v-160H620v160ZM180-180h160v-160H180v160Zm440 0h160v-160H620v160Z\"/>\n",
              "  </svg>\n",
              "    </button>\n",
              "\n",
              "  <style>\n",
              "    .colab-df-container {\n",
              "      display:flex;\n",
              "      gap: 12px;\n",
              "    }\n",
              "\n",
              "    .colab-df-convert {\n",
              "      background-color: #E8F0FE;\n",
              "      border: none;\n",
              "      border-radius: 50%;\n",
              "      cursor: pointer;\n",
              "      display: none;\n",
              "      fill: #1967D2;\n",
              "      height: 32px;\n",
              "      padding: 0 0 0 0;\n",
              "      width: 32px;\n",
              "    }\n",
              "\n",
              "    .colab-df-convert:hover {\n",
              "      background-color: #E2EBFA;\n",
              "      box-shadow: 0px 1px 2px rgba(60, 64, 67, 0.3), 0px 1px 3px 1px rgba(60, 64, 67, 0.15);\n",
              "      fill: #174EA6;\n",
              "    }\n",
              "\n",
              "    .colab-df-buttons div {\n",
              "      margin-bottom: 4px;\n",
              "    }\n",
              "\n",
              "    [theme=dark] .colab-df-convert {\n",
              "      background-color: #3B4455;\n",
              "      fill: #D2E3FC;\n",
              "    }\n",
              "\n",
              "    [theme=dark] .colab-df-convert:hover {\n",
              "      background-color: #434B5C;\n",
              "      box-shadow: 0px 1px 3px 1px rgba(0, 0, 0, 0.15);\n",
              "      filter: drop-shadow(0px 1px 2px rgba(0, 0, 0, 0.3));\n",
              "      fill: #FFFFFF;\n",
              "    }\n",
              "  </style>\n",
              "\n",
              "    <script>\n",
              "      const buttonEl =\n",
              "        document.querySelector('#df-83bdf3b6-b6e4-4352-a373-ee65deb99a0f button.colab-df-convert');\n",
              "      buttonEl.style.display =\n",
              "        google.colab.kernel.accessAllowed ? 'block' : 'none';\n",
              "\n",
              "      async function convertToInteractive(key) {\n",
              "        const element = document.querySelector('#df-83bdf3b6-b6e4-4352-a373-ee65deb99a0f');\n",
              "        const dataTable =\n",
              "          await google.colab.kernel.invokeFunction('convertToInteractive',\n",
              "                                                    [key], {});\n",
              "        if (!dataTable) return;\n",
              "\n",
              "        const docLinkHtml = 'Like what you see? Visit the ' +\n",
              "          '<a target=\"_blank\" href=https://colab.research.google.com/notebooks/data_table.ipynb>data table notebook</a>'\n",
              "          + ' to learn more about interactive tables.';\n",
              "        element.innerHTML = '';\n",
              "        dataTable['output_type'] = 'display_data';\n",
              "        await google.colab.output.renderOutput(dataTable, element);\n",
              "        const docLink = document.createElement('div');\n",
              "        docLink.innerHTML = docLinkHtml;\n",
              "        element.appendChild(docLink);\n",
              "      }\n",
              "    </script>\n",
              "  </div>\n",
              "\n",
              "\n",
              "<div id=\"df-52c06150-dad1-405e-a010-65fcd977f235\">\n",
              "  <button class=\"colab-df-quickchart\" onclick=\"quickchart('df-52c06150-dad1-405e-a010-65fcd977f235')\"\n",
              "            title=\"Suggest charts.\"\n",
              "            style=\"display:none;\">\n",
              "\n",
              "<svg xmlns=\"http://www.w3.org/2000/svg\" height=\"24px\"viewBox=\"0 0 24 24\"\n",
              "     width=\"24px\">\n",
              "    <g>\n",
              "        <path d=\"M19 3H5c-1.1 0-2 .9-2 2v14c0 1.1.9 2 2 2h14c1.1 0 2-.9 2-2V5c0-1.1-.9-2-2-2zM9 17H7v-7h2v7zm4 0h-2V7h2v10zm4 0h-2v-4h2v4z\"/>\n",
              "    </g>\n",
              "</svg>\n",
              "  </button>\n",
              "\n",
              "<style>\n",
              "  .colab-df-quickchart {\n",
              "    background-color: #E8F0FE;\n",
              "    border: none;\n",
              "    border-radius: 50%;\n",
              "    cursor: pointer;\n",
              "    display: none;\n",
              "    fill: #1967D2;\n",
              "    height: 32px;\n",
              "    padding: 0 0 0 0;\n",
              "    width: 32px;\n",
              "  }\n",
              "\n",
              "  .colab-df-quickchart:hover {\n",
              "    background-color: #E2EBFA;\n",
              "    box-shadow: 0px 1px 2px rgba(60, 64, 67, 0.3), 0px 1px 3px 1px rgba(60, 64, 67, 0.15);\n",
              "    fill: #174EA6;\n",
              "  }\n",
              "\n",
              "  [theme=dark] .colab-df-quickchart {\n",
              "    background-color: #3B4455;\n",
              "    fill: #D2E3FC;\n",
              "  }\n",
              "\n",
              "  [theme=dark] .colab-df-quickchart:hover {\n",
              "    background-color: #434B5C;\n",
              "    box-shadow: 0px 1px 3px 1px rgba(0, 0, 0, 0.15);\n",
              "    filter: drop-shadow(0px 1px 2px rgba(0, 0, 0, 0.3));\n",
              "    fill: #FFFFFF;\n",
              "  }\n",
              "</style>\n",
              "\n",
              "  <script>\n",
              "    async function quickchart(key) {\n",
              "      const charts = await google.colab.kernel.invokeFunction(\n",
              "          'suggestCharts', [key], {});\n",
              "    }\n",
              "    (() => {\n",
              "      let quickchartButtonEl =\n",
              "        document.querySelector('#df-52c06150-dad1-405e-a010-65fcd977f235 button');\n",
              "      quickchartButtonEl.style.display =\n",
              "        google.colab.kernel.accessAllowed ? 'block' : 'none';\n",
              "    })();\n",
              "  </script>\n",
              "</div>\n",
              "    </div>\n",
              "  </div>\n"
            ]
          },
          "metadata": {},
          "execution_count": 4
        }
      ],
      "source": [
        "df=pd.read_csv('./sample_data/성씨ㆍ본관별_인구__시군구_20230829110908.csv',encoding='cp949')\n",
        "df\n"
      ]
    },
    {
      "cell_type": "markdown",
      "id": "0643ef18",
      "metadata": {
        "id": "0643ef18"
      },
      "source": [
        "---"
      ]
    },
    {
      "cell_type": "markdown",
      "id": "e1882731",
      "metadata": {
        "id": "e1882731"
      },
      "source": [
        "### 3.데이터 전처리하기 : 필요한 데이터만 추출하기"
      ]
    },
    {
      "cell_type": "markdown",
      "id": "1da4dbd2",
      "metadata": {
        "id": "1da4dbd2"
      },
      "source": [
        "#### @컬럼이름 변경하기"
      ]
    },
    {
      "cell_type": "code",
      "execution_count": 5,
      "id": "ffedd1ff",
      "metadata": {
        "id": "ffedd1ff",
        "colab": {
          "base_uri": "https://localhost:8080/"
        },
        "outputId": "2e42efbe-6c35-4d29-8abb-ea284cb11110"
      },
      "outputs": [
        {
          "output_type": "execute_result",
          "data": {
            "text/plain": [
              "Index(['성씨, 본관별', '행정구역별(시군구)', '2015'], dtype='object')"
            ]
          },
          "metadata": {},
          "execution_count": 5
        }
      ],
      "source": [
        "# 현재 컬럼이름 출력하기\n",
        "df.columns"
      ]
    },
    {
      "cell_type": "code",
      "execution_count": 6,
      "id": "67b65b12",
      "metadata": {
        "id": "67b65b12",
        "scrolled": true,
        "colab": {
          "base_uri": "https://localhost:8080/",
          "height": 112
        },
        "outputId": "2ac606ff-a0a8-4758-b21d-b75907245096"
      },
      "outputs": [
        {
          "output_type": "execute_result",
          "data": {
            "text/plain": [
              "  성씨     지역        인구\n",
              "0  계     전국  49705663\n",
              "1  계  서울특별시   9567196"
            ],
            "text/html": [
              "\n",
              "  <div id=\"df-e4154552-8f45-45c0-83a4-3672fa93d9c5\" class=\"colab-df-container\">\n",
              "    <div>\n",
              "<style scoped>\n",
              "    .dataframe tbody tr th:only-of-type {\n",
              "        vertical-align: middle;\n",
              "    }\n",
              "\n",
              "    .dataframe tbody tr th {\n",
              "        vertical-align: top;\n",
              "    }\n",
              "\n",
              "    .dataframe thead th {\n",
              "        text-align: right;\n",
              "    }\n",
              "</style>\n",
              "<table border=\"1\" class=\"dataframe\">\n",
              "  <thead>\n",
              "    <tr style=\"text-align: right;\">\n",
              "      <th></th>\n",
              "      <th>성씨</th>\n",
              "      <th>지역</th>\n",
              "      <th>인구</th>\n",
              "    </tr>\n",
              "  </thead>\n",
              "  <tbody>\n",
              "    <tr>\n",
              "      <th>0</th>\n",
              "      <td>계</td>\n",
              "      <td>전국</td>\n",
              "      <td>49705663</td>\n",
              "    </tr>\n",
              "    <tr>\n",
              "      <th>1</th>\n",
              "      <td>계</td>\n",
              "      <td>서울특별시</td>\n",
              "      <td>9567196</td>\n",
              "    </tr>\n",
              "  </tbody>\n",
              "</table>\n",
              "</div>\n",
              "    <div class=\"colab-df-buttons\">\n",
              "\n",
              "  <div class=\"colab-df-container\">\n",
              "    <button class=\"colab-df-convert\" onclick=\"convertToInteractive('df-e4154552-8f45-45c0-83a4-3672fa93d9c5')\"\n",
              "            title=\"Convert this dataframe to an interactive table.\"\n",
              "            style=\"display:none;\">\n",
              "\n",
              "  <svg xmlns=\"http://www.w3.org/2000/svg\" height=\"24px\" viewBox=\"0 -960 960 960\">\n",
              "    <path d=\"M120-120v-720h720v720H120Zm60-500h600v-160H180v160Zm220 220h160v-160H400v160Zm0 220h160v-160H400v160ZM180-400h160v-160H180v160Zm440 0h160v-160H620v160ZM180-180h160v-160H180v160Zm440 0h160v-160H620v160Z\"/>\n",
              "  </svg>\n",
              "    </button>\n",
              "\n",
              "  <style>\n",
              "    .colab-df-container {\n",
              "      display:flex;\n",
              "      gap: 12px;\n",
              "    }\n",
              "\n",
              "    .colab-df-convert {\n",
              "      background-color: #E8F0FE;\n",
              "      border: none;\n",
              "      border-radius: 50%;\n",
              "      cursor: pointer;\n",
              "      display: none;\n",
              "      fill: #1967D2;\n",
              "      height: 32px;\n",
              "      padding: 0 0 0 0;\n",
              "      width: 32px;\n",
              "    }\n",
              "\n",
              "    .colab-df-convert:hover {\n",
              "      background-color: #E2EBFA;\n",
              "      box-shadow: 0px 1px 2px rgba(60, 64, 67, 0.3), 0px 1px 3px 1px rgba(60, 64, 67, 0.15);\n",
              "      fill: #174EA6;\n",
              "    }\n",
              "\n",
              "    .colab-df-buttons div {\n",
              "      margin-bottom: 4px;\n",
              "    }\n",
              "\n",
              "    [theme=dark] .colab-df-convert {\n",
              "      background-color: #3B4455;\n",
              "      fill: #D2E3FC;\n",
              "    }\n",
              "\n",
              "    [theme=dark] .colab-df-convert:hover {\n",
              "      background-color: #434B5C;\n",
              "      box-shadow: 0px 1px 3px 1px rgba(0, 0, 0, 0.15);\n",
              "      filter: drop-shadow(0px 1px 2px rgba(0, 0, 0, 0.3));\n",
              "      fill: #FFFFFF;\n",
              "    }\n",
              "  </style>\n",
              "\n",
              "    <script>\n",
              "      const buttonEl =\n",
              "        document.querySelector('#df-e4154552-8f45-45c0-83a4-3672fa93d9c5 button.colab-df-convert');\n",
              "      buttonEl.style.display =\n",
              "        google.colab.kernel.accessAllowed ? 'block' : 'none';\n",
              "\n",
              "      async function convertToInteractive(key) {\n",
              "        const element = document.querySelector('#df-e4154552-8f45-45c0-83a4-3672fa93d9c5');\n",
              "        const dataTable =\n",
              "          await google.colab.kernel.invokeFunction('convertToInteractive',\n",
              "                                                    [key], {});\n",
              "        if (!dataTable) return;\n",
              "\n",
              "        const docLinkHtml = 'Like what you see? Visit the ' +\n",
              "          '<a target=\"_blank\" href=https://colab.research.google.com/notebooks/data_table.ipynb>data table notebook</a>'\n",
              "          + ' to learn more about interactive tables.';\n",
              "        element.innerHTML = '';\n",
              "        dataTable['output_type'] = 'display_data';\n",
              "        await google.colab.output.renderOutput(dataTable, element);\n",
              "        const docLink = document.createElement('div');\n",
              "        docLink.innerHTML = docLinkHtml;\n",
              "        element.appendChild(docLink);\n",
              "      }\n",
              "    </script>\n",
              "  </div>\n",
              "\n",
              "    </div>\n",
              "  </div>\n"
            ]
          },
          "metadata": {},
          "execution_count": 6
        }
      ],
      "source": [
        "# 컬럼이름 변경하기\n",
        "df.columns = ['성씨', '지역', '인구']\n",
        "df.columns\n",
        "df.head(2)"
      ]
    },
    {
      "cell_type": "markdown",
      "id": "06e8c397",
      "metadata": {
        "id": "06e8c397"
      },
      "source": [
        "#### @고유한 성씨만 출력하기"
      ]
    },
    {
      "cell_type": "code",
      "execution_count": null,
      "id": "e000a980",
      "metadata": {
        "id": "e000a980"
      },
      "outputs": [],
      "source": [
        "# 고유한(성격,타입) 성씨(한자포함) 집합으로 출력하기\n",
        "set(df['성씨'])"
      ]
    },
    {
      "cell_type": "code",
      "execution_count": 8,
      "id": "8165c6fa",
      "metadata": {
        "id": "8165c6fa",
        "colab": {
          "base_uri": "https://localhost:8080/"
        },
        "outputId": "19b8001b-d488-49fd-afc2-41023ca58fb4"
      },
      "outputs": [
        {
          "output_type": "execute_result",
          "data": {
            "text/plain": [
              "155"
            ]
          },
          "metadata": {},
          "execution_count": 8
        }
      ],
      "source": [
        "# 고유한 성씨(한자포함) 총개수 출력하기\n",
        "\n",
        "len(set(df['성씨']))"
      ]
    },
    {
      "cell_type": "code",
      "source": [
        "# 성=[]\n",
        "# for name in set(df['성씨']):\n",
        "#     성=list(name.split('('))"
      ],
      "metadata": {
        "id": "wCWJxZxbLYHT"
      },
      "id": "wCWJxZxbLYHT",
      "execution_count": null,
      "outputs": []
    },
    {
      "cell_type": "code",
      "execution_count": 9,
      "id": "2abf27a2",
      "metadata": {
        "id": "2abf27a2",
        "colab": {
          "base_uri": "https://localhost:8080/"
        },
        "outputId": "d1720151-c7c0-4f4d-b014-1dfc268e0df1"
      },
      "outputs": [
        {
          "output_type": "stream",
          "name": "stdout",
          "text": [
            "한글 성씨 목록: {'좌', '구', '서문', '허', '한', '표', '안', '송', '경', '임', '엄', '원', '공', '금', '인', '라', '빈', '홍', '노', '방', '선우', '문', '추', '동', '제', '호', '편', '백', '범', '유', '목', '함', '윤', '성', '황', '소', '오', '복', '우', '사공', '형', '진', '가', '곽', '장', '맹', '명', '봉', '감', '부', '지', '기타', '황보', '탁', '채', '온', '민', '변', '여', '갈', '반', '염', '신', '설', '차', '위', '김', '모', '최', '왕', '두', '길', '제갈', '석', '배', '남궁', '연', '은', '피', '천', '현', '박', '심', '육', '팽', '마', '단', '상', '사', '선', '고', '당', '국', '도', '류', '서', '옥', '예', '정', '견', '태', '기', '계', '용', '승', '손', '나', '이', '간', '조', '남', '시', '어', '강', '하', '양', '주', '전', '음', '권'}\n",
            "한글 성씨 개수: 120\n"
          ]
        }
      ],
      "source": [
        "# 한글 성씨만 출력하기 -> '가(賈)'--> 가  만 추출하기\n",
        "familyname = set(name.split('(')[0] for name in set(df['성씨']) ) # for문 먼저 확인하기 괄호'('를 기준으로 split [0]은 기준 앞쪽, [1]은 기준 뒷쪽\n",
        "print(f'한글 성씨 목록: {familyname}') # 순서대로 하려면 list로 받아서 sort 해야 함 / set은 순서가 없음\n",
        "\n",
        "# 고유한 한글 성씨 총개수 출력하기\n",
        "print(f'한글 성씨 개수: {len(familyname)}')"
      ]
    },
    {
      "cell_type": "markdown",
      "id": "668c5e94",
      "metadata": {
        "id": "668c5e94"
      },
      "source": [
        "---------------------"
      ]
    },
    {
      "cell_type": "markdown",
      "id": "9539d711",
      "metadata": {
        "id": "9539d711"
      },
      "source": [
        "#### @[성씨]가  '구'인 데이터 추출하기"
      ]
    },
    {
      "cell_type": "code",
      "execution_count": 10,
      "id": "79b6fe64",
      "metadata": {
        "id": "79b6fe64",
        "colab": {
          "base_uri": "https://localhost:8080/",
          "height": 1000
        },
        "outputId": "e8637549-cb19-4241-c091-8f6fbbe3b7d6"
      },
      "outputs": [
        {
          "output_type": "execute_result",
          "data": {
            "text/plain": [
              "       성씨       지역     인구\n",
              "248  구(丘)    서울특별시   3855\n",
              "249  구(丘)    부산광역시    162\n",
              "250  구(丘)    대구광역시    126\n",
              "251  구(丘)    인천광역시    974\n",
              "252  구(丘)    광주광역시     60\n",
              "253  구(丘)    대전광역시   1175\n",
              "254  구(丘)    울산광역시    110\n",
              "255  구(丘)  세종특별자치시    106\n",
              "256  구(丘)      경기도   4781\n",
              "257  구(丘)      강원도    217\n",
              "258  구(丘)     충청북도    348\n",
              "259  구(丘)     충청남도   2432\n",
              "260  구(丘)     전라북도    539\n",
              "261  구(丘)     전라남도     93\n",
              "262  구(丘)     경상북도    224\n",
              "263  구(丘)     경상남도    130\n",
              "264  구(丘)  제주특별자치도     50\n",
              "266  구(具)    서울특별시  35002\n",
              "267  구(具)    부산광역시  17709\n",
              "268  구(具)    대구광역시  15187\n",
              "269  구(具)    인천광역시  11054\n",
              "270  구(具)    광주광역시   5072\n",
              "271  구(具)    대전광역시   5120\n",
              "272  구(具)    울산광역시   4245\n",
              "273  구(具)  세종특별자치시    626\n",
              "274  구(具)      경기도  42791\n",
              "275  구(具)      강원도   3115\n",
              "276  구(具)     충청북도   5101\n",
              "277  구(具)     충청남도   7629\n",
              "278  구(具)     전라북도   5101\n",
              "279  구(具)     전라남도   4535\n",
              "280  구(具)     경상북도   9776\n",
              "281  구(具)     경상남도  20237\n",
              "282  구(具)  제주특별자치도    780"
            ],
            "text/html": [
              "\n",
              "  <div id=\"df-663720bf-cb93-4a7a-bf0d-e367010cc6f7\" class=\"colab-df-container\">\n",
              "    <div>\n",
              "<style scoped>\n",
              "    .dataframe tbody tr th:only-of-type {\n",
              "        vertical-align: middle;\n",
              "    }\n",
              "\n",
              "    .dataframe tbody tr th {\n",
              "        vertical-align: top;\n",
              "    }\n",
              "\n",
              "    .dataframe thead th {\n",
              "        text-align: right;\n",
              "    }\n",
              "</style>\n",
              "<table border=\"1\" class=\"dataframe\">\n",
              "  <thead>\n",
              "    <tr style=\"text-align: right;\">\n",
              "      <th></th>\n",
              "      <th>성씨</th>\n",
              "      <th>지역</th>\n",
              "      <th>인구</th>\n",
              "    </tr>\n",
              "  </thead>\n",
              "  <tbody>\n",
              "    <tr>\n",
              "      <th>248</th>\n",
              "      <td>구(丘)</td>\n",
              "      <td>서울특별시</td>\n",
              "      <td>3855</td>\n",
              "    </tr>\n",
              "    <tr>\n",
              "      <th>249</th>\n",
              "      <td>구(丘)</td>\n",
              "      <td>부산광역시</td>\n",
              "      <td>162</td>\n",
              "    </tr>\n",
              "    <tr>\n",
              "      <th>250</th>\n",
              "      <td>구(丘)</td>\n",
              "      <td>대구광역시</td>\n",
              "      <td>126</td>\n",
              "    </tr>\n",
              "    <tr>\n",
              "      <th>251</th>\n",
              "      <td>구(丘)</td>\n",
              "      <td>인천광역시</td>\n",
              "      <td>974</td>\n",
              "    </tr>\n",
              "    <tr>\n",
              "      <th>252</th>\n",
              "      <td>구(丘)</td>\n",
              "      <td>광주광역시</td>\n",
              "      <td>60</td>\n",
              "    </tr>\n",
              "    <tr>\n",
              "      <th>253</th>\n",
              "      <td>구(丘)</td>\n",
              "      <td>대전광역시</td>\n",
              "      <td>1175</td>\n",
              "    </tr>\n",
              "    <tr>\n",
              "      <th>254</th>\n",
              "      <td>구(丘)</td>\n",
              "      <td>울산광역시</td>\n",
              "      <td>110</td>\n",
              "    </tr>\n",
              "    <tr>\n",
              "      <th>255</th>\n",
              "      <td>구(丘)</td>\n",
              "      <td>세종특별자치시</td>\n",
              "      <td>106</td>\n",
              "    </tr>\n",
              "    <tr>\n",
              "      <th>256</th>\n",
              "      <td>구(丘)</td>\n",
              "      <td>경기도</td>\n",
              "      <td>4781</td>\n",
              "    </tr>\n",
              "    <tr>\n",
              "      <th>257</th>\n",
              "      <td>구(丘)</td>\n",
              "      <td>강원도</td>\n",
              "      <td>217</td>\n",
              "    </tr>\n",
              "    <tr>\n",
              "      <th>258</th>\n",
              "      <td>구(丘)</td>\n",
              "      <td>충청북도</td>\n",
              "      <td>348</td>\n",
              "    </tr>\n",
              "    <tr>\n",
              "      <th>259</th>\n",
              "      <td>구(丘)</td>\n",
              "      <td>충청남도</td>\n",
              "      <td>2432</td>\n",
              "    </tr>\n",
              "    <tr>\n",
              "      <th>260</th>\n",
              "      <td>구(丘)</td>\n",
              "      <td>전라북도</td>\n",
              "      <td>539</td>\n",
              "    </tr>\n",
              "    <tr>\n",
              "      <th>261</th>\n",
              "      <td>구(丘)</td>\n",
              "      <td>전라남도</td>\n",
              "      <td>93</td>\n",
              "    </tr>\n",
              "    <tr>\n",
              "      <th>262</th>\n",
              "      <td>구(丘)</td>\n",
              "      <td>경상북도</td>\n",
              "      <td>224</td>\n",
              "    </tr>\n",
              "    <tr>\n",
              "      <th>263</th>\n",
              "      <td>구(丘)</td>\n",
              "      <td>경상남도</td>\n",
              "      <td>130</td>\n",
              "    </tr>\n",
              "    <tr>\n",
              "      <th>264</th>\n",
              "      <td>구(丘)</td>\n",
              "      <td>제주특별자치도</td>\n",
              "      <td>50</td>\n",
              "    </tr>\n",
              "    <tr>\n",
              "      <th>266</th>\n",
              "      <td>구(具)</td>\n",
              "      <td>서울특별시</td>\n",
              "      <td>35002</td>\n",
              "    </tr>\n",
              "    <tr>\n",
              "      <th>267</th>\n",
              "      <td>구(具)</td>\n",
              "      <td>부산광역시</td>\n",
              "      <td>17709</td>\n",
              "    </tr>\n",
              "    <tr>\n",
              "      <th>268</th>\n",
              "      <td>구(具)</td>\n",
              "      <td>대구광역시</td>\n",
              "      <td>15187</td>\n",
              "    </tr>\n",
              "    <tr>\n",
              "      <th>269</th>\n",
              "      <td>구(具)</td>\n",
              "      <td>인천광역시</td>\n",
              "      <td>11054</td>\n",
              "    </tr>\n",
              "    <tr>\n",
              "      <th>270</th>\n",
              "      <td>구(具)</td>\n",
              "      <td>광주광역시</td>\n",
              "      <td>5072</td>\n",
              "    </tr>\n",
              "    <tr>\n",
              "      <th>271</th>\n",
              "      <td>구(具)</td>\n",
              "      <td>대전광역시</td>\n",
              "      <td>5120</td>\n",
              "    </tr>\n",
              "    <tr>\n",
              "      <th>272</th>\n",
              "      <td>구(具)</td>\n",
              "      <td>울산광역시</td>\n",
              "      <td>4245</td>\n",
              "    </tr>\n",
              "    <tr>\n",
              "      <th>273</th>\n",
              "      <td>구(具)</td>\n",
              "      <td>세종특별자치시</td>\n",
              "      <td>626</td>\n",
              "    </tr>\n",
              "    <tr>\n",
              "      <th>274</th>\n",
              "      <td>구(具)</td>\n",
              "      <td>경기도</td>\n",
              "      <td>42791</td>\n",
              "    </tr>\n",
              "    <tr>\n",
              "      <th>275</th>\n",
              "      <td>구(具)</td>\n",
              "      <td>강원도</td>\n",
              "      <td>3115</td>\n",
              "    </tr>\n",
              "    <tr>\n",
              "      <th>276</th>\n",
              "      <td>구(具)</td>\n",
              "      <td>충청북도</td>\n",
              "      <td>5101</td>\n",
              "    </tr>\n",
              "    <tr>\n",
              "      <th>277</th>\n",
              "      <td>구(具)</td>\n",
              "      <td>충청남도</td>\n",
              "      <td>7629</td>\n",
              "    </tr>\n",
              "    <tr>\n",
              "      <th>278</th>\n",
              "      <td>구(具)</td>\n",
              "      <td>전라북도</td>\n",
              "      <td>5101</td>\n",
              "    </tr>\n",
              "    <tr>\n",
              "      <th>279</th>\n",
              "      <td>구(具)</td>\n",
              "      <td>전라남도</td>\n",
              "      <td>4535</td>\n",
              "    </tr>\n",
              "    <tr>\n",
              "      <th>280</th>\n",
              "      <td>구(具)</td>\n",
              "      <td>경상북도</td>\n",
              "      <td>9776</td>\n",
              "    </tr>\n",
              "    <tr>\n",
              "      <th>281</th>\n",
              "      <td>구(具)</td>\n",
              "      <td>경상남도</td>\n",
              "      <td>20237</td>\n",
              "    </tr>\n",
              "    <tr>\n",
              "      <th>282</th>\n",
              "      <td>구(具)</td>\n",
              "      <td>제주특별자치도</td>\n",
              "      <td>780</td>\n",
              "    </tr>\n",
              "  </tbody>\n",
              "</table>\n",
              "</div>\n",
              "    <div class=\"colab-df-buttons\">\n",
              "\n",
              "  <div class=\"colab-df-container\">\n",
              "    <button class=\"colab-df-convert\" onclick=\"convertToInteractive('df-663720bf-cb93-4a7a-bf0d-e367010cc6f7')\"\n",
              "            title=\"Convert this dataframe to an interactive table.\"\n",
              "            style=\"display:none;\">\n",
              "\n",
              "  <svg xmlns=\"http://www.w3.org/2000/svg\" height=\"24px\" viewBox=\"0 -960 960 960\">\n",
              "    <path d=\"M120-120v-720h720v720H120Zm60-500h600v-160H180v160Zm220 220h160v-160H400v160Zm0 220h160v-160H400v160ZM180-400h160v-160H180v160Zm440 0h160v-160H620v160ZM180-180h160v-160H180v160Zm440 0h160v-160H620v160Z\"/>\n",
              "  </svg>\n",
              "    </button>\n",
              "\n",
              "  <style>\n",
              "    .colab-df-container {\n",
              "      display:flex;\n",
              "      gap: 12px;\n",
              "    }\n",
              "\n",
              "    .colab-df-convert {\n",
              "      background-color: #E8F0FE;\n",
              "      border: none;\n",
              "      border-radius: 50%;\n",
              "      cursor: pointer;\n",
              "      display: none;\n",
              "      fill: #1967D2;\n",
              "      height: 32px;\n",
              "      padding: 0 0 0 0;\n",
              "      width: 32px;\n",
              "    }\n",
              "\n",
              "    .colab-df-convert:hover {\n",
              "      background-color: #E2EBFA;\n",
              "      box-shadow: 0px 1px 2px rgba(60, 64, 67, 0.3), 0px 1px 3px 1px rgba(60, 64, 67, 0.15);\n",
              "      fill: #174EA6;\n",
              "    }\n",
              "\n",
              "    .colab-df-buttons div {\n",
              "      margin-bottom: 4px;\n",
              "    }\n",
              "\n",
              "    [theme=dark] .colab-df-convert {\n",
              "      background-color: #3B4455;\n",
              "      fill: #D2E3FC;\n",
              "    }\n",
              "\n",
              "    [theme=dark] .colab-df-convert:hover {\n",
              "      background-color: #434B5C;\n",
              "      box-shadow: 0px 1px 3px 1px rgba(0, 0, 0, 0.15);\n",
              "      filter: drop-shadow(0px 1px 2px rgba(0, 0, 0, 0.3));\n",
              "      fill: #FFFFFF;\n",
              "    }\n",
              "  </style>\n",
              "\n",
              "    <script>\n",
              "      const buttonEl =\n",
              "        document.querySelector('#df-663720bf-cb93-4a7a-bf0d-e367010cc6f7 button.colab-df-convert');\n",
              "      buttonEl.style.display =\n",
              "        google.colab.kernel.accessAllowed ? 'block' : 'none';\n",
              "\n",
              "      async function convertToInteractive(key) {\n",
              "        const element = document.querySelector('#df-663720bf-cb93-4a7a-bf0d-e367010cc6f7');\n",
              "        const dataTable =\n",
              "          await google.colab.kernel.invokeFunction('convertToInteractive',\n",
              "                                                    [key], {});\n",
              "        if (!dataTable) return;\n",
              "\n",
              "        const docLinkHtml = 'Like what you see? Visit the ' +\n",
              "          '<a target=\"_blank\" href=https://colab.research.google.com/notebooks/data_table.ipynb>data table notebook</a>'\n",
              "          + ' to learn more about interactive tables.';\n",
              "        element.innerHTML = '';\n",
              "        dataTable['output_type'] = 'display_data';\n",
              "        await google.colab.output.renderOutput(dataTable, element);\n",
              "        const docLink = document.createElement('div');\n",
              "        docLink.innerHTML = docLinkHtml;\n",
              "        element.appendChild(docLink);\n",
              "      }\n",
              "    </script>\n",
              "  </div>\n",
              "\n",
              "\n",
              "<div id=\"df-71716557-5ba9-4b70-a0c3-e55f81ee4224\">\n",
              "  <button class=\"colab-df-quickchart\" onclick=\"quickchart('df-71716557-5ba9-4b70-a0c3-e55f81ee4224')\"\n",
              "            title=\"Suggest charts.\"\n",
              "            style=\"display:none;\">\n",
              "\n",
              "<svg xmlns=\"http://www.w3.org/2000/svg\" height=\"24px\"viewBox=\"0 0 24 24\"\n",
              "     width=\"24px\">\n",
              "    <g>\n",
              "        <path d=\"M19 3H5c-1.1 0-2 .9-2 2v14c0 1.1.9 2 2 2h14c1.1 0 2-.9 2-2V5c0-1.1-.9-2-2-2zM9 17H7v-7h2v7zm4 0h-2V7h2v10zm4 0h-2v-4h2v4z\"/>\n",
              "    </g>\n",
              "</svg>\n",
              "  </button>\n",
              "\n",
              "<style>\n",
              "  .colab-df-quickchart {\n",
              "    background-color: #E8F0FE;\n",
              "    border: none;\n",
              "    border-radius: 50%;\n",
              "    cursor: pointer;\n",
              "    display: none;\n",
              "    fill: #1967D2;\n",
              "    height: 32px;\n",
              "    padding: 0 0 0 0;\n",
              "    width: 32px;\n",
              "  }\n",
              "\n",
              "  .colab-df-quickchart:hover {\n",
              "    background-color: #E2EBFA;\n",
              "    box-shadow: 0px 1px 2px rgba(60, 64, 67, 0.3), 0px 1px 3px 1px rgba(60, 64, 67, 0.15);\n",
              "    fill: #174EA6;\n",
              "  }\n",
              "\n",
              "  [theme=dark] .colab-df-quickchart {\n",
              "    background-color: #3B4455;\n",
              "    fill: #D2E3FC;\n",
              "  }\n",
              "\n",
              "  [theme=dark] .colab-df-quickchart:hover {\n",
              "    background-color: #434B5C;\n",
              "    box-shadow: 0px 1px 3px 1px rgba(0, 0, 0, 0.15);\n",
              "    filter: drop-shadow(0px 1px 2px rgba(0, 0, 0, 0.3));\n",
              "    fill: #FFFFFF;\n",
              "  }\n",
              "</style>\n",
              "\n",
              "  <script>\n",
              "    async function quickchart(key) {\n",
              "      const charts = await google.colab.kernel.invokeFunction(\n",
              "          'suggestCharts', [key], {});\n",
              "    }\n",
              "    (() => {\n",
              "      let quickchartButtonEl =\n",
              "        document.querySelector('#df-71716557-5ba9-4b70-a0c3-e55f81ee4224 button');\n",
              "      quickchartButtonEl.style.display =\n",
              "        google.colab.kernel.accessAllowed ? 'block' : 'none';\n",
              "    })();\n",
              "  </script>\n",
              "</div>\n",
              "    </div>\n",
              "  </div>\n"
            ]
          },
          "metadata": {},
          "execution_count": 10
        }
      ],
      "source": [
        "# [성씨] 열에서 '구'가 포함된 데이터 출력하기\n",
        "df[df['성씨'].str.contains('구')]\n",
        "df.query(\"성씨.str.contains('구')\")\n",
        "\n",
        "# [성씨] 열에서 '구'가 포함되고, [지역] 열에서 '전국' 제외하고 가져오기\n",
        "df_goo=df[df['성씨'].str.contains('구')& (df['지역'] !='전국')]\n",
        "df_goo=df.query(\"성씨.str.contains('구') & (지역 !='전국')\") # df는 전체 data / df_goo를 지정하기\n",
        "df_goo"
      ]
    },
    {
      "cell_type": "markdown",
      "id": "YobB3gVLnSD0",
      "metadata": {
        "id": "YobB3gVLnSD0"
      },
      "source": [
        "**### [실습문제] 자신의 성씨 데이터 출력하기**\n"
      ]
    },
    {
      "cell_type": "code",
      "execution_count": 12,
      "id": "FR5V5afvnrcF",
      "metadata": {
        "id": "FR5V5afvnrcF",
        "colab": {
          "base_uri": "https://localhost:8080/",
          "height": 582
        },
        "outputId": "07d71e6f-f010-4f08-d7b0-01c8603f53e2"
      },
      "outputs": [
        {
          "output_type": "execute_result",
          "data": {
            "text/plain": [
              "        성씨       지역       인구\n",
              "1855  이(李)    서울특별시  1441796\n",
              "1856  이(李)    부산광역시   469587\n",
              "1857  이(李)    대구광역시   374123\n",
              "1858  이(李)    인천광역시   424803\n",
              "1859  이(李)    광주광역시   179688\n",
              "1860  이(李)    대전광역시   230292\n",
              "1861  이(李)    울산광역시   167221\n",
              "1862  이(李)  세종특별자치시    30455\n",
              "1863  이(李)      경기도  1856028\n",
              "1864  이(李)      강원도   216909\n",
              "1865  이(李)     충청북도   237914\n",
              "1866  이(李)     충청남도   327336\n",
              "1867  이(李)     전라북도   251483\n",
              "1868  이(李)     전라남도   205798\n",
              "1869  이(李)     경상북도   391378\n",
              "1870  이(李)     경상남도   441464\n",
              "1871  이(李)  제주특별자치도    60553"
            ],
            "text/html": [
              "\n",
              "  <div id=\"df-73510080-3371-4079-9ff2-80cfd738b132\" class=\"colab-df-container\">\n",
              "    <div>\n",
              "<style scoped>\n",
              "    .dataframe tbody tr th:only-of-type {\n",
              "        vertical-align: middle;\n",
              "    }\n",
              "\n",
              "    .dataframe tbody tr th {\n",
              "        vertical-align: top;\n",
              "    }\n",
              "\n",
              "    .dataframe thead th {\n",
              "        text-align: right;\n",
              "    }\n",
              "</style>\n",
              "<table border=\"1\" class=\"dataframe\">\n",
              "  <thead>\n",
              "    <tr style=\"text-align: right;\">\n",
              "      <th></th>\n",
              "      <th>성씨</th>\n",
              "      <th>지역</th>\n",
              "      <th>인구</th>\n",
              "    </tr>\n",
              "  </thead>\n",
              "  <tbody>\n",
              "    <tr>\n",
              "      <th>1855</th>\n",
              "      <td>이(李)</td>\n",
              "      <td>서울특별시</td>\n",
              "      <td>1441796</td>\n",
              "    </tr>\n",
              "    <tr>\n",
              "      <th>1856</th>\n",
              "      <td>이(李)</td>\n",
              "      <td>부산광역시</td>\n",
              "      <td>469587</td>\n",
              "    </tr>\n",
              "    <tr>\n",
              "      <th>1857</th>\n",
              "      <td>이(李)</td>\n",
              "      <td>대구광역시</td>\n",
              "      <td>374123</td>\n",
              "    </tr>\n",
              "    <tr>\n",
              "      <th>1858</th>\n",
              "      <td>이(李)</td>\n",
              "      <td>인천광역시</td>\n",
              "      <td>424803</td>\n",
              "    </tr>\n",
              "    <tr>\n",
              "      <th>1859</th>\n",
              "      <td>이(李)</td>\n",
              "      <td>광주광역시</td>\n",
              "      <td>179688</td>\n",
              "    </tr>\n",
              "    <tr>\n",
              "      <th>1860</th>\n",
              "      <td>이(李)</td>\n",
              "      <td>대전광역시</td>\n",
              "      <td>230292</td>\n",
              "    </tr>\n",
              "    <tr>\n",
              "      <th>1861</th>\n",
              "      <td>이(李)</td>\n",
              "      <td>울산광역시</td>\n",
              "      <td>167221</td>\n",
              "    </tr>\n",
              "    <tr>\n",
              "      <th>1862</th>\n",
              "      <td>이(李)</td>\n",
              "      <td>세종특별자치시</td>\n",
              "      <td>30455</td>\n",
              "    </tr>\n",
              "    <tr>\n",
              "      <th>1863</th>\n",
              "      <td>이(李)</td>\n",
              "      <td>경기도</td>\n",
              "      <td>1856028</td>\n",
              "    </tr>\n",
              "    <tr>\n",
              "      <th>1864</th>\n",
              "      <td>이(李)</td>\n",
              "      <td>강원도</td>\n",
              "      <td>216909</td>\n",
              "    </tr>\n",
              "    <tr>\n",
              "      <th>1865</th>\n",
              "      <td>이(李)</td>\n",
              "      <td>충청북도</td>\n",
              "      <td>237914</td>\n",
              "    </tr>\n",
              "    <tr>\n",
              "      <th>1866</th>\n",
              "      <td>이(李)</td>\n",
              "      <td>충청남도</td>\n",
              "      <td>327336</td>\n",
              "    </tr>\n",
              "    <tr>\n",
              "      <th>1867</th>\n",
              "      <td>이(李)</td>\n",
              "      <td>전라북도</td>\n",
              "      <td>251483</td>\n",
              "    </tr>\n",
              "    <tr>\n",
              "      <th>1868</th>\n",
              "      <td>이(李)</td>\n",
              "      <td>전라남도</td>\n",
              "      <td>205798</td>\n",
              "    </tr>\n",
              "    <tr>\n",
              "      <th>1869</th>\n",
              "      <td>이(李)</td>\n",
              "      <td>경상북도</td>\n",
              "      <td>391378</td>\n",
              "    </tr>\n",
              "    <tr>\n",
              "      <th>1870</th>\n",
              "      <td>이(李)</td>\n",
              "      <td>경상남도</td>\n",
              "      <td>441464</td>\n",
              "    </tr>\n",
              "    <tr>\n",
              "      <th>1871</th>\n",
              "      <td>이(李)</td>\n",
              "      <td>제주특별자치도</td>\n",
              "      <td>60553</td>\n",
              "    </tr>\n",
              "  </tbody>\n",
              "</table>\n",
              "</div>\n",
              "    <div class=\"colab-df-buttons\">\n",
              "\n",
              "  <div class=\"colab-df-container\">\n",
              "    <button class=\"colab-df-convert\" onclick=\"convertToInteractive('df-73510080-3371-4079-9ff2-80cfd738b132')\"\n",
              "            title=\"Convert this dataframe to an interactive table.\"\n",
              "            style=\"display:none;\">\n",
              "\n",
              "  <svg xmlns=\"http://www.w3.org/2000/svg\" height=\"24px\" viewBox=\"0 -960 960 960\">\n",
              "    <path d=\"M120-120v-720h720v720H120Zm60-500h600v-160H180v160Zm220 220h160v-160H400v160Zm0 220h160v-160H400v160ZM180-400h160v-160H180v160Zm440 0h160v-160H620v160ZM180-180h160v-160H180v160Zm440 0h160v-160H620v160Z\"/>\n",
              "  </svg>\n",
              "    </button>\n",
              "\n",
              "  <style>\n",
              "    .colab-df-container {\n",
              "      display:flex;\n",
              "      gap: 12px;\n",
              "    }\n",
              "\n",
              "    .colab-df-convert {\n",
              "      background-color: #E8F0FE;\n",
              "      border: none;\n",
              "      border-radius: 50%;\n",
              "      cursor: pointer;\n",
              "      display: none;\n",
              "      fill: #1967D2;\n",
              "      height: 32px;\n",
              "      padding: 0 0 0 0;\n",
              "      width: 32px;\n",
              "    }\n",
              "\n",
              "    .colab-df-convert:hover {\n",
              "      background-color: #E2EBFA;\n",
              "      box-shadow: 0px 1px 2px rgba(60, 64, 67, 0.3), 0px 1px 3px 1px rgba(60, 64, 67, 0.15);\n",
              "      fill: #174EA6;\n",
              "    }\n",
              "\n",
              "    .colab-df-buttons div {\n",
              "      margin-bottom: 4px;\n",
              "    }\n",
              "\n",
              "    [theme=dark] .colab-df-convert {\n",
              "      background-color: #3B4455;\n",
              "      fill: #D2E3FC;\n",
              "    }\n",
              "\n",
              "    [theme=dark] .colab-df-convert:hover {\n",
              "      background-color: #434B5C;\n",
              "      box-shadow: 0px 1px 3px 1px rgba(0, 0, 0, 0.15);\n",
              "      filter: drop-shadow(0px 1px 2px rgba(0, 0, 0, 0.3));\n",
              "      fill: #FFFFFF;\n",
              "    }\n",
              "  </style>\n",
              "\n",
              "    <script>\n",
              "      const buttonEl =\n",
              "        document.querySelector('#df-73510080-3371-4079-9ff2-80cfd738b132 button.colab-df-convert');\n",
              "      buttonEl.style.display =\n",
              "        google.colab.kernel.accessAllowed ? 'block' : 'none';\n",
              "\n",
              "      async function convertToInteractive(key) {\n",
              "        const element = document.querySelector('#df-73510080-3371-4079-9ff2-80cfd738b132');\n",
              "        const dataTable =\n",
              "          await google.colab.kernel.invokeFunction('convertToInteractive',\n",
              "                                                    [key], {});\n",
              "        if (!dataTable) return;\n",
              "\n",
              "        const docLinkHtml = 'Like what you see? Visit the ' +\n",
              "          '<a target=\"_blank\" href=https://colab.research.google.com/notebooks/data_table.ipynb>data table notebook</a>'\n",
              "          + ' to learn more about interactive tables.';\n",
              "        element.innerHTML = '';\n",
              "        dataTable['output_type'] = 'display_data';\n",
              "        await google.colab.output.renderOutput(dataTable, element);\n",
              "        const docLink = document.createElement('div');\n",
              "        docLink.innerHTML = docLinkHtml;\n",
              "        element.appendChild(docLink);\n",
              "      }\n",
              "    </script>\n",
              "  </div>\n",
              "\n",
              "\n",
              "<div id=\"df-12a949fb-e614-4d05-b891-7a5b20e21fbc\">\n",
              "  <button class=\"colab-df-quickchart\" onclick=\"quickchart('df-12a949fb-e614-4d05-b891-7a5b20e21fbc')\"\n",
              "            title=\"Suggest charts.\"\n",
              "            style=\"display:none;\">\n",
              "\n",
              "<svg xmlns=\"http://www.w3.org/2000/svg\" height=\"24px\"viewBox=\"0 0 24 24\"\n",
              "     width=\"24px\">\n",
              "    <g>\n",
              "        <path d=\"M19 3H5c-1.1 0-2 .9-2 2v14c0 1.1.9 2 2 2h14c1.1 0 2-.9 2-2V5c0-1.1-.9-2-2-2zM9 17H7v-7h2v7zm4 0h-2V7h2v10zm4 0h-2v-4h2v4z\"/>\n",
              "    </g>\n",
              "</svg>\n",
              "  </button>\n",
              "\n",
              "<style>\n",
              "  .colab-df-quickchart {\n",
              "    background-color: #E8F0FE;\n",
              "    border: none;\n",
              "    border-radius: 50%;\n",
              "    cursor: pointer;\n",
              "    display: none;\n",
              "    fill: #1967D2;\n",
              "    height: 32px;\n",
              "    padding: 0 0 0 0;\n",
              "    width: 32px;\n",
              "  }\n",
              "\n",
              "  .colab-df-quickchart:hover {\n",
              "    background-color: #E2EBFA;\n",
              "    box-shadow: 0px 1px 2px rgba(60, 64, 67, 0.3), 0px 1px 3px 1px rgba(60, 64, 67, 0.15);\n",
              "    fill: #174EA6;\n",
              "  }\n",
              "\n",
              "  [theme=dark] .colab-df-quickchart {\n",
              "    background-color: #3B4455;\n",
              "    fill: #D2E3FC;\n",
              "  }\n",
              "\n",
              "  [theme=dark] .colab-df-quickchart:hover {\n",
              "    background-color: #434B5C;\n",
              "    box-shadow: 0px 1px 3px 1px rgba(0, 0, 0, 0.15);\n",
              "    filter: drop-shadow(0px 1px 2px rgba(0, 0, 0, 0.3));\n",
              "    fill: #FFFFFF;\n",
              "  }\n",
              "</style>\n",
              "\n",
              "  <script>\n",
              "    async function quickchart(key) {\n",
              "      const charts = await google.colab.kernel.invokeFunction(\n",
              "          'suggestCharts', [key], {});\n",
              "    }\n",
              "    (() => {\n",
              "      let quickchartButtonEl =\n",
              "        document.querySelector('#df-12a949fb-e614-4d05-b891-7a5b20e21fbc button');\n",
              "      quickchartButtonEl.style.display =\n",
              "        google.colab.kernel.accessAllowed ? 'block' : 'none';\n",
              "    })();\n",
              "  </script>\n",
              "</div>\n",
              "    </div>\n",
              "  </div>\n"
            ]
          },
          "metadata": {},
          "execution_count": 12
        }
      ],
      "source": [
        "df[df['성씨'].str.contains('이')]\n",
        "df.query(\"성씨.str.contains('이')\")\n",
        "\n",
        "df_my=df[df['성씨'].str.contains('이')& (df['지역'] !='전국')]\n",
        "df_my=df.query(\"성씨.str.contains('이') & (지역 !='전국')\") # df는 전체 data / df_my를 지정하기\n",
        "df_my\n",
        "\n"
      ]
    },
    {
      "cell_type": "markdown",
      "id": "e7d5e515",
      "metadata": {
        "id": "e7d5e515"
      },
      "source": [
        "#### @데이터 그룹핑: ‘구’씨 성을 가진 데이터를 [지역]별로 [인구] 합계 출력하기"
      ]
    },
    {
      "cell_type": "code",
      "execution_count": 13,
      "id": "ac4fe2c4",
      "metadata": {
        "id": "ac4fe2c4",
        "colab": {
          "base_uri": "https://localhost:8080/",
          "height": 614
        },
        "outputId": "0033d510-ed58-4385-ee65-cd1e6f403c97"
      },
      "outputs": [
        {
          "output_type": "execute_result",
          "data": {
            "text/plain": [
              "               성씨     인구\n",
              "지역                      \n",
              "경기도      구(丘)구(具)  47572\n",
              "서울특별시    구(丘)구(具)  38857\n",
              "경상남도     구(丘)구(具)  20367\n",
              "부산광역시    구(丘)구(具)  17871\n",
              "대구광역시    구(丘)구(具)  15313\n",
              "인천광역시    구(丘)구(具)  12028\n",
              "충청남도     구(丘)구(具)  10061\n",
              "경상북도     구(丘)구(具)  10000\n",
              "대전광역시    구(丘)구(具)   6295\n",
              "전라북도     구(丘)구(具)   5640\n",
              "충청북도     구(丘)구(具)   5449\n",
              "광주광역시    구(丘)구(具)   5132\n",
              "전라남도     구(丘)구(具)   4628\n",
              "울산광역시    구(丘)구(具)   4355\n",
              "강원도      구(丘)구(具)   3332\n",
              "제주특별자치도  구(丘)구(具)    830\n",
              "세종특별자치시  구(丘)구(具)    732"
            ],
            "text/html": [
              "\n",
              "  <div id=\"df-74f25be0-6bb3-4637-b3c0-0da479f9ad43\" class=\"colab-df-container\">\n",
              "    <div>\n",
              "<style scoped>\n",
              "    .dataframe tbody tr th:only-of-type {\n",
              "        vertical-align: middle;\n",
              "    }\n",
              "\n",
              "    .dataframe tbody tr th {\n",
              "        vertical-align: top;\n",
              "    }\n",
              "\n",
              "    .dataframe thead th {\n",
              "        text-align: right;\n",
              "    }\n",
              "</style>\n",
              "<table border=\"1\" class=\"dataframe\">\n",
              "  <thead>\n",
              "    <tr style=\"text-align: right;\">\n",
              "      <th></th>\n",
              "      <th>성씨</th>\n",
              "      <th>인구</th>\n",
              "    </tr>\n",
              "    <tr>\n",
              "      <th>지역</th>\n",
              "      <th></th>\n",
              "      <th></th>\n",
              "    </tr>\n",
              "  </thead>\n",
              "  <tbody>\n",
              "    <tr>\n",
              "      <th>경기도</th>\n",
              "      <td>구(丘)구(具)</td>\n",
              "      <td>47572</td>\n",
              "    </tr>\n",
              "    <tr>\n",
              "      <th>서울특별시</th>\n",
              "      <td>구(丘)구(具)</td>\n",
              "      <td>38857</td>\n",
              "    </tr>\n",
              "    <tr>\n",
              "      <th>경상남도</th>\n",
              "      <td>구(丘)구(具)</td>\n",
              "      <td>20367</td>\n",
              "    </tr>\n",
              "    <tr>\n",
              "      <th>부산광역시</th>\n",
              "      <td>구(丘)구(具)</td>\n",
              "      <td>17871</td>\n",
              "    </tr>\n",
              "    <tr>\n",
              "      <th>대구광역시</th>\n",
              "      <td>구(丘)구(具)</td>\n",
              "      <td>15313</td>\n",
              "    </tr>\n",
              "    <tr>\n",
              "      <th>인천광역시</th>\n",
              "      <td>구(丘)구(具)</td>\n",
              "      <td>12028</td>\n",
              "    </tr>\n",
              "    <tr>\n",
              "      <th>충청남도</th>\n",
              "      <td>구(丘)구(具)</td>\n",
              "      <td>10061</td>\n",
              "    </tr>\n",
              "    <tr>\n",
              "      <th>경상북도</th>\n",
              "      <td>구(丘)구(具)</td>\n",
              "      <td>10000</td>\n",
              "    </tr>\n",
              "    <tr>\n",
              "      <th>대전광역시</th>\n",
              "      <td>구(丘)구(具)</td>\n",
              "      <td>6295</td>\n",
              "    </tr>\n",
              "    <tr>\n",
              "      <th>전라북도</th>\n",
              "      <td>구(丘)구(具)</td>\n",
              "      <td>5640</td>\n",
              "    </tr>\n",
              "    <tr>\n",
              "      <th>충청북도</th>\n",
              "      <td>구(丘)구(具)</td>\n",
              "      <td>5449</td>\n",
              "    </tr>\n",
              "    <tr>\n",
              "      <th>광주광역시</th>\n",
              "      <td>구(丘)구(具)</td>\n",
              "      <td>5132</td>\n",
              "    </tr>\n",
              "    <tr>\n",
              "      <th>전라남도</th>\n",
              "      <td>구(丘)구(具)</td>\n",
              "      <td>4628</td>\n",
              "    </tr>\n",
              "    <tr>\n",
              "      <th>울산광역시</th>\n",
              "      <td>구(丘)구(具)</td>\n",
              "      <td>4355</td>\n",
              "    </tr>\n",
              "    <tr>\n",
              "      <th>강원도</th>\n",
              "      <td>구(丘)구(具)</td>\n",
              "      <td>3332</td>\n",
              "    </tr>\n",
              "    <tr>\n",
              "      <th>제주특별자치도</th>\n",
              "      <td>구(丘)구(具)</td>\n",
              "      <td>830</td>\n",
              "    </tr>\n",
              "    <tr>\n",
              "      <th>세종특별자치시</th>\n",
              "      <td>구(丘)구(具)</td>\n",
              "      <td>732</td>\n",
              "    </tr>\n",
              "  </tbody>\n",
              "</table>\n",
              "</div>\n",
              "    <div class=\"colab-df-buttons\">\n",
              "\n",
              "  <div class=\"colab-df-container\">\n",
              "    <button class=\"colab-df-convert\" onclick=\"convertToInteractive('df-74f25be0-6bb3-4637-b3c0-0da479f9ad43')\"\n",
              "            title=\"Convert this dataframe to an interactive table.\"\n",
              "            style=\"display:none;\">\n",
              "\n",
              "  <svg xmlns=\"http://www.w3.org/2000/svg\" height=\"24px\" viewBox=\"0 -960 960 960\">\n",
              "    <path d=\"M120-120v-720h720v720H120Zm60-500h600v-160H180v160Zm220 220h160v-160H400v160Zm0 220h160v-160H400v160ZM180-400h160v-160H180v160Zm440 0h160v-160H620v160ZM180-180h160v-160H180v160Zm440 0h160v-160H620v160Z\"/>\n",
              "  </svg>\n",
              "    </button>\n",
              "\n",
              "  <style>\n",
              "    .colab-df-container {\n",
              "      display:flex;\n",
              "      gap: 12px;\n",
              "    }\n",
              "\n",
              "    .colab-df-convert {\n",
              "      background-color: #E8F0FE;\n",
              "      border: none;\n",
              "      border-radius: 50%;\n",
              "      cursor: pointer;\n",
              "      display: none;\n",
              "      fill: #1967D2;\n",
              "      height: 32px;\n",
              "      padding: 0 0 0 0;\n",
              "      width: 32px;\n",
              "    }\n",
              "\n",
              "    .colab-df-convert:hover {\n",
              "      background-color: #E2EBFA;\n",
              "      box-shadow: 0px 1px 2px rgba(60, 64, 67, 0.3), 0px 1px 3px 1px rgba(60, 64, 67, 0.15);\n",
              "      fill: #174EA6;\n",
              "    }\n",
              "\n",
              "    .colab-df-buttons div {\n",
              "      margin-bottom: 4px;\n",
              "    }\n",
              "\n",
              "    [theme=dark] .colab-df-convert {\n",
              "      background-color: #3B4455;\n",
              "      fill: #D2E3FC;\n",
              "    }\n",
              "\n",
              "    [theme=dark] .colab-df-convert:hover {\n",
              "      background-color: #434B5C;\n",
              "      box-shadow: 0px 1px 3px 1px rgba(0, 0, 0, 0.15);\n",
              "      filter: drop-shadow(0px 1px 2px rgba(0, 0, 0, 0.3));\n",
              "      fill: #FFFFFF;\n",
              "    }\n",
              "  </style>\n",
              "\n",
              "    <script>\n",
              "      const buttonEl =\n",
              "        document.querySelector('#df-74f25be0-6bb3-4637-b3c0-0da479f9ad43 button.colab-df-convert');\n",
              "      buttonEl.style.display =\n",
              "        google.colab.kernel.accessAllowed ? 'block' : 'none';\n",
              "\n",
              "      async function convertToInteractive(key) {\n",
              "        const element = document.querySelector('#df-74f25be0-6bb3-4637-b3c0-0da479f9ad43');\n",
              "        const dataTable =\n",
              "          await google.colab.kernel.invokeFunction('convertToInteractive',\n",
              "                                                    [key], {});\n",
              "        if (!dataTable) return;\n",
              "\n",
              "        const docLinkHtml = 'Like what you see? Visit the ' +\n",
              "          '<a target=\"_blank\" href=https://colab.research.google.com/notebooks/data_table.ipynb>data table notebook</a>'\n",
              "          + ' to learn more about interactive tables.';\n",
              "        element.innerHTML = '';\n",
              "        dataTable['output_type'] = 'display_data';\n",
              "        await google.colab.output.renderOutput(dataTable, element);\n",
              "        const docLink = document.createElement('div');\n",
              "        docLink.innerHTML = docLinkHtml;\n",
              "        element.appendChild(docLink);\n",
              "      }\n",
              "    </script>\n",
              "  </div>\n",
              "\n",
              "\n",
              "<div id=\"df-b6582b80-1847-4cb5-9e0b-00cb124fc741\">\n",
              "  <button class=\"colab-df-quickchart\" onclick=\"quickchart('df-b6582b80-1847-4cb5-9e0b-00cb124fc741')\"\n",
              "            title=\"Suggest charts.\"\n",
              "            style=\"display:none;\">\n",
              "\n",
              "<svg xmlns=\"http://www.w3.org/2000/svg\" height=\"24px\"viewBox=\"0 0 24 24\"\n",
              "     width=\"24px\">\n",
              "    <g>\n",
              "        <path d=\"M19 3H5c-1.1 0-2 .9-2 2v14c0 1.1.9 2 2 2h14c1.1 0 2-.9 2-2V5c0-1.1-.9-2-2-2zM9 17H7v-7h2v7zm4 0h-2V7h2v10zm4 0h-2v-4h2v4z\"/>\n",
              "    </g>\n",
              "</svg>\n",
              "  </button>\n",
              "\n",
              "<style>\n",
              "  .colab-df-quickchart {\n",
              "    background-color: #E8F0FE;\n",
              "    border: none;\n",
              "    border-radius: 50%;\n",
              "    cursor: pointer;\n",
              "    display: none;\n",
              "    fill: #1967D2;\n",
              "    height: 32px;\n",
              "    padding: 0 0 0 0;\n",
              "    width: 32px;\n",
              "  }\n",
              "\n",
              "  .colab-df-quickchart:hover {\n",
              "    background-color: #E2EBFA;\n",
              "    box-shadow: 0px 1px 2px rgba(60, 64, 67, 0.3), 0px 1px 3px 1px rgba(60, 64, 67, 0.15);\n",
              "    fill: #174EA6;\n",
              "  }\n",
              "\n",
              "  [theme=dark] .colab-df-quickchart {\n",
              "    background-color: #3B4455;\n",
              "    fill: #D2E3FC;\n",
              "  }\n",
              "\n",
              "  [theme=dark] .colab-df-quickchart:hover {\n",
              "    background-color: #434B5C;\n",
              "    box-shadow: 0px 1px 3px 1px rgba(0, 0, 0, 0.15);\n",
              "    filter: drop-shadow(0px 1px 2px rgba(0, 0, 0, 0.3));\n",
              "    fill: #FFFFFF;\n",
              "  }\n",
              "</style>\n",
              "\n",
              "  <script>\n",
              "    async function quickchart(key) {\n",
              "      const charts = await google.colab.kernel.invokeFunction(\n",
              "          'suggestCharts', [key], {});\n",
              "    }\n",
              "    (() => {\n",
              "      let quickchartButtonEl =\n",
              "        document.querySelector('#df-b6582b80-1847-4cb5-9e0b-00cb124fc741 button');\n",
              "      quickchartButtonEl.style.display =\n",
              "        google.colab.kernel.accessAllowed ? 'block' : 'none';\n",
              "    })();\n",
              "  </script>\n",
              "</div>\n",
              "    </div>\n",
              "  </div>\n"
            ]
          },
          "metadata": {},
          "execution_count": 13
        }
      ],
      "source": [
        "# 1.'구'씨 데이터를 [지역]별 합계 구하기\n",
        "# df_goo_group = df_goo.groupby('지역').sum()\n",
        "df_goo_group = df_goo.groupby('지역').sum(numeric_only=False) # numeric_only=True가 기본 세팅\n",
        "df_goo_group\n",
        "\n",
        "\n",
        "# 2.지역별 합계 데이터를 '인구' 크기순으로 정렬하기\n",
        "df_goo_group = df_goo_group.sort_values(by = '인구', ascending = False) # ascending = False 내림차순\n",
        "df_goo_group"
      ]
    },
    {
      "cell_type": "markdown",
      "id": "CDmOIhajoMX4",
      "metadata": {
        "id": "CDmOIhajoMX4"
      },
      "source": [
        "**### [실습문제] 자신의 한글 성씨 데이터를 [지역]별로 [인구] 합계 출력하기**"
      ]
    },
    {
      "cell_type": "code",
      "execution_count": 14,
      "id": "Y1pFglPangB9",
      "metadata": {
        "id": "Y1pFglPangB9",
        "colab": {
          "base_uri": "https://localhost:8080/",
          "height": 614
        },
        "outputId": "11a18bf1-0e06-4eb7-e1cf-490352d9d2cc"
      },
      "outputs": [
        {
          "output_type": "execute_result",
          "data": {
            "text/plain": [
              "           성씨       인구\n",
              "지역                    \n",
              "경기도      이(李)  1856028\n",
              "서울특별시    이(李)  1441796\n",
              "부산광역시    이(李)   469587\n",
              "경상남도     이(李)   441464\n",
              "인천광역시    이(李)   424803\n",
              "경상북도     이(李)   391378\n",
              "대구광역시    이(李)   374123\n",
              "충청남도     이(李)   327336\n",
              "전라북도     이(李)   251483\n",
              "충청북도     이(李)   237914\n",
              "대전광역시    이(李)   230292\n",
              "강원도      이(李)   216909\n",
              "전라남도     이(李)   205798\n",
              "광주광역시    이(李)   179688\n",
              "울산광역시    이(李)   167221\n",
              "제주특별자치도  이(李)    60553\n",
              "세종특별자치시  이(李)    30455"
            ],
            "text/html": [
              "\n",
              "  <div id=\"df-8ece8743-8bcf-476d-b16a-d22bac0c9819\" class=\"colab-df-container\">\n",
              "    <div>\n",
              "<style scoped>\n",
              "    .dataframe tbody tr th:only-of-type {\n",
              "        vertical-align: middle;\n",
              "    }\n",
              "\n",
              "    .dataframe tbody tr th {\n",
              "        vertical-align: top;\n",
              "    }\n",
              "\n",
              "    .dataframe thead th {\n",
              "        text-align: right;\n",
              "    }\n",
              "</style>\n",
              "<table border=\"1\" class=\"dataframe\">\n",
              "  <thead>\n",
              "    <tr style=\"text-align: right;\">\n",
              "      <th></th>\n",
              "      <th>성씨</th>\n",
              "      <th>인구</th>\n",
              "    </tr>\n",
              "    <tr>\n",
              "      <th>지역</th>\n",
              "      <th></th>\n",
              "      <th></th>\n",
              "    </tr>\n",
              "  </thead>\n",
              "  <tbody>\n",
              "    <tr>\n",
              "      <th>경기도</th>\n",
              "      <td>이(李)</td>\n",
              "      <td>1856028</td>\n",
              "    </tr>\n",
              "    <tr>\n",
              "      <th>서울특별시</th>\n",
              "      <td>이(李)</td>\n",
              "      <td>1441796</td>\n",
              "    </tr>\n",
              "    <tr>\n",
              "      <th>부산광역시</th>\n",
              "      <td>이(李)</td>\n",
              "      <td>469587</td>\n",
              "    </tr>\n",
              "    <tr>\n",
              "      <th>경상남도</th>\n",
              "      <td>이(李)</td>\n",
              "      <td>441464</td>\n",
              "    </tr>\n",
              "    <tr>\n",
              "      <th>인천광역시</th>\n",
              "      <td>이(李)</td>\n",
              "      <td>424803</td>\n",
              "    </tr>\n",
              "    <tr>\n",
              "      <th>경상북도</th>\n",
              "      <td>이(李)</td>\n",
              "      <td>391378</td>\n",
              "    </tr>\n",
              "    <tr>\n",
              "      <th>대구광역시</th>\n",
              "      <td>이(李)</td>\n",
              "      <td>374123</td>\n",
              "    </tr>\n",
              "    <tr>\n",
              "      <th>충청남도</th>\n",
              "      <td>이(李)</td>\n",
              "      <td>327336</td>\n",
              "    </tr>\n",
              "    <tr>\n",
              "      <th>전라북도</th>\n",
              "      <td>이(李)</td>\n",
              "      <td>251483</td>\n",
              "    </tr>\n",
              "    <tr>\n",
              "      <th>충청북도</th>\n",
              "      <td>이(李)</td>\n",
              "      <td>237914</td>\n",
              "    </tr>\n",
              "    <tr>\n",
              "      <th>대전광역시</th>\n",
              "      <td>이(李)</td>\n",
              "      <td>230292</td>\n",
              "    </tr>\n",
              "    <tr>\n",
              "      <th>강원도</th>\n",
              "      <td>이(李)</td>\n",
              "      <td>216909</td>\n",
              "    </tr>\n",
              "    <tr>\n",
              "      <th>전라남도</th>\n",
              "      <td>이(李)</td>\n",
              "      <td>205798</td>\n",
              "    </tr>\n",
              "    <tr>\n",
              "      <th>광주광역시</th>\n",
              "      <td>이(李)</td>\n",
              "      <td>179688</td>\n",
              "    </tr>\n",
              "    <tr>\n",
              "      <th>울산광역시</th>\n",
              "      <td>이(李)</td>\n",
              "      <td>167221</td>\n",
              "    </tr>\n",
              "    <tr>\n",
              "      <th>제주특별자치도</th>\n",
              "      <td>이(李)</td>\n",
              "      <td>60553</td>\n",
              "    </tr>\n",
              "    <tr>\n",
              "      <th>세종특별자치시</th>\n",
              "      <td>이(李)</td>\n",
              "      <td>30455</td>\n",
              "    </tr>\n",
              "  </tbody>\n",
              "</table>\n",
              "</div>\n",
              "    <div class=\"colab-df-buttons\">\n",
              "\n",
              "  <div class=\"colab-df-container\">\n",
              "    <button class=\"colab-df-convert\" onclick=\"convertToInteractive('df-8ece8743-8bcf-476d-b16a-d22bac0c9819')\"\n",
              "            title=\"Convert this dataframe to an interactive table.\"\n",
              "            style=\"display:none;\">\n",
              "\n",
              "  <svg xmlns=\"http://www.w3.org/2000/svg\" height=\"24px\" viewBox=\"0 -960 960 960\">\n",
              "    <path d=\"M120-120v-720h720v720H120Zm60-500h600v-160H180v160Zm220 220h160v-160H400v160Zm0 220h160v-160H400v160ZM180-400h160v-160H180v160Zm440 0h160v-160H620v160ZM180-180h160v-160H180v160Zm440 0h160v-160H620v160Z\"/>\n",
              "  </svg>\n",
              "    </button>\n",
              "\n",
              "  <style>\n",
              "    .colab-df-container {\n",
              "      display:flex;\n",
              "      gap: 12px;\n",
              "    }\n",
              "\n",
              "    .colab-df-convert {\n",
              "      background-color: #E8F0FE;\n",
              "      border: none;\n",
              "      border-radius: 50%;\n",
              "      cursor: pointer;\n",
              "      display: none;\n",
              "      fill: #1967D2;\n",
              "      height: 32px;\n",
              "      padding: 0 0 0 0;\n",
              "      width: 32px;\n",
              "    }\n",
              "\n",
              "    .colab-df-convert:hover {\n",
              "      background-color: #E2EBFA;\n",
              "      box-shadow: 0px 1px 2px rgba(60, 64, 67, 0.3), 0px 1px 3px 1px rgba(60, 64, 67, 0.15);\n",
              "      fill: #174EA6;\n",
              "    }\n",
              "\n",
              "    .colab-df-buttons div {\n",
              "      margin-bottom: 4px;\n",
              "    }\n",
              "\n",
              "    [theme=dark] .colab-df-convert {\n",
              "      background-color: #3B4455;\n",
              "      fill: #D2E3FC;\n",
              "    }\n",
              "\n",
              "    [theme=dark] .colab-df-convert:hover {\n",
              "      background-color: #434B5C;\n",
              "      box-shadow: 0px 1px 3px 1px rgba(0, 0, 0, 0.15);\n",
              "      filter: drop-shadow(0px 1px 2px rgba(0, 0, 0, 0.3));\n",
              "      fill: #FFFFFF;\n",
              "    }\n",
              "  </style>\n",
              "\n",
              "    <script>\n",
              "      const buttonEl =\n",
              "        document.querySelector('#df-8ece8743-8bcf-476d-b16a-d22bac0c9819 button.colab-df-convert');\n",
              "      buttonEl.style.display =\n",
              "        google.colab.kernel.accessAllowed ? 'block' : 'none';\n",
              "\n",
              "      async function convertToInteractive(key) {\n",
              "        const element = document.querySelector('#df-8ece8743-8bcf-476d-b16a-d22bac0c9819');\n",
              "        const dataTable =\n",
              "          await google.colab.kernel.invokeFunction('convertToInteractive',\n",
              "                                                    [key], {});\n",
              "        if (!dataTable) return;\n",
              "\n",
              "        const docLinkHtml = 'Like what you see? Visit the ' +\n",
              "          '<a target=\"_blank\" href=https://colab.research.google.com/notebooks/data_table.ipynb>data table notebook</a>'\n",
              "          + ' to learn more about interactive tables.';\n",
              "        element.innerHTML = '';\n",
              "        dataTable['output_type'] = 'display_data';\n",
              "        await google.colab.output.renderOutput(dataTable, element);\n",
              "        const docLink = document.createElement('div');\n",
              "        docLink.innerHTML = docLinkHtml;\n",
              "        element.appendChild(docLink);\n",
              "      }\n",
              "    </script>\n",
              "  </div>\n",
              "\n",
              "\n",
              "<div id=\"df-89cabfc4-cee3-4ab8-a77a-8e7056213461\">\n",
              "  <button class=\"colab-df-quickchart\" onclick=\"quickchart('df-89cabfc4-cee3-4ab8-a77a-8e7056213461')\"\n",
              "            title=\"Suggest charts.\"\n",
              "            style=\"display:none;\">\n",
              "\n",
              "<svg xmlns=\"http://www.w3.org/2000/svg\" height=\"24px\"viewBox=\"0 0 24 24\"\n",
              "     width=\"24px\">\n",
              "    <g>\n",
              "        <path d=\"M19 3H5c-1.1 0-2 .9-2 2v14c0 1.1.9 2 2 2h14c1.1 0 2-.9 2-2V5c0-1.1-.9-2-2-2zM9 17H7v-7h2v7zm4 0h-2V7h2v10zm4 0h-2v-4h2v4z\"/>\n",
              "    </g>\n",
              "</svg>\n",
              "  </button>\n",
              "\n",
              "<style>\n",
              "  .colab-df-quickchart {\n",
              "    background-color: #E8F0FE;\n",
              "    border: none;\n",
              "    border-radius: 50%;\n",
              "    cursor: pointer;\n",
              "    display: none;\n",
              "    fill: #1967D2;\n",
              "    height: 32px;\n",
              "    padding: 0 0 0 0;\n",
              "    width: 32px;\n",
              "  }\n",
              "\n",
              "  .colab-df-quickchart:hover {\n",
              "    background-color: #E2EBFA;\n",
              "    box-shadow: 0px 1px 2px rgba(60, 64, 67, 0.3), 0px 1px 3px 1px rgba(60, 64, 67, 0.15);\n",
              "    fill: #174EA6;\n",
              "  }\n",
              "\n",
              "  [theme=dark] .colab-df-quickchart {\n",
              "    background-color: #3B4455;\n",
              "    fill: #D2E3FC;\n",
              "  }\n",
              "\n",
              "  [theme=dark] .colab-df-quickchart:hover {\n",
              "    background-color: #434B5C;\n",
              "    box-shadow: 0px 1px 3px 1px rgba(0, 0, 0, 0.15);\n",
              "    filter: drop-shadow(0px 1px 2px rgba(0, 0, 0, 0.3));\n",
              "    fill: #FFFFFF;\n",
              "  }\n",
              "</style>\n",
              "\n",
              "  <script>\n",
              "    async function quickchart(key) {\n",
              "      const charts = await google.colab.kernel.invokeFunction(\n",
              "          'suggestCharts', [key], {});\n",
              "    }\n",
              "    (() => {\n",
              "      let quickchartButtonEl =\n",
              "        document.querySelector('#df-89cabfc4-cee3-4ab8-a77a-8e7056213461 button');\n",
              "      quickchartButtonEl.style.display =\n",
              "        google.colab.kernel.accessAllowed ? 'block' : 'none';\n",
              "    })();\n",
              "  </script>\n",
              "</div>\n",
              "    </div>\n",
              "  </div>\n"
            ]
          },
          "metadata": {},
          "execution_count": 14
        }
      ],
      "source": [
        "# 자신의 한글 성씨 데이터를 지역별 합계 데이터를 '인구' 크기순으로 정렬하기\n",
        "\n",
        "df_my_group = df_my.groupby('지역').sum(numeric_only=False) # numeric_only=True가 기본 세팅\n",
        "df_my_group = df_my_group.sort_values(by = '인구', ascending = False) # ascending = False 내림차순\n",
        "df_my_group\n"
      ]
    },
    {
      "cell_type": "markdown",
      "id": "32c107d0",
      "metadata": {
        "id": "32c107d0"
      },
      "source": [
        "---------------------------"
      ]
    },
    {
      "cell_type": "markdown",
      "id": "588917f0",
      "metadata": {
        "id": "588917f0"
      },
      "source": [
        "### 4.데이터 시각화하기 : 데이터 그래프로 나타내기\n",
        "- 색상 참고 :  https://matplotlib.org/stable/gallery/color/named_colors.html"
      ]
    },
    {
      "cell_type": "markdown",
      "id": "4cda9851",
      "metadata": {
        "id": "4cda9851"
      },
      "source": [
        "#### @막대 그래프로 시각화하기"
      ]
    },
    {
      "cell_type": "code",
      "source": [
        "!sudo apt-get install -y fonts-nanum\n",
        "!sudo fc-cache -fv\n",
        "!rm ~/.cache/matplotlib -rf"
      ],
      "metadata": {
        "colab": {
          "base_uri": "https://localhost:8080/"
        },
        "id": "ieGSbpvwQ7bF",
        "outputId": "d91946c4-d659-48d8-af2b-6dc357b21361"
      },
      "id": "ieGSbpvwQ7bF",
      "execution_count": 3,
      "outputs": [
        {
          "output_type": "stream",
          "name": "stdout",
          "text": [
            "Reading package lists... Done\n",
            "Building dependency tree... Done\n",
            "Reading state information... Done\n",
            "The following NEW packages will be installed:\n",
            "  fonts-nanum\n",
            "0 upgraded, 1 newly installed, 0 to remove and 16 not upgraded.\n",
            "Need to get 10.3 MB of archives.\n",
            "After this operation, 34.1 MB of additional disk space will be used.\n",
            "Get:1 http://archive.ubuntu.com/ubuntu jammy/universe amd64 fonts-nanum all 20200506-1 [10.3 MB]\n",
            "Fetched 10.3 MB in 0s (28.1 MB/s)\n",
            "debconf: unable to initialize frontend: Dialog\n",
            "debconf: (No usable dialog-like program is installed, so the dialog based frontend cannot be used. at /usr/share/perl5/Debconf/FrontEnd/Dialog.pm line 78, <> line 1.)\n",
            "debconf: falling back to frontend: Readline\n",
            "debconf: unable to initialize frontend: Readline\n",
            "debconf: (This frontend requires a controlling tty.)\n",
            "debconf: falling back to frontend: Teletype\n",
            "dpkg-preconfigure: unable to re-open stdin: \n",
            "Selecting previously unselected package fonts-nanum.\n",
            "(Reading database ... 120831 files and directories currently installed.)\n",
            "Preparing to unpack .../fonts-nanum_20200506-1_all.deb ...\n",
            "Unpacking fonts-nanum (20200506-1) ...\n",
            "Setting up fonts-nanum (20200506-1) ...\n",
            "Processing triggers for fontconfig (2.13.1-4.2ubuntu5) ...\n",
            "/usr/share/fonts: caching, new cache contents: 0 fonts, 1 dirs\n",
            "/usr/share/fonts/truetype: caching, new cache contents: 0 fonts, 3 dirs\n",
            "/usr/share/fonts/truetype/humor-sans: caching, new cache contents: 1 fonts, 0 dirs\n",
            "/usr/share/fonts/truetype/liberation: caching, new cache contents: 16 fonts, 0 dirs\n",
            "/usr/share/fonts/truetype/nanum: caching, new cache contents: 12 fonts, 0 dirs\n",
            "/usr/local/share/fonts: caching, new cache contents: 0 fonts, 0 dirs\n",
            "/root/.local/share/fonts: skipping, no such directory\n",
            "/root/.fonts: skipping, no such directory\n",
            "/usr/share/fonts/truetype: skipping, looped directory detected\n",
            "/usr/share/fonts/truetype/humor-sans: skipping, looped directory detected\n",
            "/usr/share/fonts/truetype/liberation: skipping, looped directory detected\n",
            "/usr/share/fonts/truetype/nanum: skipping, looped directory detected\n",
            "/var/cache/fontconfig: cleaning cache directory\n",
            "/root/.cache/fontconfig: not cleaning non-existent cache directory\n",
            "/root/.fontconfig: not cleaning non-existent cache directory\n",
            "fc-cache: succeeded\n"
          ]
        }
      ]
    },
    {
      "cell_type": "code",
      "source": [
        "#[코랩용 한글]\n",
        "import matplotlib.pyplot as plt\n",
        "plt.rc('font', family='NanumBarunGothic')        # 방법1\n",
        "plt.rcParams['font.family'] = 'NanumBarunGothic' # 방법2"
      ],
      "metadata": {
        "id": "7J1QGzRtQt38"
      },
      "id": "7J1QGzRtQt38",
      "execution_count": 1,
      "outputs": []
    },
    {
      "cell_type": "code",
      "execution_count": 15,
      "id": "66c95169",
      "metadata": {
        "id": "66c95169",
        "colab": {
          "base_uri": "https://localhost:8080/"
        },
        "outputId": "896e7ebe-6882-4f4f-c5f6-c86373734bd3"
      },
      "outputs": [
        {
          "output_type": "execute_result",
          "data": {
            "text/plain": [
              "Index(['성씨', '인구'], dtype='object')"
            ]
          },
          "metadata": {},
          "execution_count": 15
        }
      ],
      "source": [
        "df_goo_group.columns # 지역은 인덱스"
      ]
    },
    {
      "cell_type": "code",
      "execution_count": 16,
      "id": "62847130",
      "metadata": {
        "id": "62847130",
        "scrolled": true,
        "colab": {
          "base_uri": "https://localhost:8080/",
          "height": 528
        },
        "outputId": "cdc8399f-76b8-496c-d4f7-0b8625b67022"
      },
      "outputs": [
        {
          "output_type": "display_data",
          "data": {
            "text/plain": [
              "<Figure size 640x480 with 1 Axes>"
            ],
            "image/png": "[encoded data removed]"
          },
          "metadata": {}
        }
      ],
      "source": [
        "import matplotlib.pyplot as plt\n",
        "\n",
        "# plt.rc('font', family='Malgun Gothic')          # (win)한글 폰트\n",
        "plt.rc('font', family='NanumBarunGothic')       # (코랩)한글 폰트\n",
        "\n",
        "\n",
        "# 1.그래프 데이터 지정하기(X축, Y축)\n",
        "x = df_goo_group.index  # 지역\n",
        "y = df_goo_group['인구']   # 인구수\n",
        "\n",
        "# 2.그래프 그리기\n",
        "plt.bar(x, y)\n",
        "\n",
        "# 3. 그래프 꾸미기\n",
        "plt.title('대한민국 \"구씨\"를 찾아라') # 그래프 제목\n",
        "plt.xlabel('지역')                    # x축 이름\n",
        "plt.ylabel('인구수')                  # y축 이름\n",
        "plt.xticks(rotation = 45)             # X축 레이블 회전\n",
        "plt.show()                            # 그래프 출력하기"
      ]
    },
    {
      "cell_type": "markdown",
      "id": "0cQ0X9Bnq542",
      "metadata": {
        "id": "0cQ0X9Bnq542"
      },
      "source": [
        "### [실습문제]  (코랩) 그래프에서 한글이 깨져서 보입니다. 한글이 나타나도록 만들어보세요."
      ]
    },
    {
      "cell_type": "code",
      "execution_count": null,
      "id": "st4nBG9fq6IF",
      "metadata": {
        "id": "st4nBG9fq6IF"
      },
      "outputs": [],
      "source": [
        "# 1. (코랩) 한글 폰트 설치하기\n",
        "!sudo apt-get install -y fonts-nanum\n",
        "!sudo fc-cache -fv\n",
        "!rm ~/.cache/matplotlib -rf\n",
        "\n",
        "# 2. 코랩에서 위 코드를 실행시킨 후  반드시 코랩(Colab)의 런타임을 재시작 합니다.\n",
        "\n",
        "# 3. 런타입 후에는 앞에서 실행한 셀을 다시 실행해야한다.\n",
        "#    (메모리에 있던 정보가 재실행하면 없어졌기때문에)\n",
        "\n",
        "# 4. 한글폰트 지정하기\n",
        "# import matplotlib.pyplot as plt\n",
        "# plt.rc('font', family='NanumBarunGothic')\n"
      ]
    },
    {
      "cell_type": "markdown",
      "id": "32fd4248",
      "metadata": {
        "id": "32fd4248"
      },
      "source": [
        "#### @그래프 꾸미기"
      ]
    },
    {
      "cell_type": "code",
      "execution_count": 17,
      "id": "6cc40535",
      "metadata": {
        "id": "6cc40535",
        "colab": {
          "base_uri": "https://localhost:8080/",
          "height": 600
        },
        "outputId": "135b782c-aa4d-4fe1-a0b6-bb30e1a24431"
      },
      "outputs": [
        {
          "output_type": "display_data",
          "data": {
            "text/plain": [
              "<Figure size 1500x500 with 1 Axes>"
            ],
            "image/png": "[encoded data removed]"
          },
          "metadata": {}
        }
      ],
      "source": [
        "import matplotlib.pyplot as plt\n",
        "\n",
        "# 1.그래프 데이터 지정하기(X축, Y축)\n",
        "x = df_goo_group.index  # 지역\n",
        "y = df_goo_group['인구']   # 인구수\n",
        "\n",
        "# 2.그래프 그리기\n",
        "plt.figure(figsize = (15, 5), facecolor = 'lavender') # 그래프 크기와 색상\n",
        "plt.bar(x, y, color = 'mediumpurple')  # 막대 그래프 그리기\n",
        "\n",
        "# 3. 그래프 꾸미기\n",
        "plt.title('\"구씨를 찾아라\"', pad = 20,                # 그래프 제목\n",
        "          fontdict = {'size':30, 'color':'black', 'weight':'bold'})\n",
        "plt.xlabel('지역', fontdict = {'size': 20, 'color': 'dimgray', 'weight': 'bold'})\n",
        "plt.ylabel('인구(명)', fontdict = {'size': 20, 'color': 'dimgray', 'weight': 'bold'}, labelpad = 20)\n",
        "plt.xticks(rotation = 45)                   # X축 레이블 회전\n",
        "plt.grid(True, axis = 'y', alpha = 0.5)    # 그래프에 그리드 표현하기\n",
        "\n",
        "plt.show() # 그래프 그리기"
      ]
    },
    {
      "cell_type": "markdown",
      "id": "e5aa99de",
      "metadata": {
        "id": "e5aa99de"
      },
      "source": [
        "#### @선 그래프로 시각화하기"
      ]
    },
    {
      "cell_type": "code",
      "execution_count": 18,
      "id": "dcebf6b5",
      "metadata": {
        "id": "dcebf6b5",
        "scrolled": true,
        "colab": {
          "base_uri": "https://localhost:8080/",
          "height": 600
        },
        "outputId": "5fef1311-1bca-4b8f-e42d-b70ef736be29"
      },
      "outputs": [
        {
          "output_type": "display_data",
          "data": {
            "text/plain": [
              "<Figure size 1500x500 with 1 Axes>"
            ],
            "image/png": "[encoded data removed]"
          },
          "metadata": {}
        }
      ],
      "source": [
        "import matplotlib.pyplot as plt\n",
        "\n",
        "# plt.rc('font', family='Malgun Gothic')          # (win)한글 폰트\n",
        "plt.rc('font', family='NanumBarunGothic')       # (코랩)한글 폰트\n",
        "\n",
        "# 1.그래프 데이터 지정하기(X축, Y축)\n",
        "x = df_goo_group.index  # 지역\n",
        "y = df_goo_group['인구']   # 인구수\n",
        "\n",
        "# 2.그래프 그리기 (선그래프 그리기)\n",
        "plt.figure(figsize = (15, 5), facecolor = 'lavender') # 그래프 크기와 색상\n",
        "plt.plot(x, y, color='mediumpurple', marker='o', linestyle='solid',\n",
        "         linewidth=2, markersize=8, markerfacecolor='red')\n",
        "\n",
        "# 3. 그래프 꾸미기\n",
        "plt.title('\"구씨를 찾아라\"', pad = 20,                # 그래프 제목\n",
        "          fontdict = {'size':30, 'color':'black', 'weight':'bold'})\n",
        "plt.xlabel('지역', fontdict = {'size': 20, 'color': 'dimgray', 'weight': 'bold'})\n",
        "plt.ylabel('인구(명)', fontdict = {'size': 20, 'color': 'dimgray', 'weight': 'bold'}, labelpad = 20)\n",
        "plt.xticks(rotation = 45)                   # X축 레이블 회전\n",
        "plt.grid(True, axis = 'y', alpha = 0.5)    # 그래프에 그리드 표현하기\n",
        "\n",
        "plt.show() # 그래프 그리기"
      ]
    },
    {
      "cell_type": "markdown",
      "id": "1182f9ba",
      "metadata": {
        "id": "1182f9ba"
      },
      "source": [
        "#### @혼합 그래프"
      ]
    },
    {
      "cell_type": "code",
      "execution_count": 19,
      "id": "eb8a0ccb",
      "metadata": {
        "id": "eb8a0ccb",
        "scrolled": true,
        "colab": {
          "base_uri": "https://localhost:8080/",
          "height": 600
        },
        "outputId": "b855857c-0fa0-4265-ab12-020c1f9d234e"
      },
      "outputs": [
        {
          "output_type": "display_data",
          "data": {
            "text/plain": [
              "<Figure size 1500x500 with 1 Axes>"
            ],
            "image/png": "[encoded data removed]"
          },
          "metadata": {}
        }
      ],
      "source": [
        "import matplotlib.pyplot as plt\n",
        "\n",
        "\n",
        "# 1.그래프 데이터 지정하기(X축, Y축)\n",
        "x = df_goo_group.index  # 지역\n",
        "y = df_goo_group['인구']   # 인구수\n",
        "\n",
        "# 2.그래프 그리기\n",
        "plt.figure(figsize = (15, 5), facecolor = 'lavender') # 그래프 크기와 색상\n",
        "plt.bar(x, y, color = 'mediumpurple')          # 막대 그래프\n",
        "plt.plot(x, y, color='royalblue', marker='o',  # 선 그래프\n",
        "         linewidth=2, markerfacecolor='red')\n",
        "\n",
        "# 3.그래프 꾸미기\n",
        "plt.title('\"구씨를 찾아라\"', pad = 20,                # 그래프 제목\n",
        "          fontdict = {'size':30, 'color':'black', 'weight':'bold'})\n",
        "plt.xlabel('지역', fontdict = {'size': 20, 'color': 'dimgray', 'weight': 'bold'})\n",
        "plt.ylabel('인구(명)', fontdict = {'size': 20, 'color': 'dimgray', 'weight': 'bold'}, labelpad = 20)\n",
        "plt.xticks(rotation = 45)                 # X축 레이블 회전\n",
        "plt.grid(True, axis = 'y', alpha = 0.5)  # 그래프에 그리드 표현하기\n",
        "\n",
        "plt.show() # 그래프 그리기"
      ]
    },
    {
      "cell_type": "markdown",
      "id": "b6e3cb73",
      "metadata": {
        "id": "b6e3cb73"
      },
      "source": [
        "### 5. 데이터 저장하기 : 데이터 파일로 저장하기"
      ]
    },
    {
      "cell_type": "code",
      "execution_count": 20,
      "id": "43eb89da",
      "metadata": {
        "id": "43eb89da"
      },
      "outputs": [],
      "source": [
        "# 파일명 지정하여 저장하기\n",
        "file = './sample_data/family_name_goo.csv'  # 파일명\n",
        "df_goo_group.to_csv(file, encoding = 'cp949', mode = 'w') # 파일 저장하기"
      ]
    },
    {
      "cell_type": "markdown",
      "id": "44d19d55",
      "metadata": {
        "id": "44d19d55"
      },
      "source": [
        "-----------------------------------------"
      ]
    },
    {
      "cell_type": "markdown",
      "id": "6ac7b687",
      "metadata": {
        "id": "6ac7b687"
      },
      "source": [
        "**### [실습문제] 워드클라우드로 시각화하기**"
      ]
    },
    {
      "cell_type": "code",
      "execution_count": 21,
      "id": "528e2c05",
      "metadata": {
        "id": "528e2c05",
        "colab": {
          "base_uri": "https://localhost:8080/"
        },
        "outputId": "7614181a-68bf-4c9e-936e-8f420c8a1bfd"
      },
      "outputs": [
        {
          "output_type": "stream",
          "name": "stdout",
          "text": [
            "Requirement already satisfied: wordcloud in /usr/local/lib/python3.10/dist-packages (1.9.2)\n",
            "Requirement already satisfied: numpy>=1.6.1 in /usr/local/lib/python3.10/dist-packages (from wordcloud) (1.23.5)\n",
            "Requirement already satisfied: pillow in /usr/local/lib/python3.10/dist-packages (from wordcloud) (9.4.0)\n",
            "Requirement already satisfied: matplotlib in /usr/local/lib/python3.10/dist-packages (from wordcloud) (3.7.1)\n",
            "Requirement already satisfied: contourpy>=1.0.1 in /usr/local/lib/python3.10/dist-packages (from matplotlib->wordcloud) (1.1.0)\n",
            "Requirement already satisfied: cycler>=0.10 in /usr/local/lib/python3.10/dist-packages (from matplotlib->wordcloud) (0.11.0)\n",
            "Requirement already satisfied: fonttools>=4.22.0 in /usr/local/lib/python3.10/dist-packages (from matplotlib->wordcloud) (4.42.1)\n",
            "Requirement already satisfied: kiwisolver>=1.0.1 in /usr/local/lib/python3.10/dist-packages (from matplotlib->wordcloud) (1.4.4)\n",
            "Requirement already satisfied: packaging>=20.0 in /usr/local/lib/python3.10/dist-packages (from matplotlib->wordcloud) (23.1)\n",
            "Requirement already satisfied: pyparsing>=2.3.1 in /usr/local/lib/python3.10/dist-packages (from matplotlib->wordcloud) (3.1.1)\n",
            "Requirement already satisfied: python-dateutil>=2.7 in /usr/local/lib/python3.10/dist-packages (from matplotlib->wordcloud) (2.8.2)\n",
            "Requirement already satisfied: six>=1.5 in /usr/local/lib/python3.10/dist-packages (from python-dateutil>=2.7->matplotlib->wordcloud) (1.16.0)\n"
          ]
        }
      ],
      "source": [
        "# 라이브러리 설치하기\n",
        "!pip install wordcloud"
      ]
    },
    {
      "cell_type": "code",
      "execution_count": 23,
      "id": "c2cc771b",
      "metadata": {
        "id": "c2cc771b",
        "scrolled": true,
        "colab": {
          "base_uri": "https://localhost:8080/",
          "height": 391
        },
        "outputId": "a3f21f23-360e-4480-a1c0-880b45d013e2"
      },
      "outputs": [
        {
          "output_type": "stream",
          "name": "stdout",
          "text": [
            "{'경기도': 47572, '서울특별시': 38857, '경상남도': 20367, '부산광역시': 17871, '대구광역시': 15313, '인천광역시': 12028, '충청남도': 10061, '경상북도': 10000, '대전광역시': 6295, '전라북도': 5640, '충청북도': 5449, '광주광역시': 5132, '전라남도': 4628, '울산광역시': 4355, '강원도': 3332, '제주특별자치도': 830, '세종특별자치시': 732}\n"
          ]
        },
        {
          "output_type": "display_data",
          "data": {
            "text/plain": [
              "<Figure size 640x480 with 1 Axes>"
            ],
            "image/png": "[encoded data removed]"
          },
          "metadata": {}
        },
        {
          "output_type": "execute_result",
          "data": {
            "text/plain": [
              "<wordcloud.wordcloud.WordCloud at 0x7c81d1a9fa30>"
            ]
          },
          "metadata": {},
          "execution_count": 23
        }
      ],
      "source": [
        "from wordcloud import WordCloud\n",
        "import matplotlib.pyplot as plt\n",
        "\n",
        "# 1. (win)폰트 지정: 자신의 컴퓨터 환경에 맞는 한글 폰트 경로\n",
        "# font_path = 'malgun'  # C:/Windows/Fonts/\n",
        "# font_path = 'HMKMMAG' # C:/Windows/Fonts/HMKMMAG.TTF\n",
        "\n",
        "# 1. (코랩)폰트 지정: 자신의 컴퓨터 환경에 맞는 한글 폰트 경로\n",
        "font_path = '/usr/share/fonts/truetype/nanum/NanumGothicBold.ttf'\n",
        "\n",
        "# 2.전처리된 데이터 지정하기\n",
        "names = df_goo_group.index     # 지역\n",
        "counts = df_goo_group['인구']  # 인구수\n",
        "data = dict(zip(names, counts)) # 워드클라우드는 <<딕셔너리>> 형태로 만들기\n",
        "print(data) # 딕셔너리 형태인지 확인\n",
        "\n",
        "# 3.워드클라우드 그래프로 시각화하기 / 데이터는 딕셔너리 형태만 가능\n",
        "wc = WordCloud(width = 1000, height = 600,\n",
        "               background_color=\"white\", font_path=font_path)\n",
        "plt.imshow(wc.generate_from_frequencies(data))\n",
        "plt.axis(\"off\")\n",
        "plt.show()\n",
        "\n",
        "# 4.파일로 저장하기\n",
        "wc.to_file('./sample_data/구씨_워드클라우드.png')"
      ]
    },
    {
      "cell_type": "markdown",
      "id": "xjIQRtwpxuCI",
      "metadata": {
        "id": "xjIQRtwpxuCI"
      },
      "source": [
        "\n",
        "\n",
        "---\n",
        "\n"
      ]
    },
    {
      "cell_type": "markdown",
      "id": "39d915d4",
      "metadata": {
        "id": "39d915d4"
      },
      "source": [
        "### **[[미션]] **\n",
        "자신의 성씨 데이터 지역별로 그룹핑해서 그래프 그리고 데이터 파일을 저장하기 나타내기"
      ]
    },
    {
      "cell_type": "code",
      "execution_count": 25,
      "id": "f11651f0",
      "metadata": {
        "id": "f11651f0",
        "scrolled": true
      },
      "outputs": [],
      "source": [
        "df_my_group\n",
        "file = './sample_data/family_name_my.csv'  # 파일명\n",
        "df_my_group.to_csv(file, encoding = 'cp949', mode = 'w') # 파일 저장하기\n",
        "\n"
      ]
    },
    {
      "cell_type": "code",
      "source": [
        "from wordcloud import WordCloud\n",
        "import matplotlib.pyplot as plt\n",
        "\n",
        "# 1. (win)폰트 지정: 자신의 컴퓨터 환경에 맞는 한글 폰트 경로\n",
        "# font_path = 'malgun'  # C:/Windows/Fonts/\n",
        "# font_path = 'HMKMMAG' # C:/Windows/Fonts/HMKMMAG.TTF\n",
        "\n",
        "# 1. (코랩)폰트 지정: 자신의 컴퓨터 환경에 맞는 한글 폰트 경로\n",
        "font_path = '/usr/share/fonts/truetype/nanum/NanumGothicBold.ttf'\n",
        "\n",
        "# 2.전처리된 데이터 지정하기\n",
        "names = df_my_group.index     # 지역\n",
        "counts = df_my_group['인구']  # 인구수\n",
        "data = dict(zip(names, counts)) # 워드클라우드는 <<딕셔너리>> 형태로 만들기\n",
        "print(data) # 딕셔너리 형태인지 확인\n",
        "\n",
        "# 3.워드클라우드 그래프로 시각화하기 / 데이터는 딕셔너리 형태만 가능\n",
        "wc = WordCloud(width = 1000, height = 600,\n",
        "               background_color=\"black\", font_path=font_path)\n",
        "plt.imshow(wc.generate_from_frequencies(data))\n",
        "plt.axis(\"off\")\n",
        "plt.show()\n",
        "\n",
        "# 4.파일로 저장하기\n",
        "wc.to_file('./sample_data/마이_워드클라우드.png')"
      ],
      "metadata": {
        "colab": {
          "base_uri": "https://localhost:8080/",
          "height": 391
        },
        "id": "mxxkzb6BUfzC",
        "outputId": "abfb3ece-842a-4e4c-9760-441c7754afff"
      },
      "id": "mxxkzb6BUfzC",
      "execution_count": 27,
      "outputs": [
        {
          "output_type": "stream",
          "name": "stdout",
          "text": [
            "{'경기도': 1856028, '서울특별시': 1441796, '부산광역시': 469587, '경상남도': 441464, '인천광역시': 424803, '경상북도': 391378, '대구광역시': 374123, '충청남도': 327336, '전라북도': 251483, '충청북도': 237914, '대전광역시': 230292, '강원도': 216909, '전라남도': 205798, '광주광역시': 179688, '울산광역시': 167221, '제주특별자치도': 60553, '세종특별자치시': 30455}\n"
          ]
        },
        {
          "output_type": "display_data",
          "data": {
            "text/plain": [
              "<Figure size 640x480 with 1 Axes>"
            ],
            "image/png": "[encoded data removed]"
          },
          "metadata": {}
        },
        {
          "output_type": "execute_result",
          "data": {
            "text/plain": [
              "<wordcloud.wordcloud.WordCloud at 0x7c81c9a33e50>"
            ]
          },
          "metadata": {},
          "execution_count": 27
        }
      ]
    },
    {
      "cell_type": "markdown",
      "id": "6c48f52e",
      "metadata": {
        "id": "6c48f52e"
      },
      "source": [
        "----------------------------------"
      ]
    },
    {
      "cell_type": "markdown",
      "id": "fede246a",
      "metadata": {
        "id": "fede246a"
      },
      "source": [
        "THE END"
      ]
    }
  ],
  "metadata": {
    "colab": {
      "provenance": [],
      "include_colab_link": true
    },
    "kernelspec": {
      "display_name": "Python 3 (ipykernel)",
      "language": "python",
      "name": "python3"
    },
    "language_info": {
      "codemirror_mode": {
        "name": "ipython",
        "version": 3
      },
      "file_extension": ".py",
      "mimetype": "text/x-python",
      "name": "python",
      "nbconvert_exporter": "python",
      "pygments_lexer": "ipython3",
      "version": "3.10.9"
    },
    "vscode": {
      "interpreter": {
        "hash": "b41e41bff03a930185ac2cbea60ce521f7c8c2f5401ceb5c30214081f77ab4f5"
      }
    }
  },
  "nbformat": 4,
  "nbformat_minor": 5
}