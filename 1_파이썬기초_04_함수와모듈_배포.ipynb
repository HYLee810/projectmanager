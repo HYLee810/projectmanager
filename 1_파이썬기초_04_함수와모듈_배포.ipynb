{
  "cells": [
    {
      "cell_type": "markdown",
      "metadata": {
        "id": "view-in-github",
        "colab_type": "text"
      },
      "source": [
        "<a href=\"https://colab.research.google.com/github/HYLee810/projectmanager/blob/main/1_%ED%8C%8C%EC%9D%B4%EC%8D%AC%EA%B8%B0%EC%B4%88_04_%ED%95%A8%EC%88%98%EC%99%80%EB%AA%A8%EB%93%88_%EB%B0%B0%ED%8F%AC.ipynb\" target=\"_parent\"><img src=\"https://colab.research.google.com/assets/colab-badge.svg\" alt=\"Open In Colab\"/></a>"
      ]
    },
    {
      "cell_type": "markdown",
      "id": "25f81d8c",
      "metadata": {
        "id": "25f81d8c"
      },
      "source": [
        "# 파이썬 기초 다지기"
      ]
    },
    {
      "cell_type": "markdown",
      "id": "3f3da3bd",
      "metadata": {
        "id": "3f3da3bd"
      },
      "source": [
        "## 4- 함수와 모듈\n",
        "데이터 추상화하고 구조화하기"
      ]
    },
    {
      "cell_type": "code",
      "execution_count": null,
      "id": "b2055fa4",
      "metadata": {
        "id": "b2055fa4"
      },
      "outputs": [],
      "source": [
        "import random   # random.py (모듈)\n",
        "\n",
        "room = random.randint(1, 3)  # 1,2,3중에 임의의 수\n"
      ]
    },
    {
      "cell_type": "markdown",
      "id": "0c52a67e",
      "metadata": {
        "id": "0c52a67e"
      },
      "source": [
        "----------------------------------"
      ]
    },
    {
      "cell_type": "markdown",
      "id": "aee8f2e8",
      "metadata": {
        "id": "aee8f2e8"
      },
      "source": [
        "## 4-1.함수 < 모듈 < 패키기"
      ]
    },
    {
      "cell_type": "markdown",
      "id": "e89f3546",
      "metadata": {
        "id": "e89f3546"
      },
      "source": [
        "### 함수 정의하기"
      ]
    },
    {
      "cell_type": "code",
      "execution_count": null,
      "id": "4f161d86",
      "metadata": {
        "id": "4f161d86"
      },
      "outputs": [],
      "source": [
        "\n"
      ]
    },
    {
      "cell_type": "markdown",
      "id": "cb89ea65",
      "metadata": {
        "id": "cb89ea65"
      },
      "source": [
        "### 함수의 구조\n",
        "매개변수와 리턴값에 따른 함수의 유형 예"
      ]
    },
    {
      "cell_type": "markdown",
      "id": "8acceb64",
      "metadata": {
        "id": "8acceb64"
      },
      "source": [
        "- 매개변수(X), 리턴값(X)"
      ]
    },
    {
      "cell_type": "code",
      "execution_count": null,
      "id": "57a55c92",
      "metadata": {
        "id": "57a55c92"
      },
      "outputs": [],
      "source": [
        "def func():\n",
        "    print('안녕하세요!')\n",
        "\n",
        "print( func() )"
      ]
    },
    {
      "cell_type": "markdown",
      "id": "aba4c5e6",
      "metadata": {
        "id": "aba4c5e6"
      },
      "source": [
        "- 매개변수(X), 리턴값(O)"
      ]
    },
    {
      "cell_type": "code",
      "execution_count": null,
      "id": "aa699b58",
      "metadata": {
        "id": "aa699b58"
      },
      "outputs": [],
      "source": [
        "def func():\n",
        "    print('안녕하세요!')\n",
        "    return '처리완료!'\n",
        "\n",
        "print( func() )"
      ]
    },
    {
      "cell_type": "markdown",
      "id": "21f24a11",
      "metadata": {
        "id": "21f24a11"
      },
      "source": [
        "- 매개변수(O), 리턴값(X)"
      ]
    },
    {
      "cell_type": "code",
      "execution_count": null,
      "id": "f1c1db85",
      "metadata": {
        "id": "f1c1db85"
      },
      "outputs": [],
      "source": [
        "def func(a, b):\n",
        "    print('덧셈: %d + %d = %d' % (a, b, a+b))\n",
        "\n",
        "print( func(5, 7) )"
      ]
    },
    {
      "cell_type": "markdown",
      "id": "c80d6c02",
      "metadata": {
        "id": "c80d6c02"
      },
      "source": [
        "- 매개변수(O), 리턴값(O)"
      ]
    },
    {
      "cell_type": "code",
      "execution_count": null,
      "id": "d6d46e65",
      "metadata": {
        "id": "d6d46e65"
      },
      "outputs": [],
      "source": [
        "def func(a, b):\n",
        "    print('덧셈: %d + %d = %d' % (a, b, a+b))\n",
        "    return a+b\n",
        "\n",
        "print( func(5, 7) )"
      ]
    },
    {
      "cell_type": "markdown",
      "id": "fbe6e1c6",
      "metadata": {
        "id": "fbe6e1c6"
      },
      "source": [
        "### [실습문제] 암스트롱수 구하기\n",
        "다음 조건을 참고하여 암스트롱수를 구하는 함수를 만들어 출력하는 프로그램을 만들어 보세요.\n",
        "- **암스트롱수** : 세 자리의 정수 중에서 각 자리의 수를 세 제곱한 수의 합과 자신이 같은 수"
      ]
    },
    {
      "cell_type": "code",
      "execution_count": null,
      "id": "3c387d60",
      "metadata": {
        "colab": {
          "base_uri": "https://localhost:8080/"
        },
        "id": "3c387d60",
        "outputId": "30d6d0b5-9905-466b-9e0e-521607544116"
      },
      "outputs": [
        {
          "output_type": "stream",
          "name": "stdout",
          "text": [
            "[153] is armstrong number!\n",
            "[370] is armstrong number!\n",
            "[371] is armstrong number!\n",
            "[407] is armstrong number!\n"
          ]
        }
      ],
      "source": [
        "def is_arm(N):  # 암스트롱 수 찾는 함수 정의\n",
        "    n = str(N)    # 정수를 문자열로 변환\n",
        "    a = int(n[0]) # 100의 자리수\n",
        "    b = int(n[1]) # 10의 자리수\n",
        "    c = int(n[2]) # 1의 자리수\n",
        "    if N == (a**3 + b**3 + c**3 ):  # 암스트롱수의 조건\n",
        "        return True\n",
        "    else:\n",
        "        return False\n",
        "\n",
        "for i in range(100, 1000):\n",
        "    if is_arm(i):\n",
        "        print(f'[{i}] is armstrong number!')\n"
      ]
    },
    {
      "cell_type": "markdown",
      "id": "a78bd48d",
      "metadata": {
        "id": "a78bd48d"
      },
      "source": [
        "### [실습문제]\n",
        "앞에서 만든 커피 자동주문 머신 프로그램을 함수를 이용하여 만들어 보세요."
      ]
    },
    {
      "cell_type": "code",
      "execution_count": null,
      "id": "ea29d25d",
      "metadata": {
        "colab": {
          "base_uri": "https://localhost:8080/"
        },
        "id": "ea29d25d",
        "outputId": "711fa7d7-86a7-4988-a346-e53087e58068"
      },
      "outputs": [
        {
          "output_type": "stream",
          "name": "stdout",
          "text": [
            "[커피 자동주문 머신 메뉴]\n",
            "------------------------------\n",
            "-아메리카노는 2500원\n",
            "-카레라떼는 3000원\n",
            "-카푸치노는 3000원\n",
            "입니다. 원하시는 커피종류와 잔수를 입력하세요.\n",
            "------------------------------\n",
            "아메리카노 몇잔?: 1\n",
            "카페라떼 몇잔?: 1\n",
            "카푸치노 몇잔?: 1\n",
            "지불할 총 금액은  8500 원 입니다\n",
            "--------------------------------------------------\n",
            "[지불할 금액:8500] : 돈을 넣어주세요: 5000\n",
            "입력한 금액이 부족합니다. 3500 원을 더 넣어주세요.\n",
            "--------------------------------------------------\n",
            "[지불할 금액:3500] : 돈을 넣어주세요: 2000\n",
            "입력한 금액이 부족합니다. 1500 원을 더 넣어주세요.\n",
            "--------------------------------------------------\n",
            "[지불할 금액:1500] : 돈을 넣어주세요: 1000\n",
            "입력한 금액이 부족합니다. 500 원을 더 넣어주세요.\n",
            "--------------------------------------------------\n",
            "[지불할 금액:500] : 돈을 넣어주세요: 500\n",
            "거스름돈은 0원 입니다.\n",
            "--------------------------------------------------\n",
            " 커피 맛있게 드세요.\n"
          ]
        }
      ],
      "source": [
        "def coffeemachine(coffee1, coffee2, coffee3):\n",
        "\n",
        "    total = coffee1*2500 + coffee2*3000 + coffee3*3000\n",
        "    print(\"지불할 총 금액은 \", total, \"원 입니다\")\n",
        "\n",
        "    while True:\n",
        "        print('-'*50)\n",
        "        money = int(input(f'[지불할 금액:{total}] : 돈을 넣어주세요: '))\n",
        "        if total > money  :\n",
        "            print(f'입력한 금액이 부족합니다. {total - money} 원을 더 넣어주세요.')\n",
        "            total = total - money\n",
        "        else:\n",
        "            print(f'거스름돈은 {money - total}원 입니다.')\n",
        "            break\n",
        "\n",
        "    print('-'*50)\n",
        "    print(' 커피 맛있게 드세요.')\n",
        "\n",
        "menu = '''[커피 자동주문 머신 메뉴]\n",
        "------------------------------\n",
        "-아메리카노는 2500원\n",
        "-카레라떼는 3000원\n",
        "-카푸치노는 3000원\n",
        "입니다. 원하시는 커피종류와 잔수를 입력하세요.\n",
        "------------------------------'''\n",
        "print(menu)\n",
        "coffee1 = int(input(\"아메리카노 몇잔?: \"))\n",
        "coffee2 = int(input(\"카페라떼 몇잔?: \"))\n",
        "coffee3 = int(input(\"카푸치노 몇잔?: \"))\n",
        "\n",
        "coffeemachine(coffee1, coffee2, coffee3) # 정의해둔 함수 호출\n",
        "\n",
        "\n"
      ]
    },
    {
      "cell_type": "markdown",
      "source": [
        "## map() 함수"
      ],
      "metadata": {
        "id": "O8AMWCxzZtec"
      },
      "id": "O8AMWCxzZtec"
    },
    {
      "cell_type": "code",
      "source": [
        "mylist=[1,2,3,4,5]\n",
        "def add10(num):\n",
        "  return num+10\n",
        "\n",
        "for i in mylist:\n",
        "    print(i, add10(i))\n",
        "\n",
        "for idx, i in enumerate(mylist): # enumerate() 인덱스 값을 함께 사용할 수 있는 함수\n",
        "    # print(idx, i, add10(i))\n",
        "     mylist[idx]=add10(i) # 리스트의 값을 add10() 함수가 적용된 값으로 교체함\n",
        "\n",
        "print(mylist)\n"
      ],
      "metadata": {
        "colab": {
          "base_uri": "https://localhost:8080/"
        },
        "id": "R5eIBZTrZsr3",
        "outputId": "19a09391-c5f0-4371-debd-19ae49afb994"
      },
      "id": "R5eIBZTrZsr3",
      "execution_count": null,
      "outputs": [
        {
          "output_type": "stream",
          "name": "stdout",
          "text": [
            "1 11\n",
            "2 12\n",
            "3 13\n",
            "4 14\n",
            "5 15\n",
            "[11, 12, 13, 14, 15]\n"
          ]
        }
      ]
    },
    {
      "cell_type": "code",
      "source": [
        "mylist=[1,2,3,4,5]\n",
        "mylist=list(map(lambda num:num+10, mylist))\n",
        "print(mylist)\n",
        "\n",
        "add10=lambda num : num+10  # lambda 함수로 변경\n",
        "mylist=list(map(add10, mylist))\n",
        "print(mylist)\n",
        "\n",
        "print(list(map(add10, mylist)))\n"
      ],
      "metadata": {
        "colab": {
          "base_uri": "https://localhost:8080/"
        },
        "id": "UU_PO0SRbj89",
        "outputId": "a95a6f36-2d48-4a3f-9da3-6494e5f05b7c"
      },
      "id": "UU_PO0SRbj89",
      "execution_count": null,
      "outputs": [
        {
          "output_type": "stream",
          "name": "stdout",
          "text": [
            "[11, 12, 13, 14, 15]\n",
            "[21, 22, 23, 24, 25]\n",
            "[31, 32, 33, 34, 35]\n"
          ]
        }
      ]
    },
    {
      "cell_type": "code",
      "source": [
        "mylist = [1, 2, 3, 4, 5, 6, 7, 8, 9, 10]\n",
        "\n",
        "multiple3=lambda x:str(x) if x%3==0 else x\n",
        "mylist=list(map(multiple3,mylist))\n",
        "mylist"
      ],
      "metadata": {
        "colab": {
          "base_uri": "https://localhost:8080/"
        },
        "id": "ryi2gQA1dl3e",
        "outputId": "910c5402-7fb4-44fd-888e-192cf29c831b"
      },
      "id": "ryi2gQA1dl3e",
      "execution_count": null,
      "outputs": [
        {
          "output_type": "execute_result",
          "data": {
            "text/plain": [
              "[1, 2, '3', 4, 5, '6', 7, 8, '9', 10]"
            ]
          },
          "metadata": {},
          "execution_count": 20
        }
      ]
    },
    {
      "cell_type": "code",
      "source": [
        "myList1 = [1, 2, 3, 4, 5]\n",
        "myList2 = [2, 4, 6, 8, 10]\n",
        "\n",
        "multiply=lambda x,y:x*y\n",
        "myList = list(map(multiply, myList1,myList2))\n",
        "myList"
      ],
      "metadata": {
        "colab": {
          "base_uri": "https://localhost:8080/"
        },
        "id": "2yRL3LeueBFW",
        "outputId": "6522e7a1-27b0-4641-b9f9-83e561d5b233"
      },
      "id": "2yRL3LeueBFW",
      "execution_count": null,
      "outputs": [
        {
          "output_type": "execute_result",
          "data": {
            "text/plain": [
              "[2, 8, 18, 32, 50]"
            ]
          },
          "metadata": {},
          "execution_count": 21
        }
      ]
    },
    {
      "cell_type": "markdown",
      "id": "45e329e4",
      "metadata": {
        "id": "45e329e4"
      },
      "source": [
        "------------------------"
      ]
    },
    {
      "cell_type": "code",
      "source": [
        "flavor=[\"사과\",\"자몽\",\"망고\",\"복숭아\"]\n",
        "\n",
        "user_input=0\n",
        "while user_input !='5':\n",
        "    print(\"\"\"\n",
        "    ==== 관리자 모드====\n",
        "    1. 메뉴 보기\n",
        "    2. 신메뉴 추가하기\n",
        "    3. 메뉴 삭제하기\n",
        "    4. 메뉴 이름 바꾸기\n",
        "    5. 관리자 모드 종료하기\n",
        "    ====================\n",
        "    \"\"\")\n",
        "\n",
        "    user_input=input(\"원하는 기능을 선택하세요: \")\n",
        "    if user_input=='1':\n",
        "        print(\"==== 메뉴 ====\")\n",
        "        for i in flavor:\n",
        "            print(f'{i} 주스')\n",
        "    elif user_input=='2':\n",
        "        new_flavor=input(\"추가할 메뉴이름을 입력해 주세요: \")\n",
        "        flavor.append(new_flavor)\n",
        "    elif user_input=='3':\n",
        "        remove_flavor=input(\"삭제할 메뉴이름을 입력해 주세요: \")\n",
        "        flavor.remove(remove_flavor)\n",
        "    elif user_input=='4':\n",
        "        for i in range(len(flavor)):\n",
        "            print(f'{i}.{flavor[i]}')\n",
        "\n",
        "        index=int(input(\"몇 번째 메뉴를 변경하시겠습니까?: \"))\n",
        "        new_name=input(\"변경할 이름을 입력해 주세요: \")\n",
        "\n",
        "        print(f'{flavor[index]} 메뉴를 {new_name}으로 변경합니다.')\n",
        "        flavor[index]=new_name\n",
        "    else :\n",
        "        print(\"관리자 모드를 종료합니다.\")\n",
        "        print(\"-\"*50)"
      ],
      "metadata": {
        "id": "uMcESDsm6h6K"
      },
      "id": "uMcESDsm6h6K",
      "execution_count": null,
      "outputs": []
    },
    {
      "cell_type": "code",
      "source": [
        "dict={'apple':'사과', 'banana':'바나나', 'grape':'포도'}\n",
        "\n",
        "user_input=0\n",
        "while user_input !='0':\n",
        "    print(\"\"\"\n",
        "==== 선택 모드====\n",
        "1. 단어 등록\n",
        "2. 단어 검색\n",
        "3. 단어 삭제\n",
        "4. 모든 단어 보기\n",
        "0. 종료하기\n",
        "==================\n",
        "    \"\"\")\n",
        "\n",
        "    user_input=input(\"---------------선택: \")\n",
        "    if user_input=='1':\n",
        "        new_dictkey=input(\"새 단어: \")\n",
        "        new_dictvalue=input(\"새 단어의 뜻: \")\n",
        "        dict[new_dictkey]=new_dictvalue\n",
        "        print(dict)\n",
        "\n",
        "    elif user_input=='2':\n",
        "        search_dict=input(\"검색할 단어: \")\n",
        "        if search_dict in dict:\n",
        "          a=dict[search_dict]\n",
        "          print(f'검색한 단어의 뜻은 :{a} ')\n",
        "        else:\n",
        "          print(\"검색하신 단어를 찾을 수 없습니다.\")\n",
        "\n",
        "    elif user_input=='3':\n",
        "        remove_dict=input(\"삭제할 단어: \")\n",
        "        del dict[remove_dict]\n",
        "        print(dict)\n",
        "    elif user_input=='4':\n",
        "        print(\"==== 저장된 단어 ====\")\n",
        "        for i in dict:\n",
        "            print(f'{i} :{dict[i]}')\n",
        "    else :\n",
        "        print(\"단어 관리 모드를 종료합니다.\")"
      ],
      "metadata": {
        "id": "k9Wpq7u62Yyo"
      },
      "id": "k9Wpq7u62Yyo",
      "execution_count": null,
      "outputs": []
    },
    {
      "cell_type": "markdown",
      "id": "66025633",
      "metadata": {
        "id": "66025633"
      },
      "source": [
        "끝"
      ]
    },
    {
      "cell_type": "code",
      "source": [
        "#영어 이름 고르기\n",
        "\n",
        "#이름 리스트\n",
        "girl = [\n",
        "    \"Olivia\", \"Emma\", \"Charlotte\", \"Amelia\", \"Ava\",\"Alexandrina\", \"Sophia\", \"Isabella\",\n",
        "    \"Mia\", \"Evelyn\", \"Harper\", \"Luna\", \"Camila\", \"Gianna\", \"Elizabeth\",\n",
        "    \"Eleanor\", \"Ella\", \"Abigail\", \"Sofia\", \"Avery\", \"Scarlett\", \"Emily\",\n",
        "    \"Aria\", \"Penelope\", \"Chloe\", \"Layla\", \"Mila\", \"Nora\", \"Hazel\", \"Madison\",\n",
        "    \"Ellie\", \"Lily\", \"Nova\", \"Isla\", \"Grace\", \"Violet\", \"Aurora\", \"Riley\",\n",
        "    \"Zoey\", \"Willow\", \"Emilia\", \"Stella\", \"Zoe\", \"Victoria\", \"Hannah\",\n",
        "    \"Addison\", \"Leah\", \"Lucy\", \"Eliana\", \"Ivy\", \"Everly\", \"Lillian\",\n",
        "    \"Paisley\", \"Elena\", \"Naomi\", \"Maya\", \"Natalie\", \"Kinsley\", \"Delilah\",\n",
        "    \"Claire\", \"Audrey\", \"Aaliyah\", \"Ruby\", \"Brooklyn\", \"Alice\", \"Aubrey\",\n",
        "    \"Autumn\", \"Leilani\", \"Savannah\", \"Valentina\", \"Kennedy\", \"Madelyn\",\n",
        "    \"Josephine\", \"Bella\", \"Skylar\", \"Genesis\", \"Sophie\", \"Hailey\", \"Sadie\",\n",
        "    \"Natalia\", \"Quinn\", \"Caroline\", \"Allison\", \"Gabriella\", \"Anna\",\n",
        "    \"Serenity\"\n",
        "]\n",
        "\n",
        "boy = [\n",
        "    \"Liam\", \"Noah\", \"Oliver\", \"James\", \"Elijah\", \"William\", \"Henry\", \"Lucas\",\n",
        "    \"Benjamin\", \"Theodore\", \"Mateo\", \"Levi\", \"Sebastian\", \"Daniel\", \"Jack\",\n",
        "    \"Michael\", \"Alexander\", \"Owen\", \"Asher\", \"Samuel\", \"Ethan\", \"Leo\",\n",
        "    \"Jackson\", \"Mason\", \"Ezra\", \"John\", \"Hudson\", \"Luca\", \"Aiden\", \"Joseph\",\n",
        "    \"David\", \"Jacob\", \"Logan\", \"Luke\", \"Julian\", \"Gabriel\", \"Grayson\",\n",
        "    \"Wyatt\", \"Matthew\", \"Maverick\", \"Dylan\", \"Isaac\", \"Elias\", \"Anthony\",\n",
        "    \"Thomas\", \"Jayden\", \"Carter\", \"Santiago\", \"Ezekiel\", \"Charles\",\n",
        "    \"Josiah\", \"Caleb\", \"Cooper\", \"Lincoln\", \"Miles\", \"Christopher\",\n",
        "    \"Nathan\", \"Isaiah\", \"Kai\", \"Joshua\", \"Andrew\", \"Angel\", \"Adrian\",\n",
        "    \"Cameron\", \"Nolan\", \"Waylon\", \"Jaxon\", \"Roman\", \"Eli\"\n",
        "]\n",
        "\n",
        "#알파벳 리스트\n",
        "alphabet = []\n",
        "for unicode_value in range(ord('A'), ord('Z') + 1):\n",
        "    alphabet.append(chr(unicode_value))\n",
        "\n",
        "#이름 고르기 함수\n",
        "def choose_name(gender):\n",
        "    print(\"-\" * 30)\n",
        "    first_letter = input('Q2. What should the first letter of the name be? ').upper()\n",
        "    if first_letter not in alphabet:\n",
        "        print('Please choose a valid single letter from A to Z')\n",
        "        return\n",
        "\n",
        "    selected_list = [name for name in gender if name.startswith(first_letter)]\n",
        "    if len(selected_list) == 0:\n",
        "        print(\"Sorry :( There are no names starting with the alphabet you entered.\")\n",
        "        return\n",
        "\n",
        "    print(\"-\" * 30)\n",
        "    print(f\"Names that start with '{first_letter}':\")\n",
        "    print(selected_list)\n",
        "\n",
        "    print(\"-\" * 30)\n",
        "    while True:\n",
        "        length = int(input('Q3. How many minimum characters does a name have to be (3~11)? '))\n",
        "        if 3 <= length <= 11:\n",
        "            break\n",
        "        else:\n",
        "            print(\"Please enter a number between 3 and 11.\")\n",
        "\n",
        "    selected_names_length = [name for name in selected_list if len(name) >= length]\n",
        "\n",
        "    print(\"-\" * 30)\n",
        "    print(f\"Names with at least {length} characters:\")\n",
        "    print(selected_names_length)\n",
        "\n",
        "#함수 실행\n",
        "gender = input('Q1. Do you want to name a girl or boy (girl/boy)? ')\n",
        "if gender.lower() == 'girl':\n",
        "    choose_name(girl)\n",
        "elif gender.lower() == 'boy':\n",
        "    choose_name(boy)\n",
        "else:\n",
        "    print(\"Invalid input. Please choose 'girl' or 'boy'.\")"
      ],
      "metadata": {
        "id": "jXzD5TlWT6dZ"
      },
      "id": "jXzD5TlWT6dZ",
      "execution_count": null,
      "outputs": []
    },
    {
      "cell_type": "code",
      "source": [
        "print('내 비밀번호는 도대체 무엇일까?')\n",
        "print('-'*50)\n",
        "\n",
        "#1. 4자리 패스워드 생성\n",
        "import random\n",
        "num = [1,2,3,4,5,6,7,8,9,0]\n",
        "password = []\n",
        "\n",
        "for i in range(1, 5):\n",
        "  number = random.choice(num)\n",
        "  password.append(number)\n",
        "print(f'이번에 생성된 비밀번호는 {password}입니다.')\n",
        "print('컴퓨터가 알아맞추기 위해 몇번 시도할까요?')\n",
        "\n",
        "#2. 생성된 패스워드 반복해서 찾아보기\n",
        "print('-'*50)\n",
        "count = 0\n",
        "\n",
        "while True:\n",
        "  pw_try = []\n",
        "  for i in range(1, 5):\n",
        "    number_try = random.choice(num)\n",
        "    pw_try.append(number_try)\n",
        "  #print(f'시도한 비밀번호는 {pw_try}입니다')\n",
        "  if pw_try == password:\n",
        "    print(f'찾았다! 내 비밀번호는 {password}이다')\n",
        "    break\n",
        "  else:\n",
        "    count = count + 1\n",
        "    if count > 10000:\n",
        "      print(f'비밀번호 찾기 실패하였습니다')\n",
        "      break\n",
        "\n",
        "print(f'비밀번호를 찾는데 컴퓨터가 시도한 횟수는 {count}입니다.')"
      ],
      "metadata": {
        "id": "7RCRFItXYC5V"
      },
      "id": "7RCRFItXYC5V",
      "execution_count": null,
      "outputs": []
    },
    {
      "cell_type": "code",
      "source": [
        "import random\n",
        "print('---------술래 뽑기---------')\n",
        "print('1~100까지 중 숫자를 고르시오')\n",
        "cnt =0\n",
        "while True:\n",
        "  print('-'*30)\n",
        "  num1 =int(input('숫자를 입력하시오 : '))\n",
        "  cnt +=1\n",
        "  print('-'*30)\n",
        "  num2 = random.randint(1,100)\n",
        "  if num1 == num2:\n",
        "    print('술래 입니다.')\n",
        "    break\n",
        "  else:\n",
        "    print('술래가 아닙니다.')\n",
        "  if cnt >= 5:\n",
        "    print('시도 횟수를 5회를 초과했습니다.')\n",
        "    break\n",
        "print('-'*30)\n",
        "print('술래 뽑기가 끝났씁니다.')\n"
      ],
      "metadata": {
        "id": "9sN9AXknaXMk"
      },
      "id": "9sN9AXknaXMk",
      "execution_count": null,
      "outputs": []
    },
    {
      "cell_type": "code",
      "source": [
        "# 동물 맞히기 게임\n",
        "# 게임 실행시, 정답은 랜덤으로 생성되며 총 5번의 기회가 주어집니다.\n",
        "\n",
        "print('''동물 맞히기 게임입니다. 아래 목록에서 동물을 골라 맞혀보세요.\n",
        "기회는 총 5번 주어집니다.''')\n",
        "print(\"파충류: \", 파충류)\n",
        "print(\"포유류: \", 포유류)\n",
        "print(\"조류: \", 조류, '\\n')\n",
        "\n",
        "print('시작합니다!')\n",
        "print('-'*40)\n",
        "\n",
        "import random\n",
        "\n",
        "All_Animals = ['도마뱀', '카멜레온', '이구아나', '너구리', '다람쥐', '원숭이', '사슴', '토끼', '양', '붉은여우', '까치', '까마귀', '참새', '오리', '앵무새', '두루미']\n",
        "파충류, 포유류, 조류 = [['도마뱀', '카멜레온', '이구아나'], ['너구리', ' 다람쥐', '원숭이', '사슴', '토끼', '양', '붉은여우'], ['까치', '까마귀', '참새', '오리', '앵무새', '두루미']]\n",
        "\n",
        "answer = All_Animals[(random.randint(0,15))]\n",
        "All_TRIES = 5\n",
        "\n",
        "for tries in range(0,5):\n",
        "    guess = input(f'기회가 {All_TRIES-tries}번 남았습니다. 동물을 맞혀 보세요: ')\n",
        "\n",
        "    if guess == answer:\n",
        "        print(f'축하합니다. {tries}번 만에 정답을 맞히셨습니다.')\n",
        "        break\n",
        "    elif tries < All_TRIES and guess not in All_Animals:\n",
        "        print('Hint: 목록에 없습니다.\\n')\n",
        "        continue\n",
        "    elif All_TRIES-tries == 1:\n",
        "        break\n",
        "\n",
        "    Animals_Type = [파충류, 포유류, 조류]\n",
        "    for i in Animals_Type:\n",
        "        if tries < All_TRIES and answer in i and guess in i:\n",
        "            print(f'Hint: 같은 종류의 다른 동물을 골라보세요.')\n",
        "        elif tries < All_TRIES and answer in i and guess not in i:\n",
        "            print(f'Hint: 다른 종류의 동물을 골라보세요.')\n",
        "\n",
        "    print('-' * 40, '\\n')\n",
        "\n",
        "if guess != answer:\n",
        "    print('-->', '\\n'\n",
        "        f'아쉽습니다. 정답은 {answer}입니다.')\n",
        "\n",
        "print ('*' * 40, '\\n'\n",
        "       '''게임이 종료됩니다.\n",
        "다시 게임을 실행하시려면 play 버튼을 눌러주세요!''')"
      ],
      "metadata": {
        "id": "CmtAqqfTbz4g"
      },
      "id": "CmtAqqfTbz4g",
      "execution_count": null,
      "outputs": []
    },
    {
      "cell_type": "code",
      "source": [
        "import random\n",
        "import matplotlib.pyplot as plt\n",
        "from matplotlib.offsetbox import OffsetImage, AnnotationBbox\n",
        "\n",
        "def choose_word():\n",
        "    wordlist = [\"lion\", \"tiger\", \"panda\", \"dog\", \"bear\", \"cow\", \"rabbit\", \"mouse\", \"pig\"]\n",
        "    return random.choice(wordlist)\n",
        "\n",
        "def display_word(word, guessed_letters):\n",
        "    display = \"\"\n",
        "    for letter in word:\n",
        "        if letter in guessed_letters:\n",
        "            display += letter\n",
        "        else:\n",
        "            display += \"_\"\n",
        "    return display\n",
        "\n",
        "# 랜덤 단어 선택\n",
        "word = choose_word()\n",
        "guessed_letters = []\n",
        "attempts = 5  # 5번 기회\n",
        "\n",
        "print(\"간단한 동물 단어 맞추기 게임을 시작합니다!\")\n",
        "\n",
        "# 이미지 파일 경로 및 결과 메시지 설정\n",
        "image_path = \"animal/\" + word + \".png\"\n",
        "result_message = f\"축하합니다! 정답을 맞췄습니다: {word}\"\n",
        "\n",
        "while attempts > 0:\n",
        "    print(\"\\n현재 단어:\", display_word(word, guessed_letters))\n",
        "    guess = input(\"글자를 맞춰보세요: \").lower()\n",
        "\n",
        "    if len(guess) != 1:\n",
        "        print(\"한 글자만 입력해주세요.\")\n",
        "        continue\n",
        "\n",
        "    if guess in guessed_letters:\n",
        "        print(\"이미 맞춘 글자입니다.\")\n",
        "        continue\n",
        "\n",
        "    guessed_letters.append(guess)\n",
        "\n",
        "    if guess in word:\n",
        "        print(\"맞았습니다!\")\n",
        "        if display_word(word, guessed_letters) == word:\n",
        "            print(result_message)\n",
        "\n",
        "            # 이미지 출력\n",
        "            image = plt.imread(image_path)\n",
        "            plt.figure(figsize=(2, 2))\n",
        "            plt.imshow(image)\n",
        "            plt.axis('off')\n",
        "            plt.show()\n",
        "\n",
        "            break\n",
        "    else:\n",
        "        attempts -= 1\n",
        "        print(f\"틀렸습니다. 남은 기회는 {attempts}번 입니다.\")\n",
        "\n",
        "if attempts == 0:\n",
        "    print(\"\\n게임 오버 ㅠㅠ 정답은\", word, \"입니다.\")\n",
        "             # 이미지 출력\n",
        "    #image_path = \"animal/gameover.png\"\n",
        "    image = plt.imread(\"animal/gameover.png\")\n",
        "    plt.figure(figsize=(2, 2))\n",
        "    plt.imshow(image)\n",
        "    plt.axis('off')\n",
        "    plt.show()"
      ],
      "metadata": {
        "id": "g6EUKjIlbNPo"
      },
      "id": "g6EUKjIlbNPo",
      "execution_count": null,
      "outputs": []
    },
    {
      "cell_type": "code",
      "source": [
        "option = '''[Floor Makers Co.마루 시공 견적서]\n",
        "------------------------------------------------------------\n",
        "    목재 종류       목재 규격       장당 가격\n",
        "1) European Oak     15cm * 2m       30,000원\n",
        "2) American Walnut  15cm * 2m       50,000원\n",
        "3) Baltic Pine      15cm * 2m       20,000원\n",
        "입니다. 원하시는 목재와 공간의 넓이를 입력 해주세요.\n",
        "------------------------------------------------------------'''\n",
        "\n",
        "print(option)\n",
        "tree = int(input('옵션 1), 2), 3) 중 어떤 종류의 목재로 시공 해드릴까요? '))\n",
        "size = int(input('몇 ㎡ 공간의 마루를 시공 하시겠습니까? '))\n",
        "\n",
        "need = 0    # 초기식\n",
        "need = round(size/(0.15*2))\n",
        "print(f'{size}㎡ 공간에 마루를 시공하려면 총 {need} 장의 목재가 필요합니다.')\n",
        "print('-'*60)\n",
        "\n",
        "if tree == 1:\n",
        "    print(f'마루 시공의 총 견적은 {need*30000:,} 원 입니다.')\n",
        "elif tree == 2:\n",
        " print(f'마루 시공의 총 견적은 {need*50000:,} 원 입니다.')\n",
        "elif tree == 3:\n",
        " print(f'마루 시공의 총 견적은 {need*20000:,} 원 입니다.')\n",
        "\n",
        "print('-'*60)\n",
        "print(f'주문 해주셔서 감사합니다^^')"
      ],
      "metadata": {
        "id": "32gIUk6AYcIv"
      },
      "id": "32gIUk6AYcIv",
      "execution_count": null,
      "outputs": []
    },
    {
      "cell_type": "code",
      "source": [
        "#축구 스코어 기록 프로그램⚽\n",
        "\n",
        "a='1.골기록'\n",
        "b='2.유효슛팅'\n",
        "c='3.경고'\n",
        "d='4.퇴장'\n",
        "e='5.종료'\n",
        "print(f'''----State Input----\n",
        "{a}\n",
        "{b}\n",
        "{c}\n",
        "{d}\n",
        "{e}\n",
        "-------------------''')\n",
        "cnt_home_a=0\n",
        "cnt_away_a=0\n",
        "cnt_home_b=0\n",
        "cnt_away_b=0\n",
        "cnt_home_c=0\n",
        "cnt_away_c=0\n",
        "cnt_home_d=0\n",
        "cnt_away_d=0\n",
        "\n",
        "while True:\n",
        "  number_select= int(input('''카운팅갯수를 추가하려는 항목 번호를 입력하세요:\n",
        "(*더이상 입력할 값이 없다면 5(종료)를 입력하세요) '''))\n",
        "  if number_select == 5:\n",
        "      break\n",
        "  team_select= input('해당 팀을 선택하세요(홈 or 어웨이): ')\n",
        "  #team = team_select\n",
        "  print('----------')\n",
        "\n",
        "#--------------\n",
        "  if number_select == 1:\n",
        "    if team_select == '홈':\n",
        "      cnt_home_a+=1\n",
        "    elif team_select == '어웨이':\n",
        "      cnt_away_a+=1\n",
        "  elif number_select == 2:\n",
        "    if team_select == '홈':\n",
        "      cnt_home_b+=1\n",
        "    elif team_select == '어웨이':\n",
        "      cnt_away_b+=1\n",
        "  elif number_select == 3:\n",
        "    if team_selectm == '홈':\n",
        "      cnt_home_c+=1\n",
        "    elif team_select == '어웨이':\n",
        "      cnt_away_c+=1\n",
        "  elif number_select == 4:\n",
        "    if team_select == '홈':\n",
        "      cnt_home_d+=1\n",
        "    elif team_selectm == '어웨이':\n",
        "      cnt_away_d+=1\n",
        "\n",
        "\n",
        "print(f'''------⚽Match score⚽------\n",
        "    [홈팀]    vs   [어웨이팀]\n",
        "      골 => {cnt_home_a} : {cnt_away_a}\n",
        "유효슛팅 => {cnt_home_b} : {cnt_away_b}\n",
        "    경고 => {cnt_home_c} : {cnt_away_c}\n",
        "    퇴장 => {cnt_home_d} : {cnt_away_d}\n",
        "\n",
        "----------------------------''')"
      ],
      "metadata": {
        "id": "tTGhjxRCdbXW"
      },
      "id": "tTGhjxRCdbXW",
      "execution_count": null,
      "outputs": []
    },
    {
      "cell_type": "code",
      "source": [
        "from sre_constants import MIN_REPEAT\n",
        "import random\n",
        "\n",
        "lotto = []\n",
        "while True:\n",
        "    num = random.randint(1,45)\n",
        "    lotto.append(num)\n",
        "\n",
        "    if len(lotto) == 6:\n",
        "        break;\n",
        "\n",
        "print(lotto)\n",
        "\n",
        "\n",
        "inputStr = input(\"내 로또번호 입력('15','1','37','10','6','16'):\"). split(\" \")\n",
        "print(inputStr)\n",
        "print(type(inputStr))\n",
        "\n",
        "mine = []\n",
        "for n in inputStr:\n",
        "    if n.isigiit( )== True and (int(n) >=1 and int(n) <=45):\n",
        "\n",
        "print(mine)\n",
        " else:\n",
        "    break;\n",
        "\n",
        " if len(mine)  !=6:\n",
        "    print(\"입력값이 올바르지 않거나(숫자아님), 6개가 아닙니다\")\n",
        "else:\n",
        "inputStr = input(\"내 로또번호 입력(띄어쓰기로 6개 입력): \").split(\" \")\n",
        "print(inputStr)\n",
        "# print(type(inputStr))\n",
        "\n",
        "mine = []\n",
        "for n in inputStr:\n",
        "    if n.isdigit() == True and (int(n) >=1 and int(n) <=45):\n",
        "        mine.append(int(n))\n",
        "    else:\n",
        "        break;\n",
        "\n",
        "print(mine)\n",
        "\n",
        "if len(mine) !=6:\n",
        "    print(\"입력값이 올바르지 않거나(숫자아님), 6개가 아닙니다.\")\n",
        "\n",
        "else:\n",
        "    same = 0\n",
        "    mynum = \"\"\n",
        "    for myN in mine:\n",
        "        if myN in lotto:\n",
        "            same = same + 1\n",
        "            mynum = mynum + str(myN) + \" \"\n",
        "\n",
        "    print(\"맞춘 개수는 : \", same)\n",
        "    print(\"당첨번호 \", lotto)\n",
        "    print(\"내번호 \", mine)\n",
        "    print(\"내가 맞춘 번호는 : \", mynum)\n",
        "    score = [0,6,5,4,3,2,1]\n",
        "    if same == 0:\n",
        "        print(\"동일한 번호가 하나도 없습니다.\")\n",
        "    else:\n",
        "        print(f\"{same}개 맞음, {score[same]} 등 당첨되었습니다!!!\")"
      ],
      "metadata": {
        "id": "CCrzEWtffBIh"
      },
      "id": "CCrzEWtffBIh",
      "execution_count": null,
      "outputs": []
    },
    {
      "cell_type": "code",
      "source": [
        "menu = '''[코인 세탁기 머신 메뉴]\n",
        "------------------------------\n",
        "-표준코스 빨래는 4500원\n",
        "-쾌속코스 빨래는 7500원\n",
        "-고급코스 빨래는 9500원\n",
        "-고온코스 건조는 5000원\n",
        "-중온코스 건조는 5000원\n",
        "-저온코스 건조는 3000원\n",
        "전체 코스는 위와 같습니다. 원하시는 빨래/건조 코스의 이용 횟수를 입력하세요.\n",
        "------------------------------'''\n",
        "\n",
        "print(menu)\n",
        "wash1 = int(input(\"표준코스 빨래는 몇 회 이용하십니까?\"))\n",
        "wash2 = int(input(\"쾌속코스 빨래는 몇 회 이용하십니까?\"))\n",
        "wash3 = int(input(\"고급코스 빨래는 몇 회 이용하십니까?\"))\n",
        "dry1 = int(input(\"고온코스 건조는 몇 회 이용하십니까?\"))\n",
        "dry2 = int(input(\"중온코스 건조는 몇 회 이용하십니까?\"))\n",
        "dry3 = int(input(\"저온코스 건조는 몇 회 이용하십니까?\"))\n",
        "\n",
        "total = wash1*2500 + wash2*3000 + wash3*3000 + dry1*5000 + dry2*5000 + dry3 + 3000\n",
        "print(\"지불할 총 금액은 \", total, \"원 입니다\")\n",
        "\n",
        "while True:\n",
        "    print('-'*50)\n",
        "    money = int(input(f'[지불할 금액:{total}] : 돈을 넣어주세요: '))\n",
        "    if total > money  :\n",
        "        print(f'입력한 금액이 부족합니다. {total - money} 원을 더 넣어주세요.')\n",
        "        total = total - money\n",
        "    else:\n",
        "        print(f'거스름돈은 {money - total}원 입니다.')\n",
        "        break\n",
        "\n",
        "print('-'*50)\n",
        "print(' 깨끗히 빨래하세요.')1"
      ],
      "metadata": {
        "id": "wmd0DsitgWZ8"
      },
      "id": "wmd0DsitgWZ8",
      "execution_count": null,
      "outputs": []
    },
    {
      "cell_type": "code",
      "source": [
        "# python game with pygame\n",
        "import pygame, sys\n",
        "from pygame. locals import *\n",
        "\n",
        "# step 1 : set screen, fps\n",
        "# step 2 : show dino1, jump dino2\n",
        "# step 3 : show tree, move tree\n",
        "\n",
        "pygame.init()\n",
        "pygame.disply.set_caption('Jumping dino')\n",
        "\n",
        "FPS = 30\n",
        "fpsClock = pygame.time.Clock()\n",
        "MAX_WIDTH = 800\n",
        "MAX_HEUGHT = 400\n",
        "\n",
        "DISPLAYSURF = pygame.display.set_mode((750,550))\n",
        "pygame.display.set_caption('Animaion')\n",
        "\n",
        "\n",
        "def main():\n",
        "    #set screen, fps\n",
        "    screen = pygame.disply.set_mode((MAX_WIDTH, MAX_HEUGHT))\n",
        "    fps = pygame.time.Clock()\n",
        "\n",
        "    #dino\n",
        "    imgdino1 = pygame.image.load('image/dino1.png')\n",
        "    imgdino2 = pygame.image.load('image/dino2.png')\n",
        "    dino_height = imgdino1.get_size()[1]\n",
        "    dino_x = 50\n",
        "    jump_top = 200\n",
        "    leg_swap = True\n",
        "    is_bottom = True\n",
        "    is_go_up = False\n",
        "\n",
        "    # tree\n",
        "    imgTree = pygame. image. load('imge/trre.png')\n",
        "    tree_height = imgTree.get_size()[1]\n",
        "    tree_x = MAX_WIDTH\n",
        "\n",
        "    # dino move\n",
        "    if is_go_up:\n",
        "        dino_y -= 10.0\n",
        "    elif not is_go_up and not is_bottom:\n",
        "        dinoy_y += 10.0\n",
        "\n",
        "    # tree move\n",
        "    tree_x -= 12.0\n",
        "    if tree_x <= 0:\n",
        "        tree_x = MAX_WIDTH\n",
        "\n",
        "    screen.blit (imgTree, (tree_x, tree_y))\n",
        "\n",
        "    if leg_swap:\n",
        "        screen.blit(imgDino1, dino_x, dino_y)\n",
        "        leg_swap = True\n",
        "    else:\n",
        "        screen.blit(imgDino2, dino_x, dino_y)\n",
        "        leg_swap = False\n",
        "\n",
        "    pygame.display.uptate()\n",
        "    fps.tick(30)\n",
        "\n",
        "if __name__ == '__main__':\n",
        "    main()\n"
      ],
      "metadata": {
        "id": "RQoGJ6FTj04o"
      },
      "id": "RQoGJ6FTj04o",
      "execution_count": null,
      "outputs": []
    },
    {
      "cell_type": "code",
      "source": [
        "f = open('단어장.txt','w')             # '단어장'이라는 텍스트 파일을 만듦\n",
        "wordbook = {}\n",
        "\n",
        "def w_add():\n",
        "    word = str(input('새 단어:'))\n",
        "    mean = str(input(f'{word}의 뜻: '))\n",
        "    wordbook[word] = mean\n",
        "    f.write(f'{word} : {mean}')        # 단어장에 단어랑 뜻을 저장함\n",
        "\n",
        "def w_search():\n",
        "    word = str(input('검색할 단어:'))\n",
        "    if word in wordbook:\n",
        "        print(f'{word}의 뜻:{wordbook[word]}')\n",
        "    else:\n",
        "        print(f'미등록 단어')\n",
        "\n",
        "def w_delete():\n",
        "    word = str(input('삭제할 단어:'))\n",
        "    if word in wordbook:\n",
        "        del wordbook[word]\n",
        "        print(f'{word} 단어 삭제됨!')\n",
        "    else:\n",
        "        print(f'미등록 단어')\n",
        "\n",
        "def w_show():\n",
        "    for word in wordbook:\n",
        "        print(f'{word} : {wordbook[word]}')\n",
        "\n",
        "def quit():\n",
        "    print('프로그램을 종료합니다.')\n",
        "\n",
        "while True:\n",
        "    menu = '''---선택메뉴--\n",
        "    1. 단어 등록\n",
        "    2. 단어 검색\n",
        "    3. 단어 삭제\n",
        "    4. 모든 단어 보기\n",
        "    0. 종료하기'''\n",
        "    print(menu)\n",
        "    n = int(input('-----------------------------선택: '))\n",
        "    if n == 1:\n",
        "        w_add()\n",
        "        print(f'-----------------------------')\n",
        "    elif n == 2:\n",
        "        w_search()\n",
        "        print(f'-----------------------------')\n",
        "    elif n == 3 :\n",
        "        w_delete()\n",
        "        print(f'-----------------------------')\n",
        "    elif n == 4:\n",
        "        w_show()\n",
        "        print(f'-----------------------------')\n",
        "    else:\n",
        "        quit()\n",
        "        break"
      ],
      "metadata": {
        "id": "4ZR_x_eOlWs8"
      },
      "id": "4ZR_x_eOlWs8",
      "execution_count": null,
      "outputs": []
    }
  ],
  "metadata": {
    "kernelspec": {
      "display_name": "Python 3 (ipykernel)",
      "language": "python",
      "name": "python3"
    },
    "language_info": {
      "codemirror_mode": {
        "name": "ipython",
        "version": 3
      },
      "file_extension": ".py",
      "mimetype": "text/x-python",
      "name": "python",
      "nbconvert_exporter": "python",
      "pygments_lexer": "ipython3",
      "version": "3.10.9"
    },
    "vscode": {
      "interpreter": {
        "hash": "b41e41bff03a930185ac2cbea60ce521f7c8c2f5401ceb5c30214081f77ab4f5"
      }
    },
    "colab": {
      "provenance": [],
      "include_colab_link": true
    }
  },
  "nbformat": 4,
  "nbformat_minor": 5
}