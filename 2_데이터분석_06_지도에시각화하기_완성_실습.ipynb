{
  "cells": [
    {
      "cell_type": "markdown",
      "metadata": {
        "id": "view-in-github",
        "colab_type": "text"
      },
      "source": [
        "<a href=\"https://colab.research.google.com/github/HYLee810/projectmanager/blob/main/2_%EB%8D%B0%EC%9D%B4%ED%84%B0%EB%B6%84%EC%84%9D_06_%EC%A7%80%EB%8F%84%EC%97%90%EC%8B%9C%EA%B0%81%ED%99%94%ED%95%98%EA%B8%B0_%EC%99%84%EC%84%B1_%EC%8B%A4%EC%8A%B5.ipynb\" target=\"_parent\"><img src=\"https://colab.research.google.com/assets/colab-badge.svg\" alt=\"Open In Colab\"/></a>"
      ]
    },
    {
      "cell_type": "markdown",
      "id": "bb56a1da",
      "metadata": {
        "id": "bb56a1da"
      },
      "source": [
        "# 데이터 분석\n",
        "\n",
        "## 6. 지도를 이용한 데이터 시각화"
      ]
    },
    {
      "cell_type": "markdown",
      "id": "a4870ebb",
      "metadata": {
        "id": "a4870ebb"
      },
      "source": [
        "----------------------------------"
      ]
    },
    {
      "cell_type": "markdown",
      "id": "b973a861",
      "metadata": {
        "id": "b973a861"
      },
      "source": [
        "## 01.지도에 위치 표시하기"
      ]
    },
    {
      "cell_type": "markdown",
      "id": "16c85b41",
      "metadata": {
        "id": "16c85b41"
      },
      "source": [
        "### #라이브러리 설치하기\n",
        "아래 코드를 실행하는 방법 : 마우스로 실행시킬 셀(cell) 또는 행을 선택한 후  화면 위 Run(run cell) 메뉴를 선택해서 실행한다."
      ]
    },
    {
      "cell_type": "code",
      "execution_count": null,
      "id": "b9f6b8e2",
      "metadata": {
        "id": "b9f6b8e2",
        "outputId": "bbc4cb2a-2a5f-45ea-e5ba-83156e48181d"
      },
      "outputs": [
        {
          "name": "stdout",
          "output_type": "stream",
          "text": [
            "Collecting folium\n",
            "  Downloading folium-0.14.0-py2.py3-none-any.whl (102 kB)\n",
            "     -------------------------------------- 102.3/102.3 kB 5.8 MB/s eta 0:00:00\n",
            "Collecting branca>=0.6.0\n",
            "  Downloading branca-0.6.0-py3-none-any.whl (24 kB)\n",
            "Collecting jinja2>=2.9\n",
            "  Downloading Jinja2-3.1.2-py3-none-any.whl (133 kB)\n",
            "     -------------------------------------- 133.1/133.1 kB 8.2 MB/s eta 0:00:00\n",
            "Requirement already satisfied: numpy in c:\\python\\python310\\lib\\site-packages (from folium) (1.25.2)\n",
            "Requirement already satisfied: requests in c:\\python\\python310\\lib\\site-packages (from folium) (2.31.0)\n",
            "Collecting MarkupSafe>=2.0\n",
            "  Downloading MarkupSafe-2.1.3-cp311-cp311-win_amd64.whl (17 kB)\n",
            "Requirement already satisfied: charset-normalizer<4,>=2 in c:\\python\\python310\\lib\\site-packages (from requests->folium) (3.2.0)\n",
            "Requirement already satisfied: idna<4,>=2.5 in c:\\python\\python310\\lib\\site-packages (from requests->folium) (3.4)\n",
            "Requirement already satisfied: urllib3<3,>=1.21.1 in c:\\python\\python310\\lib\\site-packages (from requests->folium) (2.0.4)\n",
            "Requirement already satisfied: certifi>=2017.4.17 in c:\\python\\python310\\lib\\site-packages (from requests->folium) (2023.7.22)\n",
            "Installing collected packages: MarkupSafe, jinja2, branca, folium\n",
            "Successfully installed MarkupSafe-2.1.3 branca-0.6.0 folium-0.14.0 jinja2-3.1.2\n",
            "Note: you may need to restart the kernel to use updated packages.\n"
          ]
        },
        {
          "name": "stderr",
          "output_type": "stream",
          "text": [
            "\n",
            "[notice] A new release of pip available: 22.3.1 -> 23.2.1\n",
            "[notice] To update, run: python.exe -m pip install --upgrade pip\n"
          ]
        }
      ],
      "source": [
        "%pip install folium"
      ]
    },
    {
      "cell_type": "markdown",
      "id": "50b4479b",
      "metadata": {
        "id": "50b4479b"
      },
      "source": [
        "### #라이브러리 설치 확인하기\n",
        "아래 코드를 실행한 후 오류 메시지가 없으면 성공적으로 설치된 것입니다."
      ]
    },
    {
      "cell_type": "code",
      "execution_count": null,
      "id": "527ebba5",
      "metadata": {
        "id": "527ebba5",
        "outputId": "6272156a-9aec-468a-a71c-7fdec69def7f"
      },
      "outputs": [
        {
          "data": {
            "text/plain": [
              "'0.14.0'"
            ]
          },
          "execution_count": 2,
          "metadata": {},
          "output_type": "execute_result"
        }
      ],
      "source": [
        "import folium\n",
        "\n",
        "folium.__version__"
      ]
    },
    {
      "cell_type": "markdown",
      "id": "f7881e05",
      "metadata": {
        "id": "f7881e05"
      },
      "source": [
        "### [실습] :  지도에 숭례문 위치 표시하기\n",
        "구글지도에서 찾은 숭례문의 위도 & 경도 값을 가지고 folium 지도에 마커로 표시를 해보세요."
      ]
    },
    {
      "cell_type": "markdown",
      "id": "0e6d81e9",
      "metadata": {
        "id": "0e6d81e9"
      },
      "source": [
        "- **구글맵**에서 **숭례문**의 위도/경도 좌표값 기록해 두기\n",
        "- https://www.google.com/maps ~~\n",
        "- !3d37.559984!4d126.9753071 --> **위도:37.559984** & **경도:126.9753071**"
      ]
    },
    {
      "cell_type": "code",
      "execution_count": null,
      "id": "c8e24512",
      "metadata": {
        "id": "c8e24512",
        "outputId": "e8ab89a6-5c55-4307-ccfc-c66211ced375"
      },
      "outputs": [
        {
          "name": "stdout",
          "output_type": "stream",
          "text": [
            "Help on class Icon in module folium.map:\n",
            "\n",
            "class Icon(branca.element.MacroElement)\n",
            " |  Icon(color='blue', icon_color='white', icon='info-sign', angle=0, prefix='glyphicon', **kwargs)\n",
            " |  \n",
            " |  Creates an Icon object that will be rendered\n",
            " |  using Leaflet.awesome-markers.\n",
            " |  \n",
            " |  Parameters\n",
            " |  ----------\n",
            " |  color : str, default 'blue'\n",
            " |      The color of the marker. You can use:\n",
            " |  \n",
            " |          ['red', 'blue', 'green', 'purple', 'orange', 'darkred',\n",
            " |           'lightred', 'beige', 'darkblue', 'darkgreen', 'cadetblue',\n",
            " |           'darkpurple', 'white', 'pink', 'lightblue', 'lightgreen',\n",
            " |           'gray', 'black', 'lightgray']\n",
            " |  \n",
            " |  icon_color : str, default 'white'\n",
            " |      The color of the drawing on the marker. You can use colors above,\n",
            " |      or an html color code.\n",
            " |  icon : str, default 'info-sign'\n",
            " |      The name of the marker sign.\n",
            " |      See Font-Awesome website to choose yours.\n",
            " |      Warning : depending on the icon you choose you may need to adapt\n",
            " |      the `prefix` as well.\n",
            " |  angle : int, default 0\n",
            " |      The icon will be rotated by this amount of degrees.\n",
            " |  prefix : str, default 'glyphicon'\n",
            " |      The prefix states the source of the icon. 'fa' for font-awesome or\n",
            " |      'glyphicon' for bootstrap 3.\n",
            " |  \n",
            " |  https://github.com/lvoogdt/Leaflet.awesome-markers\n",
            " |  \n",
            " |  Method resolution order:\n",
            " |      Icon\n",
            " |      branca.element.MacroElement\n",
            " |      branca.element.Element\n",
            " |      builtins.object\n",
            " |  \n",
            " |  Methods defined here:\n",
            " |  \n",
            " |  __init__(self, color='blue', icon_color='white', icon='info-sign', angle=0, prefix='glyphicon', **kwargs)\n",
            " |      Initialize self.  See help(type(self)) for accurate signature.\n",
            " |  \n",
            " |  ----------------------------------------------------------------------\n",
            " |  Data and other attributes defined here:\n",
            " |  \n",
            " |  color_options = {'beige', 'black', 'blue', 'cadetblue', 'darkblue', 'd...\n",
            " |  \n",
            " |  ----------------------------------------------------------------------\n",
            " |  Methods inherited from branca.element.MacroElement:\n",
            " |  \n",
            " |  render(self, **kwargs)\n",
            " |      Renders the HTML representation of the element.\n",
            " |  \n",
            " |  ----------------------------------------------------------------------\n",
            " |  Methods inherited from branca.element.Element:\n",
            " |  \n",
            " |  __getstate__(self)\n",
            " |      Modify object state when pickling the object.\n",
            " |      jinja2 Environment cannot be pickled, so set\n",
            " |      the ._env attribute to None. This will be added back\n",
            " |      when unpickling (see __setstate__)\n",
            " |  \n",
            " |  __setstate__(self, state: dict)\n",
            " |      Re-add ._env attribute when unpickling\n",
            " |  \n",
            " |  add_child(self, child, name=None, index=None)\n",
            " |      Add a child.\n",
            " |  \n",
            " |  add_children(self, child, name=None, index=None)\n",
            " |      Add a child.\n",
            " |  \n",
            " |  add_to(self, parent, name=None, index=None)\n",
            " |      Add element to a parent.\n",
            " |  \n",
            " |  get_bounds(self)\n",
            " |      Computes the bounds of the object and all it's children\n",
            " |      in the form [[lat_min, lon_min], [lat_max, lon_max]].\n",
            " |  \n",
            " |  get_name(self)\n",
            " |      Returns a string representation of the object.\n",
            " |      This string has to be unique and to be a python and\n",
            " |      javascript-compatible\n",
            " |      variable name.\n",
            " |  \n",
            " |  get_root(self)\n",
            " |      Returns the root of the elements tree.\n",
            " |  \n",
            " |  save(self, outfile, close_file=True, **kwargs)\n",
            " |      Saves an Element into a file.\n",
            " |      \n",
            " |      Parameters\n",
            " |      ----------\n",
            " |      outfile : str or file object\n",
            " |          The file (or filename) where you want to output the html.\n",
            " |      close_file : bool, default True\n",
            " |          Whether the file has to be closed after write.\n",
            " |  \n",
            " |  to_dict(self, depth=-1, ordered=True, **kwargs)\n",
            " |      Returns a dict representation of the object.\n",
            " |  \n",
            " |  to_json(self, depth=-1, **kwargs)\n",
            " |      Returns a JSON representation of the object.\n",
            " |  \n",
            " |  ----------------------------------------------------------------------\n",
            " |  Data descriptors inherited from branca.element.Element:\n",
            " |  \n",
            " |  __dict__\n",
            " |      dictionary for instance variables (if defined)\n",
            " |  \n",
            " |  __weakref__\n",
            " |      list of weak references to the object (if defined)\n",
            "\n"
          ]
        }
      ],
      "source": [
        "# folium.Icon 정보 확인하기\n",
        "help(folium.Icon) #지도 시각화 하는 라이브러리"
      ]
    },
    {
      "cell_type": "code",
      "execution_count": null,
      "id": "1d957361",
      "metadata": {
        "id": "1d957361",
        "outputId": "0363bd17-e916-407e-9211-7a7707d6022b"
      },
      "outputs": [
        {
          "data": {
            "text/html": [
              "<div style=\"width:100%;\"><div style=\"position:relative;width:100%;height:0;padding-bottom:60%;\"><span style=\"color:#565656\">Make this Notebook Trusted to load map: File -> Trust Notebook</span><iframe srcdoc=\"&lt;!DOCTYPE html&gt;\n",
              "&lt;html&gt;\n",
              "&lt;head&gt;\n",
              "    \n",
              "    &lt;meta http-equiv=&quot;content-type&quot; content=&quot;text/html; charset=UTF-8&quot; /&gt;\n",
              "    \n",
              "        &lt;script&gt;\n",
              "            L_NO_TOUCH = false;\n",
              "            L_DISABLE_3D = false;\n",
              "        &lt;/script&gt;\n",
              "    \n",
              "    &lt;style&gt;html, body {width: 100%;height: 100%;margin: 0;padding: 0;}&lt;/style&gt;\n",
              "    &lt;style&gt;#map {position:absolute;top:0;bottom:0;right:0;left:0;}&lt;/style&gt;\n",
              "    &lt;script src=&quot;https://cdn.jsdelivr.net/npm/leaflet@1.9.3/dist/leaflet.js&quot;&gt;&lt;/script&gt;\n",
              "    &lt;script src=&quot;https://code.jquery.com/jquery-1.12.4.min.js&quot;&gt;&lt;/script&gt;\n",
              "    &lt;script src=&quot;https://cdn.jsdelivr.net/npm/bootstrap@5.2.2/dist/js/bootstrap.bundle.min.js&quot;&gt;&lt;/script&gt;\n",
              "    &lt;script src=&quot;https://cdnjs.cloudflare.com/ajax/libs/Leaflet.awesome-markers/2.0.2/leaflet.awesome-markers.js&quot;&gt;&lt;/script&gt;\n",
              "    &lt;link rel=&quot;stylesheet&quot; href=&quot;https://cdn.jsdelivr.net/npm/leaflet@1.9.3/dist/leaflet.css&quot;/&gt;\n",
              "    &lt;link rel=&quot;stylesheet&quot; href=&quot;https://cdn.jsdelivr.net/npm/bootstrap@5.2.2/dist/css/bootstrap.min.css&quot;/&gt;\n",
              "    &lt;link rel=&quot;stylesheet&quot; href=&quot;https://netdna.bootstrapcdn.com/bootstrap/3.0.0/css/bootstrap.min.css&quot;/&gt;\n",
              "    &lt;link rel=&quot;stylesheet&quot; href=&quot;https://cdn.jsdelivr.net/npm/@fortawesome/fontawesome-free@6.2.0/css/all.min.css&quot;/&gt;\n",
              "    &lt;link rel=&quot;stylesheet&quot; href=&quot;https://cdnjs.cloudflare.com/ajax/libs/Leaflet.awesome-markers/2.0.2/leaflet.awesome-markers.css&quot;/&gt;\n",
              "    &lt;link rel=&quot;stylesheet&quot; href=&quot;https://cdn.jsdelivr.net/gh/python-visualization/folium/folium/templates/leaflet.awesome.rotate.min.css&quot;/&gt;\n",
              "    \n",
              "            &lt;meta name=&quot;viewport&quot; content=&quot;width=device-width,\n",
              "                initial-scale=1.0, maximum-scale=1.0, user-scalable=no&quot; /&gt;\n",
              "            &lt;style&gt;\n",
              "                #map_287a0df197cf47f0d5db50b9f4cfa100 {\n",
              "                    position: relative;\n",
              "                    width: 100.0%;\n",
              "                    height: 100.0%;\n",
              "                    left: 0.0%;\n",
              "                    top: 0.0%;\n",
              "                }\n",
              "                .leaflet-container { font-size: 1rem; }\n",
              "            &lt;/style&gt;\n",
              "        \n",
              "&lt;/head&gt;\n",
              "&lt;body&gt;\n",
              "    \n",
              "    \n",
              "            &lt;div class=&quot;folium-map&quot; id=&quot;map_287a0df197cf47f0d5db50b9f4cfa100&quot; &gt;&lt;/div&gt;\n",
              "        \n",
              "&lt;/body&gt;\n",
              "&lt;script&gt;\n",
              "    \n",
              "    \n",
              "            var map_287a0df197cf47f0d5db50b9f4cfa100 = L.map(\n",
              "                &quot;map_287a0df197cf47f0d5db50b9f4cfa100&quot;,\n",
              "                {\n",
              "                    center: [37.559984, 126.9753071],\n",
              "                    crs: L.CRS.EPSG3857,\n",
              "                    zoom: 16,\n",
              "                    zoomControl: true,\n",
              "                    preferCanvas: false,\n",
              "                }\n",
              "            );\n",
              "\n",
              "            \n",
              "\n",
              "        \n",
              "    \n",
              "            var tile_layer_062c25ddeea56347b1013a1a9739ffef = L.tileLayer(\n",
              "                &quot;https://stamen-tiles-{s}.a.ssl.fastly.net/toner/{z}/{x}/{y}.png&quot;,\n",
              "                {&quot;attribution&quot;: &quot;Map tiles by \\u003ca target=\\&quot;_blank\\&quot; href=\\&quot;http://stamen.com\\&quot;\\u003eStamen Design\\u003c/a\\u003e, under \\u003ca target=\\&quot;_blank\\&quot; href=\\&quot;http://creativecommons.org/licenses/by/3.0\\&quot;\\u003eCC BY 3.0\\u003c/a\\u003e. Data by \\u0026copy; \\u003ca target=\\&quot;_blank\\&quot; href=\\&quot;http://openstreetmap.org\\&quot;\\u003eOpenStreetMap\\u003c/a\\u003e, under \\u003ca target=\\&quot;_blank\\&quot; href=\\&quot;http://www.openstreetmap.org/copyright\\&quot;\\u003eODbL\\u003c/a\\u003e.&quot;, &quot;detectRetina&quot;: false, &quot;maxNativeZoom&quot;: 18, &quot;maxZoom&quot;: 18, &quot;minZoom&quot;: 0, &quot;noWrap&quot;: false, &quot;opacity&quot;: 1, &quot;subdomains&quot;: &quot;abc&quot;, &quot;tms&quot;: false}\n",
              "            ).addTo(map_287a0df197cf47f0d5db50b9f4cfa100);\n",
              "        \n",
              "    \n",
              "            var marker_53f5cd344069c1864cff4de344a4695b = L.marker(\n",
              "                [37.559984, 126.9753071],\n",
              "                {&quot;maxWidth&quot;: 200}\n",
              "            ).addTo(map_287a0df197cf47f0d5db50b9f4cfa100);\n",
              "        \n",
              "    \n",
              "            var icon_26e6a2d2df10bed2b65128bea19f6848 = L.AwesomeMarkers.icon(\n",
              "                {&quot;extraClasses&quot;: &quot;fa-rotate-0&quot;, &quot;icon&quot;: &quot;info-sign&quot;, &quot;iconColor&quot;: &quot;white&quot;, &quot;markerColor&quot;: &quot;red&quot;, &quot;prefix&quot;: &quot;glyphicon&quot;}\n",
              "            );\n",
              "            marker_53f5cd344069c1864cff4de344a4695b.setIcon(icon_26e6a2d2df10bed2b65128bea19f6848);\n",
              "        \n",
              "    \n",
              "        var popup_b276dcb3edb31a8dac80e0ae33d5b7a9 = L.popup({&quot;maxWidth&quot;: &quot;100%&quot;});\n",
              "\n",
              "        \n",
              "            \n",
              "                var html_079f1159a9c948a0565eaf30db0e480f = $(`&lt;div id=&quot;html_079f1159a9c948a0565eaf30db0e480f&quot; style=&quot;width: 100.0%; height: 100.0%;&quot;&gt;숭례문&lt;/div&gt;`)[0];\n",
              "                popup_b276dcb3edb31a8dac80e0ae33d5b7a9.setContent(html_079f1159a9c948a0565eaf30db0e480f);\n",
              "            \n",
              "        \n",
              "\n",
              "        marker_53f5cd344069c1864cff4de344a4695b.bindPopup(popup_b276dcb3edb31a8dac80e0ae33d5b7a9)\n",
              "        ;\n",
              "\n",
              "        \n",
              "    \n",
              "&lt;/script&gt;\n",
              "&lt;/html&gt;\" style=\"position:absolute;width:100%;height:100%;left:0;top:0;border:none !important;\" allowfullscreen webkitallowfullscreen mozallowfullscreen></iframe></div></div>"
            ],
            "text/plain": [
              "<folium.folium.Map at 0x1e459484450>"
            ]
          },
          "execution_count": 8,
          "metadata": {},
          "output_type": "execute_result"
        }
      ],
      "source": [
        "import folium\n",
        "\n",
        "# 지도 중심좌표 지정하기\n",
        "center = [37.559984, 126.9753071]  # 숭례문 위도&경도\n",
        "\n",
        "# 지도 객체 만들기\n",
        "m = folium.Map(location=center , zoom_start=16, tiles='Stamen Toner') # 마우스 휠로 줌 조정 / tiles='Stamen Toner' <= 지도 타입 설정\n",
        "\n",
        "\n",
        "# 지도에 마커(빨강)로 표시하기\n",
        "folium.Marker(location = center, max_width=200,\n",
        "              popup = '숭례문',\n",
        "              icon=folium.Icon(color='red', icon='info-sign')\n",
        ").add_to(m)\n",
        "\n",
        "m"
      ]
    },
    {
      "cell_type": "markdown",
      "id": "dd961688",
      "metadata": {
        "id": "dd961688"
      },
      "source": [
        "### #지도 종류 변경하기\n",
        "아래 값을 참고하여 Map의 tiles 옵션값을 수정하여 folium 지도의 종류를 변경해 보세요.\n",
        "#### # 지도 변경 방법 및 지도 테마 종류\n",
        "- **지도 종류 변경 방법** :  folium.Map(tiles='Stamen Toner') **tiles 옵션을 사용한다.**\n",
        "- **지도 종류** : OpenStreetMap(기본테마) / Stamen Terrain / Stamen Toner / cartodbpositron"
      ]
    },
    {
      "cell_type": "markdown",
      "id": "4e8d9db8",
      "metadata": {
        "id": "4e8d9db8"
      },
      "source": [
        "### [실습] : 특정 웹 브라우저로 열기"
      ]
    },
    {
      "cell_type": "code",
      "execution_count": null,
      "id": "01b25c35",
      "metadata": {
        "id": "01b25c35",
        "outputId": "d3db9a7d-cc2b-4fbd-be9e-91b2ff7f1080"
      },
      "outputs": [
        {
          "data": {
            "text/plain": [
              "True"
            ]
          },
          "execution_count": 10,
          "metadata": {},
          "output_type": "execute_result"
        }
      ],
      "source": [
        "# 특정 브라우저를 지정해서 열기\n",
        "import webbrowser\n",
        "\n",
        "url = 'https://www.naver.com'\n",
        "\n",
        "# windows\n",
        "chrome_path = \"C:/Program Files/Google/Chrome/Application/chrome.exe %s\"\n",
        "# mac\n",
        "# chrome_path = \"open -a /Applications/Google\\ Chrome.app %s\"\n",
        "\n",
        "webbrowser.get(chrome_path).open(url)"
      ]
    },
    {
      "cell_type": "markdown",
      "id": "641c4e00",
      "metadata": {
        "id": "641c4e00"
      },
      "source": [
        "### [실습] :  웹 브라우저에 지도 표시하기\n",
        "주피터 노트북에 표시한 folium 지도를 browser 라이브러리를 사용하여 PC 기본 웹 브라우저로 실행시켜보세요."
      ]
    },
    {
      "cell_type": "code",
      "execution_count": null,
      "id": "84abd505",
      "metadata": {
        "id": "84abd505",
        "outputId": "8bb2ae24-f27a-4b4c-920e-6a6da9b9a866"
      },
      "outputs": [
        {
          "data": {
            "text/plain": [
              "True"
            ]
          },
          "execution_count": 12,
          "metadata": {},
          "output_type": "execute_result"
        }
      ],
      "source": [
        "import folium\n",
        "import webbrowser\n",
        "\n",
        "# 지도 중심좌표 지정하기\n",
        "center = [37.559984, 126.9753071]  # 숭례문 위도&경도\n",
        "\n",
        "# 지도 객체 만들기\n",
        "m = folium.Map(location=center , zoom_start=16, tiles='cartodbpositron')\n",
        "\n",
        "# 지도에 마커로 표시하기\n",
        "folium.Marker(location = center, max_width=200,\n",
        "              popup = '숭례문',\n",
        "              icon=folium.Icon(color='red', icon='star')\n",
        ").add_to(m)\n",
        "\n",
        "m.save('./data/map.html') # 지도 저장히기\n",
        "\n",
        "# 저장한 지도를 웹 브라우저로 실행시키기\n",
        "# html 파일의 전체 경로(fullpath)를 사용해야 오류가 없다\n",
        "#my_path = 'C:/python/projectmanager/'\n",
        "webbrowser.get(chrome_path).open('C:/python/projectmanager/data/map.html')"
      ]
    },
    {
      "cell_type": "markdown",
      "id": "423d69ed",
      "metadata": {
        "id": "423d69ed"
      },
      "source": [
        "### [실습] 유튜브 링크 포함된 folium 지도를 웹 브라우저로 실행하기\n",
        "- 웹브라우저를 사용할 겨우 유튜브 링크를 넣을 수 있다."
      ]
    },
    {
      "cell_type": "code",
      "execution_count": null,
      "id": "36045bf2",
      "metadata": {
        "id": "36045bf2",
        "outputId": "75686801-1579-4fe6-cdd0-ee30545bc50b"
      },
      "outputs": [
        {
          "data": {
            "text/plain": [
              "True"
            ]
          },
          "execution_count": 13,
          "metadata": {},
          "output_type": "execute_result"
        }
      ],
      "source": [
        "import folium\n",
        "import webbrowser\n",
        "\n",
        "# 지도 중심좌표 지정하기\n",
        "center = [37.559984, 126.9753071]  # 숭례문 위도&경도\n",
        "\n",
        "# 지도 객체 만들기\n",
        "m = folium.Map(location=center , zoom_start=16)\n",
        "\n",
        "# 지도에 마커로 표시하기\n",
        "folium.Marker(location = center, max_width=200,\n",
        "              popup = '<iframe width=\"560\" height=\"315\" src=\"https://www.youtube.com/embed/gSWohjyQ3Bs\" title=\"YouTube video player\" frameborder=\"0\" allow=\"accelerometer; autoplay; clipboard-write; encrypted-media; gyroscope; picture-in-picture\" allowfullscreen></iframe>',\n",
        "              icon=folium.Icon(color='red', icon='star') # iframe은 팝업 / 유튜브 공유에 나오는 링크가 정확\n",
        ").add_to(m)\n",
        "\n",
        "m.save('./data/map.html') # 지도 저장히기\n",
        "\n",
        "# 저장한 지도를 웹 브라우저로 실행시키기\n",
        "# 파일의 전체 경로를 사용해야 오류가 없다\n",
        "webbrowser.get(chrome_path).open('c:/python/projectmanager/data/map.html')"
      ]
    },
    {
      "cell_type": "markdown",
      "id": "1bd18a72",
      "metadata": {
        "id": "1bd18a72"
      },
      "source": [
        "### [실습문제]\n",
        "**여행가고 싶은 장소(국내외)를 지도에 다른 색상 마커로 표시하기**\n",
        "자신이 가고 싶은 여행지 3곳 이상을 folium 지도에 표시해 보세요. 단, 마커 모양과 색상은 모두가 다르게 표시되도록 아이콘을 변경해 주세요.\n",
        "\n",
        "- 영국-내셔널 갤러리: 51.508929,-0.128299\n",
        "- 뉴욕-브로드웨이: 40.8124199,-73.9627283\n",
        "- 로마-트레비 분수: 41.9010333,12.4810789\n",
        "-\n",
        "- tiles='Mapbox'\n",
        "> - Stamen Terrain: 녹색 지도\n",
        "> - Stamen Toner: 흑백 토너"
      ]
    },
    {
      "cell_type": "code",
      "execution_count": null,
      "id": "cf040a61",
      "metadata": {
        "id": "cf040a61",
        "outputId": "3e89cc60-1b68-4577-89fe-794dab19e29e"
      },
      "outputs": [
        {
          "data": {
            "text/plain": [
              "True"
            ]
          },
          "execution_count": 17,
          "metadata": {},
          "output_type": "execute_result"
        }
      ],
      "source": [
        "buckets = {'영국-내셔널 갤러리': [51.508929,-0.128299],\n",
        "           '뉴욕-브로드웨이': [40.8124199,-73.9627283],\n",
        "           '로마-트레비 분수': [41.9010333,12.4810789],\n",
        "           '페루-마추피추' : [-13.1631412, -72.5449629],\n",
        "           '탄자니아-잔지바르섬': [-6.2642807, 39.4450378]\n",
        "          }\n",
        "icons  = ['star','cloud','info-sign','camera','glyphicon glyphicon-thumbs-up']\n",
        "colors = ['red', 'purple', 'blue', 'green','black']\n",
        "\n",
        "\n",
        "# 지도 객체 만들기\n",
        "m = folium.Map(location= [41.9010333, 12.4810789],\n",
        "               zoom_start=2,\n",
        "               tiles='Stamen Terrain')\n",
        "\n",
        "\n",
        "# 지도에 마커 표시하기 : for 반복문을 이용할 수 있다.\n",
        "idx = 0\n",
        "for key, value in buckets.items():\n",
        "    folium.Marker(location= value,\n",
        "            popup=key,\n",
        "            icon=folium.Icon(icon=icons[idx],\n",
        "                color=colors[idx], icon_color='white'),\n",
        "            ).add_to(m)\n",
        "    idx += 1\n",
        "\n",
        "# html 파일 저장하고 열기\n",
        "m.save('./data/map_mytravel.html')\n",
        "webbrowser.get(chrome_path).open('c:/python/projectmanager/data/map_mytravel.html') # fullpath를 사용해야 오류가 없다"
      ]
    },
    {
      "cell_type": "markdown",
      "id": "0f9577d8",
      "metadata": {
        "id": "0f9577d8"
      },
      "source": [
        "### [참고예제] 반복문을 이용하여 다수개 마커 표시하는 방법\n",
        "**자신이 속한 시도의 중학교와 고등학교 지도에 표시하기**"
      ]
    },
    {
      "cell_type": "code",
      "execution_count": null,
      "id": "3bac6f5c",
      "metadata": {
        "id": "3bac6f5c",
        "outputId": "087c6600-42b7-490e-d474-329efa3740b4"
      },
      "outputs": [
        {
          "name": "stdout",
          "output_type": "stream",
          "text": [
            "자신이 속한 시도의 중학교와 고등학교 개수: 709\n"
          ]
        },
        {
          "data": {
            "text/plain": [
              "True"
            ]
          },
          "execution_count": 18,
          "metadata": {},
          "output_type": "execute_result"
        }
      ],
      "source": [
        "import folium\n",
        "import webbrowser\n",
        "import pandas as pd\n",
        "\n",
        "# 지도 객체 만들기\n",
        "center = [37.559984, 126.9753071]   # 자신의 중학교 위도&경도 값\n",
        "m = folium.Map(location=center, zoom_start=12)\n",
        "\n",
        "\n",
        "# 전국 초중고 위치 정보 가져오기\n",
        "file = './data/전국초중등학교위치표준데이터.csv'\n",
        "df = pd.read_csv(file, encoding = 'cp949')\n",
        "df\n",
        "\n",
        "# 자신이 속한 시도의 중학교와 고등학교 정보 가져오기\n",
        "df = df.query(\" 소재지지번주소.str.contains('서울특별시') and 학교급구분 in ('중학교', '고등학교') \")\n",
        "print(f'자신이 속한 시도의 중학교와 고등학교 개수: {len(df)}')\n",
        "df.head(2)\n",
        "\n",
        "\n",
        "# 자신이 속한 시도의 중학교와 고등학교 위치 마커로 표시하기\n",
        "for row in df.iterrows():\n",
        "    # 중학교와 고등학교 마커 아이콘 다르게 구분하기\n",
        "    if row[1]['학교급구분'] == '중학교':\n",
        "        v_icon = 'star'\n",
        "        v_iconcolor = 'green'\n",
        "    else:\n",
        "        v_icon = 'flag'\n",
        "        v_iconcolor = 'blue'\n",
        "\n",
        "    # 지도에 마커 추가하기\n",
        "    folium.Marker(location= [row[1]['위도'], row[1]['경도']],\n",
        "            popup=row[1]['학교명'],\n",
        "            icon=folium.Icon(icon=v_icon,\n",
        "                color=v_iconcolor, icon_color='white'),\n",
        "    ).add_to(m)\n",
        "\n",
        "# html 파일 저장하고 열기\n",
        "m.save('./data/map_school.html')\n",
        "webbrowser.get(chrome_path).open('c:/python/projectmanager/data/map_school.html') # fullpath를 사용해야 오류가 없다"
      ]
    },
    {
      "cell_type": "markdown",
      "id": "99676470",
      "metadata": {
        "id": "99676470"
      },
      "source": [
        "-------------------------"
      ]
    },
    {
      "cell_type": "markdown",
      "id": "5679f7f3",
      "metadata": {
        "id": "5679f7f3"
      },
      "source": [
        "## 02.지도에 의미 있는 데이터 분포 표현하기"
      ]
    },
    {
      "cell_type": "markdown",
      "id": "588917f0",
      "metadata": {
        "id": "588917f0"
      },
      "source": [
        "### [실습] : 우리나라 행정구역 경계 지도에 표시하기\n",
        "folium 지도에 행정구역 경계를 표시하기 위해서는 우선 행정구역의 경계 위치 좌표 값이 표시된  geoJson 데이터가 필요합니다. 이를 위해 아래와 같이 이미 배포된 파일을 사용합니다."
      ]
    },
    {
      "cell_type": "markdown",
      "id": "c8423973",
      "metadata": {
        "id": "c8423973"
      },
      "source": [
        "#### #대한민국 행정구역 경계 geoJson 파일 확인하기\n",
        "- 파일 다운로드: https://github.com/southkorea/southkorea-maps  > /kostat/2018/json/\n",
        "- 다운로드된 파일 위치 : **C:\\python\\projectmanager\\data\\** <br>\n",
        "\n",
        "     - skorea-provinces-geo.json  (시/도 경계 )\n",
        "     - skorea-municipalities-geo.json  (시/군/구 경계)\n",
        "     - skorea-submunicipalities-geo.json  (읍/면/동 경계)"
      ]
    },
    {
      "cell_type": "code",
      "execution_count": null,
      "id": "639e5cb1",
      "metadata": {
        "id": "639e5cb1",
        "outputId": "9392746a-fcca-40aa-e63f-78ffdb4b3517"
      },
      "outputs": [
        {
          "data": {
            "text/plain": [
              "True"
            ]
          },
          "execution_count": 20,
          "metadata": {},
          "output_type": "execute_result"
        }
      ],
      "source": [
        "import folium\n",
        "import json\n",
        "import webbrowser\n",
        "\n",
        "# 지도 객체 만들기\n",
        "m = folium.Map(location=[37.559984, 126.9753071], zoom_start=7)\n",
        "\n",
        "\n",
        "# GeoJson 파일 불러오기\n",
        "# file = './data/geo/skorea-provinces-geo.json'         # 대한민국 시도 경계 정보\n",
        "# file = './data/geo/skorea-municipalities-geo.json'    # 대한민국 시군구 경계 정보\n",
        "file = './data/geo/skorea-submunicipalities-geo.json' # 대한민국 시군구 읍면동 경계 정보\n",
        "data = open(file, 'r', encoding='utf-8').read() # 파일 열어서 읽어오기\n",
        "geo_data = json.loads(data)                     # json 형태로 불러오기\n",
        "\n",
        "\n",
        "# 지도에 GeoJson 정보를 표현하기\n",
        "folium.GeoJson(geo_data,          # GeoJson 정보를 담고 있는 변수이름\n",
        "               name='json_data'\n",
        ").add_to(m)\n",
        "\n",
        "\n",
        "# 지도 정도 html파일로 저장하고 웹 브라우저에서 열기\n",
        "m.save('./data/map_provinces.html')\n",
        "webbrowser.get(chrome_path).open('c:/python/projectmanager/data/map_provinces.html')"
      ]
    },
    {
      "cell_type": "markdown",
      "id": "fbc32bb1",
      "metadata": {
        "id": "fbc32bb1"
      },
      "source": [
        "### [실습] : 우리나라 행정구역별 의미 있는 색상 칠하기\n",
        "- 행정구역 데이터 : skorea-provinces-geo.json\n",
        "- 행정구역별 인구 데이터 : 행정구역별-인구현황.csv\n",
        "- 행정구역별 인구 데이터 조회 및 다운로드 : https://jumin.mois.go.kr/에서 2022년 데이터 검색"
      ]
    },
    {
      "cell_type": "code",
      "execution_count": null,
      "id": "4122dd56",
      "metadata": {
        "id": "4122dd56",
        "outputId": "17b857a4-c33b-4869-e0e3-641e5b460382"
      },
      "outputs": [
        {
          "name": "stdout",
          "output_type": "stream",
          "text": [
            "<class 'pandas.core.frame.DataFrame'>\n",
            "RangeIndex: 17 entries, 0 to 16\n",
            "Data columns (total 2 columns):\n",
            " #   Column  Non-Null Count  Dtype \n",
            "---  ------  --------------  ----- \n",
            " 0   지역      17 non-null     object\n",
            " 1   인구      17 non-null     int64 \n",
            "dtypes: int64(1), object(1)\n",
            "memory usage: 400.0+ bytes\n"
          ]
        },
        {
          "data": {
            "text/plain": [
              "True"
            ]
          },
          "execution_count": 22,
          "metadata": {},
          "output_type": "execute_result"
        }
      ],
      "source": [
        "import folium\n",
        "import json\n",
        "import webbrowser\n",
        "import pandas as pd\n",
        "\n",
        "# 1.지도 객체 만들기\n",
        "m = folium.Map(location=[37.566345, 126.977893], zoom_start=7)\n",
        "\n",
        "\n",
        "# 2.GeoJson 파일 불러오기\n",
        "file = './data/geo/skorea-provinces-geo.json'         # 대한민국 시도 경계 정보\n",
        "data = open(file, 'r', encoding='utf-8').read() # 파일 열어서 읽어오기\n",
        "geo_data = json.loads(data)                     # json 형태로 불러오기\n",
        "\n",
        "\n",
        "# 3.행정구열별 숫자 데이터 불러오기\n",
        "file = './data/행정구역별-인구현황.csv'\n",
        "df = pd.read_csv(file, encoding = 'cp949')\n",
        "df\n",
        "df.info()\n",
        "\n",
        "\n",
        "# 4.지도 경계별 색상 칠하기\n",
        "# folium.Choropleth(\n",
        "#     geo_data=geo_data,\n",
        "#     name='json_data',\n",
        "#     data=df,\n",
        "#     columns=('지역', '인구'),\n",
        "#     key_on='feature.properties.name',\n",
        "#     fill_color='YlOrRd',  #Greens\n",
        "#     legend_name='인구'\n",
        "# ).add_to(m)\n",
        "folium.Choropleth(\n",
        "    geo_data=geo_data, name='json_data',\n",
        "    data=df, columns=('지역', '인구'), legend_name='인구',\n",
        "    key_on='feature.properties.name', fill_color='YlOrRd'    # 지도의 색깔\n",
        ").add_to(m)\n",
        "\n",
        "\n",
        "# 지도 정보를 html파일로 저장하고 웹 브라우저에서 열기\n",
        "m.save('./data/map_provinces_color.html')\n",
        "webbrowser.get(chrome_path).open('c:/python/projectmanager/data/map_provinces_color.html')"
      ]
    },
    {
      "cell_type": "markdown",
      "id": "e7d82b50",
      "metadata": {
        "id": "e7d82b50"
      },
      "source": [
        "------------------"
      ]
    },
    {
      "cell_type": "markdown",
      "id": "e2c9e0ad",
      "metadata": {
        "id": "e2c9e0ad"
      },
      "source": [
        "### [실습문제]\n",
        "- **지역별 구씨 현황(family_name_goo.csv) 데이터 분포 지도에 시각화 하기**"
      ]
    },
    {
      "cell_type": "code",
      "execution_count": null,
      "id": "54d45013",
      "metadata": {
        "id": "54d45013"
      },
      "outputs": [],
      "source": [
        "import pandas as pd\n",
        "import folium\n",
        "import json\n",
        "import webbrowser\n",
        "\n",
        "# 1.지도 객체 만들기\n",
        "m = folium.Map(location=[37.566345, 126.977893], zoom_start=7, tiles=\"Stamen Terrain\")\n",
        "\n",
        "\n",
        "# 2.GeoJson 파일 불러오기\n",
        "file = './data/geo/skorea-provinces-geo.json'          # 대한민국 시도\n",
        "data = open(file, 'r', encoding='utf-8').read()\n",
        "geo_data = json.loads(data)\n",
        "geo_data\n",
        "\n",
        "\n",
        "# 3.지역별 구씨 정보 가져오기\n",
        "file = './data/family_name_goo.csv'\n",
        "df = pd.read_csv(file, encoding = 'cp949')\n",
        "\n",
        "\n",
        "# 4.지도 경계별 색상 칠하기\n",
        "folium.Choropleth(\n",
        "    geo_data=geo_data,\n",
        "    name='json_data',\n",
        "    data=df,\n",
        "    columns=('지역', '인구'),\n",
        "    key_on='feature.properties.name',\n",
        "    fill_color='YlOrRd',  # viridis\n",
        "    legend_name='인구',\n",
        ").add_to(m)\n",
        "\n",
        "# 5.데이터 분포 지도를 출력한다.\n",
        "m.save('./data/family_goo_map.html')\n",
        "webbrowser.get(chrome_path).open('c:/python/projectmanager/data/family_goo_map.html') # fullpath를 사용해야 오류가 없다"
      ]
    },
    {
      "cell_type": "markdown",
      "id": "01972598",
      "metadata": {
        "id": "01972598"
      },
      "source": [
        "-----------------------------------------"
      ]
    },
    {
      "cell_type": "markdown",
      "id": "84cfc183",
      "metadata": {
        "id": "84cfc183"
      },
      "source": [
        "THE END"
      ]
    }
  ],
  "metadata": {
    "kernelspec": {
      "display_name": "Python 3 (ipykernel)",
      "language": "python",
      "name": "python3"
    },
    "language_info": {
      "codemirror_mode": {
        "name": "ipython",
        "version": 3
      },
      "file_extension": ".py",
      "mimetype": "text/x-python",
      "name": "python",
      "nbconvert_exporter": "python",
      "pygments_lexer": "ipython3",
      "version": "3.11.1"
    },
    "vscode": {
      "interpreter": {
        "hash": "b41e41bff03a930185ac2cbea60ce521f7c8c2f5401ceb5c30214081f77ab4f5"
      }
    },
    "colab": {
      "provenance": [],
      "include_colab_link": true
    }
  },
  "nbformat": 4,
  "nbformat_minor": 5
}