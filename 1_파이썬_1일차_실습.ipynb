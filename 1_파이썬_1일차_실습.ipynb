{
  "nbformat": 4,
  "nbformat_minor": 0,
  "metadata": {
    "colab": {
      "provenance": [],
      "authorship_tag": "ABX9TyPeW0rHCOSSNM8CQzlhYFCd",
      "include_colab_link": true
    },
    "kernelspec": {
      "name": "python3",
      "display_name": "Python 3"
    },
    "language_info": {
      "name": "python"
    }
  },
  "cells": [
    {
      "cell_type": "markdown",
      "metadata": {
        "id": "view-in-github",
        "colab_type": "text"
      },
      "source": [
        "<a href=\"https://colab.research.google.com/github/HYLee810/projectmanager/blob/main/1_%ED%8C%8C%EC%9D%B4%EC%8D%AC_1%EC%9D%BC%EC%B0%A8_%EC%8B%A4%EC%8A%B5.ipynb\" target=\"_parent\"><img src=\"https://colab.research.google.com/assets/colab-badge.svg\" alt=\"Open In Colab\"/></a>"
      ]
    },
    {
      "cell_type": "markdown",
      "source": [
        "# 파이썬 기초 프로그래밍 - 1일차 실습"
      ],
      "metadata": {
        "id": "x7TEVMX7eUbi"
      }
    },
    {
      "cell_type": "markdown",
      "source": [
        "## 코랩에서 파이썬 사용하기\n",
        "\n",
        "#### 시작\n",
        "\n",
        "\n",
        "---\n",
        "\n"
      ],
      "metadata": {
        "id": "dmfAo3Imej7x"
      }
    },
    {
      "cell_type": "code",
      "source": [],
      "metadata": {
        "id": "jB0Ij-d5gaNp"
      },
      "execution_count": null,
      "outputs": []
    },
    {
      "cell_type": "markdown",
      "source": [
        "### 파이썬 실습 1일차"
      ],
      "metadata": {
        "id": "f16HARc9gbGB"
      }
    },
    {
      "cell_type": "markdown",
      "source": [
        "**간단 계산기 프로그램 작성하기**\n"
      ],
      "metadata": {
        "id": "oRDn2SUJfKjC"
      }
    },
    {
      "cell_type": "code",
      "source": [
        "a=100\n",
        "b=50\n",
        "print('덧셈:',a+b)\n",
        "print('뺄셈:',a-b)\n",
        "print('곱셈:',a*b)\n",
        "print('나눗셈:',a/b)"
      ],
      "metadata": {
        "colab": {
          "base_uri": "https://localhost:8080/"
        },
        "id": "cCWpFchkfaii",
        "outputId": "7fcc9dff-0f51-43b5-ad78-0f7ee9026ccf"
      },
      "execution_count": 2,
      "outputs": [
        {
          "output_type": "stream",
          "name": "stdout",
          "text": [
            "덧셈: 150\n",
            "뺄셈: 50\n",
            "곱셈: 5000\n",
            "나눗셈: 2.0\n"
          ]
        }
      ]
    },
    {
      "cell_type": "markdown",
      "source": [
        "# 새 섹션"
      ],
      "metadata": {
        "id": "HjkWJiNjgJ6h"
      }
    }
  ]
}