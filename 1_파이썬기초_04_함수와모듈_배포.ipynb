{
  "cells": [
    {
      "cell_type": "markdown",
      "metadata": {
        "id": "view-in-github",
        "colab_type": "text"
      },
      "source": [
        "<a href=\"https://colab.research.google.com/github/HYLee810/projectmanager/blob/main/1_%ED%8C%8C%EC%9D%B4%EC%8D%AC%EA%B8%B0%EC%B4%88_04_%ED%95%A8%EC%88%98%EC%99%80%EB%AA%A8%EB%93%88_%EB%B0%B0%ED%8F%AC.ipynb\" target=\"_parent\"><img src=\"https://colab.research.google.com/assets/colab-badge.svg\" alt=\"Open In Colab\"/></a>"
      ]
    },
    {
      "cell_type": "markdown",
      "id": "25f81d8c",
      "metadata": {
        "id": "25f81d8c"
      },
      "source": [
        "# 파이썬 기초 다지기"
      ]
    },
    {
      "cell_type": "markdown",
      "id": "3f3da3bd",
      "metadata": {
        "id": "3f3da3bd"
      },
      "source": [
        "## 4- 함수와 모듈\n",
        "데이터 추상화하고 구조화하기"
      ]
    },
    {
      "cell_type": "code",
      "execution_count": null,
      "id": "b2055fa4",
      "metadata": {
        "id": "b2055fa4"
      },
      "outputs": [],
      "source": [
        "import random   # random.py (모듈)\n",
        "\n",
        "room = random.randint(1, 3)  # 1,2,3중에 임의의 수\n"
      ]
    },
    {
      "cell_type": "markdown",
      "id": "0c52a67e",
      "metadata": {
        "id": "0c52a67e"
      },
      "source": [
        "----------------------------------"
      ]
    },
    {
      "cell_type": "markdown",
      "id": "aee8f2e8",
      "metadata": {
        "id": "aee8f2e8"
      },
      "source": [
        "## 4-1.함수 < 모듈 < 패키기"
      ]
    },
    {
      "cell_type": "markdown",
      "id": "e89f3546",
      "metadata": {
        "id": "e89f3546"
      },
      "source": [
        "### 함수 정의하기"
      ]
    },
    {
      "cell_type": "code",
      "execution_count": null,
      "id": "4f161d86",
      "metadata": {
        "id": "4f161d86"
      },
      "outputs": [],
      "source": [
        "\n"
      ]
    },
    {
      "cell_type": "markdown",
      "id": "cb89ea65",
      "metadata": {
        "id": "cb89ea65"
      },
      "source": [
        "### 함수의 구조\n",
        "매개변수와 리턴값에 따른 함수의 유형 예"
      ]
    },
    {
      "cell_type": "markdown",
      "id": "8acceb64",
      "metadata": {
        "id": "8acceb64"
      },
      "source": [
        "- 매개변수(X), 리턴값(X)"
      ]
    },
    {
      "cell_type": "code",
      "execution_count": null,
      "id": "57a55c92",
      "metadata": {
        "id": "57a55c92"
      },
      "outputs": [],
      "source": [
        "def func():\n",
        "    print('안녕하세요!')\n",
        "\n",
        "print( func() )"
      ]
    },
    {
      "cell_type": "markdown",
      "id": "aba4c5e6",
      "metadata": {
        "id": "aba4c5e6"
      },
      "source": [
        "- 매개변수(X), 리턴값(O)"
      ]
    },
    {
      "cell_type": "code",
      "execution_count": null,
      "id": "aa699b58",
      "metadata": {
        "id": "aa699b58"
      },
      "outputs": [],
      "source": [
        "def func():\n",
        "    print('안녕하세요!')\n",
        "    return '처리완료!'\n",
        "\n",
        "print( func() )"
      ]
    },
    {
      "cell_type": "markdown",
      "id": "21f24a11",
      "metadata": {
        "id": "21f24a11"
      },
      "source": [
        "- 매개변수(O), 리턴값(X)"
      ]
    },
    {
      "cell_type": "code",
      "execution_count": null,
      "id": "f1c1db85",
      "metadata": {
        "id": "f1c1db85"
      },
      "outputs": [],
      "source": [
        "def func(a, b):\n",
        "    print('덧셈: %d + %d = %d' % (a, b, a+b))\n",
        "\n",
        "print( func(5, 7) )"
      ]
    },
    {
      "cell_type": "markdown",
      "id": "c80d6c02",
      "metadata": {
        "id": "c80d6c02"
      },
      "source": [
        "- 매개변수(O), 리턴값(O)"
      ]
    },
    {
      "cell_type": "code",
      "execution_count": null,
      "id": "d6d46e65",
      "metadata": {
        "id": "d6d46e65"
      },
      "outputs": [],
      "source": [
        "def func(a, b):\n",
        "    print('덧셈: %d + %d = %d' % (a, b, a+b))\n",
        "    return a+b\n",
        "\n",
        "print( func(5, 7) )"
      ]
    },
    {
      "cell_type": "markdown",
      "id": "fbe6e1c6",
      "metadata": {
        "id": "fbe6e1c6"
      },
      "source": [
        "### [실습문제] 암스트롱수 구하기\n",
        "다음 조건을 참고하여 암스트롱수를 구하는 함수를 만들어 출력하는 프로그램을 만들어 보세요.\n",
        "- **암스트롱수** : 세 자리의 정수 중에서 각 자리의 수를 세 제곱한 수의 합과 자신이 같은 수"
      ]
    },
    {
      "cell_type": "code",
      "execution_count": null,
      "id": "3c387d60",
      "metadata": {
        "colab": {
          "base_uri": "https://localhost:8080/"
        },
        "id": "3c387d60",
        "outputId": "30d6d0b5-9905-466b-9e0e-521607544116"
      },
      "outputs": [
        {
          "output_type": "stream",
          "name": "stdout",
          "text": [
            "[153] is armstrong number!\n",
            "[370] is armstrong number!\n",
            "[371] is armstrong number!\n",
            "[407] is armstrong number!\n"
          ]
        }
      ],
      "source": [
        "def is_arm(N):  # 암스트롱 수 찾는 함수 정의\n",
        "    n = str(N)    # 정수를 문자열로 변환\n",
        "    a = int(n[0]) # 100의 자리수\n",
        "    b = int(n[1]) # 10의 자리수\n",
        "    c = int(n[2]) # 1의 자리수\n",
        "    if N == (a**3 + b**3 + c**3 ):  # 암스트롱수의 조건\n",
        "        return True\n",
        "    else:\n",
        "        return False\n",
        "\n",
        "for i in range(100, 1000):\n",
        "    if is_arm(i):\n",
        "        print(f'[{i}] is armstrong number!')\n"
      ]
    },
    {
      "cell_type": "markdown",
      "id": "a78bd48d",
      "metadata": {
        "id": "a78bd48d"
      },
      "source": [
        "### [실습문제]\n",
        "앞에서 만든 커피 자동주문 머신 프로그램을 함수를 이용하여 만들어 보세요."
      ]
    },
    {
      "cell_type": "code",
      "execution_count": null,
      "id": "ea29d25d",
      "metadata": {
        "colab": {
          "base_uri": "https://localhost:8080/"
        },
        "id": "ea29d25d",
        "outputId": "711fa7d7-86a7-4988-a346-e53087e58068"
      },
      "outputs": [
        {
          "output_type": "stream",
          "name": "stdout",
          "text": [
            "[커피 자동주문 머신 메뉴]\n",
            "------------------------------\n",
            "-아메리카노는 2500원\n",
            "-카레라떼는 3000원\n",
            "-카푸치노는 3000원\n",
            "입니다. 원하시는 커피종류와 잔수를 입력하세요.\n",
            "------------------------------\n",
            "아메리카노 몇잔?: 1\n",
            "카페라떼 몇잔?: 1\n",
            "카푸치노 몇잔?: 1\n",
            "지불할 총 금액은  8500 원 입니다\n",
            "--------------------------------------------------\n",
            "[지불할 금액:8500] : 돈을 넣어주세요: 5000\n",
            "입력한 금액이 부족합니다. 3500 원을 더 넣어주세요.\n",
            "--------------------------------------------------\n",
            "[지불할 금액:3500] : 돈을 넣어주세요: 2000\n",
            "입력한 금액이 부족합니다. 1500 원을 더 넣어주세요.\n",
            "--------------------------------------------------\n",
            "[지불할 금액:1500] : 돈을 넣어주세요: 1000\n",
            "입력한 금액이 부족합니다. 500 원을 더 넣어주세요.\n",
            "--------------------------------------------------\n",
            "[지불할 금액:500] : 돈을 넣어주세요: 500\n",
            "거스름돈은 0원 입니다.\n",
            "--------------------------------------------------\n",
            " 커피 맛있게 드세요.\n"
          ]
        }
      ],
      "source": [
        "def coffeemachine(coffee1, coffee2, coffee3):\n",
        "\n",
        "    total = coffee1*2500 + coffee2*3000 + coffee3*3000\n",
        "    print(\"지불할 총 금액은 \", total, \"원 입니다\")\n",
        "\n",
        "    while True:\n",
        "        print('-'*50)\n",
        "        money = int(input(f'[지불할 금액:{total}] : 돈을 넣어주세요: '))\n",
        "        if total > money  :\n",
        "            print(f'입력한 금액이 부족합니다. {total - money} 원을 더 넣어주세요.')\n",
        "            total = total - money\n",
        "        else:\n",
        "            print(f'거스름돈은 {money - total}원 입니다.')\n",
        "            break\n",
        "\n",
        "    print('-'*50)\n",
        "    print(' 커피 맛있게 드세요.')\n",
        "\n",
        "menu = '''[커피 자동주문 머신 메뉴]\n",
        "------------------------------\n",
        "-아메리카노는 2500원\n",
        "-카레라떼는 3000원\n",
        "-카푸치노는 3000원\n",
        "입니다. 원하시는 커피종류와 잔수를 입력하세요.\n",
        "------------------------------'''\n",
        "print(menu)\n",
        "coffee1 = int(input(\"아메리카노 몇잔?: \"))\n",
        "coffee2 = int(input(\"카페라떼 몇잔?: \"))\n",
        "coffee3 = int(input(\"카푸치노 몇잔?: \"))\n",
        "\n",
        "coffeemachine(coffee1, coffee2, coffee3) # 정의해둔 함수 호출\n",
        "\n",
        "\n"
      ]
    },
    {
      "cell_type": "markdown",
      "source": [
        "## map() 함수"
      ],
      "metadata": {
        "id": "O8AMWCxzZtec"
      },
      "id": "O8AMWCxzZtec"
    },
    {
      "cell_type": "code",
      "source": [
        "mylist=[1,2,3,4,5]\n",
        "def add10(num):\n",
        "  return num+10\n",
        "\n",
        "for i in mylist:\n",
        "    print(i, add10(i))\n",
        "\n",
        "for idx, i in enumerate(mylist): # enumerate() 인덱스 값을 함께 사용할 수 있는 함수\n",
        "    # print(idx, i, add10(i))\n",
        "     mylist[idx]=add10(i) # 리스트의 값을 add10() 함수가 적용된 값으로 교체함\n",
        "\n",
        "print(mylist)\n"
      ],
      "metadata": {
        "colab": {
          "base_uri": "https://localhost:8080/"
        },
        "id": "R5eIBZTrZsr3",
        "outputId": "19a09391-c5f0-4371-debd-19ae49afb994"
      },
      "id": "R5eIBZTrZsr3",
      "execution_count": null,
      "outputs": [
        {
          "output_type": "stream",
          "name": "stdout",
          "text": [
            "1 11\n",
            "2 12\n",
            "3 13\n",
            "4 14\n",
            "5 15\n",
            "[11, 12, 13, 14, 15]\n"
          ]
        }
      ]
    },
    {
      "cell_type": "code",
      "source": [
        "mylist=[1,2,3,4,5]\n",
        "mylist=list(map(lambda num:num+10, mylist))\n",
        "print(mylist)\n",
        "\n",
        "add10=lambda num : num+10  # lambda 함수로 변경\n",
        "mylist=list(map(add10, mylist))\n",
        "print(mylist)\n",
        "\n",
        "print(list(map(add10, mylist)))\n"
      ],
      "metadata": {
        "colab": {
          "base_uri": "https://localhost:8080/"
        },
        "id": "UU_PO0SRbj89",
        "outputId": "a95a6f36-2d48-4a3f-9da3-6494e5f05b7c"
      },
      "id": "UU_PO0SRbj89",
      "execution_count": null,
      "outputs": [
        {
          "output_type": "stream",
          "name": "stdout",
          "text": [
            "[11, 12, 13, 14, 15]\n",
            "[21, 22, 23, 24, 25]\n",
            "[31, 32, 33, 34, 35]\n"
          ]
        }
      ]
    },
    {
      "cell_type": "code",
      "source": [
        "mylist = [1, 2, 3, 4, 5, 6, 7, 8, 9, 10]\n",
        "\n",
        "multiple3=lambda x:str(x) if x%3==0 else x\n",
        "mylist=list(map(multiple3,mylist))\n",
        "mylist"
      ],
      "metadata": {
        "colab": {
          "base_uri": "https://localhost:8080/"
        },
        "id": "ryi2gQA1dl3e",
        "outputId": "910c5402-7fb4-44fd-888e-192cf29c831b"
      },
      "id": "ryi2gQA1dl3e",
      "execution_count": null,
      "outputs": [
        {
          "output_type": "execute_result",
          "data": {
            "text/plain": [
              "[1, 2, '3', 4, 5, '6', 7, 8, '9', 10]"
            ]
          },
          "metadata": {},
          "execution_count": 20
        }
      ]
    },
    {
      "cell_type": "code",
      "source": [
        "myList1 = [1, 2, 3, 4, 5]\n",
        "myList2 = [2, 4, 6, 8, 10]\n",
        "\n",
        "multiply=lambda x,y:x*y\n",
        "myList = list(map(multiply, myList1,myList2))\n",
        "myList"
      ],
      "metadata": {
        "colab": {
          "base_uri": "https://localhost:8080/"
        },
        "id": "2yRL3LeueBFW",
        "outputId": "6522e7a1-27b0-4641-b9f9-83e561d5b233"
      },
      "id": "2yRL3LeueBFW",
      "execution_count": null,
      "outputs": [
        {
          "output_type": "execute_result",
          "data": {
            "text/plain": [
              "[2, 8, 18, 32, 50]"
            ]
          },
          "metadata": {},
          "execution_count": 21
        }
      ]
    },
    {
      "cell_type": "markdown",
      "id": "45e329e4",
      "metadata": {
        "id": "45e329e4"
      },
      "source": [
        "------------------------"
      ]
    },
    {
      "cell_type": "code",
      "source": [
        "flavor=[\"사과\",\"당근\",\"망고\"]\n",
        "\n",
        "user_input=0\n",
        "while user_input !='5':\n",
        "    print(\"\"\"\n",
        "    ==== 관리자 모드====\n",
        "    1. 메뉴 보기\n",
        "    2. 신메뉴 추가하기\n",
        "    3. 메뉴 삭제하기\n",
        "    4. 메뉴 이름 바꾸기\n",
        "    5. 관리자 모드 종료하기\n",
        "    ====================\n",
        "    \"\"\")\n",
        "\n",
        "    user_input=input(\"원하는 기능을 선택하세요: \")\n",
        "    if user_input=='1':\n",
        "        print(\"==== 메뉴 ====\")\n",
        "        for i in flavor:\n",
        "            print(f'{i} 주스')\n",
        "    elif user_input=='2':\n",
        "        new_flavor=input(\"추가할 메뉴이름을 입력해 주세요: \")\n",
        "        flavor.append(new_flavor)\n",
        "    elif user_input=='3':\n",
        "        remove_flavor=input(\"삭제할 메뉴이름을 입력해 주세요: \")\n",
        "        flavor.remove(remove_flavor)\n",
        "    elif user_input=='4':\n",
        "        for i in range(len(flavor)):\n",
        "            print(f'{i}.{flavor[i]}')\n",
        "\n",
        "        index=int(input(\"몇 번째 메뉴를 변경하시겠습니까?: \"))\n",
        "        new_name=input(\"변경할 이름을 입력해 주세요: \")\n",
        "\n",
        "        print(f'{flavor[index]} 메뉴를 {new_name}으로 변경합니다.')\n",
        "        flavor[index]=new_name\n",
        "    else :\n",
        "        print(\"관리자 모드를 종료합니다.\")\n",
        "        print(\"-\"*50)"
      ],
      "metadata": {
        "colab": {
          "base_uri": "https://localhost:8080/"
        },
        "id": "uMcESDsm6h6K",
        "outputId": "dc7aa440-66a9-42de-eb5d-0459ace34537"
      },
      "id": "uMcESDsm6h6K",
      "execution_count": 4,
      "outputs": [
        {
          "output_type": "stream",
          "name": "stdout",
          "text": [
            "\n",
            "    ==== 관리자 모드====\n",
            "    1. 메뉴 보기\n",
            "    2. 신메뉴 추가하기\n",
            "    3. 메뉴 삭제하기\n",
            "    4. 메뉴 이름 바꾸기\n",
            "    5. 관리자 모드 종료하기\n",
            "    ====================\n",
            "    \n",
            "원하는 기능을 선택하세요: 1\n",
            "==== 메뉴 ====\n",
            "사과 주스\n",
            "당근 주스\n",
            "망고 주스\n",
            "\n",
            "    ==== 관리자 모드====\n",
            "    1. 메뉴 보기\n",
            "    2. 신메뉴 추가하기\n",
            "    3. 메뉴 삭제하기\n",
            "    4. 메뉴 이름 바꾸기\n",
            "    5. 관리자 모드 종료하기\n",
            "    ====================\n",
            "    \n",
            "원하는 기능을 선택하세요: 5\n",
            "관리자 모드를 종료합니다.\n",
            "--------------------------------------------------\n"
          ]
        }
      ]
    },
    {
      "cell_type": "markdown",
      "id": "66025633",
      "metadata": {
        "id": "66025633"
      },
      "source": [
        "끝"
      ]
    }
  ],
  "metadata": {
    "kernelspec": {
      "display_name": "Python 3 (ipykernel)",
      "language": "python",
      "name": "python3"
    },
    "language_info": {
      "codemirror_mode": {
        "name": "ipython",
        "version": 3
      },
      "file_extension": ".py",
      "mimetype": "text/x-python",
      "name": "python",
      "nbconvert_exporter": "python",
      "pygments_lexer": "ipython3",
      "version": "3.10.9"
    },
    "vscode": {
      "interpreter": {
        "hash": "b41e41bff03a930185ac2cbea60ce521f7c8c2f5401ceb5c30214081f77ab4f5"
      }
    },
    "colab": {
      "provenance": [],
      "include_colab_link": true
    }
  },
  "nbformat": 4,
  "nbformat_minor": 5
}